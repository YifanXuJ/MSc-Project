{
 "cells": [
  {
   "attachments": {},
   "cell_type": "markdown",
   "metadata": {},
   "source": [
    "# Plots"
   ]
  },
  {
   "cell_type": "code",
   "execution_count": 1,
   "metadata": {},
   "outputs": [],
   "source": [
    "import matplotlib.image as mpimg\n",
    "import matplotlib.pyplot as plt\n",
    "import cv2\n",
    "import os\n",
    "import pandas as pd\n",
    "import numpy as np\n",
    "import glob"
   ]
  },
  {
   "attachments": {},
   "cell_type": "markdown",
   "metadata": {},
   "source": [
    "## Plot different classes in different colors on the same image"
   ]
  },
  {
   "cell_type": "code",
   "execution_count": 2,
   "metadata": {},
   "outputs": [],
   "source": [
    "# select slice and mode \n",
    "# slice ranging from 400th to 800th, 401 in total\n",
    "# seg_model: k-means/gmm/dragonfly\n",
    "# mode: number of classes, either 16, 32, 64, 128 or 4 for dragonfly\n",
    "slice_num = 400\n",
    "seg_model = 'k-means'\n",
    "seg_nd = '3d'\n",
    "mode = 16"
   ]
  },
  {
   "cell_type": "code",
   "execution_count": 3,
   "metadata": {},
   "outputs": [],
   "source": [
    "assert (seg_model == 'dragonfly') == (mode == 4)"
   ]
  },
  {
   "cell_type": "code",
   "execution_count": 6,
   "metadata": {},
   "outputs": [],
   "source": [
    "# data folder path\n",
    "current_path = os.getcwd()\n",
    "\n",
    "# dragonfly\n",
    "def get_dragonfly_images(slice_num):\n",
    "    s = slice_num - 400 + 1\n",
    "    s = str(s).zfill(3)\n",
    "    dragonfly_bassanite = os.path.join(current_path, 'VA10_0050_Bassanite\\VA10_0050_Bassanite{}.tiff'.format(s))\n",
    "    dragonfly_celestite = os.path.join(current_path, 'VA10_0050_Celestite\\VA10_0050_Celestite{}.tiff'.format(s))\n",
    "    dragonfly_gypsum = os.path.join(current_path, 'VA10_0050_Gypsum\\VA10_0050_Gypsum{}.tiff'.format(s))\n",
    "    dragonfly_pore = os.path.join(current_path, 'VA10_0050_Pores\\VA10_0050_Pores{}.tiff'.format(s))\n",
    "\n",
    "    bassanite = cv2.imread(dragonfly_bassanite)\n",
    "    celestite = cv2.imread(dragonfly_celestite)\n",
    "    gypsum = cv2.imread(dragonfly_gypsum)\n",
    "    pore = cv2.imread(dragonfly_pore)\n",
    "\n",
    "    return bassanite, celestite, gypsum, pore\n",
    "\n",
    "def get_dragonfly_grayscale(slice_num):\n",
    "    s = slice_num - 400 + 1\n",
    "    s = str(s).zfill(3)\n",
    "    dragonfly_bassanite = os.path.join(current_path, 'VA10_0050_Bassanite\\VA10_0050_Bassanite{}.tiff'.format(s))\n",
    "    dragonfly_celestite = os.path.join(current_path, 'VA10_0050_Celestite\\VA10_0050_Celestite{}.tiff'.format(s))\n",
    "    dragonfly_gypsum = os.path.join(current_path, 'VA10_0050_Gypsum\\VA10_0050_Gypsum{}.tiff'.format(s))\n",
    "    dragonfly_pore = os.path.join(current_path, 'VA10_0050_Pores\\VA10_0050_Pores{}.tiff'.format(s))\n",
    "\n",
    "    bassanite = cv2.imread(dragonfly_bassanite, cv2.IMREAD_GRAYSCALE) / 255\n",
    "    celestite = cv2.imread(dragonfly_celestite, cv2.IMREAD_GRAYSCALE) / 255\n",
    "    gypsum = cv2.imread(dragonfly_gypsum, cv2.IMREAD_GRAYSCALE) / 255\n",
    "    pore = cv2.imread(dragonfly_pore, cv2.IMREAD_GRAYSCALE) / 255\n",
    "\n",
    "    return bassanite, celestite, gypsum, pore\n",
    "\n",
    "# gmm / k-means\n",
    "def get_seg_image_path(model, nd, mode, slice_num):\n",
    "   seg_list = glob.glob(os.path.join(current_path, 'large_clusters_rec', model,  nd, 'cluster_{}'.format(mode), slice_num))\n",
    "\n"
   ]
  },
  {
   "cell_type": "code",
   "execution_count": 5,
   "metadata": {},
   "outputs": [],
   "source": [
    "bassanite, celestite, gypsum, pore = get_dragonfly_images(slice_num)\n"
   ]
  },
  {
   "cell_type": "code",
   "execution_count": 4,
   "metadata": {},
   "outputs": [],
   "source": [
    "# Color Palette\n",
    "black = [0,0,0]\n",
    "white = [255,255,255]\n",
    "color_1 = [118,42,131]\n",
    "color_2 = [175,141,195]\n",
    "color_3 = [231,212,232]\n",
    "color_4 = [217,240,211]\n",
    "color_5 = [127,191,123]\n",
    "color_6 = [27,120,55]"
   ]
  },
  {
   "cell_type": "code",
   "execution_count": 5,
   "metadata": {},
   "outputs": [
    {
     "data": {
      "text/plain": [
       "True"
      ]
     },
     "execution_count": 5,
     "metadata": {},
     "output_type": "execute_result"
    }
   ],
   "source": [
    "# load related images\n",
    "#if mode == 4:\n",
    "bassanite, celestite, gypsum, pore = get_dragonfly_images(471)\n",
    "bassanite[np.all(bassanite == white, axis=-1)] = color_2\n",
    "celestite[np.all(celestite == white, axis=-1)] = color_3\n",
    "gypsum[np.all(gypsum == white, axis=-1)] = color_4\n",
    "pore[np.all(pore == white, axis=-1)] = color_5\n",
    "\n",
    "img = bassanite + celestite + gypsum + pore\n",
    "cv2.imwrite('dragonfly_visualisation_report_471.png', img)"
   ]
  },
  {
   "cell_type": "code",
   "execution_count": 17,
   "metadata": {},
   "outputs": [
    {
     "data": {
      "text/plain": [
       "array([[0., 0., 0., ..., 1., 1., 1.],\n",
       "       [0., 0., 0., ..., 1., 1., 1.],\n",
       "       [1., 1., 1., ..., 1., 1., 1.],\n",
       "       ...,\n",
       "       [1., 1., 1., ..., 1., 1., 1.],\n",
       "       [0., 0., 1., ..., 1., 1., 1.],\n",
       "       [0., 0., 1., ..., 1., 1., 1.]])"
      ]
     },
     "execution_count": 17,
     "metadata": {},
     "output_type": "execute_result"
    }
   ],
   "source": [
    "# test intersection of classes from dragonfly => no overlapping\n",
    "b_gray, c_gray, g_gray, p_gray = get_dragonfly_grayscale(400)\n",
    "all_add = b_gray + c_gray + g_gray + p_gray\n",
    "all_add"
   ]
  },
  {
   "cell_type": "code",
   "execution_count": 20,
   "metadata": {},
   "outputs": [
    {
     "name": "stdout",
     "output_type": "stream",
     "text": [
      "25492\n"
     ]
    }
   ],
   "source": [
    "print((all_add == 0).sum())   # 25492 pixels were not classified as any classes here"
   ]
  },
  {
   "cell_type": "code",
   "execution_count": 21,
   "metadata": {},
   "outputs": [
    {
     "data": {
      "text/plain": [
       "0.04259314954051796"
      ]
     },
     "execution_count": 21,
     "metadata": {},
     "output_type": "execute_result"
    }
   ],
   "source": [
    "25492 / (700*855)   # indeed within the 95% accuaracy range"
   ]
  },
  {
   "attachments": {},
   "cell_type": "markdown",
   "metadata": {},
   "source": [
    "# labeling segmentation results and combine same class together"
   ]
  },
  {
   "attachments": {},
   "cell_type": "markdown",
   "metadata": {},
   "source": [
    "pore: 0\n",
    "\n",
    "gypsum: 1\n",
    "\n",
    "celestite: 2\n",
    "\n",
    "bassanite: 3"
   ]
  },
  {
   "cell_type": "code",
   "execution_count": 10,
   "metadata": {},
   "outputs": [],
   "source": [
    "# for my segmentation results: concate up for \n",
    "# since the clusters are gathering because of the same centroids, if there is an empty cluster, then that means in that image, there isn't any pixel that could be considered as that cluster.\n",
    "# Empty is a signal of no some class, so it is important to keep it as that class. \n",
    "\n",
    "\n",
    "\"\"\"need to find the average of each cluster, because as z goes larger, gypsum might goes down, pores and bassanie might grow and hence has more dominant data at around 750-800 slices but are tie with gypsum at the beginning.  \"\"\"\n",
    "\n",
    "# the following code was for k-means 3d 16\n",
    "\n",
    "label = [0]*16\n",
    "label[0] = 1\n",
    "label[1] = 2\n",
    "label[2] = 0  # 0/1 weird that presicion of pore was obviously larger but then it drops\n",
    "label[3] = 0\n",
    "label[4] = 1\n",
    "label[5] = 3\n",
    "label[6] = 0\n",
    "label[7] = 1\n",
    "label[8] = 1\n",
    "label[9] = 3\n",
    "label[10] = 0\n",
    "label[11] = 3\n",
    "label[12] = 0  #0/1  # weird that presicion of pore was obviously larger but then it drops\n",
    "label[13] = 1  #0/0/3\n",
    "label[14] = 1\n",
    "label[15] = 3\n",
    "\n"
   ]
  },
  {
   "cell_type": "code",
   "execution_count": 11,
   "metadata": {},
   "outputs": [],
   "source": [
    "seg_model = 'k-means'\n",
    "seg_nd = '3d'\n",
    "mode = 16\n",
    "\n",
    "\n",
    "df = pd.read_csv('{}_{}_{}_f1.csv'.format(seg_model, seg_nd, mode))"
   ]
  },
  {
   "cell_type": "code",
   "execution_count": 12,
   "metadata": {},
   "outputs": [
    {
     "data": {
      "text/html": [
       "<div>\n",
       "<style scoped>\n",
       "    .dataframe tbody tr th:only-of-type {\n",
       "        vertical-align: middle;\n",
       "    }\n",
       "\n",
       "    .dataframe tbody tr th {\n",
       "        vertical-align: top;\n",
       "    }\n",
       "\n",
       "    .dataframe thead th {\n",
       "        text-align: right;\n",
       "    }\n",
       "</style>\n",
       "<table border=\"1\" class=\"dataframe\">\n",
       "  <thead>\n",
       "    <tr style=\"text-align: right;\">\n",
       "      <th></th>\n",
       "      <th>slice</th>\n",
       "      <th>current_cluster</th>\n",
       "      <th>pore_micro_precision</th>\n",
       "      <th>pore_micro_recall</th>\n",
       "      <th>pore_micro_f1</th>\n",
       "      <th>pore_macro_precision</th>\n",
       "      <th>pore_macro_recall</th>\n",
       "      <th>pore_macro_f1</th>\n",
       "      <th>gypsum_micro_precision</th>\n",
       "      <th>gypsum_micro_recall</th>\n",
       "      <th>...</th>\n",
       "      <th>celestite_macro_precision</th>\n",
       "      <th>celestite_macro_recall</th>\n",
       "      <th>celestite_macro_f1</th>\n",
       "      <th>bassanite_micro_precision</th>\n",
       "      <th>bassanite_micro_recall</th>\n",
       "      <th>bassanite_micro_f1</th>\n",
       "      <th>bassanite_macro_precision</th>\n",
       "      <th>bassanite_macro_recall</th>\n",
       "      <th>bassanite_macro_f1</th>\n",
       "      <th>same_class</th>\n",
       "    </tr>\n",
       "  </thead>\n",
       "  <tbody>\n",
       "    <tr>\n",
       "      <th>0</th>\n",
       "      <td>400</td>\n",
       "      <td>0</td>\n",
       "      <td>0.012649</td>\n",
       "      <td>0.029551</td>\n",
       "      <td>0.017715</td>\n",
       "      <td>0.012855</td>\n",
       "      <td>0.030710</td>\n",
       "      <td>0.017283</td>\n",
       "      <td>0.918107</td>\n",
       "      <td>0.162058</td>\n",
       "      <td>...</td>\n",
       "      <td>0.000000</td>\n",
       "      <td>0.000000</td>\n",
       "      <td>0.000000</td>\n",
       "      <td>0.050779</td>\n",
       "      <td>0.036827</td>\n",
       "      <td>0.042692</td>\n",
       "      <td>0.051571</td>\n",
       "      <td>0.036910</td>\n",
       "      <td>0.041451</td>\n",
       "      <td>1</td>\n",
       "    </tr>\n",
       "    <tr>\n",
       "      <th>1</th>\n",
       "      <td>400</td>\n",
       "      <td>1</td>\n",
       "      <td>0.000000</td>\n",
       "      <td>0.000000</td>\n",
       "      <td>0.000000</td>\n",
       "      <td>0.000000</td>\n",
       "      <td>0.000000</td>\n",
       "      <td>0.000000</td>\n",
       "      <td>0.000000</td>\n",
       "      <td>0.000000</td>\n",
       "      <td>...</td>\n",
       "      <td>0.000000</td>\n",
       "      <td>0.000000</td>\n",
       "      <td>0.000000</td>\n",
       "      <td>0.000000</td>\n",
       "      <td>0.000000</td>\n",
       "      <td>0.000000</td>\n",
       "      <td>0.000000</td>\n",
       "      <td>0.000000</td>\n",
       "      <td>0.000000</td>\n",
       "      <td>2</td>\n",
       "    </tr>\n",
       "    <tr>\n",
       "      <th>2</th>\n",
       "      <td>400</td>\n",
       "      <td>2</td>\n",
       "      <td>0.495717</td>\n",
       "      <td>0.185133</td>\n",
       "      <td>0.269586</td>\n",
       "      <td>0.485919</td>\n",
       "      <td>0.192986</td>\n",
       "      <td>0.266431</td>\n",
       "      <td>0.445632</td>\n",
       "      <td>0.012575</td>\n",
       "      <td>...</td>\n",
       "      <td>0.000000</td>\n",
       "      <td>0.000000</td>\n",
       "      <td>0.000000</td>\n",
       "      <td>0.040623</td>\n",
       "      <td>0.004710</td>\n",
       "      <td>0.008441</td>\n",
       "      <td>0.042345</td>\n",
       "      <td>0.005007</td>\n",
       "      <td>0.008756</td>\n",
       "      <td>0</td>\n",
       "    </tr>\n",
       "    <tr>\n",
       "      <th>3</th>\n",
       "      <td>400</td>\n",
       "      <td>3</td>\n",
       "      <td>0.773465</td>\n",
       "      <td>0.166946</td>\n",
       "      <td>0.274618</td>\n",
       "      <td>0.756065</td>\n",
       "      <td>0.163197</td>\n",
       "      <td>0.256818</td>\n",
       "      <td>0.129570</td>\n",
       "      <td>0.002113</td>\n",
       "      <td>...</td>\n",
       "      <td>0.000000</td>\n",
       "      <td>0.000000</td>\n",
       "      <td>0.000000</td>\n",
       "      <td>0.089485</td>\n",
       "      <td>0.005996</td>\n",
       "      <td>0.011239</td>\n",
       "      <td>0.082403</td>\n",
       "      <td>0.005678</td>\n",
       "      <td>0.010376</td>\n",
       "      <td>0</td>\n",
       "    </tr>\n",
       "    <tr>\n",
       "      <th>4</th>\n",
       "      <td>400</td>\n",
       "      <td>4</td>\n",
       "      <td>0.048145</td>\n",
       "      <td>0.068911</td>\n",
       "      <td>0.056686</td>\n",
       "      <td>0.048326</td>\n",
       "      <td>0.074037</td>\n",
       "      <td>0.054871</td>\n",
       "      <td>0.881532</td>\n",
       "      <td>0.095334</td>\n",
       "      <td>...</td>\n",
       "      <td>0.000000</td>\n",
       "      <td>0.000000</td>\n",
       "      <td>0.000000</td>\n",
       "      <td>0.054871</td>\n",
       "      <td>0.024381</td>\n",
       "      <td>0.033761</td>\n",
       "      <td>0.055902</td>\n",
       "      <td>0.025334</td>\n",
       "      <td>0.033623</td>\n",
       "      <td>1</td>\n",
       "    </tr>\n",
       "    <tr>\n",
       "      <th>...</th>\n",
       "      <td>...</td>\n",
       "      <td>...</td>\n",
       "      <td>...</td>\n",
       "      <td>...</td>\n",
       "      <td>...</td>\n",
       "      <td>...</td>\n",
       "      <td>...</td>\n",
       "      <td>...</td>\n",
       "      <td>...</td>\n",
       "      <td>...</td>\n",
       "      <td>...</td>\n",
       "      <td>...</td>\n",
       "      <td>...</td>\n",
       "      <td>...</td>\n",
       "      <td>...</td>\n",
       "      <td>...</td>\n",
       "      <td>...</td>\n",
       "      <td>...</td>\n",
       "      <td>...</td>\n",
       "      <td>...</td>\n",
       "      <td>...</td>\n",
       "    </tr>\n",
       "    <tr>\n",
       "      <th>6411</th>\n",
       "      <td>800</td>\n",
       "      <td>11</td>\n",
       "      <td>0.003934</td>\n",
       "      <td>0.002790</td>\n",
       "      <td>0.003265</td>\n",
       "      <td>0.004146</td>\n",
       "      <td>0.002722</td>\n",
       "      <td>0.003128</td>\n",
       "      <td>0.000000</td>\n",
       "      <td>0.000000</td>\n",
       "      <td>...</td>\n",
       "      <td>0.000179</td>\n",
       "      <td>0.005848</td>\n",
       "      <td>0.000346</td>\n",
       "      <td>0.990529</td>\n",
       "      <td>0.268365</td>\n",
       "      <td>0.422312</td>\n",
       "      <td>0.990973</td>\n",
       "      <td>0.267241</td>\n",
       "      <td>0.413764</td>\n",
       "      <td>3</td>\n",
       "    </tr>\n",
       "    <tr>\n",
       "      <th>6412</th>\n",
       "      <td>800</td>\n",
       "      <td>12</td>\n",
       "      <td>0.360981</td>\n",
       "      <td>0.117477</td>\n",
       "      <td>0.177265</td>\n",
       "      <td>0.348757</td>\n",
       "      <td>0.115484</td>\n",
       "      <td>0.171463</td>\n",
       "      <td>0.328915</td>\n",
       "      <td>0.009191</td>\n",
       "      <td>...</td>\n",
       "      <td>0.000000</td>\n",
       "      <td>0.000000</td>\n",
       "      <td>0.000000</td>\n",
       "      <td>0.281213</td>\n",
       "      <td>0.034968</td>\n",
       "      <td>0.062202</td>\n",
       "      <td>0.284500</td>\n",
       "      <td>0.034887</td>\n",
       "      <td>0.061250</td>\n",
       "      <td>0</td>\n",
       "    </tr>\n",
       "    <tr>\n",
       "      <th>6413</th>\n",
       "      <td>800</td>\n",
       "      <td>13</td>\n",
       "      <td>0.224580</td>\n",
       "      <td>0.054941</td>\n",
       "      <td>0.088285</td>\n",
       "      <td>0.231613</td>\n",
       "      <td>0.055754</td>\n",
       "      <td>0.085039</td>\n",
       "      <td>0.428888</td>\n",
       "      <td>0.009009</td>\n",
       "      <td>...</td>\n",
       "      <td>0.000000</td>\n",
       "      <td>0.000000</td>\n",
       "      <td>0.000000</td>\n",
       "      <td>0.321297</td>\n",
       "      <td>0.030033</td>\n",
       "      <td>0.054932</td>\n",
       "      <td>0.309045</td>\n",
       "      <td>0.030372</td>\n",
       "      <td>0.054245</td>\n",
       "      <td>1</td>\n",
       "    </tr>\n",
       "    <tr>\n",
       "      <th>6414</th>\n",
       "      <td>800</td>\n",
       "      <td>14</td>\n",
       "      <td>0.006191</td>\n",
       "      <td>0.012941</td>\n",
       "      <td>0.008375</td>\n",
       "      <td>0.006166</td>\n",
       "      <td>0.014447</td>\n",
       "      <td>0.008237</td>\n",
       "      <td>0.942736</td>\n",
       "      <td>0.169204</td>\n",
       "      <td>...</td>\n",
       "      <td>0.000000</td>\n",
       "      <td>0.000000</td>\n",
       "      <td>0.000000</td>\n",
       "      <td>0.037221</td>\n",
       "      <td>0.029727</td>\n",
       "      <td>0.033055</td>\n",
       "      <td>0.038444</td>\n",
       "      <td>0.029277</td>\n",
       "      <td>0.032186</td>\n",
       "      <td>1</td>\n",
       "    </tr>\n",
       "    <tr>\n",
       "      <th>6415</th>\n",
       "      <td>800</td>\n",
       "      <td>15</td>\n",
       "      <td>0.010472</td>\n",
       "      <td>0.007491</td>\n",
       "      <td>0.008734</td>\n",
       "      <td>0.012650</td>\n",
       "      <td>0.007146</td>\n",
       "      <td>0.008546</td>\n",
       "      <td>0.090272</td>\n",
       "      <td>0.005545</td>\n",
       "      <td>...</td>\n",
       "      <td>0.000000</td>\n",
       "      <td>0.000000</td>\n",
       "      <td>0.000000</td>\n",
       "      <td>0.841374</td>\n",
       "      <td>0.229972</td>\n",
       "      <td>0.361214</td>\n",
       "      <td>0.827076</td>\n",
       "      <td>0.227315</td>\n",
       "      <td>0.351995</td>\n",
       "      <td>3</td>\n",
       "    </tr>\n",
       "  </tbody>\n",
       "</table>\n",
       "<p>6416 rows × 27 columns</p>\n",
       "</div>"
      ],
      "text/plain": [
       "      slice  current_cluster  pore_micro_precision  pore_micro_recall  \\\n",
       "0       400                0              0.012649           0.029551   \n",
       "1       400                1              0.000000           0.000000   \n",
       "2       400                2              0.495717           0.185133   \n",
       "3       400                3              0.773465           0.166946   \n",
       "4       400                4              0.048145           0.068911   \n",
       "...     ...              ...                   ...                ...   \n",
       "6411    800               11              0.003934           0.002790   \n",
       "6412    800               12              0.360981           0.117477   \n",
       "6413    800               13              0.224580           0.054941   \n",
       "6414    800               14              0.006191           0.012941   \n",
       "6415    800               15              0.010472           0.007491   \n",
       "\n",
       "      pore_micro_f1  pore_macro_precision  pore_macro_recall  pore_macro_f1  \\\n",
       "0          0.017715              0.012855           0.030710       0.017283   \n",
       "1          0.000000              0.000000           0.000000       0.000000   \n",
       "2          0.269586              0.485919           0.192986       0.266431   \n",
       "3          0.274618              0.756065           0.163197       0.256818   \n",
       "4          0.056686              0.048326           0.074037       0.054871   \n",
       "...             ...                   ...                ...            ...   \n",
       "6411       0.003265              0.004146           0.002722       0.003128   \n",
       "6412       0.177265              0.348757           0.115484       0.171463   \n",
       "6413       0.088285              0.231613           0.055754       0.085039   \n",
       "6414       0.008375              0.006166           0.014447       0.008237   \n",
       "6415       0.008734              0.012650           0.007146       0.008546   \n",
       "\n",
       "      gypsum_micro_precision  gypsum_micro_recall  ...  \\\n",
       "0                   0.918107             0.162058  ...   \n",
       "1                   0.000000             0.000000  ...   \n",
       "2                   0.445632             0.012575  ...   \n",
       "3                   0.129570             0.002113  ...   \n",
       "4                   0.881532             0.095334  ...   \n",
       "...                      ...                  ...  ...   \n",
       "6411                0.000000             0.000000  ...   \n",
       "6412                0.328915             0.009191  ...   \n",
       "6413                0.428888             0.009009  ...   \n",
       "6414                0.942736             0.169204  ...   \n",
       "6415                0.090272             0.005545  ...   \n",
       "\n",
       "      celestite_macro_precision  celestite_macro_recall  celestite_macro_f1  \\\n",
       "0                      0.000000                0.000000            0.000000   \n",
       "1                      0.000000                0.000000            0.000000   \n",
       "2                      0.000000                0.000000            0.000000   \n",
       "3                      0.000000                0.000000            0.000000   \n",
       "4                      0.000000                0.000000            0.000000   \n",
       "...                         ...                     ...                 ...   \n",
       "6411                   0.000179                0.005848            0.000346   \n",
       "6412                   0.000000                0.000000            0.000000   \n",
       "6413                   0.000000                0.000000            0.000000   \n",
       "6414                   0.000000                0.000000            0.000000   \n",
       "6415                   0.000000                0.000000            0.000000   \n",
       "\n",
       "      bassanite_micro_precision  bassanite_micro_recall  bassanite_micro_f1  \\\n",
       "0                      0.050779                0.036827            0.042692   \n",
       "1                      0.000000                0.000000            0.000000   \n",
       "2                      0.040623                0.004710            0.008441   \n",
       "3                      0.089485                0.005996            0.011239   \n",
       "4                      0.054871                0.024381            0.033761   \n",
       "...                         ...                     ...                 ...   \n",
       "6411                   0.990529                0.268365            0.422312   \n",
       "6412                   0.281213                0.034968            0.062202   \n",
       "6413                   0.321297                0.030033            0.054932   \n",
       "6414                   0.037221                0.029727            0.033055   \n",
       "6415                   0.841374                0.229972            0.361214   \n",
       "\n",
       "      bassanite_macro_precision  bassanite_macro_recall  bassanite_macro_f1  \\\n",
       "0                      0.051571                0.036910            0.041451   \n",
       "1                      0.000000                0.000000            0.000000   \n",
       "2                      0.042345                0.005007            0.008756   \n",
       "3                      0.082403                0.005678            0.010376   \n",
       "4                      0.055902                0.025334            0.033623   \n",
       "...                         ...                     ...                 ...   \n",
       "6411                   0.990973                0.267241            0.413764   \n",
       "6412                   0.284500                0.034887            0.061250   \n",
       "6413                   0.309045                0.030372            0.054245   \n",
       "6414                   0.038444                0.029277            0.032186   \n",
       "6415                   0.827076                0.227315            0.351995   \n",
       "\n",
       "      same_class  \n",
       "0              1  \n",
       "1              2  \n",
       "2              0  \n",
       "3              0  \n",
       "4              1  \n",
       "...          ...  \n",
       "6411           3  \n",
       "6412           0  \n",
       "6413           1  \n",
       "6414           1  \n",
       "6415           3  \n",
       "\n",
       "[6416 rows x 27 columns]"
      ]
     },
     "execution_count": 12,
     "metadata": {},
     "output_type": "execute_result"
    }
   ],
   "source": [
    "same_class = np.array(label*401)  # the res from same group mush have same label\n",
    "\n",
    "df['same_class'] = same_class\n",
    "df"
   ]
  },
  {
   "cell_type": "code",
   "execution_count": 1,
   "metadata": {},
   "outputs": [
    {
     "ename": "NameError",
     "evalue": "name 'df' is not defined",
     "output_type": "error",
     "traceback": [
      "\u001b[1;31m---------------------------------------------------------------------------\u001b[0m",
      "\u001b[1;31mNameError\u001b[0m                                 Traceback (most recent call last)",
      "\u001b[1;32md:\\MSc-Project\\visual_plots.ipynb Cell 18\u001b[0m in \u001b[0;36m<cell line: 1>\u001b[1;34m()\u001b[0m\n\u001b[1;32m----> <a href='vscode-notebook-cell:/d%3A/MSc-Project/visual_plots.ipynb#X23sZmlsZQ%3D%3D?line=0'>1</a>\u001b[0m zero \u001b[39m=\u001b[39m df\u001b[39m.\u001b[39mloc[df[\u001b[39m'\u001b[39m\u001b[39mcurrent_cluster\u001b[39m\u001b[39m'\u001b[39m] \u001b[39m==\u001b[39m \u001b[39m12\u001b[39m]\n",
      "\u001b[1;31mNameError\u001b[0m: name 'df' is not defined"
     ]
    }
   ],
   "source": [
    "zero = df.loc[df['current_cluster'] == 0]"
   ]
  },
  {
   "cell_type": "code",
   "execution_count": 2,
   "metadata": {},
   "outputs": [
    {
     "ename": "NameError",
     "evalue": "name 'zero' is not defined",
     "output_type": "error",
     "traceback": [
      "\u001b[1;31m---------------------------------------------------------------------------\u001b[0m",
      "\u001b[1;31mNameError\u001b[0m                                 Traceback (most recent call last)",
      "\u001b[1;32md:\\MSc-Project\\visual_plots.ipynb Cell 19\u001b[0m in \u001b[0;36m<cell line: 1>\u001b[1;34m()\u001b[0m\n\u001b[1;32m----> <a href='vscode-notebook-cell:/d%3A/MSc-Project/visual_plots.ipynb#X24sZmlsZQ%3D%3D?line=0'>1</a>\u001b[0m zero\u001b[39m.\u001b[39mdescribe()\n",
      "\u001b[1;31mNameError\u001b[0m: name 'zero' is not defined"
     ]
    }
   ],
   "source": [
    "zero.describe()"
   ]
  },
  {
   "attachments": {},
   "cell_type": "markdown",
   "metadata": {},
   "source": [
    "# Notes"
   ]
  },
  {
   "cell_type": "code",
   "execution_count": null,
   "metadata": {},
   "outputs": [],
   "source": [
    "# 3d and 4d similarity, strong active sense in the middle. Even though the representation of activeness in term of time and space might be different, but they are both presenting the same reaction process. Some other regions at two ends are experiencing the previous stage of the middle regions. \n",
    "# Similarly, some later reaction stage would happen at the region at the ends.\n",
    "# Hence, understanding z axis is important for understanding the axis of time. \n",
    "\n"
   ]
  },
  {
   "attachments": {},
   "cell_type": "markdown",
   "metadata": {},
   "source": [
    "# Image comparison"
   ]
  },
  {
   "cell_type": "code",
   "execution_count": 32,
   "metadata": {},
   "outputs": [
    {
     "data": {
      "text/plain": [
       "True"
      ]
     },
     "execution_count": 32,
     "metadata": {},
     "output_type": "execute_result"
    }
   ],
   "source": [
    "p1 = os.path.join(os.getcwd(), 'report_images\\T0050_0800_4d_cluster_6_2.png')\n",
    "p2 = os.path.join(os.getcwd(), 'report_images\\T0050_0800_4d_cluster_6_1.png')\n",
    "img1 = ~cv2.imread(p1, 0)\n",
    "img2 = ~cv2.imread(p2, 0)\n",
    "\n",
    "both = img1 + img2\n",
    "flip = ~both\n",
    "cv2.imwrite('report_images/T0050_0800_4d_cluster_6_1+2.png', flip)\n",
    "\n",
    "# cv2.imshow('d', both)\n",
    "# cv2.waitKey(0)\n",
    "# cv2.destroyAllWindows()\n",
    "\n",
    "\n",
    "# diff = (img1 != img2).any(axis=2).sum()\n",
    "# ratio = 1- (diff / (700*855))\n",
    "# print(diff)\n",
    "# print(ratio)\n"
   ]
  },
  {
   "cell_type": "code",
   "execution_count": 20,
   "metadata": {},
   "outputs": [],
   "source": [
    "\n",
    "# both = x+y\n",
    "# invert_both = ~both\n",
    "# #cv2.imshow('d', invert_both)\n",
    "# cv2.imshow('d', x)\n",
    "# cv2.waitKey(0)\n",
    "\n",
    "# cv2.destroyAllWindows()\n",
    "check = x+y\n"
   ]
  },
  {
   "cell_type": "code",
   "execution_count": 21,
   "metadata": {},
   "outputs": [
    {
     "data": {
      "text/plain": [
       "array([0, 0, 0, ..., 0, 0, 0], dtype=uint8)"
      ]
     },
     "execution_count": 21,
     "metadata": {},
     "output_type": "execute_result"
    }
   ],
   "source": [
    "check"
   ]
  },
  {
   "cell_type": "code",
   "execution_count": 27,
   "metadata": {},
   "outputs": [],
   "source": [
    "# compare if 6-2 plus 6-1 and 3-2\n",
    "p3 = os.path.join(os.getcwd(), 'report_images\\T0050_0800_4d_cluster_3_2.png')\n",
    "img3 = cv2.imread(p3, 0)\n",
    "im3 = img3.flatten()\n",
    "z = ~im3\n"
   ]
  },
  {
   "cell_type": "code",
   "execution_count": 30,
   "metadata": {},
   "outputs": [
    {
     "data": {
      "text/plain": [
       "0.149593984962406"
      ]
     },
     "execution_count": 30,
     "metadata": {},
     "output_type": "execute_result"
    }
   ],
   "source": [
    "dif = (check != z).sum()\n",
    "dif/(700*855)"
   ]
  },
  {
   "cell_type": "code",
   "execution_count": 28,
   "metadata": {},
   "outputs": [],
   "source": [
    "cv2.imshow('w', x)\n",
    "cv2.waitKey(0)\n",
    "cv2.destroyAllWindows()"
   ]
  },
  {
   "attachments": {},
   "cell_type": "markdown",
   "metadata": {},
   "source": [
    "# Images for Report"
   ]
  },
  {
   "cell_type": "code",
   "execution_count": 4,
   "metadata": {},
   "outputs": [
    {
     "data": {
      "text/plain": [
       "True"
      ]
     },
     "execution_count": 4,
     "metadata": {},
     "output_type": "execute_result"
    }
   ],
   "source": [
    "file_path = os.path.join(os.getcwd(), 'VA10_Pc200_Ram25_Pf50_T125_0002\\VA10_Pc200_Ram25_Pf50_T125_0002_0001.rec.8bit.tif')\n",
    "img = cv2.imread(file_path, -1) #[353:1053, 282:1137]\n",
    "cv2.imwrite('report_images/raw_data_to_png/VA10_Pc200_Ram25_Pf50_T125_0002_0001.rec.8bit..png', img)\n"
   ]
  },
  {
   "cell_type": "code",
   "execution_count": 7,
   "metadata": {},
   "outputs": [],
   "source": [
    "# color_1 = [118,42,131]\n",
    "# color_2 = [175,141,195]\n",
    "# color_3 = [231,212,232]\n",
    "# color_4 = [217,240,211]\n",
    "# color_5 = [127,191,123]\n",
    "# color_6 = [27,120,55]\n",
    "black = [0,0,0]\n",
    "gray = [150,150,150]\n",
    "white = [255,255,255]\n",
    "orange = [92,204,254]\n",
    "red = [28,26,227]\n",
    "pink = [185,180,251]\n",
    "color_2 = [180,218,161]\n",
    "color_3 = [196,182,65]\n",
    "color_4 = [204,255,255]\n",
    "color_5 = [168,94,34]\n",
    "blue = [184,127,44]"
   ]
  },
  {
   "cell_type": "code",
   "execution_count": 8,
   "metadata": {},
   "outputs": [
    {
     "data": {
      "text/plain": [
       "True"
      ]
     },
     "execution_count": 8,
     "metadata": {},
     "output_type": "execute_result"
    }
   ],
   "source": [
    "\n",
    "bassanite, celestite, gypsum, pore = get_dragonfly_images(618)\n",
    "bassanite[np.all(bassanite == white, axis=-1)] = orange\n",
    "celestite[np.all(celestite == white, axis=-1)] = blue\n",
    "gypsum[np.all(gypsum == white, axis=-1)] = gray\n",
    "pore[np.all(pore == white, axis=-1)] = red\n",
    "\n",
    "img = bassanite + celestite + gypsum + pore\n",
    "cv2.imwrite('report_images\\dragonfly_visualisation_report_618.png', img)"
   ]
  },
  {
   "cell_type": "code",
   "execution_count": 22,
   "metadata": {},
   "outputs": [],
   "source": [
    "# gmm / k-means\n",
    "def color_unsupervised_pred_by_slice(manual_label, seg_model, seg_nd, cluster_num, slice_num):\n",
    "    current_path = os.getcwd()\n",
    "    seg_path = os.path.join(current_path, 'large_clusters_rec', seg_model, seg_nd, 'cluster_{}'.format(cluster_num))\n",
    "    seg_res_list = glob.glob(os.path.join(seg_path, str(slice_num), '*.png'))\n",
    "    \n",
    "    img = 0\n",
    "\n",
    "    assert len(manual_label) == len(seg_res_list) == cluster_num\n",
    "\n",
    "    for seg in seg_res_list:\n",
    "        # our segmentation results has invered color, black [0,0,0] is the interested class\n",
    "        c = int(os.path.basename(seg[-16:-13]))\n",
    "        if manual_label[c] == 1:  # pore\n",
    "            pore = cv2.imread(seg)\n",
    "            pore[np.all(pore == black, axis=-1)] = red\n",
    "            pore[np.all(pore == white, axis=-1)] = black\n",
    "            img += pore\n",
    "        elif manual_label[c] == 2:  #gypsum\n",
    "            gypsum = cv2.imread(seg)\n",
    "            gypsum[np.all(gypsum == black, axis=-1)] = gray\n",
    "            gypsum[np.all(gypsum == white, axis=-1)] = black\n",
    "            img += gypsum\n",
    "        elif manual_label[c] == 3:  #celestite\n",
    "            celestite = cv2.imread(seg)\n",
    "            celestite[np.all(celestite == black, axis=-1)] = blue\n",
    "            celestite[np.all(celestite == white, axis=-1)] = black\n",
    "            img += celestite\n",
    "        elif manual_label[c] == 4:  #bassanite\n",
    "            bassanite = cv2.imread(seg)\n",
    "            bassanite[np.all(bassanite == black, axis=-1)] = orange\n",
    "            bassanite[np.all(bassanite == white, axis=-1)] = black\n",
    "            img += bassanite\n",
    "\n",
    "    return img"
   ]
  },
  {
   "cell_type": "code",
   "execution_count": 23,
   "metadata": {},
   "outputs": [],
   "source": [
    "def auto_label_last_201(seg_model, seg_nd, cluster_num, mode, threshold=0.5):\n",
    "    # cluster_num: the total number of clusters\n",
    "    assert mode in [1,2,3,4], \"Invalid mode: mode should be integer in [1,2,3,4].\"\n",
    "    if mode == 1:\n",
    "        assert threshold == 0.5, \"Mode 1 requires threshold = 0.5.\"\n",
    "\n",
    "    csv_file = os.path.join(os.getcwd(), 'evaluation_rec_f1', '{}_{}_{}_f1.csv'.format(seg_model, seg_nd, cluster_num))\n",
    "    df = pd.read_csv(csv_file, usecols=['slice', 'current_cluster','pore_micro_precision', 'pore_micro_f1', 'gypsum_micro_precision', 'gypsum_micro_f1', 'celestite_micro_precision', 'celestite_micro_f1', 'bassanite_micro_precision', 'bassanite_micro_f1'])\n",
    "    df =  df.loc[df['slice'] >= 600]  # only use training set\n",
    "\n",
    "    label = [0]*cluster_num\n",
    "\n",
    "    for i in range(cluster_num):\n",
    "        one_cluster = df.loc[df['current_cluster'] == i]\n",
    "        stats = one_cluster.mean()\n",
    "        precisions = [stats[2], stats[4], stats[6], stats[8]]\n",
    "        fscores = [stats[3], stats[5], stats[7], stats[9]]\n",
    "        p_max = max(precisions)\n",
    "        p_idx = np.argmax(precisions)\n",
    "        f_idx = np.argmax(fscores)\n",
    "        if mode in [1,2]:\n",
    "            if p_max <= threshold:\n",
    "                idx = f_idx\n",
    "            else:\n",
    "                idx = p_idx\n",
    "        elif mode == 3:\n",
    "            idx = f_idx\n",
    "        else:\n",
    "            idx = p_idx\n",
    "            \n",
    "        class_num = idx + 1\n",
    "        label[i] = class_num\n",
    "\n",
    "    return label"
   ]
  },
  {
   "cell_type": "code",
   "execution_count": 12,
   "metadata": {},
   "outputs": [],
   "source": [
    "from auto_label import PRECISION_SOLO"
   ]
  },
  {
   "cell_type": "code",
   "execution_count": 28,
   "metadata": {},
   "outputs": [],
   "source": [
    "seg_model = 'k-means'\n",
    "seg_nd = '4d'\n",
    "cluster_num = 128\n",
    "mode = PRECISION_SOLO\n",
    "threshold = 0"
   ]
  },
  {
   "cell_type": "code",
   "execution_count": 29,
   "metadata": {},
   "outputs": [],
   "source": [
    "label = auto_label_last_201(seg_model, seg_nd, cluster_num, mode, threshold)"
   ]
  },
  {
   "cell_type": "code",
   "execution_count": 15,
   "metadata": {},
   "outputs": [
    {
     "data": {
      "text/plain": [
       "128"
      ]
     },
     "execution_count": 15,
     "metadata": {},
     "output_type": "execute_result"
    }
   ],
   "source": [
    "len(label)"
   ]
  },
  {
   "cell_type": "code",
   "execution_count": 30,
   "metadata": {},
   "outputs": [],
   "source": [
    "img = color_unsupervised_pred_by_slice(label, seg_model, seg_nd, cluster_num, slice_num=471)"
   ]
  },
  {
   "cell_type": "code",
   "execution_count": 31,
   "metadata": {},
   "outputs": [
    {
     "data": {
      "text/plain": [
       "True"
      ]
     },
     "execution_count": 31,
     "metadata": {},
     "output_type": "execute_result"
    }
   ],
   "source": [
    "cv2.imwrite('report_images\\k-means_4d_128_report_471.png', img)"
   ]
  },
  {
   "attachments": {},
   "cell_type": "markdown",
   "metadata": {},
   "source": [
    "#### Transfer tif to png"
   ]
  },
  {
   "cell_type": "code",
   "execution_count": 4,
   "metadata": {},
   "outputs": [
    {
     "data": {
      "text/plain": [
       "True"
      ]
     },
     "execution_count": 4,
     "metadata": {},
     "output_type": "execute_result"
    }
   ],
   "source": [
    "p1 = os.path.join(os.getcwd(), 'VA10_Pc200_Ram25_Pf50_T125_0140\\VA10_Pc200_Ram25_Pf50_T125_0140_0001.rec.8bit.tif')\n",
    "img1 = cv2.imread(p1, -1)\n",
    "\n",
    "cv2.imwrite('report_images/raw_data_to_png/VA10_Pc200_Ram25_Pf50_T125_0140_0001.rec.8bit.png', img1)"
   ]
  },
  {
   "cell_type": "code",
   "execution_count": null,
   "metadata": {},
   "outputs": [],
   "source": []
  }
 ],
 "metadata": {
  "kernelspec": {
   "display_name": "test-uninstall",
   "language": "python",
   "name": "python3"
  },
  "language_info": {
   "codemirror_mode": {
    "name": "ipython",
    "version": 3
   },
   "file_extension": ".py",
   "mimetype": "text/x-python",
   "name": "python",
   "nbconvert_exporter": "python",
   "pygments_lexer": "ipython3",
   "version": "3.10.9"
  },
  "orig_nbformat": 4
 },
 "nbformat": 4,
 "nbformat_minor": 2
}
