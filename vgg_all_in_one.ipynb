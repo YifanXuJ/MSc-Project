{
 "cells": [
  {
   "cell_type": "code",
   "execution_count": 1,
   "metadata": {},
   "outputs": [],
   "source": [
    "import numpy as np\n",
    "import os\n",
    "from matplotlib import pyplot as plt\n",
    "import cv2\n",
    "import csv\n",
    "import pandas as pd\n",
    "import glob\n",
    "from sklearn.model_selection import train_test_split\n",
    "from sklearn.metrics import accuracy_score, precision_recall_fscore_support\n",
    "\n",
    "import tensorflow as tf\n",
    "from tensorflow import keras\n",
    "from keras.models import Sequential, Model, load_model\n",
    "from keras.layers import Conv2D #images are two dimensional. Videos are three dimension.\n",
    "from keras.layers import MaxPooling2D\n",
    "from keras.layers import Flatten\n",
    "from keras.layers import Dense\n",
    "\n",
    "from keras.preprocessing import image\n",
    "from keras.preprocessing.image import ImageDataGenerator"
   ]
  },
  {
   "cell_type": "code",
   "execution_count": 2,
   "metadata": {},
   "outputs": [],
   "source": [
    "from keras.applications.vgg16 import VGG16\n",
    "from keras.applications.vgg16 import preprocess_input"
   ]
  },
  {
   "cell_type": "code",
   "execution_count": 3,
   "metadata": {},
   "outputs": [],
   "source": [
    "from keras.optimizers import Adam\n",
    "from datetime import datetime\n",
    "from keras.callbacks import ModelCheckpoint"
   ]
  },
  {
   "cell_type": "code",
   "execution_count": 4,
   "metadata": {},
   "outputs": [],
   "source": [
    "from auto_label import auto_label, PRECISION_SOLO"
   ]
  },
  {
   "attachments": {},
   "cell_type": "markdown",
   "metadata": {},
   "source": [
    "# Data Precrocessing"
   ]
  },
  {
   "cell_type": "code",
   "execution_count": 5,
   "metadata": {},
   "outputs": [],
   "source": [
    "def get_cluster_num_str(c):\n",
    "    c = str(c).zfill(3)\n",
    "    return c"
   ]
  },
  {
   "cell_type": "code",
   "execution_count": 6,
   "metadata": {},
   "outputs": [],
   "source": [
    "# Set the target segmentation results \n",
    "res_folder = 'large_clusters_rec'\n",
    "seg_model = 'k-means'   # choose between 'gmm' and 'k-means'\n",
    "seg_nd = '3d'   # choose between '3d' and '4d'\n",
    "cluster_num = 16   # choose between 16, 32, 64, and 128"
   ]
  },
  {
   "attachments": {},
   "cell_type": "markdown",
   "metadata": {},
   "source": [
    "### Prepare Dataframe for Data Generator"
   ]
  },
  {
   "cell_type": "code",
   "execution_count": 7,
   "metadata": {},
   "outputs": [],
   "source": [
    "# corresponding csv file to get slice & cluster combination\n",
    "csv_file = os.path.join(os.getcwd(), 'evaluation_rec_f1', '{}_{}_{}_f1.csv'.format(seg_model, seg_nd, cluster_num))\n",
    "df = pd.read_csv(csv_file, usecols = ['slice', 'current_cluster'])\n",
    "df['filename'] = df['slice'].map(str) + '\\VA10_0050_0' + df['slice'].map(str) + '_' + df['current_cluster'].map(get_cluster_num_str)  + '.rec.8bit.png'"
   ]
  },
  {
   "cell_type": "code",
   "execution_count": 9,
   "metadata": {},
   "outputs": [],
   "source": [
    "# prepare labels for data generator\n",
    "cluster_label_one_slice = auto_label(seg_model, seg_nd, cluster_num, PRECISION_SOLO, threshold=0)\n",
    "cluster_label = np.array(cluster_label_one_slice*401)\n",
    "df['class'] =cluster_label\n",
    "df['class'] = df['class'].map(str)"
   ]
  },
  {
   "attachments": {},
   "cell_type": "markdown",
   "metadata": {},
   "source": [
    "### Train_Val_Test Split"
   ]
  },
  {
   "cell_type": "code",
   "execution_count": 10,
   "metadata": {},
   "outputs": [],
   "source": [
    "# randomly get 200 slices from [400, 800] and them select all clusters for these slices to form a balanced training set\n",
    "slice_list = np.array(range(400, 801)) # [400,800] inclusive, 401 in total\n",
    "train_slice, other_set = train_test_split(slice_list, test_size=0.5, random_state=104)\n",
    "val_slice, test_slice = train_test_split(other_set, test_size=0.5, random_state=104)"
   ]
  },
  {
   "cell_type": "code",
   "execution_count": 11,
   "metadata": {},
   "outputs": [
    {
     "data": {
      "text/html": [
       "<div>\n",
       "<style scoped>\n",
       "    .dataframe tbody tr th:only-of-type {\n",
       "        vertical-align: middle;\n",
       "    }\n",
       "\n",
       "    .dataframe tbody tr th {\n",
       "        vertical-align: top;\n",
       "    }\n",
       "\n",
       "    .dataframe thead th {\n",
       "        text-align: right;\n",
       "    }\n",
       "</style>\n",
       "<table border=\"1\" class=\"dataframe\">\n",
       "  <thead>\n",
       "    <tr style=\"text-align: right;\">\n",
       "      <th></th>\n",
       "      <th>index</th>\n",
       "      <th>slice</th>\n",
       "      <th>current_cluster</th>\n",
       "      <th>filename</th>\n",
       "      <th>class</th>\n",
       "    </tr>\n",
       "  </thead>\n",
       "  <tbody>\n",
       "    <tr>\n",
       "      <th>0</th>\n",
       "      <td>144</td>\n",
       "      <td>409</td>\n",
       "      <td>0</td>\n",
       "      <td>409\\VA10_0050_0409_000.rec.8bit.png</td>\n",
       "      <td>2</td>\n",
       "    </tr>\n",
       "    <tr>\n",
       "      <th>1</th>\n",
       "      <td>145</td>\n",
       "      <td>409</td>\n",
       "      <td>1</td>\n",
       "      <td>409\\VA10_0050_0409_001.rec.8bit.png</td>\n",
       "      <td>3</td>\n",
       "    </tr>\n",
       "    <tr>\n",
       "      <th>2</th>\n",
       "      <td>146</td>\n",
       "      <td>409</td>\n",
       "      <td>2</td>\n",
       "      <td>409\\VA10_0050_0409_002.rec.8bit.png</td>\n",
       "      <td>1</td>\n",
       "    </tr>\n",
       "    <tr>\n",
       "      <th>3</th>\n",
       "      <td>147</td>\n",
       "      <td>409</td>\n",
       "      <td>3</td>\n",
       "      <td>409\\VA10_0050_0409_003.rec.8bit.png</td>\n",
       "      <td>1</td>\n",
       "    </tr>\n",
       "    <tr>\n",
       "      <th>4</th>\n",
       "      <td>148</td>\n",
       "      <td>409</td>\n",
       "      <td>4</td>\n",
       "      <td>409\\VA10_0050_0409_004.rec.8bit.png</td>\n",
       "      <td>2</td>\n",
       "    </tr>\n",
       "    <tr>\n",
       "      <th>...</th>\n",
       "      <td>...</td>\n",
       "      <td>...</td>\n",
       "      <td>...</td>\n",
       "      <td>...</td>\n",
       "      <td>...</td>\n",
       "    </tr>\n",
       "    <tr>\n",
       "      <th>1611</th>\n",
       "      <td>6395</td>\n",
       "      <td>799</td>\n",
       "      <td>11</td>\n",
       "      <td>799\\VA10_0050_0799_011.rec.8bit.png</td>\n",
       "      <td>4</td>\n",
       "    </tr>\n",
       "    <tr>\n",
       "      <th>1612</th>\n",
       "      <td>6396</td>\n",
       "      <td>799</td>\n",
       "      <td>12</td>\n",
       "      <td>799\\VA10_0050_0799_012.rec.8bit.png</td>\n",
       "      <td>1</td>\n",
       "    </tr>\n",
       "    <tr>\n",
       "      <th>1613</th>\n",
       "      <td>6397</td>\n",
       "      <td>799</td>\n",
       "      <td>13</td>\n",
       "      <td>799\\VA10_0050_0799_013.rec.8bit.png</td>\n",
       "      <td>2</td>\n",
       "    </tr>\n",
       "    <tr>\n",
       "      <th>1614</th>\n",
       "      <td>6398</td>\n",
       "      <td>799</td>\n",
       "      <td>14</td>\n",
       "      <td>799\\VA10_0050_0799_014.rec.8bit.png</td>\n",
       "      <td>2</td>\n",
       "    </tr>\n",
       "    <tr>\n",
       "      <th>1615</th>\n",
       "      <td>6399</td>\n",
       "      <td>799</td>\n",
       "      <td>15</td>\n",
       "      <td>799\\VA10_0050_0799_015.rec.8bit.png</td>\n",
       "      <td>4</td>\n",
       "    </tr>\n",
       "  </tbody>\n",
       "</table>\n",
       "<p>1616 rows × 5 columns</p>\n",
       "</div>"
      ],
      "text/plain": [
       "      index  slice  current_cluster                             filename class\n",
       "0       144    409                0  409\\VA10_0050_0409_000.rec.8bit.png     2\n",
       "1       145    409                1  409\\VA10_0050_0409_001.rec.8bit.png     3\n",
       "2       146    409                2  409\\VA10_0050_0409_002.rec.8bit.png     1\n",
       "3       147    409                3  409\\VA10_0050_0409_003.rec.8bit.png     1\n",
       "4       148    409                4  409\\VA10_0050_0409_004.rec.8bit.png     2\n",
       "...     ...    ...              ...                                  ...   ...\n",
       "1611   6395    799               11  799\\VA10_0050_0799_011.rec.8bit.png     4\n",
       "1612   6396    799               12  799\\VA10_0050_0799_012.rec.8bit.png     1\n",
       "1613   6397    799               13  799\\VA10_0050_0799_013.rec.8bit.png     2\n",
       "1614   6398    799               14  799\\VA10_0050_0799_014.rec.8bit.png     2\n",
       "1615   6399    799               15  799\\VA10_0050_0799_015.rec.8bit.png     4\n",
       "\n",
       "[1616 rows x 5 columns]"
      ]
     },
     "execution_count": 11,
     "metadata": {},
     "output_type": "execute_result"
    }
   ],
   "source": [
    "train_set = df.loc[df['slice'].isin(train_slice)]\n",
    "train_set.reset_index()\n",
    "val_set = df.loc[df['slice'].isin(val_slice)]\n",
    "val_set.reset_index()\n",
    "test_set = df.loc[df['slice'].isin(test_slice)]\n",
    "test_set.reset_index()"
   ]
  },
  {
   "attachments": {},
   "cell_type": "markdown",
   "metadata": {},
   "source": [
    "### Get Data Generator for Train/Val/Test"
   ]
  },
  {
   "cell_type": "code",
   "execution_count": 12,
   "metadata": {},
   "outputs": [
    {
     "name": "stdout",
     "output_type": "stream",
     "text": [
      "Found 3200 validated image filenames belonging to 4 classes.\n",
      "Found 1600 validated image filenames belonging to 4 classes.\n",
      "Found 1616 validated image filenames.\n"
     ]
    }
   ],
   "source": [
    "batch_size = 16\n",
    "\n",
    "# Data path: used in data generator\n",
    "base_folder = os.path.join(os.getcwd(), res_folder, seg_model, seg_nd, 'cluster_{}'.format(cluster_num))\n",
    "\n",
    "train_datagen = ImageDataGenerator(preprocessing_function=preprocess_input)\n",
    "val_datagen = ImageDataGenerator(preprocessing_function=preprocess_input)\n",
    "test_datagen = ImageDataGenerator(preprocessing_function=preprocess_input)\n",
    "\n",
    "\n",
    "train_generator = train_datagen.flow_from_dataframe(dataframe=train_set, directory=base_folder,\n",
    "                                             x_col='filename',\n",
    "                                             y_col='class',\n",
    "                                             target_size=(700, 855),\n",
    "                                             batch_size=batch_size,\n",
    "                                             shuffle=True,\n",
    "                                             class_mode='categorical',\n",
    "                                             seed=7)\n",
    "\n",
    "val_generator = val_datagen.flow_from_dataframe(dataframe=val_set, directory=base_folder,\n",
    "                                             x_col='filename',\n",
    "                                             y_col='class',\n",
    "                                             target_size=(700, 855),\n",
    "                                             batch_size=batch_size,\n",
    "                                             shuffle=True,\n",
    "                                             class_mode='categorical',\n",
    "                                             seed=7)\n",
    "\n",
    "\n",
    "test_generator = test_datagen.flow_from_dataframe(dataframe=test_set, directory=base_folder,\n",
    "                                             x_col='filename',\n",
    "                                             y_col=None,\n",
    "                                             target_size=(700, 855),\n",
    "                                             batch_size=batch_size,\n",
    "                                             shuffle=False,\n",
    "                                             class_mode=None,\n",
    "                                             seed=7\n",
    "                                             )"
   ]
  },
  {
   "attachments": {},
   "cell_type": "markdown",
   "metadata": {},
   "source": [
    "# Model"
   ]
  },
  {
   "cell_type": "code",
   "execution_count": 13,
   "metadata": {},
   "outputs": [
    {
     "name": "stdout",
     "output_type": "stream",
     "text": [
      "Model: \"model\"\n",
      "_________________________________________________________________\n",
      " Layer (type)                Output Shape              Param #   \n",
      "=================================================================\n",
      " input_1 (InputLayer)        [(None, 700, 855, 3)]     0         \n",
      "                                                                 \n",
      " block1_conv1 (Conv2D)       (None, 700, 855, 64)      1792      \n",
      "                                                                 \n",
      " block1_conv2 (Conv2D)       (None, 700, 855, 64)      36928     \n",
      "                                                                 \n",
      " block1_pool (MaxPooling2D)  (None, 350, 427, 64)      0         \n",
      "                                                                 \n",
      " block2_conv1 (Conv2D)       (None, 350, 427, 128)     73856     \n",
      "                                                                 \n",
      " block2_conv2 (Conv2D)       (None, 350, 427, 128)     147584    \n",
      "                                                                 \n",
      " block2_pool (MaxPooling2D)  (None, 175, 213, 128)     0         \n",
      "                                                                 \n",
      " block3_conv1 (Conv2D)       (None, 175, 213, 256)     295168    \n",
      "                                                                 \n",
      " block3_conv2 (Conv2D)       (None, 175, 213, 256)     590080    \n",
      "                                                                 \n",
      " block3_conv3 (Conv2D)       (None, 175, 213, 256)     590080    \n",
      "                                                                 \n",
      " block3_pool (MaxPooling2D)  (None, 87, 106, 256)      0         \n",
      "                                                                 \n",
      " block4_conv1 (Conv2D)       (None, 87, 106, 512)      1180160   \n",
      "                                                                 \n",
      " block4_conv2 (Conv2D)       (None, 87, 106, 512)      2359808   \n",
      "                                                                 \n",
      " block4_conv3 (Conv2D)       (None, 87, 106, 512)      2359808   \n",
      "                                                                 \n",
      " block4_pool (MaxPooling2D)  (None, 43, 53, 512)       0         \n",
      "                                                                 \n",
      " block5_conv1 (Conv2D)       (None, 43, 53, 512)       2359808   \n",
      "                                                                 \n",
      " block5_conv2 (Conv2D)       (None, 43, 53, 512)       2359808   \n",
      "                                                                 \n",
      " block5_conv3 (Conv2D)       (None, 43, 53, 512)       2359808   \n",
      "                                                                 \n",
      " block5_pool (MaxPooling2D)  (None, 21, 26, 512)       0         \n",
      "                                                                 \n",
      " flatten (Flatten)           (None, 279552)            0         \n",
      "                                                                 \n",
      " dense (Dense)               (None, 4)                 1118212   \n",
      "                                                                 \n",
      "=================================================================\n",
      "Total params: 15,832,900\n",
      "Trainable params: 1,118,212\n",
      "Non-trainable params: 14,714,688\n",
      "_________________________________________________________________\n"
     ]
    }
   ],
   "source": [
    "vgg16_model = VGG16(include_top=False, input_shape=(700, 855, 3))\n",
    "for layer in vgg16_model.layers:\n",
    "    layer.trainable = False\n",
    "x = Flatten()(vgg16_model.output)\n",
    "prediction = Dense(4, activation='softmax')(x)\n",
    "model = Model(inputs=vgg16_model.input, outputs=prediction)\n",
    "model.summary()"
   ]
  },
  {
   "attachments": {},
   "cell_type": "markdown",
   "metadata": {},
   "source": [
    "# Training \n",
    "\n",
    "Skip if model already trained; Go to next session 'Load Model'"
   ]
  },
  {
   "cell_type": "code",
   "execution_count": 17,
   "metadata": {},
   "outputs": [
    {
     "data": {
      "text/plain": [
       "['vgg16.h5']"
      ]
     },
     "execution_count": 17,
     "metadata": {},
     "output_type": "execute_result"
    }
   ],
   "source": [
    "glob.glob('*.h5')"
   ]
  },
  {
   "cell_type": "code",
   "execution_count": 14,
   "metadata": {},
   "outputs": [],
   "source": [
    "STEP_SIZE_TRAIN=train_generator.n//train_generator.batch_size\n",
    "STEP_SIZE_VALID=val_generator.n//val_generator.batch_size\n",
    "STEP_SIZE_TEST=test_generator.n//test_generator.batch_size"
   ]
  },
  {
   "cell_type": "code",
   "execution_count": 19,
   "metadata": {},
   "outputs": [],
   "source": [
    "model_name = '{}_{}_{}_vgg16.h5'.format(seg_model, seg_nd, cluster_num)\n",
    "model.compile(optimizer=Adam(learning_rate=0.0001), loss='categorical_crossentropy', metrics=[keras.metrics.Accuracy(), keras.metrics.Precision(), keras.metrics.Recall()])\n",
    "checkpoint = ModelCheckpoint(model_name, save_best_only=True, monitor='val_loss', mode='min')\n",
    "callbacks = [checkpoint]"
   ]
  },
  {
   "cell_type": "code",
   "execution_count": 20,
   "metadata": {},
   "outputs": [
    {
     "name": "stderr",
     "output_type": "stream",
     "text": [
      "C:\\Users\\s1923493\\AppData\\Local\\Temp\\ipykernel_22328\\1046869377.py:2: UserWarning: `Model.fit_generator` is deprecated and will be removed in a future version. Please use `Model.fit`, which supports generators.\n",
      "  model_history = model.fit_generator(generator=train_generator,\n"
     ]
    },
    {
     "name": "stdout",
     "output_type": "stream",
     "text": [
      "Epoch 1/7\n",
      "200/200 [==============================] - 94s 402ms/step - loss: 0.5170 - accuracy: 0.3538 - precision: 0.9418 - recall_1: 0.9406 - val_loss: 0.0414 - val_accuracy: 0.4173 - val_precision: 0.9856 - val_recall_1: 0.9856\n",
      "Epoch 2/7\n",
      "200/200 [==============================] - 83s 414ms/step - loss: 0.0145 - accuracy: 0.4311 - precision: 0.9966 - recall_1: 0.9966 - val_loss: 0.0153 - val_accuracy: 0.4270 - val_precision: 0.9956 - val_recall_1: 0.9956\n",
      "Epoch 3/7\n",
      "200/200 [==============================] - 84s 419ms/step - loss: 1.2336e-04 - accuracy: 0.4494 - precision: 1.0000 - recall_1: 1.0000 - val_loss: 0.0015 - val_accuracy: 0.4328 - val_precision: 0.9994 - val_recall_1: 0.9994\n",
      "Epoch 4/7\n",
      "200/200 [==============================] - 84s 418ms/step - loss: 1.5284e-05 - accuracy: 0.4515 - precision: 1.0000 - recall_1: 1.0000 - val_loss: 0.0012 - val_accuracy: 0.4317 - val_precision: 0.9994 - val_recall_1: 0.9994\n",
      "Epoch 5/7\n",
      "200/200 [==============================] - 82s 410ms/step - loss: 4.4928e-06 - accuracy: 0.4508 - precision: 1.0000 - recall_1: 1.0000 - val_loss: 0.0012 - val_accuracy: 0.4313 - val_precision: 1.0000 - val_recall_1: 0.9994\n",
      "Epoch 6/7\n",
      "200/200 [==============================] - 82s 409ms/step - loss: 3.9196e-06 - accuracy: 0.4508 - precision: 1.0000 - recall_1: 1.0000 - val_loss: 0.0011 - val_accuracy: 0.4305 - val_precision: 1.0000 - val_recall_1: 1.0000\n",
      "Epoch 7/7\n",
      "200/200 [==============================] - 84s 418ms/step - loss: 3.4177e-06 - accuracy: 0.4509 - precision: 1.0000 - recall_1: 1.0000 - val_loss: 0.0011 - val_accuracy: 0.4306 - val_precision: 1.0000 - val_recall_1: 1.0000\n",
      "Training time:  0:09:52.154171\n"
     ]
    }
   ],
   "source": [
    "start = datetime.now()\n",
    "model_history = model.fit_generator(generator=train_generator,\n",
    "                    steps_per_epoch=STEP_SIZE_TRAIN,\n",
    "                    validation_data=val_generator,\n",
    "                    validation_steps=STEP_SIZE_VALID,\n",
    "                    epochs=7,\n",
    "                    callbacks=callbacks, verbose=1)\n",
    "\n",
    "duration = datetime.now() - start\n",
    "print(\"Training time: \", duration)"
   ]
  },
  {
   "attachments": {},
   "cell_type": "markdown",
   "metadata": {},
   "source": [
    "# Load Trained Model"
   ]
  },
  {
   "cell_type": "code",
   "execution_count": null,
   "metadata": {},
   "outputs": [],
   "source": [
    "model_name = '{}_{}_{}_vgg16.h5'.format(seg_model, seg_nd, cluster_num)\n",
    "model = load_model(model_name)"
   ]
  },
  {
   "attachments": {},
   "cell_type": "markdown",
   "metadata": {},
   "source": [
    "# Evaluation & Tests"
   ]
  },
  {
   "cell_type": "code",
   "execution_count": 21,
   "metadata": {},
   "outputs": [
    {
     "name": "stdout",
     "output_type": "stream",
     "text": [
      "101/101 [==============================] - 27s 263ms/step\n"
     ]
    }
   ],
   "source": [
    "test_generator.reset()\n",
    "pred=model.predict(test_generator,\n",
    "                             steps=STEP_SIZE_TEST,\n",
    "                             verbose=1)"
   ]
  },
  {
   "cell_type": "code",
   "execution_count": 27,
   "metadata": {},
   "outputs": [
    {
     "ename": "NameError",
     "evalue": "name 'int64' is not defined",
     "output_type": "error",
     "traceback": [
      "\u001b[1;31m---------------------------------------------------------------------------\u001b[0m",
      "\u001b[1;31mNameError\u001b[0m                                 Traceback (most recent call last)",
      "\u001b[1;32md:\\MSc-Project\\vgg_all_in_one.ipynb Cell 27\u001b[0m in \u001b[0;36m<cell line: 5>\u001b[1;34m()\u001b[0m\n\u001b[0;32m      <a href='vscode-notebook-cell:/d%3A/MSc-Project/vgg_all_in_one.ipynb#X34sZmlsZQ%3D%3D?line=0'>1</a>\u001b[0m predicted_class_indices\u001b[39m=\u001b[39mnp\u001b[39m.\u001b[39margmax(pred,axis\u001b[39m=\u001b[39m\u001b[39m1\u001b[39m)\n\u001b[0;32m      <a href='vscode-notebook-cell:/d%3A/MSc-Project/vgg_all_in_one.ipynb#X34sZmlsZQ%3D%3D?line=1'>2</a>\u001b[0m \u001b[39m# test_df = test_set.reset_index()\u001b[39;00m\n\u001b[0;32m      <a href='vscode-notebook-cell:/d%3A/MSc-Project/vgg_all_in_one.ipynb#X34sZmlsZQ%3D%3D?line=2'>3</a>\u001b[0m \u001b[39m# test_df['vgg16_predict'] = pd.Series(predicted_class_indices)\u001b[39;00m\n\u001b[0;32m      <a href='vscode-notebook-cell:/d%3A/MSc-Project/vgg_all_in_one.ipynb#X34sZmlsZQ%3D%3D?line=3'>4</a>\u001b[0m \u001b[39m#\"\"\"need to test the function below first\"\"\"\u001b[39;00m\n\u001b[1;32m----> <a href='vscode-notebook-cell:/d%3A/MSc-Project/vgg_all_in_one.ipynb#X34sZmlsZQ%3D%3D?line=4'>5</a>\u001b[0m gold_label \u001b[39m=\u001b[39m test_set[\u001b[39m'\u001b[39m\u001b[39mclass\u001b[39m\u001b[39m'\u001b[39m]\u001b[39m.\u001b[39mmap(int64)\n\u001b[0;32m      <a href='vscode-notebook-cell:/d%3A/MSc-Project/vgg_all_in_one.ipynb#X34sZmlsZQ%3D%3D?line=5'>6</a>\u001b[0m gold_label \u001b[39m=\u001b[39m gold_label\u001b[39m.\u001b[39mto_numpy()\n\u001b[0;32m      <a href='vscode-notebook-cell:/d%3A/MSc-Project/vgg_all_in_one.ipynb#X34sZmlsZQ%3D%3D?line=6'>7</a>\u001b[0m p, r, f1, _ \u001b[39m=\u001b[39m precision_recall_fscore_support(gold_label, predicted_class_indices, average\u001b[39m=\u001b[39m\u001b[39mNone\u001b[39;00m, labels\u001b[39m=\u001b[39m[\u001b[39m1\u001b[39m,\u001b[39m2\u001b[39m,\u001b[39m3\u001b[39m,\u001b[39m4\u001b[39m])\n",
      "\u001b[1;31mNameError\u001b[0m: name 'int64' is not defined"
     ]
    }
   ],
   "source": [
    "predicted_class_indices=np.argmax(pred,axis=1)\n",
    "# test_df = test_set.reset_index()\n",
    "# test_df['vgg16_predict'] = pd.Series(predicted_class_indices)\n",
    "#\"\"\"need to test the function below first\"\"\"\n",
    "gold_label = test_set['class'].map(int)\n",
    "gold_label = gold_label.to_numpy()\n",
    "# p, r, f1, _ = precision_recall_fscore_support(gold_label, predicted_class_indices, average=None, labels=[1,2,3,4])\n",
    "# acc = accuracy_score(gold_label, predicted_class_indices)\n",
    "# print(\"Test Accuracy: \", acc)\n",
    "# print(p, r, f1)\n"
   ]
  },
  {
   "cell_type": "code",
   "execution_count": 28,
   "metadata": {},
   "outputs": [
    {
     "data": {
      "text/plain": [
       "array([1, 2, 0, ..., 1, 1, 3], dtype=int64)"
      ]
     },
     "execution_count": 28,
     "metadata": {},
     "output_type": "execute_result"
    }
   ],
   "source": [
    "predicted_class_indices"
   ]
  },
  {
   "cell_type": "code",
   "execution_count": 29,
   "metadata": {},
   "outputs": [
    {
     "data": {
      "text/plain": [
       "array([2, 3, 1, ..., 2, 2, 4], dtype=int64)"
      ]
     },
     "execution_count": 29,
     "metadata": {},
     "output_type": "execute_result"
    }
   ],
   "source": [
    "gold_label"
   ]
  },
  {
   "cell_type": "code",
   "execution_count": null,
   "metadata": {},
   "outputs": [],
   "source": [
    "# naming convention need to be check"
   ]
  }
 ],
 "metadata": {
  "kernelspec": {
   "display_name": "test-uninstall",
   "language": "python",
   "name": "python3"
  },
  "language_info": {
   "codemirror_mode": {
    "name": "ipython",
    "version": 3
   },
   "file_extension": ".py",
   "mimetype": "text/x-python",
   "name": "python",
   "nbconvert_exporter": "python",
   "pygments_lexer": "ipython3",
   "version": "3.10.9"
  },
  "orig_nbformat": 4
 },
 "nbformat": 4,
 "nbformat_minor": 2
}
