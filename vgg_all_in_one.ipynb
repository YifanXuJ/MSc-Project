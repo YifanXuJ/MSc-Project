{
 "cells": [
  {
   "cell_type": "code",
   "execution_count": 1,
   "metadata": {},
   "outputs": [],
   "source": [
    "import numpy as np\n",
    "import os\n",
    "from matplotlib import pyplot as plt\n",
    "import cv2\n",
    "import csv\n",
    "import pandas as pd\n",
    "import glob\n",
    "from sklearn.model_selection import train_test_split\n",
    "from sklearn.metrics import accuracy_score, precision_recall_fscore_support\n",
    "\n",
    "import tensorflow as tf\n",
    "from tensorflow import keras\n",
    "from keras.models import Sequential, Model, load_model\n",
    "from keras.layers import Conv2D #images are two dimensional. Videos are three dimension.\n",
    "from keras.layers import MaxPooling2D, Flatten, Dense, Dropout\n",
    "\n",
    "from keras.preprocessing import image\n",
    "from keras.preprocessing.image import ImageDataGenerator"
   ]
  },
  {
   "cell_type": "code",
   "execution_count": 2,
   "metadata": {},
   "outputs": [],
   "source": [
    "from keras.applications.vgg16 import VGG16\n",
    "from keras.applications.vgg16 import preprocess_input"
   ]
  },
  {
   "cell_type": "code",
   "execution_count": 3,
   "metadata": {},
   "outputs": [],
   "source": [
    "from keras.optimizers import Adam\n",
    "from datetime import datetime\n",
    "from keras.callbacks import ModelCheckpoint, EarlyStopping, ReduceLROnPlateau"
   ]
  },
  {
   "cell_type": "code",
   "execution_count": 4,
   "metadata": {},
   "outputs": [],
   "source": [
    "from auto_label import auto_label, PRECISION_SOLO"
   ]
  },
  {
   "cell_type": "code",
   "execution_count": 5,
   "metadata": {},
   "outputs": [],
   "source": [
    "def auto_label_last_201(seg_model, seg_nd, cluster_num, mode, threshold=0.5):\n",
    "    # cluster_num: the total number of clusters\n",
    "    assert mode in [1,2,3,4], \"Invalid mode: mode should be integer in [1,2,3,4].\"\n",
    "    if mode == 1:\n",
    "        assert threshold == 0.5, \"Mode 1 requires threshold = 0.5.\"\n",
    "\n",
    "    csv_file = os.path.join(os.getcwd(), 'seg_res_evaluation_csv', '{}_{}_{}.csv'.format(seg_model, seg_nd, cluster_num))\n",
    "    #df = pd.read_csv(csv_file, usecols=['slice', 'current_cluster','pore_micro_precision', 'pore_micro_f1', 'gypsum_micro_precision', 'gypsum_micro_f1', 'celestite_micro_precision', 'celestite_micro_f1', 'bassanite_micro_precision', 'bassanite_micro_f1'])\n",
    "    df = pd.read_csv(csv_file, usecols=['slice', 'current_cluster','pore_precision', 'pore_f1', 'gypsum_precision', 'gypsum_f1', 'celestite_precision', 'celestite_f1', 'bassanite_precision', 'bassanite_f1'])\n",
    "    df =  df.loc[df['slice'] >= 600]  # only use training set\n",
    "\n",
    "    label = [0]*cluster_num\n",
    "\n",
    "    for i in range(cluster_num):\n",
    "        one_cluster = df.loc[df['current_cluster'] == i]\n",
    "        stats = one_cluster.mean()\n",
    "        precisions = [stats[2], stats[4], stats[6], stats[8]]\n",
    "        fscores = [stats[3], stats[5], stats[7], stats[9]]\n",
    "        p_max = max(precisions)\n",
    "        p_idx = np.argmax(precisions)\n",
    "        f_idx = np.argmax(fscores)\n",
    "        if mode in [1,2]:\n",
    "            if p_max <= threshold:\n",
    "                idx = f_idx\n",
    "            else:\n",
    "                idx = p_idx\n",
    "        elif mode == 3:\n",
    "            idx = f_idx\n",
    "        else:\n",
    "            idx = p_idx\n",
    "            \n",
    "        class_num = idx + 1\n",
    "        label[i] = class_num\n",
    "\n",
    "    return label"
   ]
  },
  {
   "attachments": {},
   "cell_type": "markdown",
   "metadata": {},
   "source": [
    "# Data Precrocessing"
   ]
  },
  {
   "cell_type": "code",
   "execution_count": 6,
   "metadata": {},
   "outputs": [],
   "source": [
    "def get_cluster_num_str(c):\n",
    "    c = str(c).zfill(3)\n",
    "    return c"
   ]
  },
  {
   "cell_type": "code",
   "execution_count": 7,
   "metadata": {},
   "outputs": [],
   "source": [
    "# Set the target segmentation results \n",
    "res_folder = 'new_large_clusters_rec'\n",
    "seg_model = 'k-means'   # choose between 'gmm' and 'k-means'\n",
    "seg_nd = '3d'   # choose between '3d' and '4d'\n",
    "cluster_num = 16  # choose between 16, 32, 64, and 128"
   ]
  },
  {
   "attachments": {},
   "cell_type": "markdown",
   "metadata": {},
   "source": [
    "### Prepare Dataframe for Data Generator"
   ]
  },
  {
   "cell_type": "code",
   "execution_count": 8,
   "metadata": {},
   "outputs": [],
   "source": [
    "# corresponding csv file to get slice & cluster combination\n",
    "csv_file = os.path.join(os.getcwd(), 'seg_res_evaluation_csv', '{}_{}_{}.csv'.format(seg_model, seg_nd, cluster_num))\n",
    "df = pd.read_csv(csv_file, usecols = ['slice', 'current_cluster'])\n",
    "df['filename'] = df['slice'].map(str) + '\\VA10_0050_0' + df['slice'].map(str) + '_' + df['current_cluster'].map(get_cluster_num_str)  + '.rec.8bit.png'"
   ]
  },
  {
   "cell_type": "markdown",
   "metadata": {},
   "source": [
    "# missing information of 3D info about the first 201 slices\n",
    "cluster_label_one_slice = auto_label(seg_model, seg_nd, cluster_num, PRECISION_SOLO, threshold=0)\n",
    "cluster_label2 = auto_label_last_201(seg_model, seg_nd, cluster_num, PRECISION_SOLO, threshold=0)\n",
    "cluster_label2, cluster_label_one_slice"
   ]
  },
  {
   "cell_type": "code",
   "execution_count": 9,
   "metadata": {},
   "outputs": [],
   "source": [
    "# prepare labels for data generator\n",
    "cluster_label_one_slice = auto_label_last_201(seg_model, seg_nd, cluster_num, PRECISION_SOLO, threshold=0)\n",
    "cluster_label = np.array(cluster_label_one_slice*401)\n",
    "df['class'] = cluster_label\n",
    "df['class'] = df['class'].map(str)"
   ]
  },
  {
   "attachments": {},
   "cell_type": "markdown",
   "metadata": {},
   "source": [
    "### Train_Val_Test Split"
   ]
  },
  {
   "attachments": {},
   "cell_type": "markdown",
   "metadata": {},
   "source": [
    "#### V1.0 Random, ratio: 2:1:1"
   ]
  },
  {
   "cell_type": "code",
   "execution_count": 10,
   "metadata": {},
   "outputs": [],
   "source": [
    "# randomly get 200 slices from [400, 800] and them select all clusters for these slices to form a balanced training set\n",
    "slice_list = np.array(range(400, 801)) # [400,800] inclusive, 401 in total\n",
    "train_slice, other_set = train_test_split(slice_list, test_size=0.5, random_state=104)\n",
    "val_slice, test_slice = train_test_split(other_set, test_size=0.5, random_state=104)"
   ]
  },
  {
   "cell_type": "code",
   "execution_count": 10,
   "metadata": {},
   "outputs": [
    {
     "ename": "NameError",
     "evalue": "name 'train_slice' is not defined",
     "output_type": "error",
     "traceback": [
      "\u001b[1;31m---------------------------------------------------------------------------\u001b[0m",
      "\u001b[1;31mNameError\u001b[0m                                 Traceback (most recent call last)",
      "\u001b[1;32md:\\MSc-Project\\vgg_all_in_one.ipynb Cell 16\u001b[0m in \u001b[0;36m<cell line: 1>\u001b[1;34m()\u001b[0m\n\u001b[1;32m----> <a href='vscode-notebook-cell:/d%3A/MSc-Project/vgg_all_in_one.ipynb#X21sZmlsZQ%3D%3D?line=0'>1</a>\u001b[0m train_set \u001b[39m=\u001b[39m df\u001b[39m.\u001b[39mloc[df[\u001b[39m'\u001b[39m\u001b[39mslice\u001b[39m\u001b[39m'\u001b[39m]\u001b[39m.\u001b[39misin(train_slice)]\n\u001b[0;32m      <a href='vscode-notebook-cell:/d%3A/MSc-Project/vgg_all_in_one.ipynb#X21sZmlsZQ%3D%3D?line=1'>2</a>\u001b[0m train_set\u001b[39m.\u001b[39mreset_index()\n\u001b[0;32m      <a href='vscode-notebook-cell:/d%3A/MSc-Project/vgg_all_in_one.ipynb#X21sZmlsZQ%3D%3D?line=2'>3</a>\u001b[0m val_set \u001b[39m=\u001b[39m df\u001b[39m.\u001b[39mloc[df[\u001b[39m'\u001b[39m\u001b[39mslice\u001b[39m\u001b[39m'\u001b[39m]\u001b[39m.\u001b[39misin(val_slice)]\n",
      "\u001b[1;31mNameError\u001b[0m: name 'train_slice' is not defined"
     ]
    }
   ],
   "source": [
    "train_set = df.loc[df['slice'].isin(train_slice)]\n",
    "train_set.reset_index()\n",
    "val_set = df.loc[df['slice'].isin(val_slice)]\n",
    "val_set.reset_index()\n",
    "test_set = df.loc[df['slice'].isin(test_slice)]\n",
    "test_set.reset_index()"
   ]
  },
  {
   "attachments": {},
   "cell_type": "markdown",
   "metadata": {},
   "source": [
    "#### V2.0 regarding model training set: train 600-800, val 500-699, test 400-499"
   ]
  },
  {
   "cell_type": "code",
   "execution_count": 10,
   "metadata": {},
   "outputs": [
    {
     "data": {
      "text/html": [
       "<div>\n",
       "<style scoped>\n",
       "    .dataframe tbody tr th:only-of-type {\n",
       "        vertical-align: middle;\n",
       "    }\n",
       "\n",
       "    .dataframe tbody tr th {\n",
       "        vertical-align: top;\n",
       "    }\n",
       "\n",
       "    .dataframe thead th {\n",
       "        text-align: right;\n",
       "    }\n",
       "</style>\n",
       "<table border=\"1\" class=\"dataframe\">\n",
       "  <thead>\n",
       "    <tr style=\"text-align: right;\">\n",
       "      <th></th>\n",
       "      <th>index</th>\n",
       "      <th>slice</th>\n",
       "      <th>current_cluster</th>\n",
       "      <th>filename</th>\n",
       "      <th>class</th>\n",
       "    </tr>\n",
       "  </thead>\n",
       "  <tbody>\n",
       "    <tr>\n",
       "      <th>0</th>\n",
       "      <td>0</td>\n",
       "      <td>400</td>\n",
       "      <td>0</td>\n",
       "      <td>400\\VA10_0050_0400_000.rec.8bit.png</td>\n",
       "      <td>2</td>\n",
       "    </tr>\n",
       "    <tr>\n",
       "      <th>1</th>\n",
       "      <td>1</td>\n",
       "      <td>400</td>\n",
       "      <td>1</td>\n",
       "      <td>400\\VA10_0050_0400_001.rec.8bit.png</td>\n",
       "      <td>2</td>\n",
       "    </tr>\n",
       "    <tr>\n",
       "      <th>2</th>\n",
       "      <td>2</td>\n",
       "      <td>400</td>\n",
       "      <td>2</td>\n",
       "      <td>400\\VA10_0050_0400_002.rec.8bit.png</td>\n",
       "      <td>2</td>\n",
       "    </tr>\n",
       "    <tr>\n",
       "      <th>3</th>\n",
       "      <td>3</td>\n",
       "      <td>400</td>\n",
       "      <td>3</td>\n",
       "      <td>400\\VA10_0050_0400_003.rec.8bit.png</td>\n",
       "      <td>1</td>\n",
       "    </tr>\n",
       "    <tr>\n",
       "      <th>4</th>\n",
       "      <td>4</td>\n",
       "      <td>400</td>\n",
       "      <td>4</td>\n",
       "      <td>400\\VA10_0050_0400_004.rec.8bit.png</td>\n",
       "      <td>4</td>\n",
       "    </tr>\n",
       "    <tr>\n",
       "      <th>...</th>\n",
       "      <td>...</td>\n",
       "      <td>...</td>\n",
       "      <td>...</td>\n",
       "      <td>...</td>\n",
       "      <td>...</td>\n",
       "    </tr>\n",
       "    <tr>\n",
       "      <th>1595</th>\n",
       "      <td>1595</td>\n",
       "      <td>499</td>\n",
       "      <td>11</td>\n",
       "      <td>499\\VA10_0050_0499_011.rec.8bit.png</td>\n",
       "      <td>2</td>\n",
       "    </tr>\n",
       "    <tr>\n",
       "      <th>1596</th>\n",
       "      <td>1596</td>\n",
       "      <td>499</td>\n",
       "      <td>12</td>\n",
       "      <td>499\\VA10_0050_0499_012.rec.8bit.png</td>\n",
       "      <td>3</td>\n",
       "    </tr>\n",
       "    <tr>\n",
       "      <th>1597</th>\n",
       "      <td>1597</td>\n",
       "      <td>499</td>\n",
       "      <td>13</td>\n",
       "      <td>499\\VA10_0050_0499_013.rec.8bit.png</td>\n",
       "      <td>4</td>\n",
       "    </tr>\n",
       "    <tr>\n",
       "      <th>1598</th>\n",
       "      <td>1598</td>\n",
       "      <td>499</td>\n",
       "      <td>14</td>\n",
       "      <td>499\\VA10_0050_0499_014.rec.8bit.png</td>\n",
       "      <td>2</td>\n",
       "    </tr>\n",
       "    <tr>\n",
       "      <th>1599</th>\n",
       "      <td>1599</td>\n",
       "      <td>499</td>\n",
       "      <td>15</td>\n",
       "      <td>499\\VA10_0050_0499_015.rec.8bit.png</td>\n",
       "      <td>4</td>\n",
       "    </tr>\n",
       "  </tbody>\n",
       "</table>\n",
       "<p>1600 rows × 5 columns</p>\n",
       "</div>"
      ],
      "text/plain": [
       "      index  slice  current_cluster                             filename class\n",
       "0         0    400                0  400\\VA10_0050_0400_000.rec.8bit.png     2\n",
       "1         1    400                1  400\\VA10_0050_0400_001.rec.8bit.png     2\n",
       "2         2    400                2  400\\VA10_0050_0400_002.rec.8bit.png     2\n",
       "3         3    400                3  400\\VA10_0050_0400_003.rec.8bit.png     1\n",
       "4         4    400                4  400\\VA10_0050_0400_004.rec.8bit.png     4\n",
       "...     ...    ...              ...                                  ...   ...\n",
       "1595   1595    499               11  499\\VA10_0050_0499_011.rec.8bit.png     2\n",
       "1596   1596    499               12  499\\VA10_0050_0499_012.rec.8bit.png     3\n",
       "1597   1597    499               13  499\\VA10_0050_0499_013.rec.8bit.png     4\n",
       "1598   1598    499               14  499\\VA10_0050_0499_014.rec.8bit.png     2\n",
       "1599   1599    499               15  499\\VA10_0050_0499_015.rec.8bit.png     4\n",
       "\n",
       "[1600 rows x 5 columns]"
      ]
     },
     "execution_count": 10,
     "metadata": {},
     "output_type": "execute_result"
    }
   ],
   "source": [
    "val_slice = np.array(range(500, 600))\n",
    "train_set = df.loc[df['slice'] >= 600]\n",
    "train_set.reset_index()\n",
    "val_set = df.loc[df['slice'].isin(val_slice)]\n",
    "val_set.reset_index()\n",
    "test_set = df.loc[df['slice'] < 500]\n",
    "test_set.reset_index()"
   ]
  },
  {
   "attachments": {},
   "cell_type": "markdown",
   "metadata": {},
   "source": [
    "### Get Data Generator for Train/Val/Test"
   ]
  },
  {
   "cell_type": "code",
   "execution_count": 11,
   "metadata": {},
   "outputs": [
    {
     "name": "stdout",
     "output_type": "stream",
     "text": [
      "Found 3216 validated image filenames belonging to 4 classes.\n",
      "Found 1600 validated image filenames belonging to 4 classes.\n",
      "Found 1600 validated image filenames.\n"
     ]
    }
   ],
   "source": [
    "batch_size = 8\n",
    "\n",
    "# Data path: used in data generator\n",
    "base_folder = os.path.join(os.getcwd(), res_folder, seg_model, seg_nd, 'cluster_{}'.format(cluster_num))\n",
    "\n",
    "train_datagen = ImageDataGenerator(preprocessing_function=preprocess_input)\n",
    "val_datagen = ImageDataGenerator(preprocessing_function=preprocess_input)\n",
    "test_datagen = ImageDataGenerator(preprocessing_function=preprocess_input)\n",
    "\n",
    "\n",
    "train_generator = train_datagen.flow_from_dataframe(dataframe=train_set, directory=base_folder,\n",
    "                                             x_col='filename',\n",
    "                                             y_col='class',\n",
    "                                             target_size=(700, 855),\n",
    "                                             batch_size=batch_size,\n",
    "                                             shuffle=True,\n",
    "                                             class_mode='categorical',\n",
    "                                             seed=7)\n",
    "\n",
    "val_generator = val_datagen.flow_from_dataframe(dataframe=val_set, directory=base_folder,\n",
    "                                             x_col='filename',\n",
    "                                             y_col='class',\n",
    "                                             target_size=(700, 855),\n",
    "                                             batch_size=batch_size,\n",
    "                                             shuffle=True,\n",
    "                                             class_mode='categorical',\n",
    "                                             seed=7)\n",
    "\n",
    "\n",
    "test_generator = test_datagen.flow_from_dataframe(dataframe=test_set, directory=base_folder,\n",
    "                                             x_col='filename',\n",
    "                                             y_col=None,\n",
    "                                             target_size=(700, 855),\n",
    "                                             batch_size=batch_size,\n",
    "                                             shuffle=False,\n",
    "                                             class_mode=None,\n",
    "                                             seed=7\n",
    "                                             )"
   ]
  },
  {
   "attachments": {},
   "cell_type": "markdown",
   "metadata": {},
   "source": [
    "# Model"
   ]
  },
  {
   "cell_type": "code",
   "execution_count": 12,
   "metadata": {},
   "outputs": [
    {
     "name": "stdout",
     "output_type": "stream",
     "text": [
      "Model: \"model\"\n",
      "_________________________________________________________________\n",
      " Layer (type)                Output Shape              Param #   \n",
      "=================================================================\n",
      " input_1 (InputLayer)        [(None, 700, 855, 3)]     0         \n",
      "                                                                 \n",
      " block1_conv1 (Conv2D)       (None, 700, 855, 64)      1792      \n",
      "                                                                 \n",
      " block1_conv2 (Conv2D)       (None, 700, 855, 64)      36928     \n",
      "                                                                 \n",
      " block1_pool (MaxPooling2D)  (None, 350, 427, 64)      0         \n",
      "                                                                 \n",
      " block2_conv1 (Conv2D)       (None, 350, 427, 128)     73856     \n",
      "                                                                 \n",
      " block2_conv2 (Conv2D)       (None, 350, 427, 128)     147584    \n",
      "                                                                 \n",
      " block2_pool (MaxPooling2D)  (None, 175, 213, 128)     0         \n",
      "                                                                 \n",
      " block3_conv1 (Conv2D)       (None, 175, 213, 256)     295168    \n",
      "                                                                 \n",
      " block3_conv2 (Conv2D)       (None, 175, 213, 256)     590080    \n",
      "                                                                 \n",
      " block3_conv3 (Conv2D)       (None, 175, 213, 256)     590080    \n",
      "                                                                 \n",
      " block3_pool (MaxPooling2D)  (None, 87, 106, 256)      0         \n",
      "                                                                 \n",
      " block4_conv1 (Conv2D)       (None, 87, 106, 512)      1180160   \n",
      "                                                                 \n",
      " block4_conv2 (Conv2D)       (None, 87, 106, 512)      2359808   \n",
      "                                                                 \n",
      " block4_conv3 (Conv2D)       (None, 87, 106, 512)      2359808   \n",
      "                                                                 \n",
      " block4_pool (MaxPooling2D)  (None, 43, 53, 512)       0         \n",
      "                                                                 \n",
      " block5_conv1 (Conv2D)       (None, 43, 53, 512)       2359808   \n",
      "                                                                 \n",
      " block5_conv2 (Conv2D)       (None, 43, 53, 512)       2359808   \n",
      "                                                                 \n",
      " block5_conv3 (Conv2D)       (None, 43, 53, 512)       2359808   \n",
      "                                                                 \n",
      " block5_pool (MaxPooling2D)  (None, 21, 26, 512)       0         \n",
      "                                                                 \n",
      " flatten (Flatten)           (None, 279552)            0         \n",
      "                                                                 \n",
      " dense (Dense)               (None, 4096)              1145049088\n",
      "                                                                 \n",
      " dense_1 (Dense)             (None, 4096)              16781312  \n",
      "                                                                 \n",
      " dropout (Dropout)           (None, 4096)              0         \n",
      "                                                                 \n",
      " dense_2 (Dense)             (None, 4)                 16388     \n",
      "                                                                 \n",
      "=================================================================\n",
      "Total params: 1,176,561,476\n",
      "Trainable params: 1,161,846,788\n",
      "Non-trainable params: 14,714,688\n",
      "_________________________________________________________________\n"
     ]
    }
   ],
   "source": [
    "vgg16_model = VGG16(include_top=False, input_shape=(700, 855, 3))\n",
    "for layer in vgg16_model.layers:\n",
    "    layer.trainable = False\n",
    "x = Flatten()(vgg16_model.output)\n",
    "x = Dense(4096, activation='relu')(x)\n",
    "x = Dense(4096, activation='relu')(x)\n",
    "x = Dropout(0.2)(x)\n",
    "prediction = Dense(4, activation='softmax')(x)\n",
    "model = Model(inputs=vgg16_model.input, outputs=prediction)\n",
    "model.summary()"
   ]
  },
  {
   "attachments": {},
   "cell_type": "markdown",
   "metadata": {},
   "source": [
    "# Training \n",
    "\n",
    "Skip if model already trained; Go to next session 'Load Model'"
   ]
  },
  {
   "cell_type": "code",
   "execution_count": 13,
   "metadata": {},
   "outputs": [],
   "source": [
    "STEP_SIZE_TRAIN=train_generator.n//train_generator.batch_size\n",
    "STEP_SIZE_VALID=val_generator.n//val_generator.batch_size\n",
    "STEP_SIZE_TEST=test_generator.n//test_generator.batch_size"
   ]
  },
  {
   "cell_type": "code",
   "execution_count": 14,
   "metadata": {},
   "outputs": [
    {
     "name": "stdout",
     "output_type": "stream",
     "text": [
      "WARNING:tensorflow:`epsilon` argument is deprecated and will be removed, use `min_delta` instead.\n"
     ]
    }
   ],
   "source": [
    "#model_name = 'vgg16_201based_models\\{}_{}_{}_vgg16.h5'.format(seg_model, seg_nd, cluster_num)\n",
    "model_name = 'vgg_201_aligned_model\\{}_{}_{}_vgg16_non_trainable_fc.h5'.format(seg_model, seg_nd, cluster_num)\n",
    "earlystop = EarlyStopping(monitor='val_loss', patience=7, verbose=0, mode='min',restore_best_weights=True)\n",
    "reduce_lr_loss = ReduceLROnPlateau(monitor='val_loss', factor=0.1, patience=5, verbose=1, epsilon=1e-4, mode='min')\n",
    "\n",
    "model.compile(optimizer=Adam(learning_rate=0.0001), loss='categorical_crossentropy', metrics=['accuracy'])\n",
    "checkpoint = ModelCheckpoint(model_name, save_best_only=True, monitor='val_loss', mode='min')\n",
    "callbacks = [checkpoint, earlystop, reduce_lr_loss]"
   ]
  },
  {
   "attachments": {},
   "cell_type": "markdown",
   "metadata": {},
   "source": [
    "mlp model has to use batch size 4 to successfully run; vgg16 nontrainable/trainable without fully connection would use batch size 16; vgg16 nontrainable with fully connected has to reduce to 8."
   ]
  },
  {
   "cell_type": "code",
   "execution_count": 15,
   "metadata": {},
   "outputs": [
    {
     "name": "stdout",
     "output_type": "stream",
     "text": [
      "Epoch 1/50\n"
     ]
    },
    {
     "name": "stderr",
     "output_type": "stream",
     "text": [
      "C:\\Users\\s1923493\\AppData\\Local\\Temp\\ipykernel_21520\\4189160232.py:2: UserWarning: `Model.fit_generator` is deprecated and will be removed in a future version. Please use `Model.fit`, which supports generators.\n",
      "  model_history = model.fit_generator(generator=train_generator,\n"
     ]
    },
    {
     "name": "stdout",
     "output_type": "stream",
     "text": [
      "402/402 [==============================] - 235s 567ms/step - loss: 1.9172 - accuracy: 0.9698 - val_loss: 2.6853 - val_accuracy: 0.9444 - lr: 1.0000e-04\n",
      "Epoch 2/50\n",
      "402/402 [==============================] - 207s 516ms/step - loss: 1.3715e-09 - accuracy: 1.0000 - val_loss: 2.6851 - val_accuracy: 0.9444 - lr: 1.0000e-04\n",
      "Epoch 3/50\n",
      "402/402 [==============================] - 201s 502ms/step - loss: 5.5601e-10 - accuracy: 1.0000 - val_loss: 2.6849 - val_accuracy: 0.9444 - lr: 1.0000e-04\n",
      "Epoch 4/50\n",
      "402/402 [==============================] - 126s 314ms/step - loss: 2.2734 - accuracy: 0.9854 - val_loss: 22.9265 - val_accuracy: 0.9381 - lr: 1.0000e-04\n",
      "Epoch 5/50\n",
      "402/402 [==============================] - 128s 319ms/step - loss: 0.2501 - accuracy: 0.9972 - val_loss: 38.4164 - val_accuracy: 0.8494 - lr: 1.0000e-04\n",
      "Epoch 6/50\n",
      "402/402 [==============================] - 128s 319ms/step - loss: 0.5090 - accuracy: 0.9969 - val_loss: 22.6384 - val_accuracy: 0.9300 - lr: 1.0000e-04\n",
      "Epoch 7/50\n",
      "402/402 [==============================] - 128s 319ms/step - loss: 0.0164 - accuracy: 0.9997 - val_loss: 23.5993 - val_accuracy: 0.8819 - lr: 1.0000e-04\n",
      "Epoch 8/50\n",
      "402/402 [==============================] - ETA: 0s - loss: 0.0000e+00 - accuracy: 1.0000\n",
      "Epoch 8: ReduceLROnPlateau reducing learning rate to 9.999999747378752e-06.\n",
      "402/402 [==============================] - 128s 318ms/step - loss: 0.0000e+00 - accuracy: 1.0000 - val_loss: 23.5993 - val_accuracy: 0.8819 - lr: 1.0000e-04\n",
      "Epoch 9/50\n",
      "402/402 [==============================] - 128s 318ms/step - loss: 0.0000e+00 - accuracy: 1.0000 - val_loss: 23.5993 - val_accuracy: 0.8819 - lr: 1.0000e-05\n",
      "Epoch 10/50\n",
      "402/402 [==============================] - 128s 319ms/step - loss: 0.0000e+00 - accuracy: 1.0000 - val_loss: 23.5993 - val_accuracy: 0.8819 - lr: 1.0000e-05\n",
      "Training time:  0:25:38.784483\n"
     ]
    }
   ],
   "source": [
    "start = datetime.now()\n",
    "model_history = model.fit_generator(generator=train_generator,\n",
    "                    steps_per_epoch=STEP_SIZE_TRAIN,\n",
    "                    validation_data=val_generator,\n",
    "                    validation_steps=STEP_SIZE_VALID,\n",
    "                    epochs=50,\n",
    "                    callbacks=callbacks, verbose=1)\n",
    "\n",
    "duration = datetime.now() - start\n",
    "print(\"Training time: \", duration)"
   ]
  },
  {
   "attachments": {},
   "cell_type": "markdown",
   "metadata": {},
   "source": [
    "# Load Trained Model"
   ]
  },
  {
   "cell_type": "code",
   "execution_count": null,
   "metadata": {},
   "outputs": [],
   "source": [
    "model_name = 'vgg_201_aligned_model\\k-means_3d_{}_vgg16_non_trainable_fc.h5'.format(cluster_num)\n",
    "model = load_model(model_name)"
   ]
  },
  {
   "attachments": {},
   "cell_type": "markdown",
   "metadata": {},
   "source": [
    "# Evaluation & Tests"
   ]
  },
  {
   "cell_type": "code",
   "execution_count": 16,
   "metadata": {},
   "outputs": [
    {
     "name": "stdout",
     "output_type": "stream",
     "text": [
      "200/200 [==============================] - 34s 167ms/step\n"
     ]
    }
   ],
   "source": [
    "test_generator.reset()\n",
    "pred=model.predict(test_generator,\n",
    "                             steps=STEP_SIZE_TEST,\n",
    "                             verbose=1)"
   ]
  },
  {
   "cell_type": "code",
   "execution_count": 18,
   "metadata": {},
   "outputs": [
    {
     "data": {
      "text/plain": [
       "array([[5.4025583e-26, 1.0000000e+00, 0.0000000e+00, 6.2136481e-22],\n",
       "       [1.2198054e-04, 3.4957742e-05, 9.9982750e-01, 1.5521593e-05],\n",
       "       [9.9999201e-01, 7.4633431e-06, 0.0000000e+00, 4.2896013e-07],\n",
       "       ...,\n",
       "       [3.0132676e-12, 1.0000000e+00, 1.1441091e-34, 4.9777465e-10],\n",
       "       [1.2707151e-27, 1.0000000e+00, 0.0000000e+00, 3.8714437e-20],\n",
       "       [4.8700044e-24, 6.5656660e-17, 0.0000000e+00, 1.0000000e+00]],\n",
       "      dtype=float32)"
      ]
     },
     "execution_count": 18,
     "metadata": {},
     "output_type": "execute_result"
    }
   ],
   "source": [
    "pred"
   ]
  },
  {
   "cell_type": "code",
   "execution_count": 17,
   "metadata": {},
   "outputs": [
    {
     "name": "stdout",
     "output_type": "stream",
     "text": [
      "Test Accuracy:  0.880625\n",
      "[0.988      0.85561497 1.         0.83333333] [0.82333333 1.         0.97       0.6625    ] [0.89818182 0.9221902  0.98477157 0.73816156]\n",
      "macro-averaged of 4 classes:\n",
      "0.9192370766488414 0.8858262883508913 0.8858262883508913\n",
      "macro-averaged of 3 classes:\n",
      "0.8923161021984551 0.8528445265998349 0.8528445265998349\n"
     ]
    }
   ],
   "source": [
    "predicted_class_indices = np.argmax(pred,axis=1) + 1 # because the class 0 is now used for those undecided pixels\n",
    "# test_df = test_set.reset_index()\n",
    "# test_df['vgg16_predict'] = pd.Series(predicted_class_indices)\n",
    "#\"\"\"need to test the function below first\"\"\"\n",
    "gold_label = test_set['class'].map(int)\n",
    "gold_label = gold_label.to_numpy()\n",
    "p, r, f1, _ = precision_recall_fscore_support(gold_label, predicted_class_indices, average=None, labels=[1,2,3,4])\n",
    "acc = accuracy_score(gold_label, predicted_class_indices)\n",
    "print(\"Test Accuracy: \", acc)\n",
    "print(p, r, f1)\n",
    "macro_p, macro_r, macro_f, _ = precision_recall_fscore_support(gold_label, predicted_class_indices, average='macro', labels=[1,2,3,4])\n",
    "macro_p3, macro_r3, macro_f3, _ = precision_recall_fscore_support(gold_label, predicted_class_indices, average='macro', labels=[1,2,4])\n",
    "micro_p, micro_r, micro_f, _ = precision_recall_fscore_support(gold_label, predicted_class_indices, average='micro', labels=[1,2,3,4])\n",
    "micro_p3, micro_r3, micro_f3, _ = precision_recall_fscore_support(gold_label, predicted_class_indices, average='micro', labels=[1,2,4])\n",
    "print(\"macro-averaged of 4 classes:\")\n",
    "print(macro_p, macro_r, macro_f)\n",
    "print(\"macro-averaged of 3 classes:\")\n",
    "print(macro_p3, macro_r3, macro_f3)"
   ]
  },
  {
   "attachments": {},
   "cell_type": "markdown",
   "metadata": {},
   "source": [
    "# Plots"
   ]
  },
  {
   "cell_type": "code",
   "execution_count": 18,
   "metadata": {},
   "outputs": [
    {
     "name": "stdout",
     "output_type": "stream",
     "text": [
      "dict_keys(['loss', 'accuracy', 'val_loss', 'val_accuracy', 'lr'])\n"
     ]
    }
   ],
   "source": [
    "# list all data in history\n",
    "print(model_history.history.keys())"
   ]
  },
  {
   "cell_type": "code",
   "execution_count": 18,
   "metadata": {},
   "outputs": [],
   "source": [
    "img_folder = os.path.join('report_images', 'model_plots', 'vgg16_aligned')"
   ]
  },
  {
   "cell_type": "code",
   "execution_count": 19,
   "metadata": {},
   "outputs": [
    {
     "data": {
      "image/png": "[encoded data removed]",
      "text/plain": [
       "<Figure size 432x288 with 1 Axes>"
      ]
     },
     "metadata": {
      "needs_background": "light"
     },
     "output_type": "display_data"
    }
   ],
   "source": [
    "# summarize history for accuracy\n",
    "acc_img = os.path.join(img_folder, '{}_{}_{}_vgg_full_201_acc.pdf'.format(seg_model, seg_nd, cluster_num))\n",
    "plt.plot(model_history.history['accuracy'])\n",
    "plt.plot(model_history.history['val_accuracy'])\n",
    "plt.title('model accuracy')\n",
    "plt.ylabel('accuracy')\n",
    "plt.xlabel('epoch')\n",
    "plt.legend(['train', 'val'], loc='upper left')\n",
    "plt.savefig(acc_img)\n",
    "plt.show()"
   ]
  },
  {
   "cell_type": "code",
   "execution_count": 20,
   "metadata": {},
   "outputs": [
    {
     "data": {
      "image/png": "[encoded data removed]",
      "text/plain": [
       "<Figure size 432x288 with 1 Axes>"
      ]
     },
     "metadata": {
      "needs_background": "light"
     },
     "output_type": "display_data"
    }
   ],
   "source": [
    "# summarize history for loss\n",
    "loss_img = os.path.join(img_folder, '{}_{}_{}_vgg_full_201_loss.pdf'.format(seg_model, seg_nd, cluster_num))\n",
    "plt.plot(model_history.history['loss'])\n",
    "plt.plot(model_history.history['val_loss'])\n",
    "plt.title('model loss')\n",
    "plt.ylabel('loss')\n",
    "plt.xlabel('epoch')\n",
    "plt.legend(['train', 'val'], loc='upper left')\n",
    "plt.savefig(loss_img)\n",
    "plt.show()"
   ]
  },
  {
   "cell_type": "code",
   "execution_count": 21,
   "metadata": {},
   "outputs": [],
   "source": [
    "from sklearn.metrics import confusion_matrix\n",
    "from mlxtend.plotting import plot_confusion_matrix"
   ]
  },
  {
   "cell_type": "code",
   "execution_count": 22,
   "metadata": {},
   "outputs": [
    {
     "data": {
      "image/png": "[encoded data removed]",
      "text/plain": [
       "<Figure size 432x288 with 2 Axes>"
      ]
     },
     "metadata": {
      "needs_background": "light"
     },
     "output_type": "display_data"
    }
   ],
   "source": [
    "cm_img = os.path.join(img_folder, '{}_{}_{}_vgg_full_201_cm.pdf'.format(seg_model, seg_nd, cluster_num))\n",
    "cm  = confusion_matrix(gold_label, predicted_class_indices, labels=[1,2,3,4])\n",
    "class_name = ['pore', 'gypsum', 'celestite', 'bassanite']\n",
    "fig, ax = plot_confusion_matrix(conf_mat=cm, colorbar=True, show_absolute=True, show_normed=True, cmap=plt.cm.Blues, class_names=class_name)\n",
    "# plt.xlabel('Predictions', fontsize=16)\n",
    "# plt.ylabel('Actuals', fontsize=16)\n",
    "plt.title('VGG16 Cluster_{}'.format(cluster_num), fontsize=15)\n",
    "plt.savefig(cm_img)\n",
    "plt.show()\n"
   ]
  },
  {
   "attachments": {},
   "cell_type": "markdown",
   "metadata": {},
   "source": [
    "# Test on results from other cluster num"
   ]
  },
  {
   "attachments": {},
   "cell_type": "markdown",
   "metadata": {},
   "source": [
    "### Prepare label"
   ]
  },
  {
   "cell_type": "code",
   "execution_count": 41,
   "metadata": {},
   "outputs": [],
   "source": [
    "other_cluster_num = 128"
   ]
  },
  {
   "cell_type": "code",
   "execution_count": 42,
   "metadata": {},
   "outputs": [],
   "source": [
    "# corresponding csv file to get slice & cluster combination\n",
    "csv_file = os.path.join(os.getcwd(), 'seg_res_evaluation_csv', '{}_{}_{}.csv'.format(seg_model, seg_nd, other_cluster_num))\n",
    "df = pd.read_csv(csv_file, usecols = ['slice', 'current_cluster'])\n",
    "df['filename'] = df['slice'].map(str) + '\\VA10_0050_0' + df['slice'].map(str) + '_' + df['current_cluster'].map(get_cluster_num_str)  + '.rec.8bit.png'"
   ]
  },
  {
   "cell_type": "code",
   "execution_count": 43,
   "metadata": {},
   "outputs": [],
   "source": [
    "# prepare labels for data generator\n",
    "cluster_label_one_slice = auto_label_last_201(seg_model, seg_nd, other_cluster_num, PRECISION_SOLO, threshold=0)\n",
    "cluster_label = np.array(cluster_label_one_slice*401)\n",
    "df['class'] = cluster_label\n",
    "df['class'] = df['class'].map(str)"
   ]
  },
  {
   "cell_type": "code",
   "execution_count": 44,
   "metadata": {},
   "outputs": [
    {
     "data": {
      "text/html": [
       "<div>\n",
       "<style scoped>\n",
       "    .dataframe tbody tr th:only-of-type {\n",
       "        vertical-align: middle;\n",
       "    }\n",
       "\n",
       "    .dataframe tbody tr th {\n",
       "        vertical-align: top;\n",
       "    }\n",
       "\n",
       "    .dataframe thead th {\n",
       "        text-align: right;\n",
       "    }\n",
       "</style>\n",
       "<table border=\"1\" class=\"dataframe\">\n",
       "  <thead>\n",
       "    <tr style=\"text-align: right;\">\n",
       "      <th></th>\n",
       "      <th>index</th>\n",
       "      <th>slice</th>\n",
       "      <th>current_cluster</th>\n",
       "      <th>filename</th>\n",
       "      <th>class</th>\n",
       "    </tr>\n",
       "  </thead>\n",
       "  <tbody>\n",
       "    <tr>\n",
       "      <th>0</th>\n",
       "      <td>0</td>\n",
       "      <td>400</td>\n",
       "      <td>0</td>\n",
       "      <td>400\\VA10_0050_0400_000.rec.8bit.png</td>\n",
       "      <td>2</td>\n",
       "    </tr>\n",
       "    <tr>\n",
       "      <th>1</th>\n",
       "      <td>1</td>\n",
       "      <td>400</td>\n",
       "      <td>1</td>\n",
       "      <td>400\\VA10_0050_0400_001.rec.8bit.png</td>\n",
       "      <td>4</td>\n",
       "    </tr>\n",
       "    <tr>\n",
       "      <th>2</th>\n",
       "      <td>2</td>\n",
       "      <td>400</td>\n",
       "      <td>2</td>\n",
       "      <td>400\\VA10_0050_0400_002.rec.8bit.png</td>\n",
       "      <td>2</td>\n",
       "    </tr>\n",
       "    <tr>\n",
       "      <th>3</th>\n",
       "      <td>3</td>\n",
       "      <td>400</td>\n",
       "      <td>3</td>\n",
       "      <td>400\\VA10_0050_0400_003.rec.8bit.png</td>\n",
       "      <td>2</td>\n",
       "    </tr>\n",
       "    <tr>\n",
       "      <th>4</th>\n",
       "      <td>4</td>\n",
       "      <td>400</td>\n",
       "      <td>4</td>\n",
       "      <td>400\\VA10_0050_0400_004.rec.8bit.png</td>\n",
       "      <td>4</td>\n",
       "    </tr>\n",
       "    <tr>\n",
       "      <th>...</th>\n",
       "      <td>...</td>\n",
       "      <td>...</td>\n",
       "      <td>...</td>\n",
       "      <td>...</td>\n",
       "      <td>...</td>\n",
       "    </tr>\n",
       "    <tr>\n",
       "      <th>12795</th>\n",
       "      <td>12795</td>\n",
       "      <td>499</td>\n",
       "      <td>123</td>\n",
       "      <td>499\\VA10_0050_0499_123.rec.8bit.png</td>\n",
       "      <td>2</td>\n",
       "    </tr>\n",
       "    <tr>\n",
       "      <th>12796</th>\n",
       "      <td>12796</td>\n",
       "      <td>499</td>\n",
       "      <td>124</td>\n",
       "      <td>499\\VA10_0050_0499_124.rec.8bit.png</td>\n",
       "      <td>2</td>\n",
       "    </tr>\n",
       "    <tr>\n",
       "      <th>12797</th>\n",
       "      <td>12797</td>\n",
       "      <td>499</td>\n",
       "      <td>125</td>\n",
       "      <td>499\\VA10_0050_0499_125.rec.8bit.png</td>\n",
       "      <td>1</td>\n",
       "    </tr>\n",
       "    <tr>\n",
       "      <th>12798</th>\n",
       "      <td>12798</td>\n",
       "      <td>499</td>\n",
       "      <td>126</td>\n",
       "      <td>499\\VA10_0050_0499_126.rec.8bit.png</td>\n",
       "      <td>4</td>\n",
       "    </tr>\n",
       "    <tr>\n",
       "      <th>12799</th>\n",
       "      <td>12799</td>\n",
       "      <td>499</td>\n",
       "      <td>127</td>\n",
       "      <td>499\\VA10_0050_0499_127.rec.8bit.png</td>\n",
       "      <td>4</td>\n",
       "    </tr>\n",
       "  </tbody>\n",
       "</table>\n",
       "<p>12800 rows × 5 columns</p>\n",
       "</div>"
      ],
      "text/plain": [
       "       index  slice  current_cluster                             filename  \\\n",
       "0          0    400                0  400\\VA10_0050_0400_000.rec.8bit.png   \n",
       "1          1    400                1  400\\VA10_0050_0400_001.rec.8bit.png   \n",
       "2          2    400                2  400\\VA10_0050_0400_002.rec.8bit.png   \n",
       "3          3    400                3  400\\VA10_0050_0400_003.rec.8bit.png   \n",
       "4          4    400                4  400\\VA10_0050_0400_004.rec.8bit.png   \n",
       "...      ...    ...              ...                                  ...   \n",
       "12795  12795    499              123  499\\VA10_0050_0499_123.rec.8bit.png   \n",
       "12796  12796    499              124  499\\VA10_0050_0499_124.rec.8bit.png   \n",
       "12797  12797    499              125  499\\VA10_0050_0499_125.rec.8bit.png   \n",
       "12798  12798    499              126  499\\VA10_0050_0499_126.rec.8bit.png   \n",
       "12799  12799    499              127  499\\VA10_0050_0499_127.rec.8bit.png   \n",
       "\n",
       "      class  \n",
       "0         2  \n",
       "1         4  \n",
       "2         2  \n",
       "3         2  \n",
       "4         4  \n",
       "...     ...  \n",
       "12795     2  \n",
       "12796     2  \n",
       "12797     1  \n",
       "12798     4  \n",
       "12799     4  \n",
       "\n",
       "[12800 rows x 5 columns]"
      ]
     },
     "execution_count": 44,
     "metadata": {},
     "output_type": "execute_result"
    }
   ],
   "source": [
    "test_set = df.loc[df['slice'] < 500]\n",
    "test_set.reset_index()"
   ]
  },
  {
   "attachments": {},
   "cell_type": "markdown",
   "metadata": {},
   "source": [
    "### Prepare data"
   ]
  },
  {
   "cell_type": "code",
   "execution_count": 45,
   "metadata": {},
   "outputs": [
    {
     "name": "stdout",
     "output_type": "stream",
     "text": [
      "Found 12800 validated image filenames.\n"
     ]
    }
   ],
   "source": [
    "batch_size = 8\n",
    "\n",
    "# Data path: used in data generator\n",
    "base_folder = os.path.join(os.getcwd(), res_folder, seg_model, seg_nd, 'cluster_{}'.format(other_cluster_num))\n",
    "\n",
    "other_test_datagen = ImageDataGenerator(preprocessing_function=preprocess_input)\n",
    "other_test_generator = other_test_datagen.flow_from_dataframe(dataframe=test_set, directory=base_folder,\n",
    "                                             x_col='filename',\n",
    "                                             y_col=None,\n",
    "                                             target_size=(700, 855),\n",
    "                                             batch_size=batch_size,\n",
    "                                             shuffle=False,\n",
    "                                             class_mode=None,\n",
    "                                             seed=7\n",
    "                                             )"
   ]
  },
  {
   "attachments": {},
   "cell_type": "markdown",
   "metadata": {},
   "source": [
    "### Load model and test"
   ]
  },
  {
   "cell_type": "code",
   "execution_count": null,
   "metadata": {},
   "outputs": [],
   "source": [
    "model_name = '{}_{}_{}_vgg16.h5'.format(seg_model, seg_nd, cluster_num)\n",
    "model = load_model(model_name)"
   ]
  },
  {
   "cell_type": "code",
   "execution_count": 46,
   "metadata": {},
   "outputs": [],
   "source": [
    "STEP_SIZE_TEST=other_test_generator.n//other_test_generator.batch_size"
   ]
  },
  {
   "cell_type": "code",
   "execution_count": 47,
   "metadata": {},
   "outputs": [
    {
     "name": "stdout",
     "output_type": "stream",
     "text": [
      "1600/1600 [==============================] - 277s 173ms/step\n"
     ]
    }
   ],
   "source": [
    "other_test_generator.reset()\n",
    "pred=model.predict(other_test_generator,\n",
    "                             steps=STEP_SIZE_TEST,\n",
    "                             verbose=1)"
   ]
  },
  {
   "attachments": {},
   "cell_type": "markdown",
   "metadata": {},
   "source": [
    "## Stats for apply on cluster 128"
   ]
  },
  {
   "cell_type": "code",
   "execution_count": 48,
   "metadata": {},
   "outputs": [
    {
     "name": "stdout",
     "output_type": "stream",
     "text": [
      "Test Accuracy:  0.6675\n",
      "[0.38395002 0.93261408 1.         0.95892351] [0.99875    0.86442623 0.985      0.16512195] [0.55466852 0.89722648 0.99244332 0.28173117]\n",
      "macro-averaged of 4 classes:\n",
      "0.8188719038258152 0.6815173720694072 0.6815173720694072\n",
      "macro-averaged of 3 classes:\n",
      "0.7584958717677536 0.5778753877802004 0.5778753877802004\n"
     ]
    }
   ],
   "source": [
    "predicted_class_indices = np.argmax(pred,axis=1) + 1 # because the class 0 is now used for those undecided pixels\n",
    "# test_df = test_set.reset_index()\n",
    "# test_df['vgg16_predict'] = pd.Series(predicted_class_indices)\n",
    "#\"\"\"need to test the function below first\"\"\"\n",
    "gold_label = test_set['class'].map(int)\n",
    "gold_label = gold_label.to_numpy()\n",
    "p, r, f1, _ = precision_recall_fscore_support(gold_label, predicted_class_indices, average=None, labels=[1,2,3,4])\n",
    "acc = accuracy_score(gold_label, predicted_class_indices)\n",
    "print(\"Test Accuracy: \", acc)\n",
    "print(p, r, f1)\n",
    "macro_p, macro_r, macro_f, _ = precision_recall_fscore_support(gold_label, predicted_class_indices, average='macro', labels=[1,2,3,4])\n",
    "macro_p3, macro_r3, macro_f3, _ = precision_recall_fscore_support(gold_label, predicted_class_indices, average='macro', labels=[1,2,4])\n",
    "micro_p, micro_r, micro_f, _ = precision_recall_fscore_support(gold_label, predicted_class_indices, average='micro', labels=[1,2,3,4])\n",
    "micro_p3, micro_r3, micro_f3, _ = precision_recall_fscore_support(gold_label, predicted_class_indices, average='micro', labels=[1,2,4])\n",
    "print(\"macro-averaged of 4 classes:\")\n",
    "print(macro_p, macro_r, macro_f)\n",
    "print(\"macro-averaged of 3 classes:\")\n",
    "print(macro_p3, macro_r3, macro_f3)"
   ]
  },
  {
   "cell_type": "code",
   "execution_count": 49,
   "metadata": {},
   "outputs": [
    {
     "data": {
      "image/png": "[encoded data removed]",
      "text/plain": [
       "<Figure size 432x288 with 2 Axes>"
      ]
     },
     "metadata": {
      "needs_background": "light"
     },
     "output_type": "display_data"
    }
   ],
   "source": [
    "cm_img = os.path.join(img_folder, '{}_{}_{}_vgg_full_201_cm.pdf'.format(seg_model, seg_nd, other_cluster_num))\n",
    "cm  = confusion_matrix(gold_label, predicted_class_indices, labels=[1,2,3,4])\n",
    "class_name = ['pore', 'gypsum', 'celestite', 'bassanite']\n",
    "fig, ax = plot_confusion_matrix(conf_mat=cm, colorbar=True, show_absolute=True, show_normed=True, cmap=plt.cm.Blues, class_names=class_name)\n",
    "# plt.xlabel('Predictions', fontsize=16)\n",
    "# plt.ylabel('Actuals', fontsize=16)\n",
    "plt.title('Confusion Matrix', fontsize=18)\n",
    "#plt.savefig(cm_img)\n",
    "plt.show()"
   ]
  },
  {
   "attachments": {},
   "cell_type": "markdown",
   "metadata": {},
   "source": [
    "## Stats for apply on cluster 64"
   ]
  },
  {
   "cell_type": "code",
   "execution_count": 39,
   "metadata": {},
   "outputs": [
    {
     "name": "stdout",
     "output_type": "stream",
     "text": [
      "Test Accuracy:  0.83\n",
      "[0.61781377 0.98522167 1.         0.9120603 ] [0.95375    0.89655172 0.97       0.605     ] [0.74987715 0.93879762 0.98477157 0.72745491]\n",
      "macro-averaged of 4 classes:\n",
      "0.8787739353916428 0.8502253125498018 0.8502253125498018\n",
      "macro-averaged of 3 classes:\n",
      "0.8383652471888571 0.8053765588650487 0.8053765588650487\n"
     ]
    }
   ],
   "source": [
    "predicted_class_indices = np.argmax(pred,axis=1) + 1 # because the class 0 is now used for those undecided pixels\n",
    "# test_df = test_set.reset_index()\n",
    "# test_df['vgg16_predict'] = pd.Series(predicted_class_indices)\n",
    "#\"\"\"need to test the function below first\"\"\"\n",
    "gold_label = test_set['class'].map(int)\n",
    "gold_label = gold_label.to_numpy()\n",
    "p, r, f1, _ = precision_recall_fscore_support(gold_label, predicted_class_indices, average=None, labels=[1,2,3,4])\n",
    "acc = accuracy_score(gold_label, predicted_class_indices)\n",
    "print(\"Test Accuracy: \", acc)\n",
    "print(p, r, f1)\n",
    "macro_p, macro_r, macro_f, _ = precision_recall_fscore_support(gold_label, predicted_class_indices, average='macro', labels=[1,2,3,4])\n",
    "macro_p3, macro_r3, macro_f3, _ = precision_recall_fscore_support(gold_label, predicted_class_indices, average='macro', labels=[1,2,4])\n",
    "micro_p, micro_r, micro_f, _ = precision_recall_fscore_support(gold_label, predicted_class_indices, average='micro', labels=[1,2,3,4])\n",
    "micro_p3, micro_r3, micro_f3, _ = precision_recall_fscore_support(gold_label, predicted_class_indices, average='micro', labels=[1,2,4])\n",
    "print(\"macro-averaged of 4 classes:\")\n",
    "print(macro_p, macro_r, macro_f)\n",
    "print(\"macro-averaged of 3 classes:\")\n",
    "print(macro_p3, macro_r3, macro_f3)"
   ]
  },
  {
   "cell_type": "code",
   "execution_count": 40,
   "metadata": {},
   "outputs": [
    {
     "data": {
      "image/png": "[encoded data removed]",
      "text/plain": [
       "<Figure size 432x288 with 2 Axes>"
      ]
     },
     "metadata": {
      "needs_background": "light"
     },
     "output_type": "display_data"
    }
   ],
   "source": [
    "cm_img = os.path.join(img_folder, '{}_{}_{}_vgg_full_201_cm.pdf'.format(seg_model, seg_nd, other_cluster_num))\n",
    "cm  = confusion_matrix(gold_label, predicted_class_indices, labels=[1,2,3,4])\n",
    "class_name = ['pore', 'gypsum', 'celestite', 'bassanite']\n",
    "fig, ax = plot_confusion_matrix(conf_mat=cm, colorbar=True, show_absolute=True, show_normed=True, cmap=plt.cm.Blues, class_names=class_name)\n",
    "# plt.xlabel('Predictions', fontsize=16)\n",
    "# plt.ylabel('Actuals', fontsize=16)\n",
    "plt.title('Confusion Matrix', fontsize=18)\n",
    "#plt.savefig(cm_img)\n",
    "plt.show()"
   ]
  },
  {
   "attachments": {},
   "cell_type": "markdown",
   "metadata": {},
   "source": [
    "## Stats for apply on cluster 32"
   ]
  },
  {
   "cell_type": "code",
   "execution_count": 30,
   "metadata": {},
   "outputs": [
    {
     "name": "stdout",
     "output_type": "stream",
     "text": [
      "Test Accuracy:  0.8546875\n",
      "[0.81944444 0.92649784 1.         0.7257485 ] [0.75857143 0.9375     0.98       0.7575    ] [0.78783383 0.93196645 0.98989899 0.7412844 ]\n",
      "macro-averaged of 4 classes:\n",
      "0.8679226964025418 0.8627459176674295 0.8627459176674295\n",
      "macro-averaged of 3 classes:\n",
      "0.8238969285367225 0.8203615602569094 0.8203615602569094\n"
     ]
    }
   ],
   "source": [
    "predicted_class_indices = np.argmax(pred,axis=1) + 1 # because the class 0 is now used for those undecided pixels\n",
    "# test_df = test_set.reset_index()\n",
    "# test_df['vgg16_predict'] = pd.Series(predicted_class_indices)\n",
    "#\"\"\"need to test the function below first\"\"\"\n",
    "gold_label = test_set['class'].map(int)\n",
    "gold_label = gold_label.to_numpy()\n",
    "p, r, f1, _ = precision_recall_fscore_support(gold_label, predicted_class_indices, average=None, labels=[1,2,3,4])\n",
    "acc = accuracy_score(gold_label, predicted_class_indices)\n",
    "print(\"Test Accuracy: \", acc)\n",
    "print(p, r, f1)\n",
    "macro_p, macro_r, macro_f, _ = precision_recall_fscore_support(gold_label, predicted_class_indices, average='macro', labels=[1,2,3,4])\n",
    "macro_p3, macro_r3, macro_f3, _ = precision_recall_fscore_support(gold_label, predicted_class_indices, average='macro', labels=[1,2,4])\n",
    "micro_p, micro_r, micro_f, _ = precision_recall_fscore_support(gold_label, predicted_class_indices, average='micro', labels=[1,2,3,4])\n",
    "micro_p3, micro_r3, micro_f3, _ = precision_recall_fscore_support(gold_label, predicted_class_indices, average='micro', labels=[1,2,4])\n",
    "print(\"macro-averaged of 4 classes:\")\n",
    "print(macro_p, macro_r, macro_f)\n",
    "print(\"macro-averaged of 3 classes:\")\n",
    "print(macro_p3, macro_r3, macro_f3)"
   ]
  },
  {
   "cell_type": "code",
   "execution_count": 31,
   "metadata": {},
   "outputs": [
    {
     "data": {
      "image/png": "[encoded data removed]",
      "text/plain": [
       "<Figure size 432x288 with 2 Axes>"
      ]
     },
     "metadata": {
      "needs_background": "light"
     },
     "output_type": "display_data"
    }
   ],
   "source": [
    "cm_img = os.path.join(img_folder, '{}_{}_{}_vgg_full_201_cm.pdf'.format(seg_model, seg_nd, other_cluster_num))\n",
    "cm  = confusion_matrix(gold_label, predicted_class_indices, labels=[1,2,3,4])\n",
    "class_name = ['pore', 'gypsum', 'celestite', 'bassanite']\n",
    "fig, ax = plot_confusion_matrix(conf_mat=cm, colorbar=True, show_absolute=True, show_normed=True, cmap=plt.cm.Blues, class_names=class_name)\n",
    "# plt.xlabel('Predictions', fontsize=16)\n",
    "# plt.ylabel('Actuals', fontsize=16)\n",
    "plt.title('Confusion Matrix', fontsize=18)\n",
    "#plt.savefig(cm_img)\n",
    "plt.show()"
   ]
  },
  {
   "attachments": {},
   "cell_type": "markdown",
   "metadata": {},
   "source": [
    "## Stats for apply on cluster 16"
   ]
  },
  {
   "cell_type": "code",
   "execution_count": 48,
   "metadata": {},
   "outputs": [
    {
     "name": "stdout",
     "output_type": "stream",
     "text": [
      "Test Accuracy:  0.773125\n",
      "[1.         0.8654321  1.         0.53818182] [0.46666667 0.87625    1.         0.74      ] [0.63636364 0.87080745 1.         0.62315789]\n",
      "macro-averaged of 4 classes:\n",
      "0.8509034792368125 0.7825822461291568 0.7825822461291568\n",
      "macro-averaged of 3 classes:\n",
      "0.8012046389824167 0.7101096615055424 0.7101096615055424\n"
     ]
    }
   ],
   "source": [
    "predicted_class_indices = np.argmax(pred,axis=1) + 1 # because the class 0 is now used for those undecided pixels\n",
    "# test_df = test_set.reset_index()\n",
    "# test_df['vgg16_predict'] = pd.Series(predicted_class_indices)\n",
    "#\"\"\"need to test the function below first\"\"\"\n",
    "gold_label = test_set['class'].map(int)\n",
    "gold_label = gold_label.to_numpy()\n",
    "p, r, f1, _ = precision_recall_fscore_support(gold_label, predicted_class_indices, average=None, labels=[1,2,3,4])\n",
    "acc = accuracy_score(gold_label, predicted_class_indices)\n",
    "print(\"Test Accuracy: \", acc)\n",
    "print(p, r, f1)\n",
    "macro_p, macro_r, macro_f, _ = precision_recall_fscore_support(gold_label, predicted_class_indices, average='macro', labels=[1,2,3,4])\n",
    "macro_p3, macro_r3, macro_f3, _ = precision_recall_fscore_support(gold_label, predicted_class_indices, average='macro', labels=[1,2,4])\n",
    "micro_p, micro_r, micro_f, _ = precision_recall_fscore_support(gold_label, predicted_class_indices, average='micro', labels=[1,2,3,4])\n",
    "micro_p3, micro_r3, micro_f3, _ = precision_recall_fscore_support(gold_label, predicted_class_indices, average='micro', labels=[1,2,4])\n",
    "print(\"macro-averaged of 4 classes:\")\n",
    "print(macro_p, macro_r, macro_f)\n",
    "print(\"macro-averaged of 3 classes:\")\n",
    "print(macro_p3, macro_r3, macro_f3)"
   ]
  },
  {
   "cell_type": "code",
   "execution_count": 49,
   "metadata": {},
   "outputs": [
    {
     "data": {
      "image/png": "[encoded data removed]",
      "text/plain": [
       "<Figure size 432x288 with 2 Axes>"
      ]
     },
     "metadata": {
      "needs_background": "light"
     },
     "output_type": "display_data"
    }
   ],
   "source": [
    "cm_img = os.path.join(img_folder, '{}_{}_{}_vgg_full_201_cm.pdf'.format(seg_model, seg_nd, other_cluster_num))\n",
    "cm  = confusion_matrix(gold_label, predicted_class_indices, labels=[1,2,3,4])\n",
    "class_name = ['pore', 'gypsum', 'celestite', 'bassanite']\n",
    "fig, ax = plot_confusion_matrix(conf_mat=cm, colorbar=True, show_absolute=True, show_normed=True, cmap=plt.cm.Blues, class_names=class_name)\n",
    "# plt.xlabel('Predictions', fontsize=16)\n",
    "# plt.ylabel('Actuals', fontsize=16)\n",
    "plt.title('Confusion Matrix', fontsize=18)\n",
    "#plt.savefig(cm_img)\n",
    "plt.show()"
   ]
  },
  {
   "cell_type": "code",
   "execution_count": null,
   "metadata": {},
   "outputs": [],
   "source": []
  }
 ],
 "metadata": {
  "kernelspec": {
   "display_name": "test-uninstall",
   "language": "python",
   "name": "python3"
  },
  "language_info": {
   "codemirror_mode": {
    "name": "ipython",
    "version": 3
   },
   "file_extension": ".py",
   "mimetype": "text/x-python",
   "name": "python",
   "nbconvert_exporter": "python",
   "pygments_lexer": "ipython3",
   "version": "3.10.9"
  },
  "orig_nbformat": 4
 },
 "nbformat": 4,
 "nbformat_minor": 2
}
