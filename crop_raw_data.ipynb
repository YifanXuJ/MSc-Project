{
 "cells": [
  {
   "cell_type": "code",
   "execution_count": 1,
   "metadata": {},
   "outputs": [],
   "source": [
    "import cv2\n",
    "import os\n",
    "import numpy as np \n",
    "import matplotlib.pyplot as plt \n",
    "import glob"
   ]
  },
  {
   "cell_type": "code",
   "execution_count": null,
   "metadata": {},
   "outputs": [],
   "source": [
    "# img_40 = cv2.imread(file_path_40)[389:1089, 279:1134] #[403:1103, 279:1134] y-axis plus 50 minus 14\n",
    "# img_50 = cv2.imread(file_path_50)[353:1053, 282:1137]"
   ]
  },
  {
   "cell_type": "code",
   "execution_count": 5,
   "metadata": {},
   "outputs": [],
   "source": [
    "timestamp = '0060'\n",
    "# 'end' = true endind pixel plus 1\n",
    "y_start, y_end = 353, 1053\n",
    "x_start, x_end = 282, 1137\n",
    "start_slice, end_slice = 1, 900"
   ]
  },
  {
   "cell_type": "code",
   "execution_count": 7,
   "metadata": {},
   "outputs": [],
   "source": [
    "timestamp = '0040'\n",
    "# 'end' = true endind pixel plus 1\n",
    "y_start, y_end = 389, 1089\n",
    "x_start, x_end = 279, 1134\n",
    "start_slice, end_slice = 1, 900"
   ]
  },
  {
   "cell_type": "code",
   "execution_count": 8,
   "metadata": {},
   "outputs": [],
   "source": [
    "for s in range(start_slice, end_slice):\n",
    "    str_slice = ''\n",
    "    if s // 10 == 0:\n",
    "        str_slice = str_slice + '000' + str(s)\n",
    "    elif s // 100 == 0:\n",
    "        str_slice = str_slice + '00' + str(s)\n",
    "    elif s // 1000 == 0:\n",
    "        str_slice = str_slice + '0' + str(s)\n",
    "    else:\n",
    "        str_slice = str(s)\n",
    "    src_path = os.path.join(os.getcwd(), 'VA10_Pc200_Ram25_Pf50_T125_{}\\VA10_Pc200_Ram25_Pf50_T125_{}_{}.rec.8bit.tif'.format(timestamp, timestamp, str_slice))\n",
    "    img = cv2.imread(src_path, -1)[y_start:y_end, x_start:x_end]\n",
    "    dst_path = os.path.join(os.getcwd(), 'cropped_{}\\VA10_Pc200_Ram25_Pf50_T125_{}_{}.rec.8bit.tif'.format(timestamp, timestamp, str_slice))\n",
    "    cv2.imwrite(dst_path, img)\n"
   ]
  },
  {
   "cell_type": "code",
   "execution_count": 9,
   "metadata": {},
   "outputs": [
    {
     "data": {
      "text/plain": [
       "(700, 855)"
      ]
     },
     "execution_count": 9,
     "metadata": {},
     "output_type": "execute_result"
    }
   ],
   "source": [
    "src_path = os.path.join(os.getcwd(), 'cropped_0060\\VA10_Pc200_Ram25_Pf50_T125_0060_0040.rec.8bit.tif')\n",
    "img = cv2.imread(src_path, -1)\n",
    "img.shape"
   ]
  },
  {
   "cell_type": "code",
   "execution_count": null,
   "metadata": {},
   "outputs": [],
   "source": []
  }
 ],
 "metadata": {
  "kernelspec": {
   "display_name": "test-uninstall",
   "language": "python",
   "name": "python3"
  },
  "language_info": {
   "codemirror_mode": {
    "name": "ipython",
    "version": 3
   },
   "file_extension": ".py",
   "mimetype": "text/x-python",
   "name": "python",
   "nbconvert_exporter": "python",
   "pygments_lexer": "ipython3",
   "version": "3.10.9"
  },
  "orig_nbformat": 4
 },
 "nbformat": 4,
 "nbformat_minor": 2
}
