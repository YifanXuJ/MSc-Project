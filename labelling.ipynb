{
 "cells": [
  {
   "attachments": {},
   "cell_type": "markdown",
   "metadata": {},
   "source": [
    "# Labeling\n",
    "\n",
    "Generate a label array of length 16/32/64/128"
   ]
  },
  {
   "cell_type": "code",
   "execution_count": 1,
   "metadata": {},
   "outputs": [],
   "source": [
    "import cv2\n",
    "import os\n",
    "import numpy as np\n",
    "import matplotlib.pyplot as plt\n",
    "import csv\n",
    "import glob\n",
    "import pandas as pd\n",
    "from sklearn.metrics import precision_recall_fscore_support"
   ]
  },
  {
   "attachments": {},
   "cell_type": "markdown",
   "metadata": {},
   "source": [
    "## An all-in-one function combine all four methods below"
   ]
  },
  {
   "cell_type": "code",
   "execution_count": 52,
   "metadata": {},
   "outputs": [],
   "source": [
    "# 4 modes\n",
    "PRECISION_50 = 1\n",
    "PRECISION_X = 2\n",
    "FSCORE_SOLO = 3\n",
    "PRECISION_SOLO = 4\n",
    "\n",
    "def auto_label(seg_model, seg_nd, cluster_num, mode, threshold=0.5):\n",
    "    # cluster_num: the total number of clusters\n",
    "    assert mode in [1,2,3,4], \"Invalid mode: mode should be integer in [1,2,3,4].\"\n",
    "    if mode == 1:\n",
    "        assert threshold == 0.5, \"Mode 1 requires threshold = 0.5.\"\n",
    "\n",
    "    csv_file = os.path.join(os.getcwd(), 'evaluation_rec_f1', '{}_{}_{}_f1.csv'.format(seg_model, seg_nd, cluster_num))\n",
    "    df = pd.read_csv(csv_file, usecols=['slice', 'current_cluster','pore_micro_precision', 'pore_micro_f1', 'gypsum_micro_precision', 'gypsum_micro_f1', 'celestite_micro_precision', 'celestite_micro_f1', 'bassanite_micro_precision', 'bassanite_micro_f1'])\n",
    "    \n",
    "    label = [0]*cluster_num\n",
    "\n",
    "    for i in range(cluster_num):\n",
    "        one_cluster = df.loc[df['current_cluster'] == i]\n",
    "        stats = one_cluster.mean()\n",
    "        precisions = [stats[2], stats[4], stats[6], stats[8]]\n",
    "        fscores = [stats[3], stats[5], stats[7], stats[9]]\n",
    "        p_max = max(precisions)\n",
    "        p_idx = np.argmax(precisions)\n",
    "        f_idx = np.argmax(fscores)\n",
    "        if mode in [1,2]:\n",
    "            if p_max <= threshold:\n",
    "                idx = f_idx\n",
    "            else:\n",
    "                idx = p_idx\n",
    "        elif mode == 3:\n",
    "            idx = f_idx\n",
    "        else:\n",
    "            idx = p_idx\n",
    "            \n",
    "        class_num = idx + 1\n",
    "        label[i] = class_num\n",
    "\n",
    "    return label\n",
    "\n",
    "    "
   ]
  },
  {
   "cell_type": "code",
   "execution_count": 57,
   "metadata": {},
   "outputs": [
    {
     "data": {
      "text/plain": [
       "[2, 3, 4, 2, 2, 1, 4, 2, 1, 2, 1, 2, 4, 2, 3, 2]"
      ]
     },
     "execution_count": 57,
     "metadata": {},
     "output_type": "execute_result"
    }
   ],
   "source": [
    "seg_model = 'k-means'   # choose between 'gmm' and 'k-means'\n",
    "seg_nd = '4d'   # choose between '3d' and '4d'\n",
    "cluster_num = 16   # choose between 16, 32, 64, and 128\n",
    "\n",
    "auto_label(seg_model, seg_nd, cluster_num, PRECISION_X, threshold=0.7)"
   ]
  },
  {
   "attachments": {},
   "cell_type": "markdown",
   "metadata": {},
   "source": [
    "### Method 1:\n",
    "\n",
    "1. Label as the class whose precison over 50% [this threshold could be adjusted (see method 2)]\n",
    "\n",
    "2. If no such class, then choose the one with the highest macro f1-score"
   ]
  },
  {
   "cell_type": "code",
   "execution_count": 2,
   "metadata": {},
   "outputs": [],
   "source": [
    "# Set the target segmentation results \n",
    "res_folder = 'large_clusters_rec'\n",
    "seg_model = 'k-means'   # choose between 'gmm' and 'k-means'\n",
    "seg_nd = '4d'   # choose between '3d' and '4d'\n",
    "cluster_num = 16   # choose between 16, 32, 64, and 128\n",
    "\n",
    "# Data path\n",
    "base_folder = os.path.join(os.getcwd(), res_folder, seg_model, seg_nd, 'cluster_{}'.format(cluster_num))\n",
    "\n",
    "# corresponding label csv file\n",
    "csv_file = os.path.join(os.getcwd(), 'evaluation_rec_f1', '{}_{}_{}_f1.csv'.format(seg_model, seg_nd, cluster_num))\n",
    "\n",
    "# read csv file\n",
    "#df = pd.read_csv(csv_file, usecols = ['slice', 'current_cluster'])\n",
    "df = pd.read_csv(csv_file, usecols=['slice', 'current_cluster','pore_micro_precision', 'pore_micro_f1', 'gypsum_micro_precision', 'gypsum_micro_f1', 'celestite_micro_precision', 'celestite_micro_f1', 'bassanite_micro_precision', 'bassanite_micro_f1'])\n",
    "\n",
    "# initialise label array\n",
    "label = [0]*cluster_num"
   ]
  },
  {
   "cell_type": "code",
   "execution_count": 3,
   "metadata": {},
   "outputs": [],
   "source": [
    "for i in range(cluster_num):\n",
    "    one_cluster = df.loc[df['current_cluster'] == i]\n",
    "    stats = one_cluster.mean()\n",
    "    precisions = [stats[2], stats[4], stats[6], stats[8]]\n",
    "    fscores = [stats[3], stats[5], stats[7], stats[9]]\n",
    "    p_max = max(precisions)\n",
    "    if p_max <= 0.5:\n",
    "        idx = fscores.index(max(fscores))\n",
    "    else:\n",
    "        idx = precisions.index(p_max)\n",
    "\n",
    "    class_num = idx + 1\n",
    "    label[i] = class_num\n"
   ]
  },
  {
   "cell_type": "code",
   "execution_count": 4,
   "metadata": {},
   "outputs": [
    {
     "data": {
      "text/plain": [
       "[2, 2, 4, 2, 2, 2, 4, 2, 1, 2, 1, 2, 2, 2, 3, 2]"
      ]
     },
     "execution_count": 4,
     "metadata": {},
     "output_type": "execute_result"
    }
   ],
   "source": [
    "label"
   ]
  },
  {
   "attachments": {},
   "cell_type": "markdown",
   "metadata": {},
   "source": [
    "### Method 2:\n",
    "\n",
    "1. Label as the class whose precison over x%\n",
    "\n",
    "2. If no such class, then choose the one with the highest macro f1-score"
   ]
  },
  {
   "cell_type": "code",
   "execution_count": 41,
   "metadata": {},
   "outputs": [],
   "source": [
    "# Set the target segmentation results \n",
    "res_folder = 'large_clusters_rec'\n",
    "seg_model = 'k-means'   # choose between 'gmm' and 'k-means'\n",
    "seg_nd = '4d'   # choose between '3d' and '4d'\n",
    "cluster_num = 16   # choose between 16, 32, 64, and 128\n",
    "\n",
    "# Data path\n",
    "base_folder = os.path.join(os.getcwd(), res_folder, seg_model, seg_nd, 'cluster_{}'.format(cluster_num))\n",
    "\n",
    "# corresponding label csv file\n",
    "csv_file = os.path.join(os.getcwd(), 'evaluation_rec_f1', '{}_{}_{}_f1.csv'.format(seg_model, seg_nd, cluster_num))\n",
    "\n",
    "# read csv file\n",
    "#df = pd.read_csv(csv_file, usecols = ['slice', 'current_cluster'])\n",
    "df = pd.read_csv(csv_file, usecols=['slice', 'current_cluster','pore_micro_precision', 'pore_micro_f1', 'gypsum_micro_precision', 'gypsum_micro_f1', 'celestite_micro_precision', 'celestite_micro_f1', 'bassanite_micro_precision', 'bassanite_micro_f1'])\n",
    "\n",
    "# initialise label array\n",
    "label = [0]*cluster_num"
   ]
  },
  {
   "cell_type": "code",
   "execution_count": 42,
   "metadata": {},
   "outputs": [],
   "source": [
    "THRESHOLD = 0.7\n",
    "for i in range(cluster_num):\n",
    "    one_cluster = df.loc[df['current_cluster'] == i]\n",
    "    stats = one_cluster.mean()\n",
    "    precisions = [stats[2], stats[4], stats[6], stats[8]]\n",
    "    fscores = [stats[3], stats[5], stats[7], stats[9]]\n",
    "    p_max = max(precisions)\n",
    "    if p_max <= THRESHOLD:\n",
    "        idx = fscores.index(max(fscores))\n",
    "    else:\n",
    "        idx = precisions.index(p_max)\n",
    "\n",
    "    class_num = idx + 1\n",
    "    label[i] = class_num"
   ]
  },
  {
   "cell_type": "code",
   "execution_count": 43,
   "metadata": {},
   "outputs": [
    {
     "data": {
      "text/plain": [
       "[2, 3, 4, 2, 2, 1, 4, 2, 1, 2, 1, 2, 4, 2, 3, 2]"
      ]
     },
     "execution_count": 43,
     "metadata": {},
     "output_type": "execute_result"
    }
   ],
   "source": [
    "label"
   ]
  },
  {
   "attachments": {},
   "cell_type": "markdown",
   "metadata": {},
   "source": [
    "### Method 3:\n",
    "\n",
    "Sololy based on f1-score"
   ]
  },
  {
   "cell_type": "code",
   "execution_count": 38,
   "metadata": {},
   "outputs": [],
   "source": [
    "# Set the target segmentation results \n",
    "res_folder = 'large_clusters_rec'\n",
    "seg_model = 'k-means'   # choose between 'gmm' and 'k-means'\n",
    "seg_nd = '4d'   # choose between '3d' and '4d'\n",
    "cluster_num = 16   # choose between 16, 32, 64, and 128\n",
    "\n",
    "# Data path\n",
    "base_folder = os.path.join(os.getcwd(), res_folder, seg_model, seg_nd, 'cluster_{}'.format(cluster_num))\n",
    "\n",
    "# corresponding label csv file\n",
    "csv_file = os.path.join(os.getcwd(), 'evaluation_rec_f1', '{}_{}_{}_f1.csv'.format(seg_model, seg_nd, cluster_num))\n",
    "\n",
    "# read csv file\n",
    "#df = pd.read_csv(csv_file, usecols = ['slice', 'current_cluster'])\n",
    "df = pd.read_csv(csv_file, usecols=['slice', 'current_cluster','pore_micro_precision', 'pore_micro_f1', 'gypsum_micro_precision', 'gypsum_micro_f1', 'celestite_micro_precision', 'celestite_micro_f1', 'bassanite_micro_precision', 'bassanite_micro_f1'])\n",
    "\n",
    "# initialise label array\n",
    "label = [0]*cluster_num"
   ]
  },
  {
   "cell_type": "code",
   "execution_count": 39,
   "metadata": {},
   "outputs": [],
   "source": [
    "for i in range(cluster_num):\n",
    "    one_cluster = df.loc[df['current_cluster'] == i]\n",
    "    stats = one_cluster.mean()\n",
    "    fscores = [stats[3], stats[5], stats[7], stats[9]]\n",
    "    f_max = np.argmax(fscores)\n",
    "\n",
    "    class_num = f_max + 1\n",
    "    label[i] = class_num"
   ]
  },
  {
   "cell_type": "code",
   "execution_count": 40,
   "metadata": {},
   "outputs": [
    {
     "data": {
      "text/plain": [
       "[2, 3, 4, 2, 2, 1, 4, 4, 1, 2, 1, 2, 4, 2, 3, 2]"
      ]
     },
     "execution_count": 40,
     "metadata": {},
     "output_type": "execute_result"
    }
   ],
   "source": [
    "label"
   ]
  },
  {
   "attachments": {},
   "cell_type": "markdown",
   "metadata": {},
   "source": [
    "### Method 4:\n",
    "\n",
    "Sololy based on precision"
   ]
  },
  {
   "cell_type": "code",
   "execution_count": 44,
   "metadata": {},
   "outputs": [],
   "source": [
    "# Set the target segmentation results \n",
    "res_folder = 'large_clusters_rec'\n",
    "seg_model = 'k-means'   # choose between 'gmm' and 'k-means'\n",
    "seg_nd = '4d'   # choose between '3d' and '4d'\n",
    "cluster_num = 16   # choose between 16, 32, 64, and 128\n",
    "\n",
    "# Data path\n",
    "base_folder = os.path.join(os.getcwd(), res_folder, seg_model, seg_nd, 'cluster_{}'.format(cluster_num))\n",
    "\n",
    "# corresponding label csv file\n",
    "csv_file = os.path.join(os.getcwd(), 'evaluation_rec_f1', '{}_{}_{}_f1.csv'.format(seg_model, seg_nd, cluster_num))\n",
    "\n",
    "# read csv file\n",
    "#df = pd.read_csv(csv_file, usecols = ['slice', 'current_cluster'])\n",
    "df = pd.read_csv(csv_file, usecols=['slice', 'current_cluster','pore_micro_precision', 'pore_micro_f1', 'gypsum_micro_precision', 'gypsum_micro_f1', 'celestite_micro_precision', 'celestite_micro_f1', 'bassanite_micro_precision', 'bassanite_micro_f1'])\n",
    "\n",
    "# initialise label array\n",
    "label = [0]*cluster_num"
   ]
  },
  {
   "cell_type": "code",
   "execution_count": 45,
   "metadata": {},
   "outputs": [],
   "source": [
    "for i in range(cluster_num):\n",
    "    one_cluster = df.loc[df['current_cluster'] == i]\n",
    "    stats = one_cluster.mean()\n",
    "    precisions = [stats[2], stats[4], stats[6], stats[8]]\n",
    "    p_max = np.argmax(precisions)\n",
    "    class_num = p_max + 1\n",
    "    label[i] = class_num"
   ]
  },
  {
   "cell_type": "code",
   "execution_count": 46,
   "metadata": {},
   "outputs": [
    {
     "data": {
      "text/plain": [
       "[2, 2, 4, 2, 2, 2, 4, 2, 1, 2, 1, 2, 2, 2, 3, 2]"
      ]
     },
     "execution_count": 46,
     "metadata": {},
     "output_type": "execute_result"
    }
   ],
   "source": [
    "label"
   ]
  },
  {
   "attachments": {},
   "cell_type": "markdown",
   "metadata": {},
   "source": [
    "# Inspection"
   ]
  },
  {
   "cell_type": "code",
   "execution_count": 36,
   "metadata": {},
   "outputs": [],
   "source": [
    "one_cluster = df.loc[df['current_cluster'] == 15]"
   ]
  },
  {
   "cell_type": "code",
   "execution_count": 37,
   "metadata": {},
   "outputs": [
    {
     "data": {
      "text/plain": [
       "slice                        6.000000e+02\n",
       "current_cluster              1.500000e+01\n",
       "pore_micro_precision         1.569666e-02\n",
       "pore_micro_f1                1.964436e-02\n",
       "gypsum_micro_precision       8.040682e-01\n",
       "gypsum_micro_f1              2.010560e-01\n",
       "celestite_micro_precision    4.007143e-08\n",
       "celestite_micro_f1           7.526645e-08\n",
       "bassanite_micro_precision    1.558289e-01\n",
       "bassanite_micro_f1           1.176972e-01\n",
       "dtype: float64"
      ]
     },
     "execution_count": 37,
     "metadata": {},
     "output_type": "execute_result"
    }
   ],
   "source": [
    "stats = one_cluster.mean()\n",
    "stats"
   ]
  },
  {
   "cell_type": "code",
   "execution_count": null,
   "metadata": {},
   "outputs": [],
   "source": []
  }
 ],
 "metadata": {
  "kernelspec": {
   "display_name": "test-uninstall",
   "language": "python",
   "name": "python3"
  },
  "language_info": {
   "codemirror_mode": {
    "name": "ipython",
    "version": 3
   },
   "file_extension": ".py",
   "mimetype": "text/x-python",
   "name": "python",
   "nbconvert_exporter": "python",
   "pygments_lexer": "ipython3",
   "version": "3.10.9"
  },
  "orig_nbformat": 4
 },
 "nbformat": 4,
 "nbformat_minor": 2
}
