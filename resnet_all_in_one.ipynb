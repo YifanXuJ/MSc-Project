{
 "cells": [
  {
   "attachments": {},
   "cell_type": "markdown",
   "metadata": {},
   "source": [
    "# ResNet 50 All In One"
   ]
  },
  {
   "cell_type": "code",
   "execution_count": 1,
   "metadata": {},
   "outputs": [],
   "source": [
    "import numpy as np\n",
    "import os\n",
    "from matplotlib import pyplot as plt\n",
    "import cv2\n",
    "import csv\n",
    "import pandas as pd\n",
    "import glob\n",
    "from sklearn.model_selection import train_test_split\n",
    "from sklearn.metrics import accuracy_score, precision_recall_fscore_support\n",
    "\n",
    "import tensorflow as tf\n",
    "from tensorflow import keras\n",
    "from keras.models import Sequential, Model, load_model\n",
    "from keras.layers import Conv2D #images are two dimensional. Videos are three dimension.\n",
    "from keras.layers import MaxPooling2D, Flatten, Dense, Dropout\n",
    "\n",
    "from keras.preprocessing import image\n",
    "from keras.preprocessing.image import ImageDataGenerator"
   ]
  },
  {
   "cell_type": "code",
   "execution_count": 2,
   "metadata": {},
   "outputs": [],
   "source": [
    "from keras.applications.resnet import ResNet50\n",
    "from keras.applications.resnet import preprocess_input"
   ]
  },
  {
   "cell_type": "code",
   "execution_count": 3,
   "metadata": {},
   "outputs": [],
   "source": [
    "from keras.optimizers import Adam\n",
    "from datetime import datetime\n",
    "from keras.callbacks import ModelCheckpoint, EarlyStopping, ReduceLROnPlateau"
   ]
  },
  {
   "cell_type": "code",
   "execution_count": 4,
   "metadata": {},
   "outputs": [],
   "source": [
    "from auto_label import auto_label, PRECISION_SOLO"
   ]
  },
  {
   "cell_type": "code",
   "execution_count": 5,
   "metadata": {},
   "outputs": [],
   "source": [
    "def auto_label_last_201(seg_model, seg_nd, cluster_num, mode, threshold=0.5):\n",
    "    # cluster_num: the total number of clusters\n",
    "    assert mode in [1,2,3,4], \"Invalid mode: mode should be integer in [1,2,3,4].\"\n",
    "    if mode == 1:\n",
    "        assert threshold == 0.5, \"Mode 1 requires threshold = 0.5.\"\n",
    "\n",
    "    csv_file = os.path.join(os.getcwd(), 'seg_res_evaluation_csv', '{}_{}_{}.csv'.format(seg_model, seg_nd, cluster_num))\n",
    "    #df = pd.read_csv(csv_file, usecols=['slice', 'current_cluster','pore_micro_precision', 'pore_micro_f1', 'gypsum_micro_precision', 'gypsum_micro_f1', 'celestite_micro_precision', 'celestite_micro_f1', 'bassanite_micro_precision', 'bassanite_micro_f1'])\n",
    "    df = pd.read_csv(csv_file, usecols=['slice', 'current_cluster','pore_precision', 'pore_f1', 'gypsum_precision', 'gypsum_f1', 'celestite_precision', 'celestite_f1', 'bassanite_precision', 'bassanite_f1'])\n",
    "    df =  df.loc[df['slice'] >= 600]  # only use training set\n",
    "\n",
    "    label = [0]*cluster_num\n",
    "\n",
    "    for i in range(cluster_num):\n",
    "        one_cluster = df.loc[df['current_cluster'] == i]\n",
    "        stats = one_cluster.mean()\n",
    "        precisions = [stats[2], stats[4], stats[6], stats[8]]\n",
    "        fscores = [stats[3], stats[5], stats[7], stats[9]]\n",
    "        p_max = max(precisions)\n",
    "        p_idx = np.argmax(precisions)\n",
    "        f_idx = np.argmax(fscores)\n",
    "        if mode in [1,2]:\n",
    "            if p_max <= threshold:\n",
    "                idx = f_idx\n",
    "            else:\n",
    "                idx = p_idx\n",
    "        elif mode == 3:\n",
    "            idx = f_idx\n",
    "        else:\n",
    "            idx = p_idx\n",
    "            \n",
    "        class_num = idx + 1\n",
    "        label[i] = class_num\n",
    "\n",
    "    return label"
   ]
  },
  {
   "attachments": {},
   "cell_type": "markdown",
   "metadata": {},
   "source": [
    "# Data Preprocessing"
   ]
  },
  {
   "cell_type": "code",
   "execution_count": 6,
   "metadata": {},
   "outputs": [],
   "source": [
    "def get_cluster_num_str(c):\n",
    "    c = str(c).zfill(3)\n",
    "    return c"
   ]
  },
  {
   "cell_type": "code",
   "execution_count": 7,
   "metadata": {},
   "outputs": [],
   "source": [
    "# Set the target segmentation results \n",
    "res_folder = 'new_large_clusters_rec'\n",
    "seg_model = 'k-means'   # choose between 'gmm' and 'k-means'\n",
    "seg_nd = '3d'   # choose between '3d' and '4d'\n",
    "cluster_num = 16  # choose between 16, 32, 64, and 128"
   ]
  },
  {
   "attachments": {},
   "cell_type": "markdown",
   "metadata": {},
   "source": [
    "### Prepare Dataframe for Data Generator"
   ]
  },
  {
   "cell_type": "code",
   "execution_count": 8,
   "metadata": {},
   "outputs": [],
   "source": [
    "# corresponding csv file to get slice & cluster combination\n",
    "csv_file = os.path.join(os.getcwd(), 'seg_res_evaluation_csv', '{}_{}_{}.csv'.format(seg_model, seg_nd, cluster_num))\n",
    "df = pd.read_csv(csv_file, usecols = ['slice', 'current_cluster'])\n",
    "df['filename'] = df['slice'].map(str) + '\\VA10_0050_0' + df['slice'].map(str) + '_' + df['current_cluster'].map(get_cluster_num_str)  + '.rec.8bit.png'"
   ]
  },
  {
   "cell_type": "code",
   "execution_count": 9,
   "metadata": {},
   "outputs": [],
   "source": [
    "cluster_label_one_slice = auto_label_last_201(seg_model, seg_nd, cluster_num, PRECISION_SOLO, threshold=0)\n",
    "cluster_label = np.array(cluster_label_one_slice*401)\n",
    "df['class'] = cluster_label\n",
    "df['class'] = df['class'].map(str)"
   ]
  },
  {
   "cell_type": "markdown",
   "metadata": {},
   "source": [
    "### Train_Val_Test Split"
   ]
  },
  {
   "cell_type": "code",
   "execution_count": 10,
   "metadata": {},
   "outputs": [
    {
     "data": {
      "text/html": [
       "<div>\n",
       "<style scoped>\n",
       "    .dataframe tbody tr th:only-of-type {\n",
       "        vertical-align: middle;\n",
       "    }\n",
       "\n",
       "    .dataframe tbody tr th {\n",
       "        vertical-align: top;\n",
       "    }\n",
       "\n",
       "    .dataframe thead th {\n",
       "        text-align: right;\n",
       "    }\n",
       "</style>\n",
       "<table border=\"1\" class=\"dataframe\">\n",
       "  <thead>\n",
       "    <tr style=\"text-align: right;\">\n",
       "      <th></th>\n",
       "      <th>index</th>\n",
       "      <th>slice</th>\n",
       "      <th>current_cluster</th>\n",
       "      <th>filename</th>\n",
       "      <th>class</th>\n",
       "    </tr>\n",
       "  </thead>\n",
       "  <tbody>\n",
       "    <tr>\n",
       "      <th>0</th>\n",
       "      <td>0</td>\n",
       "      <td>400</td>\n",
       "      <td>0</td>\n",
       "      <td>400\\VA10_0050_0400_000.rec.8bit.png</td>\n",
       "      <td>2</td>\n",
       "    </tr>\n",
       "    <tr>\n",
       "      <th>1</th>\n",
       "      <td>1</td>\n",
       "      <td>400</td>\n",
       "      <td>1</td>\n",
       "      <td>400\\VA10_0050_0400_001.rec.8bit.png</td>\n",
       "      <td>2</td>\n",
       "    </tr>\n",
       "    <tr>\n",
       "      <th>2</th>\n",
       "      <td>2</td>\n",
       "      <td>400</td>\n",
       "      <td>2</td>\n",
       "      <td>400\\VA10_0050_0400_002.rec.8bit.png</td>\n",
       "      <td>2</td>\n",
       "    </tr>\n",
       "    <tr>\n",
       "      <th>3</th>\n",
       "      <td>3</td>\n",
       "      <td>400</td>\n",
       "      <td>3</td>\n",
       "      <td>400\\VA10_0050_0400_003.rec.8bit.png</td>\n",
       "      <td>1</td>\n",
       "    </tr>\n",
       "    <tr>\n",
       "      <th>4</th>\n",
       "      <td>4</td>\n",
       "      <td>400</td>\n",
       "      <td>4</td>\n",
       "      <td>400\\VA10_0050_0400_004.rec.8bit.png</td>\n",
       "      <td>4</td>\n",
       "    </tr>\n",
       "    <tr>\n",
       "      <th>...</th>\n",
       "      <td>...</td>\n",
       "      <td>...</td>\n",
       "      <td>...</td>\n",
       "      <td>...</td>\n",
       "      <td>...</td>\n",
       "    </tr>\n",
       "    <tr>\n",
       "      <th>1595</th>\n",
       "      <td>1595</td>\n",
       "      <td>499</td>\n",
       "      <td>11</td>\n",
       "      <td>499\\VA10_0050_0499_011.rec.8bit.png</td>\n",
       "      <td>2</td>\n",
       "    </tr>\n",
       "    <tr>\n",
       "      <th>1596</th>\n",
       "      <td>1596</td>\n",
       "      <td>499</td>\n",
       "      <td>12</td>\n",
       "      <td>499\\VA10_0050_0499_012.rec.8bit.png</td>\n",
       "      <td>3</td>\n",
       "    </tr>\n",
       "    <tr>\n",
       "      <th>1597</th>\n",
       "      <td>1597</td>\n",
       "      <td>499</td>\n",
       "      <td>13</td>\n",
       "      <td>499\\VA10_0050_0499_013.rec.8bit.png</td>\n",
       "      <td>4</td>\n",
       "    </tr>\n",
       "    <tr>\n",
       "      <th>1598</th>\n",
       "      <td>1598</td>\n",
       "      <td>499</td>\n",
       "      <td>14</td>\n",
       "      <td>499\\VA10_0050_0499_014.rec.8bit.png</td>\n",
       "      <td>2</td>\n",
       "    </tr>\n",
       "    <tr>\n",
       "      <th>1599</th>\n",
       "      <td>1599</td>\n",
       "      <td>499</td>\n",
       "      <td>15</td>\n",
       "      <td>499\\VA10_0050_0499_015.rec.8bit.png</td>\n",
       "      <td>4</td>\n",
       "    </tr>\n",
       "  </tbody>\n",
       "</table>\n",
       "<p>1600 rows × 5 columns</p>\n",
       "</div>"
      ],
      "text/plain": [
       "      index  slice  current_cluster                             filename class\n",
       "0         0    400                0  400\\VA10_0050_0400_000.rec.8bit.png     2\n",
       "1         1    400                1  400\\VA10_0050_0400_001.rec.8bit.png     2\n",
       "2         2    400                2  400\\VA10_0050_0400_002.rec.8bit.png     2\n",
       "3         3    400                3  400\\VA10_0050_0400_003.rec.8bit.png     1\n",
       "4         4    400                4  400\\VA10_0050_0400_004.rec.8bit.png     4\n",
       "...     ...    ...              ...                                  ...   ...\n",
       "1595   1595    499               11  499\\VA10_0050_0499_011.rec.8bit.png     2\n",
       "1596   1596    499               12  499\\VA10_0050_0499_012.rec.8bit.png     3\n",
       "1597   1597    499               13  499\\VA10_0050_0499_013.rec.8bit.png     4\n",
       "1598   1598    499               14  499\\VA10_0050_0499_014.rec.8bit.png     2\n",
       "1599   1599    499               15  499\\VA10_0050_0499_015.rec.8bit.png     4\n",
       "\n",
       "[1600 rows x 5 columns]"
      ]
     },
     "execution_count": 10,
     "metadata": {},
     "output_type": "execute_result"
    }
   ],
   "source": [
    "val_slice = np.array(range(500, 600))\n",
    "train_set = df.loc[df['slice'] >= 600]\n",
    "train_set.reset_index()\n",
    "val_set = df.loc[df['slice'].isin(val_slice)]\n",
    "val_set.reset_index()\n",
    "test_set = df.loc[df['slice'] < 500]\n",
    "test_set.reset_index()"
   ]
  },
  {
   "attachments": {},
   "cell_type": "markdown",
   "metadata": {},
   "source": [
    "### Get Data Generator for Train/Val/Test"
   ]
  },
  {
   "cell_type": "code",
   "execution_count": 11,
   "metadata": {},
   "outputs": [
    {
     "name": "stdout",
     "output_type": "stream",
     "text": [
      "Found 3216 validated image filenames belonging to 4 classes.\n",
      "Found 1600 validated image filenames belonging to 4 classes.\n",
      "Found 1600 validated image filenames.\n"
     ]
    }
   ],
   "source": [
    "batch_size = 32\n",
    "\n",
    "# Data path: used in data generator\n",
    "base_folder = os.path.join(os.getcwd(), res_folder, seg_model, seg_nd, 'cluster_{}'.format(cluster_num))\n",
    "\n",
    "train_datagen = ImageDataGenerator(preprocessing_function=preprocess_input)\n",
    "val_datagen = ImageDataGenerator(preprocessing_function=preprocess_input)\n",
    "test_datagen = ImageDataGenerator(preprocessing_function=preprocess_input)\n",
    "\n",
    "\n",
    "train_generator = train_datagen.flow_from_dataframe(dataframe=train_set, directory=base_folder,\n",
    "                                             x_col='filename',\n",
    "                                             y_col='class',\n",
    "                                             target_size=(700, 855),\n",
    "                                             batch_size=batch_size,\n",
    "                                             shuffle=True,\n",
    "                                             class_mode='categorical',\n",
    "                                             seed=7)\n",
    "\n",
    "val_generator = val_datagen.flow_from_dataframe(dataframe=val_set, directory=base_folder,\n",
    "                                             x_col='filename',\n",
    "                                             y_col='class',\n",
    "                                             target_size=(700, 855),\n",
    "                                             batch_size=batch_size,\n",
    "                                             shuffle=True,\n",
    "                                             class_mode='categorical',\n",
    "                                             seed=7)\n",
    "\n",
    "\n",
    "test_generator = test_datagen.flow_from_dataframe(dataframe=test_set, directory=base_folder,\n",
    "                                             x_col='filename',\n",
    "                                             y_col=None,\n",
    "                                             target_size=(700, 855),\n",
    "                                             batch_size=batch_size,\n",
    "                                             shuffle=False,\n",
    "                                             class_mode=None,\n",
    "                                             seed=7\n",
    "                                             )"
   ]
  },
  {
   "attachments": {},
   "cell_type": "markdown",
   "metadata": {},
   "source": [
    "# Model"
   ]
  },
  {
   "cell_type": "code",
   "execution_count": 12,
   "metadata": {},
   "outputs": [],
   "source": [
    "resnet_model = ResNet50(include_top=False, input_shape=(700, 855, 3))\n",
    "for layer in resnet_model.layers[:143]:\n",
    "    layer.trainable = False\n",
    "# for layer in resnet_model.layers:\n",
    "#     layer.trainable = False"
   ]
  },
  {
   "cell_type": "code",
   "execution_count": 13,
   "metadata": {},
   "outputs": [
    {
     "name": "stdout",
     "output_type": "stream",
     "text": [
      "Model: \"model\"\n",
      "__________________________________________________________________________________________________\n",
      " Layer (type)                   Output Shape         Param #     Connected to                     \n",
      "==================================================================================================\n",
      " input_1 (InputLayer)           [(None, 700, 855, 3  0           []                               \n",
      "                                )]                                                                \n",
      "                                                                                                  \n",
      " conv1_pad (ZeroPadding2D)      (None, 706, 861, 3)  0           ['input_1[0][0]']                \n",
      "                                                                                                  \n",
      " conv1_conv (Conv2D)            (None, 350, 428, 64  9472        ['conv1_pad[0][0]']              \n",
      "                                )                                                                 \n",
      "                                                                                                  \n",
      " conv1_bn (BatchNormalization)  (None, 350, 428, 64  256         ['conv1_conv[0][0]']             \n",
      "                                )                                                                 \n",
      "                                                                                                  \n",
      " conv1_relu (Activation)        (None, 350, 428, 64  0           ['conv1_bn[0][0]']               \n",
      "                                )                                                                 \n",
      "                                                                                                  \n",
      " pool1_pad (ZeroPadding2D)      (None, 352, 430, 64  0           ['conv1_relu[0][0]']             \n",
      "                                )                                                                 \n",
      "                                                                                                  \n",
      " pool1_pool (MaxPooling2D)      (None, 175, 214, 64  0           ['pool1_pad[0][0]']              \n",
      "                                )                                                                 \n",
      "                                                                                                  \n",
      " conv2_block1_1_conv (Conv2D)   (None, 175, 214, 64  4160        ['pool1_pool[0][0]']             \n",
      "                                )                                                                 \n",
      "                                                                                                  \n",
      " conv2_block1_1_bn (BatchNormal  (None, 175, 214, 64  256        ['conv2_block1_1_conv[0][0]']    \n",
      " ization)                       )                                                                 \n",
      "                                                                                                  \n",
      " conv2_block1_1_relu (Activatio  (None, 175, 214, 64  0          ['conv2_block1_1_bn[0][0]']      \n",
      " n)                             )                                                                 \n",
      "                                                                                                  \n",
      " conv2_block1_2_conv (Conv2D)   (None, 175, 214, 64  36928       ['conv2_block1_1_relu[0][0]']    \n",
      "                                )                                                                 \n",
      "                                                                                                  \n",
      " conv2_block1_2_bn (BatchNormal  (None, 175, 214, 64  256        ['conv2_block1_2_conv[0][0]']    \n",
      " ization)                       )                                                                 \n",
      "                                                                                                  \n",
      " conv2_block1_2_relu (Activatio  (None, 175, 214, 64  0          ['conv2_block1_2_bn[0][0]']      \n",
      " n)                             )                                                                 \n",
      "                                                                                                  \n",
      " conv2_block1_0_conv (Conv2D)   (None, 175, 214, 25  16640       ['pool1_pool[0][0]']             \n",
      "                                6)                                                                \n",
      "                                                                                                  \n",
      " conv2_block1_3_conv (Conv2D)   (None, 175, 214, 25  16640       ['conv2_block1_2_relu[0][0]']    \n",
      "                                6)                                                                \n",
      "                                                                                                  \n",
      " conv2_block1_0_bn (BatchNormal  (None, 175, 214, 25  1024       ['conv2_block1_0_conv[0][0]']    \n",
      " ization)                       6)                                                                \n",
      "                                                                                                  \n",
      " conv2_block1_3_bn (BatchNormal  (None, 175, 214, 25  1024       ['conv2_block1_3_conv[0][0]']    \n",
      " ization)                       6)                                                                \n",
      "                                                                                                  \n",
      " conv2_block1_add (Add)         (None, 175, 214, 25  0           ['conv2_block1_0_bn[0][0]',      \n",
      "                                6)                                'conv2_block1_3_bn[0][0]']      \n",
      "                                                                                                  \n",
      " conv2_block1_out (Activation)  (None, 175, 214, 25  0           ['conv2_block1_add[0][0]']       \n",
      "                                6)                                                                \n",
      "                                                                                                  \n",
      " conv2_block2_1_conv (Conv2D)   (None, 175, 214, 64  16448       ['conv2_block1_out[0][0]']       \n",
      "                                )                                                                 \n",
      "                                                                                                  \n",
      " conv2_block2_1_bn (BatchNormal  (None, 175, 214, 64  256        ['conv2_block2_1_conv[0][0]']    \n",
      " ization)                       )                                                                 \n",
      "                                                                                                  \n",
      " conv2_block2_1_relu (Activatio  (None, 175, 214, 64  0          ['conv2_block2_1_bn[0][0]']      \n",
      " n)                             )                                                                 \n",
      "                                                                                                  \n",
      " conv2_block2_2_conv (Conv2D)   (None, 175, 214, 64  36928       ['conv2_block2_1_relu[0][0]']    \n",
      "                                )                                                                 \n",
      "                                                                                                  \n",
      " conv2_block2_2_bn (BatchNormal  (None, 175, 214, 64  256        ['conv2_block2_2_conv[0][0]']    \n",
      " ization)                       )                                                                 \n",
      "                                                                                                  \n",
      " conv2_block2_2_relu (Activatio  (None, 175, 214, 64  0          ['conv2_block2_2_bn[0][0]']      \n",
      " n)                             )                                                                 \n",
      "                                                                                                  \n",
      " conv2_block2_3_conv (Conv2D)   (None, 175, 214, 25  16640       ['conv2_block2_2_relu[0][0]']    \n",
      "                                6)                                                                \n",
      "                                                                                                  \n",
      " conv2_block2_3_bn (BatchNormal  (None, 175, 214, 25  1024       ['conv2_block2_3_conv[0][0]']    \n",
      " ization)                       6)                                                                \n",
      "                                                                                                  \n",
      " conv2_block2_add (Add)         (None, 175, 214, 25  0           ['conv2_block1_out[0][0]',       \n",
      "                                6)                                'conv2_block2_3_bn[0][0]']      \n",
      "                                                                                                  \n",
      " conv2_block2_out (Activation)  (None, 175, 214, 25  0           ['conv2_block2_add[0][0]']       \n",
      "                                6)                                                                \n",
      "                                                                                                  \n",
      " conv2_block3_1_conv (Conv2D)   (None, 175, 214, 64  16448       ['conv2_block2_out[0][0]']       \n",
      "                                )                                                                 \n",
      "                                                                                                  \n",
      " conv2_block3_1_bn (BatchNormal  (None, 175, 214, 64  256        ['conv2_block3_1_conv[0][0]']    \n",
      " ization)                       )                                                                 \n",
      "                                                                                                  \n",
      " conv2_block3_1_relu (Activatio  (None, 175, 214, 64  0          ['conv2_block3_1_bn[0][0]']      \n",
      " n)                             )                                                                 \n",
      "                                                                                                  \n",
      " conv2_block3_2_conv (Conv2D)   (None, 175, 214, 64  36928       ['conv2_block3_1_relu[0][0]']    \n",
      "                                )                                                                 \n",
      "                                                                                                  \n",
      " conv2_block3_2_bn (BatchNormal  (None, 175, 214, 64  256        ['conv2_block3_2_conv[0][0]']    \n",
      " ization)                       )                                                                 \n",
      "                                                                                                  \n",
      " conv2_block3_2_relu (Activatio  (None, 175, 214, 64  0          ['conv2_block3_2_bn[0][0]']      \n",
      " n)                             )                                                                 \n",
      "                                                                                                  \n",
      " conv2_block3_3_conv (Conv2D)   (None, 175, 214, 25  16640       ['conv2_block3_2_relu[0][0]']    \n",
      "                                6)                                                                \n",
      "                                                                                                  \n",
      " conv2_block3_3_bn (BatchNormal  (None, 175, 214, 25  1024       ['conv2_block3_3_conv[0][0]']    \n",
      " ization)                       6)                                                                \n",
      "                                                                                                  \n",
      " conv2_block3_add (Add)         (None, 175, 214, 25  0           ['conv2_block2_out[0][0]',       \n",
      "                                6)                                'conv2_block3_3_bn[0][0]']      \n",
      "                                                                                                  \n",
      " conv2_block3_out (Activation)  (None, 175, 214, 25  0           ['conv2_block3_add[0][0]']       \n",
      "                                6)                                                                \n",
      "                                                                                                  \n",
      " conv3_block1_1_conv (Conv2D)   (None, 88, 107, 128  32896       ['conv2_block3_out[0][0]']       \n",
      "                                )                                                                 \n",
      "                                                                                                  \n",
      " conv3_block1_1_bn (BatchNormal  (None, 88, 107, 128  512        ['conv3_block1_1_conv[0][0]']    \n",
      " ization)                       )                                                                 \n",
      "                                                                                                  \n",
      " conv3_block1_1_relu (Activatio  (None, 88, 107, 128  0          ['conv3_block1_1_bn[0][0]']      \n",
      " n)                             )                                                                 \n",
      "                                                                                                  \n",
      " conv3_block1_2_conv (Conv2D)   (None, 88, 107, 128  147584      ['conv3_block1_1_relu[0][0]']    \n",
      "                                )                                                                 \n",
      "                                                                                                  \n",
      " conv3_block1_2_bn (BatchNormal  (None, 88, 107, 128  512        ['conv3_block1_2_conv[0][0]']    \n",
      " ization)                       )                                                                 \n",
      "                                                                                                  \n",
      " conv3_block1_2_relu (Activatio  (None, 88, 107, 128  0          ['conv3_block1_2_bn[0][0]']      \n",
      " n)                             )                                                                 \n",
      "                                                                                                  \n",
      " conv3_block1_0_conv (Conv2D)   (None, 88, 107, 512  131584      ['conv2_block3_out[0][0]']       \n",
      "                                )                                                                 \n",
      "                                                                                                  \n",
      " conv3_block1_3_conv (Conv2D)   (None, 88, 107, 512  66048       ['conv3_block1_2_relu[0][0]']    \n",
      "                                )                                                                 \n",
      "                                                                                                  \n",
      " conv3_block1_0_bn (BatchNormal  (None, 88, 107, 512  2048       ['conv3_block1_0_conv[0][0]']    \n",
      " ization)                       )                                                                 \n",
      "                                                                                                  \n",
      " conv3_block1_3_bn (BatchNormal  (None, 88, 107, 512  2048       ['conv3_block1_3_conv[0][0]']    \n",
      " ization)                       )                                                                 \n",
      "                                                                                                  \n",
      " conv3_block1_add (Add)         (None, 88, 107, 512  0           ['conv3_block1_0_bn[0][0]',      \n",
      "                                )                                 'conv3_block1_3_bn[0][0]']      \n",
      "                                                                                                  \n",
      " conv3_block1_out (Activation)  (None, 88, 107, 512  0           ['conv3_block1_add[0][0]']       \n",
      "                                )                                                                 \n",
      "                                                                                                  \n",
      " conv3_block2_1_conv (Conv2D)   (None, 88, 107, 128  65664       ['conv3_block1_out[0][0]']       \n",
      "                                )                                                                 \n",
      "                                                                                                  \n",
      " conv3_block2_1_bn (BatchNormal  (None, 88, 107, 128  512        ['conv3_block2_1_conv[0][0]']    \n",
      " ization)                       )                                                                 \n",
      "                                                                                                  \n",
      " conv3_block2_1_relu (Activatio  (None, 88, 107, 128  0          ['conv3_block2_1_bn[0][0]']      \n",
      " n)                             )                                                                 \n",
      "                                                                                                  \n",
      " conv3_block2_2_conv (Conv2D)   (None, 88, 107, 128  147584      ['conv3_block2_1_relu[0][0]']    \n",
      "                                )                                                                 \n",
      "                                                                                                  \n",
      " conv3_block2_2_bn (BatchNormal  (None, 88, 107, 128  512        ['conv3_block2_2_conv[0][0]']    \n",
      " ization)                       )                                                                 \n",
      "                                                                                                  \n",
      " conv3_block2_2_relu (Activatio  (None, 88, 107, 128  0          ['conv3_block2_2_bn[0][0]']      \n",
      " n)                             )                                                                 \n",
      "                                                                                                  \n",
      " conv3_block2_3_conv (Conv2D)   (None, 88, 107, 512  66048       ['conv3_block2_2_relu[0][0]']    \n",
      "                                )                                                                 \n",
      "                                                                                                  \n",
      " conv3_block2_3_bn (BatchNormal  (None, 88, 107, 512  2048       ['conv3_block2_3_conv[0][0]']    \n",
      " ization)                       )                                                                 \n",
      "                                                                                                  \n",
      " conv3_block2_add (Add)         (None, 88, 107, 512  0           ['conv3_block1_out[0][0]',       \n",
      "                                )                                 'conv3_block2_3_bn[0][0]']      \n",
      "                                                                                                  \n",
      " conv3_block2_out (Activation)  (None, 88, 107, 512  0           ['conv3_block2_add[0][0]']       \n",
      "                                )                                                                 \n",
      "                                                                                                  \n",
      " conv3_block3_1_conv (Conv2D)   (None, 88, 107, 128  65664       ['conv3_block2_out[0][0]']       \n",
      "                                )                                                                 \n",
      "                                                                                                  \n",
      " conv3_block3_1_bn (BatchNormal  (None, 88, 107, 128  512        ['conv3_block3_1_conv[0][0]']    \n",
      " ization)                       )                                                                 \n",
      "                                                                                                  \n",
      " conv3_block3_1_relu (Activatio  (None, 88, 107, 128  0          ['conv3_block3_1_bn[0][0]']      \n",
      " n)                             )                                                                 \n",
      "                                                                                                  \n",
      " conv3_block3_2_conv (Conv2D)   (None, 88, 107, 128  147584      ['conv3_block3_1_relu[0][0]']    \n",
      "                                )                                                                 \n",
      "                                                                                                  \n",
      " conv3_block3_2_bn (BatchNormal  (None, 88, 107, 128  512        ['conv3_block3_2_conv[0][0]']    \n",
      " ization)                       )                                                                 \n",
      "                                                                                                  \n",
      " conv3_block3_2_relu (Activatio  (None, 88, 107, 128  0          ['conv3_block3_2_bn[0][0]']      \n",
      " n)                             )                                                                 \n",
      "                                                                                                  \n",
      " conv3_block3_3_conv (Conv2D)   (None, 88, 107, 512  66048       ['conv3_block3_2_relu[0][0]']    \n",
      "                                )                                                                 \n",
      "                                                                                                  \n",
      " conv3_block3_3_bn (BatchNormal  (None, 88, 107, 512  2048       ['conv3_block3_3_conv[0][0]']    \n",
      " ization)                       )                                                                 \n",
      "                                                                                                  \n",
      " conv3_block3_add (Add)         (None, 88, 107, 512  0           ['conv3_block2_out[0][0]',       \n",
      "                                )                                 'conv3_block3_3_bn[0][0]']      \n",
      "                                                                                                  \n",
      " conv3_block3_out (Activation)  (None, 88, 107, 512  0           ['conv3_block3_add[0][0]']       \n",
      "                                )                                                                 \n",
      "                                                                                                  \n",
      " conv3_block4_1_conv (Conv2D)   (None, 88, 107, 128  65664       ['conv3_block3_out[0][0]']       \n",
      "                                )                                                                 \n",
      "                                                                                                  \n",
      " conv3_block4_1_bn (BatchNormal  (None, 88, 107, 128  512        ['conv3_block4_1_conv[0][0]']    \n",
      " ization)                       )                                                                 \n",
      "                                                                                                  \n",
      " conv3_block4_1_relu (Activatio  (None, 88, 107, 128  0          ['conv3_block4_1_bn[0][0]']      \n",
      " n)                             )                                                                 \n",
      "                                                                                                  \n",
      " conv3_block4_2_conv (Conv2D)   (None, 88, 107, 128  147584      ['conv3_block4_1_relu[0][0]']    \n",
      "                                )                                                                 \n",
      "                                                                                                  \n",
      " conv3_block4_2_bn (BatchNormal  (None, 88, 107, 128  512        ['conv3_block4_2_conv[0][0]']    \n",
      " ization)                       )                                                                 \n",
      "                                                                                                  \n",
      " conv3_block4_2_relu (Activatio  (None, 88, 107, 128  0          ['conv3_block4_2_bn[0][0]']      \n",
      " n)                             )                                                                 \n",
      "                                                                                                  \n",
      " conv3_block4_3_conv (Conv2D)   (None, 88, 107, 512  66048       ['conv3_block4_2_relu[0][0]']    \n",
      "                                )                                                                 \n",
      "                                                                                                  \n",
      " conv3_block4_3_bn (BatchNormal  (None, 88, 107, 512  2048       ['conv3_block4_3_conv[0][0]']    \n",
      " ization)                       )                                                                 \n",
      "                                                                                                  \n",
      " conv3_block4_add (Add)         (None, 88, 107, 512  0           ['conv3_block3_out[0][0]',       \n",
      "                                )                                 'conv3_block4_3_bn[0][0]']      \n",
      "                                                                                                  \n",
      " conv3_block4_out (Activation)  (None, 88, 107, 512  0           ['conv3_block4_add[0][0]']       \n",
      "                                )                                                                 \n",
      "                                                                                                  \n",
      " conv4_block1_1_conv (Conv2D)   (None, 44, 54, 256)  131328      ['conv3_block4_out[0][0]']       \n",
      "                                                                                                  \n",
      " conv4_block1_1_bn (BatchNormal  (None, 44, 54, 256)  1024       ['conv4_block1_1_conv[0][0]']    \n",
      " ization)                                                                                         \n",
      "                                                                                                  \n",
      " conv4_block1_1_relu (Activatio  (None, 44, 54, 256)  0          ['conv4_block1_1_bn[0][0]']      \n",
      " n)                                                                                               \n",
      "                                                                                                  \n",
      " conv4_block1_2_conv (Conv2D)   (None, 44, 54, 256)  590080      ['conv4_block1_1_relu[0][0]']    \n",
      "                                                                                                  \n",
      " conv4_block1_2_bn (BatchNormal  (None, 44, 54, 256)  1024       ['conv4_block1_2_conv[0][0]']    \n",
      " ization)                                                                                         \n",
      "                                                                                                  \n",
      " conv4_block1_2_relu (Activatio  (None, 44, 54, 256)  0          ['conv4_block1_2_bn[0][0]']      \n",
      " n)                                                                                               \n",
      "                                                                                                  \n",
      " conv4_block1_0_conv (Conv2D)   (None, 44, 54, 1024  525312      ['conv3_block4_out[0][0]']       \n",
      "                                )                                                                 \n",
      "                                                                                                  \n",
      " conv4_block1_3_conv (Conv2D)   (None, 44, 54, 1024  263168      ['conv4_block1_2_relu[0][0]']    \n",
      "                                )                                                                 \n",
      "                                                                                                  \n",
      " conv4_block1_0_bn (BatchNormal  (None, 44, 54, 1024  4096       ['conv4_block1_0_conv[0][0]']    \n",
      " ization)                       )                                                                 \n",
      "                                                                                                  \n",
      " conv4_block1_3_bn (BatchNormal  (None, 44, 54, 1024  4096       ['conv4_block1_3_conv[0][0]']    \n",
      " ization)                       )                                                                 \n",
      "                                                                                                  \n",
      " conv4_block1_add (Add)         (None, 44, 54, 1024  0           ['conv4_block1_0_bn[0][0]',      \n",
      "                                )                                 'conv4_block1_3_bn[0][0]']      \n",
      "                                                                                                  \n",
      " conv4_block1_out (Activation)  (None, 44, 54, 1024  0           ['conv4_block1_add[0][0]']       \n",
      "                                )                                                                 \n",
      "                                                                                                  \n",
      " conv4_block2_1_conv (Conv2D)   (None, 44, 54, 256)  262400      ['conv4_block1_out[0][0]']       \n",
      "                                                                                                  \n",
      " conv4_block2_1_bn (BatchNormal  (None, 44, 54, 256)  1024       ['conv4_block2_1_conv[0][0]']    \n",
      " ization)                                                                                         \n",
      "                                                                                                  \n",
      " conv4_block2_1_relu (Activatio  (None, 44, 54, 256)  0          ['conv4_block2_1_bn[0][0]']      \n",
      " n)                                                                                               \n",
      "                                                                                                  \n",
      " conv4_block2_2_conv (Conv2D)   (None, 44, 54, 256)  590080      ['conv4_block2_1_relu[0][0]']    \n",
      "                                                                                                  \n",
      " conv4_block2_2_bn (BatchNormal  (None, 44, 54, 256)  1024       ['conv4_block2_2_conv[0][0]']    \n",
      " ization)                                                                                         \n",
      "                                                                                                  \n",
      " conv4_block2_2_relu (Activatio  (None, 44, 54, 256)  0          ['conv4_block2_2_bn[0][0]']      \n",
      " n)                                                                                               \n",
      "                                                                                                  \n",
      " conv4_block2_3_conv (Conv2D)   (None, 44, 54, 1024  263168      ['conv4_block2_2_relu[0][0]']    \n",
      "                                )                                                                 \n",
      "                                                                                                  \n",
      " conv4_block2_3_bn (BatchNormal  (None, 44, 54, 1024  4096       ['conv4_block2_3_conv[0][0]']    \n",
      " ization)                       )                                                                 \n",
      "                                                                                                  \n",
      " conv4_block2_add (Add)         (None, 44, 54, 1024  0           ['conv4_block1_out[0][0]',       \n",
      "                                )                                 'conv4_block2_3_bn[0][0]']      \n",
      "                                                                                                  \n",
      " conv4_block2_out (Activation)  (None, 44, 54, 1024  0           ['conv4_block2_add[0][0]']       \n",
      "                                )                                                                 \n",
      "                                                                                                  \n",
      " conv4_block3_1_conv (Conv2D)   (None, 44, 54, 256)  262400      ['conv4_block2_out[0][0]']       \n",
      "                                                                                                  \n",
      " conv4_block3_1_bn (BatchNormal  (None, 44, 54, 256)  1024       ['conv4_block3_1_conv[0][0]']    \n",
      " ization)                                                                                         \n",
      "                                                                                                  \n",
      " conv4_block3_1_relu (Activatio  (None, 44, 54, 256)  0          ['conv4_block3_1_bn[0][0]']      \n",
      " n)                                                                                               \n",
      "                                                                                                  \n",
      " conv4_block3_2_conv (Conv2D)   (None, 44, 54, 256)  590080      ['conv4_block3_1_relu[0][0]']    \n",
      "                                                                                                  \n",
      " conv4_block3_2_bn (BatchNormal  (None, 44, 54, 256)  1024       ['conv4_block3_2_conv[0][0]']    \n",
      " ization)                                                                                         \n",
      "                                                                                                  \n",
      " conv4_block3_2_relu (Activatio  (None, 44, 54, 256)  0          ['conv4_block3_2_bn[0][0]']      \n",
      " n)                                                                                               \n",
      "                                                                                                  \n",
      " conv4_block3_3_conv (Conv2D)   (None, 44, 54, 1024  263168      ['conv4_block3_2_relu[0][0]']    \n",
      "                                )                                                                 \n",
      "                                                                                                  \n",
      " conv4_block3_3_bn (BatchNormal  (None, 44, 54, 1024  4096       ['conv4_block3_3_conv[0][0]']    \n",
      " ization)                       )                                                                 \n",
      "                                                                                                  \n",
      " conv4_block3_add (Add)         (None, 44, 54, 1024  0           ['conv4_block2_out[0][0]',       \n",
      "                                )                                 'conv4_block3_3_bn[0][0]']      \n",
      "                                                                                                  \n",
      " conv4_block3_out (Activation)  (None, 44, 54, 1024  0           ['conv4_block3_add[0][0]']       \n",
      "                                )                                                                 \n",
      "                                                                                                  \n",
      " conv4_block4_1_conv (Conv2D)   (None, 44, 54, 256)  262400      ['conv4_block3_out[0][0]']       \n",
      "                                                                                                  \n",
      " conv4_block4_1_bn (BatchNormal  (None, 44, 54, 256)  1024       ['conv4_block4_1_conv[0][0]']    \n",
      " ization)                                                                                         \n",
      "                                                                                                  \n",
      " conv4_block4_1_relu (Activatio  (None, 44, 54, 256)  0          ['conv4_block4_1_bn[0][0]']      \n",
      " n)                                                                                               \n",
      "                                                                                                  \n",
      " conv4_block4_2_conv (Conv2D)   (None, 44, 54, 256)  590080      ['conv4_block4_1_relu[0][0]']    \n",
      "                                                                                                  \n",
      " conv4_block4_2_bn (BatchNormal  (None, 44, 54, 256)  1024       ['conv4_block4_2_conv[0][0]']    \n",
      " ization)                                                                                         \n",
      "                                                                                                  \n",
      " conv4_block4_2_relu (Activatio  (None, 44, 54, 256)  0          ['conv4_block4_2_bn[0][0]']      \n",
      " n)                                                                                               \n",
      "                                                                                                  \n",
      " conv4_block4_3_conv (Conv2D)   (None, 44, 54, 1024  263168      ['conv4_block4_2_relu[0][0]']    \n",
      "                                )                                                                 \n",
      "                                                                                                  \n",
      " conv4_block4_3_bn (BatchNormal  (None, 44, 54, 1024  4096       ['conv4_block4_3_conv[0][0]']    \n",
      " ization)                       )                                                                 \n",
      "                                                                                                  \n",
      " conv4_block4_add (Add)         (None, 44, 54, 1024  0           ['conv4_block3_out[0][0]',       \n",
      "                                )                                 'conv4_block4_3_bn[0][0]']      \n",
      "                                                                                                  \n",
      " conv4_block4_out (Activation)  (None, 44, 54, 1024  0           ['conv4_block4_add[0][0]']       \n",
      "                                )                                                                 \n",
      "                                                                                                  \n",
      " conv4_block5_1_conv (Conv2D)   (None, 44, 54, 256)  262400      ['conv4_block4_out[0][0]']       \n",
      "                                                                                                  \n",
      " conv4_block5_1_bn (BatchNormal  (None, 44, 54, 256)  1024       ['conv4_block5_1_conv[0][0]']    \n",
      " ization)                                                                                         \n",
      "                                                                                                  \n",
      " conv4_block5_1_relu (Activatio  (None, 44, 54, 256)  0          ['conv4_block5_1_bn[0][0]']      \n",
      " n)                                                                                               \n",
      "                                                                                                  \n",
      " conv4_block5_2_conv (Conv2D)   (None, 44, 54, 256)  590080      ['conv4_block5_1_relu[0][0]']    \n",
      "                                                                                                  \n",
      " conv4_block5_2_bn (BatchNormal  (None, 44, 54, 256)  1024       ['conv4_block5_2_conv[0][0]']    \n",
      " ization)                                                                                         \n",
      "                                                                                                  \n",
      " conv4_block5_2_relu (Activatio  (None, 44, 54, 256)  0          ['conv4_block5_2_bn[0][0]']      \n",
      " n)                                                                                               \n",
      "                                                                                                  \n",
      " conv4_block5_3_conv (Conv2D)   (None, 44, 54, 1024  263168      ['conv4_block5_2_relu[0][0]']    \n",
      "                                )                                                                 \n",
      "                                                                                                  \n",
      " conv4_block5_3_bn (BatchNormal  (None, 44, 54, 1024  4096       ['conv4_block5_3_conv[0][0]']    \n",
      " ization)                       )                                                                 \n",
      "                                                                                                  \n",
      " conv4_block5_add (Add)         (None, 44, 54, 1024  0           ['conv4_block4_out[0][0]',       \n",
      "                                )                                 'conv4_block5_3_bn[0][0]']      \n",
      "                                                                                                  \n",
      " conv4_block5_out (Activation)  (None, 44, 54, 1024  0           ['conv4_block5_add[0][0]']       \n",
      "                                )                                                                 \n",
      "                                                                                                  \n",
      " conv4_block6_1_conv (Conv2D)   (None, 44, 54, 256)  262400      ['conv4_block5_out[0][0]']       \n",
      "                                                                                                  \n",
      " conv4_block6_1_bn (BatchNormal  (None, 44, 54, 256)  1024       ['conv4_block6_1_conv[0][0]']    \n",
      " ization)                                                                                         \n",
      "                                                                                                  \n",
      " conv4_block6_1_relu (Activatio  (None, 44, 54, 256)  0          ['conv4_block6_1_bn[0][0]']      \n",
      " n)                                                                                               \n",
      "                                                                                                  \n",
      " conv4_block6_2_conv (Conv2D)   (None, 44, 54, 256)  590080      ['conv4_block6_1_relu[0][0]']    \n",
      "                                                                                                  \n",
      " conv4_block6_2_bn (BatchNormal  (None, 44, 54, 256)  1024       ['conv4_block6_2_conv[0][0]']    \n",
      " ization)                                                                                         \n",
      "                                                                                                  \n",
      " conv4_block6_2_relu (Activatio  (None, 44, 54, 256)  0          ['conv4_block6_2_bn[0][0]']      \n",
      " n)                                                                                               \n",
      "                                                                                                  \n",
      " conv4_block6_3_conv (Conv2D)   (None, 44, 54, 1024  263168      ['conv4_block6_2_relu[0][0]']    \n",
      "                                )                                                                 \n",
      "                                                                                                  \n",
      " conv4_block6_3_bn (BatchNormal  (None, 44, 54, 1024  4096       ['conv4_block6_3_conv[0][0]']    \n",
      " ization)                       )                                                                 \n",
      "                                                                                                  \n",
      " conv4_block6_add (Add)         (None, 44, 54, 1024  0           ['conv4_block5_out[0][0]',       \n",
      "                                )                                 'conv4_block6_3_bn[0][0]']      \n",
      "                                                                                                  \n",
      " conv4_block6_out (Activation)  (None, 44, 54, 1024  0           ['conv4_block6_add[0][0]']       \n",
      "                                )                                                                 \n",
      "                                                                                                  \n",
      " conv5_block1_1_conv (Conv2D)   (None, 22, 27, 512)  524800      ['conv4_block6_out[0][0]']       \n",
      "                                                                                                  \n",
      " conv5_block1_1_bn (BatchNormal  (None, 22, 27, 512)  2048       ['conv5_block1_1_conv[0][0]']    \n",
      " ization)                                                                                         \n",
      "                                                                                                  \n",
      " conv5_block1_1_relu (Activatio  (None, 22, 27, 512)  0          ['conv5_block1_1_bn[0][0]']      \n",
      " n)                                                                                               \n",
      "                                                                                                  \n",
      " conv5_block1_2_conv (Conv2D)   (None, 22, 27, 512)  2359808     ['conv5_block1_1_relu[0][0]']    \n",
      "                                                                                                  \n",
      " conv5_block1_2_bn (BatchNormal  (None, 22, 27, 512)  2048       ['conv5_block1_2_conv[0][0]']    \n",
      " ization)                                                                                         \n",
      "                                                                                                  \n",
      " conv5_block1_2_relu (Activatio  (None, 22, 27, 512)  0          ['conv5_block1_2_bn[0][0]']      \n",
      " n)                                                                                               \n",
      "                                                                                                  \n",
      " conv5_block1_0_conv (Conv2D)   (None, 22, 27, 2048  2099200     ['conv4_block6_out[0][0]']       \n",
      "                                )                                                                 \n",
      "                                                                                                  \n",
      " conv5_block1_3_conv (Conv2D)   (None, 22, 27, 2048  1050624     ['conv5_block1_2_relu[0][0]']    \n",
      "                                )                                                                 \n",
      "                                                                                                  \n",
      " conv5_block1_0_bn (BatchNormal  (None, 22, 27, 2048  8192       ['conv5_block1_0_conv[0][0]']    \n",
      " ization)                       )                                                                 \n",
      "                                                                                                  \n",
      " conv5_block1_3_bn (BatchNormal  (None, 22, 27, 2048  8192       ['conv5_block1_3_conv[0][0]']    \n",
      " ization)                       )                                                                 \n",
      "                                                                                                  \n",
      " conv5_block1_add (Add)         (None, 22, 27, 2048  0           ['conv5_block1_0_bn[0][0]',      \n",
      "                                )                                 'conv5_block1_3_bn[0][0]']      \n",
      "                                                                                                  \n",
      " conv5_block1_out (Activation)  (None, 22, 27, 2048  0           ['conv5_block1_add[0][0]']       \n",
      "                                )                                                                 \n",
      "                                                                                                  \n",
      " conv5_block2_1_conv (Conv2D)   (None, 22, 27, 512)  1049088     ['conv5_block1_out[0][0]']       \n",
      "                                                                                                  \n",
      " conv5_block2_1_bn (BatchNormal  (None, 22, 27, 512)  2048       ['conv5_block2_1_conv[0][0]']    \n",
      " ization)                                                                                         \n",
      "                                                                                                  \n",
      " conv5_block2_1_relu (Activatio  (None, 22, 27, 512)  0          ['conv5_block2_1_bn[0][0]']      \n",
      " n)                                                                                               \n",
      "                                                                                                  \n",
      " conv5_block2_2_conv (Conv2D)   (None, 22, 27, 512)  2359808     ['conv5_block2_1_relu[0][0]']    \n",
      "                                                                                                  \n",
      " conv5_block2_2_bn (BatchNormal  (None, 22, 27, 512)  2048       ['conv5_block2_2_conv[0][0]']    \n",
      " ization)                                                                                         \n",
      "                                                                                                  \n",
      " conv5_block2_2_relu (Activatio  (None, 22, 27, 512)  0          ['conv5_block2_2_bn[0][0]']      \n",
      " n)                                                                                               \n",
      "                                                                                                  \n",
      " conv5_block2_3_conv (Conv2D)   (None, 22, 27, 2048  1050624     ['conv5_block2_2_relu[0][0]']    \n",
      "                                )                                                                 \n",
      "                                                                                                  \n",
      " conv5_block2_3_bn (BatchNormal  (None, 22, 27, 2048  8192       ['conv5_block2_3_conv[0][0]']    \n",
      " ization)                       )                                                                 \n",
      "                                                                                                  \n",
      " conv5_block2_add (Add)         (None, 22, 27, 2048  0           ['conv5_block1_out[0][0]',       \n",
      "                                )                                 'conv5_block2_3_bn[0][0]']      \n",
      "                                                                                                  \n",
      " conv5_block2_out (Activation)  (None, 22, 27, 2048  0           ['conv5_block2_add[0][0]']       \n",
      "                                )                                                                 \n",
      "                                                                                                  \n",
      " conv5_block3_1_conv (Conv2D)   (None, 22, 27, 512)  1049088     ['conv5_block2_out[0][0]']       \n",
      "                                                                                                  \n",
      " conv5_block3_1_bn (BatchNormal  (None, 22, 27, 512)  2048       ['conv5_block3_1_conv[0][0]']    \n",
      " ization)                                                                                         \n",
      "                                                                                                  \n",
      " conv5_block3_1_relu (Activatio  (None, 22, 27, 512)  0          ['conv5_block3_1_bn[0][0]']      \n",
      " n)                                                                                               \n",
      "                                                                                                  \n",
      " conv5_block3_2_conv (Conv2D)   (None, 22, 27, 512)  2359808     ['conv5_block3_1_relu[0][0]']    \n",
      "                                                                                                  \n",
      " conv5_block3_2_bn (BatchNormal  (None, 22, 27, 512)  2048       ['conv5_block3_2_conv[0][0]']    \n",
      " ization)                                                                                         \n",
      "                                                                                                  \n",
      " conv5_block3_2_relu (Activatio  (None, 22, 27, 512)  0          ['conv5_block3_2_bn[0][0]']      \n",
      " n)                                                                                               \n",
      "                                                                                                  \n",
      " conv5_block3_3_conv (Conv2D)   (None, 22, 27, 2048  1050624     ['conv5_block3_2_relu[0][0]']    \n",
      "                                )                                                                 \n",
      "                                                                                                  \n",
      " conv5_block3_3_bn (BatchNormal  (None, 22, 27, 2048  8192       ['conv5_block3_3_conv[0][0]']    \n",
      " ization)                       )                                                                 \n",
      "                                                                                                  \n",
      " conv5_block3_add (Add)         (None, 22, 27, 2048  0           ['conv5_block2_out[0][0]',       \n",
      "                                )                                 'conv5_block3_3_bn[0][0]']      \n",
      "                                                                                                  \n",
      " conv5_block3_out (Activation)  (None, 22, 27, 2048  0           ['conv5_block3_add[0][0]']       \n",
      "                                )                                                                 \n",
      "                                                                                                  \n",
      " flatten (Flatten)              (None, 1216512)      0           ['conv5_block3_out[0][0]']       \n",
      "                                                                                                  \n",
      " dense (Dense)                  (None, 256)          311427328   ['flatten[0][0]']                \n",
      "                                                                                                  \n",
      " dropout (Dropout)              (None, 256)          0           ['dense[0][0]']                  \n",
      "                                                                                                  \n",
      " dense_1 (Dense)                (None, 4)            1028        ['dropout[0][0]']                \n",
      "                                                                                                  \n",
      "==================================================================================================\n",
      "Total params: 335,016,068\n",
      "Trainable params: 326,404,356\n",
      "Non-trainable params: 8,611,712\n",
      "__________________________________________________________________________________________________\n"
     ]
    }
   ],
   "source": [
    "x = Flatten()(resnet_model.output)\n",
    "x = Dense(256, activation=\"relu\")(x)\n",
    "x = Dropout(0.5)(x)\n",
    "prediction = Dense(4, activation='softmax')(x)\n",
    "model = Model(inputs=resnet_model.input, outputs=prediction)\n",
    "model.summary()"
   ]
  },
  {
   "attachments": {},
   "cell_type": "markdown",
   "metadata": {},
   "source": [
    "# Training"
   ]
  },
  {
   "cell_type": "code",
   "execution_count": 14,
   "metadata": {},
   "outputs": [],
   "source": [
    "STEP_SIZE_TRAIN=train_generator.n//train_generator.batch_size\n",
    "STEP_SIZE_VALID=val_generator.n//val_generator.batch_size\n",
    "STEP_SIZE_TEST=test_generator.n//test_generator.batch_size"
   ]
  },
  {
   "cell_type": "code",
   "execution_count": 15,
   "metadata": {},
   "outputs": [
    {
     "name": "stdout",
     "output_type": "stream",
     "text": [
      "WARNING:tensorflow:`epsilon` argument is deprecated and will be removed, use `min_delta` instead.\n"
     ]
    }
   ],
   "source": [
    "#model_name = 'resnet50_201based_models\\{}_{}_{}_vgg16.h5'.format(seg_model, seg_nd, cluster_num)\n",
    "model_name = 'resnet_201_aligned_model\\{}_{}_{}_resnet_nontrainable.h5'.format(seg_model, seg_nd, cluster_num)\n",
    "earlystop = EarlyStopping(monitor='val_loss', patience=7, verbose=0, mode='min',restore_best_weights=True)\n",
    "reduce_lr_loss = ReduceLROnPlateau(monitor='val_loss', factor=0.1, patience=5, verbose=1, epsilon=1e-4, mode='min')\n",
    "\n",
    "model.compile(optimizer=Adam(learning_rate=0.0001), loss='categorical_crossentropy', metrics=['accuracy'])\n",
    "checkpoint = ModelCheckpoint(model_name, save_best_only=True, monitor='val_loss', mode='min')\n",
    "callbacks =  [checkpoint, earlystop, reduce_lr_loss] #[checkpoint, reduce_lr_loss] "
   ]
  },
  {
   "attachments": {},
   "cell_type": "markdown",
   "metadata": {},
   "source": [
    "resnet is able to use batch size 32"
   ]
  },
  {
   "cell_type": "code",
   "execution_count": 16,
   "metadata": {},
   "outputs": [
    {
     "name": "stderr",
     "output_type": "stream",
     "text": [
      "C:\\Users\\s1923493\\AppData\\Local\\Temp\\ipykernel_22896\\85466566.py:2: UserWarning: `Model.fit_generator` is deprecated and will be removed in a future version. Please use `Model.fit`, which supports generators.\n",
      "  model_history = model.fit_generator(generator=train_generator,\n"
     ]
    },
    {
     "name": "stdout",
     "output_type": "stream",
     "text": [
      "Epoch 1/30\n",
      "100/100 [==============================] - 107s 1s/step - loss: 1.0261 - accuracy: 0.9695 - val_loss: 2.0013 - val_accuracy: 0.9381 - lr: 1.0000e-04\n",
      "Epoch 2/30\n",
      "100/100 [==============================] - 93s 934ms/step - loss: 0.0049 - accuracy: 0.9987 - val_loss: 0.2000 - val_accuracy: 0.9737 - lr: 1.0000e-04\n",
      "Epoch 3/30\n",
      "100/100 [==============================] - 70s 702ms/step - loss: 6.4646e-05 - accuracy: 1.0000 - val_loss: 0.8276 - val_accuracy: 0.9506 - lr: 1.0000e-04\n",
      "Epoch 4/30\n",
      "100/100 [==============================] - 71s 711ms/step - loss: 0.0055 - accuracy: 0.9994 - val_loss: 0.9149 - val_accuracy: 0.9500 - lr: 1.0000e-04\n",
      "Epoch 5/30\n",
      "100/100 [==============================] - 71s 714ms/step - loss: 0.0243 - accuracy: 0.9987 - val_loss: 0.8405 - val_accuracy: 0.9519 - lr: 1.0000e-04\n",
      "Epoch 6/30\n",
      "100/100 [==============================] - 72s 718ms/step - loss: 0.0105 - accuracy: 0.9997 - val_loss: 0.4541 - val_accuracy: 0.9588 - lr: 1.0000e-04\n",
      "Epoch 7/30\n",
      "100/100 [==============================] - ETA: 0s - loss: 4.0055e-06 - accuracy: 1.0000\n",
      "Epoch 7: ReduceLROnPlateau reducing learning rate to 9.999999747378752e-06.\n",
      "100/100 [==============================] - 71s 712ms/step - loss: 4.0055e-06 - accuracy: 1.0000 - val_loss: 0.4345 - val_accuracy: 0.9594 - lr: 1.0000e-04\n",
      "Epoch 8/30\n",
      "100/100 [==============================] - 71s 713ms/step - loss: 6.2105e-06 - accuracy: 1.0000 - val_loss: 0.4242 - val_accuracy: 0.9613 - lr: 1.0000e-05\n",
      "Epoch 9/30\n",
      "100/100 [==============================] - 72s 714ms/step - loss: 2.3332e-06 - accuracy: 1.0000 - val_loss: 0.4317 - val_accuracy: 0.9600 - lr: 1.0000e-05\n",
      "Training time:  0:11:40.303284\n"
     ]
    }
   ],
   "source": [
    "start = datetime.now()\n",
    "model_history = model.fit_generator(generator=train_generator,\n",
    "                    steps_per_epoch=STEP_SIZE_TRAIN,\n",
    "                    validation_data=val_generator,\n",
    "                    validation_steps=STEP_SIZE_VALID,\n",
    "                    epochs=30,\n",
    "                    callbacks=callbacks, verbose=1)\n",
    "\n",
    "duration = datetime.now() - start\n",
    "print(\"Training time: \", duration)"
   ]
  },
  {
   "attachments": {},
   "cell_type": "markdown",
   "metadata": {},
   "source": [
    "# Test & Evaluation"
   ]
  },
  {
   "cell_type": "code",
   "execution_count": 17,
   "metadata": {},
   "outputs": [
    {
     "name": "stdout",
     "output_type": "stream",
     "text": [
      "50/50 [==============================] - 20s 383ms/step\n"
     ]
    }
   ],
   "source": [
    "test_generator.reset()\n",
    "pred=model.predict(test_generator,\n",
    "                             steps=STEP_SIZE_TEST,\n",
    "                             verbose=1)"
   ]
  },
  {
   "cell_type": "code",
   "execution_count": 18,
   "metadata": {},
   "outputs": [
    {
     "name": "stdout",
     "output_type": "stream",
     "text": [
      "Test Accuracy:  0.91625\n",
      "[1.         0.85653105 1.         1.        ] [1.    1.    1.    0.665] [1.         0.92272203 1.         0.7987988 ]\n",
      "macro-averaged of 4 classes:\n",
      "0.9641327623126339 0.9303802071968162 0.9303802071968162\n",
      "macro-averaged of 3 classes:\n",
      "0.9521770164168452 0.9071736095957549 0.9071736095957549\n"
     ]
    }
   ],
   "source": [
    "predicted_class_indices = np.argmax(pred,axis=1) + 1 # because the class 0 is now used for those undecided pixels\n",
    "# test_df = test_set.reset_index()\n",
    "# test_df['vgg16_predict'] = pd.Series(predicted_class_indices)\n",
    "#\"\"\"need to test the function below first\"\"\"\n",
    "gold_label = test_set['class'].map(int)\n",
    "gold_label = gold_label.to_numpy()\n",
    "p, r, f1, _ = precision_recall_fscore_support(gold_label, predicted_class_indices, average=None, labels=[1,2,3,4])\n",
    "acc = accuracy_score(gold_label, predicted_class_indices)\n",
    "print(\"Test Accuracy: \", acc)\n",
    "print(p, r, f1)\n",
    "macro_p, macro_r, macro_f, _ = precision_recall_fscore_support(gold_label, predicted_class_indices, average='macro', labels=[1,2,3,4])\n",
    "macro_p3, macro_r3, macro_f3, _ = precision_recall_fscore_support(gold_label, predicted_class_indices, average='macro', labels=[1,2,4])\n",
    "micro_p, micro_r, micro_f, _ = precision_recall_fscore_support(gold_label, predicted_class_indices, average='micro', labels=[1,2,3,4])\n",
    "micro_p3, micro_r3, micro_f3, _ = precision_recall_fscore_support(gold_label, predicted_class_indices, average='micro', labels=[1,2,4])\n",
    "print(\"macro-averaged of 4 classes:\")\n",
    "print(macro_p, macro_r, macro_f)\n",
    "print(\"macro-averaged of 3 classes:\")\n",
    "print(macro_p3, macro_r3, macro_f3)"
   ]
  },
  {
   "attachments": {},
   "cell_type": "markdown",
   "metadata": {},
   "source": [
    "# Plots"
   ]
  },
  {
   "cell_type": "code",
   "execution_count": 19,
   "metadata": {},
   "outputs": [],
   "source": [
    "img_folder = os.path.join('report_images', 'model_plots', 'resnet50_aligned')"
   ]
  },
  {
   "cell_type": "code",
   "execution_count": 20,
   "metadata": {},
   "outputs": [
    {
     "data": {
      "image/png": "[encoded data removed]",
      "text/plain": [
       "<Figure size 432x288 with 1 Axes>"
      ]
     },
     "metadata": {
      "needs_background": "light"
     },
     "output_type": "display_data"
    }
   ],
   "source": [
    "# summarize history for accuracy\n",
    "acc_img = os.path.join(img_folder, '{}_{}_{}_resnet_201_batch32_acc.pdf'.format(seg_model, seg_nd, cluster_num))\n",
    "plt.plot(model_history.history['accuracy'])\n",
    "plt.plot(model_history.history['val_accuracy'])\n",
    "plt.title('model accuracy')\n",
    "plt.ylabel('accuracy')\n",
    "plt.xlabel('epoch')\n",
    "plt.legend(['train', 'val'], loc='upper left')\n",
    "plt.savefig(acc_img)\n",
    "plt.show()"
   ]
  },
  {
   "cell_type": "code",
   "execution_count": 21,
   "metadata": {},
   "outputs": [
    {
     "data": {
      "image/png": "[encoded data removed]",
      "text/plain": [
       "<Figure size 432x288 with 1 Axes>"
      ]
     },
     "metadata": {
      "needs_background": "light"
     },
     "output_type": "display_data"
    }
   ],
   "source": [
    "# summarize history for loss\n",
    "loss_img = os.path.join(img_folder, '{}_{}_{}_resnet_201_batch32_loss.pdf'.format(seg_model, seg_nd, cluster_num))\n",
    "plt.plot(model_history.history['loss'])\n",
    "plt.plot(model_history.history['val_loss'])\n",
    "plt.title('model loss')\n",
    "plt.ylabel('loss')\n",
    "plt.xlabel('epoch')\n",
    "plt.legend(['train', 'val'], loc='upper left')\n",
    "plt.savefig(loss_img)\n",
    "plt.show()"
   ]
  },
  {
   "cell_type": "code",
   "execution_count": 22,
   "metadata": {},
   "outputs": [],
   "source": [
    "from sklearn.metrics import confusion_matrix\n",
    "from mlxtend.plotting import plot_confusion_matrix"
   ]
  },
  {
   "cell_type": "code",
   "execution_count": 23,
   "metadata": {},
   "outputs": [
    {
     "data": {
      "image/png": "[encoded data removed]",
      "text/plain": [
       "<Figure size 432x288 with 2 Axes>"
      ]
     },
     "metadata": {
      "needs_background": "light"
     },
     "output_type": "display_data"
    }
   ],
   "source": [
    "cm_img = os.path.join(img_folder, '{}_{}_{}_resnet_201_batch32_cm.pdf'.format(seg_model, seg_nd, cluster_num))\n",
    "cm  = confusion_matrix(gold_label, predicted_class_indices, labels=[1,2,3,4])\n",
    "class_name = ['pore', 'gypsum', 'celestite', 'bassanite']\n",
    "fig, ax = plot_confusion_matrix(conf_mat=cm, colorbar=True, show_absolute=True, show_normed=True, cmap=plt.cm.Blues, class_names=class_name)\n",
    "# plt.xlabel('Predictions', fontsize=16)\n",
    "# plt.ylabel('Actuals', fontsize=16)\n",
    "plt.title('Confusion Matrix', fontsize=18)\n",
    "plt.savefig(cm_img)\n",
    "plt.show()"
   ]
  },
  {
   "attachments": {},
   "cell_type": "markdown",
   "metadata": {},
   "source": [
    "# Test on results from other cluster num"
   ]
  },
  {
   "attachments": {},
   "cell_type": "markdown",
   "metadata": {},
   "source": [
    "### Prepare label"
   ]
  },
  {
   "cell_type": "code",
   "execution_count": 42,
   "metadata": {},
   "outputs": [],
   "source": [
    "other_cluster_num = 64"
   ]
  },
  {
   "cell_type": "code",
   "execution_count": 43,
   "metadata": {},
   "outputs": [],
   "source": [
    "# corresponding csv file to get slice & cluster combination\n",
    "csv_file = os.path.join(os.getcwd(), 'seg_res_evaluation_csv', '{}_{}_{}.csv'.format(seg_model, seg_nd, other_cluster_num))\n",
    "df = pd.read_csv(csv_file, usecols = ['slice', 'current_cluster'])\n",
    "df['filename'] = df['slice'].map(str) + '\\VA10_0050_0' + df['slice'].map(str) + '_' + df['current_cluster'].map(get_cluster_num_str)  + '.rec.8bit.png'"
   ]
  },
  {
   "cell_type": "code",
   "execution_count": 44,
   "metadata": {},
   "outputs": [],
   "source": [
    "# prepare labels for data generator\n",
    "cluster_label_one_slice = auto_label_last_201(seg_model, seg_nd, other_cluster_num, PRECISION_SOLO, threshold=0)\n",
    "cluster_label = np.array(cluster_label_one_slice*401)\n",
    "df['class'] = cluster_label\n",
    "df['class'] = df['class'].map(str)"
   ]
  },
  {
   "cell_type": "code",
   "execution_count": 45,
   "metadata": {},
   "outputs": [
    {
     "data": {
      "text/html": [
       "<div>\n",
       "<style scoped>\n",
       "    .dataframe tbody tr th:only-of-type {\n",
       "        vertical-align: middle;\n",
       "    }\n",
       "\n",
       "    .dataframe tbody tr th {\n",
       "        vertical-align: top;\n",
       "    }\n",
       "\n",
       "    .dataframe thead th {\n",
       "        text-align: right;\n",
       "    }\n",
       "</style>\n",
       "<table border=\"1\" class=\"dataframe\">\n",
       "  <thead>\n",
       "    <tr style=\"text-align: right;\">\n",
       "      <th></th>\n",
       "      <th>index</th>\n",
       "      <th>slice</th>\n",
       "      <th>current_cluster</th>\n",
       "      <th>filename</th>\n",
       "      <th>class</th>\n",
       "    </tr>\n",
       "  </thead>\n",
       "  <tbody>\n",
       "    <tr>\n",
       "      <th>0</th>\n",
       "      <td>0</td>\n",
       "      <td>400</td>\n",
       "      <td>0</td>\n",
       "      <td>400\\VA10_0050_0400_000.rec.8bit.png</td>\n",
       "      <td>2</td>\n",
       "    </tr>\n",
       "    <tr>\n",
       "      <th>1</th>\n",
       "      <td>1</td>\n",
       "      <td>400</td>\n",
       "      <td>1</td>\n",
       "      <td>400\\VA10_0050_0400_001.rec.8bit.png</td>\n",
       "      <td>4</td>\n",
       "    </tr>\n",
       "    <tr>\n",
       "      <th>2</th>\n",
       "      <td>2</td>\n",
       "      <td>400</td>\n",
       "      <td>2</td>\n",
       "      <td>400\\VA10_0050_0400_002.rec.8bit.png</td>\n",
       "      <td>3</td>\n",
       "    </tr>\n",
       "    <tr>\n",
       "      <th>3</th>\n",
       "      <td>3</td>\n",
       "      <td>400</td>\n",
       "      <td>3</td>\n",
       "      <td>400\\VA10_0050_0400_003.rec.8bit.png</td>\n",
       "      <td>1</td>\n",
       "    </tr>\n",
       "    <tr>\n",
       "      <th>4</th>\n",
       "      <td>4</td>\n",
       "      <td>400</td>\n",
       "      <td>4</td>\n",
       "      <td>400\\VA10_0050_0400_004.rec.8bit.png</td>\n",
       "      <td>2</td>\n",
       "    </tr>\n",
       "    <tr>\n",
       "      <th>...</th>\n",
       "      <td>...</td>\n",
       "      <td>...</td>\n",
       "      <td>...</td>\n",
       "      <td>...</td>\n",
       "      <td>...</td>\n",
       "    </tr>\n",
       "    <tr>\n",
       "      <th>6395</th>\n",
       "      <td>6395</td>\n",
       "      <td>499</td>\n",
       "      <td>59</td>\n",
       "      <td>499\\VA10_0050_0499_059.rec.8bit.png</td>\n",
       "      <td>4</td>\n",
       "    </tr>\n",
       "    <tr>\n",
       "      <th>6396</th>\n",
       "      <td>6396</td>\n",
       "      <td>499</td>\n",
       "      <td>60</td>\n",
       "      <td>499\\VA10_0050_0499_060.rec.8bit.png</td>\n",
       "      <td>2</td>\n",
       "    </tr>\n",
       "    <tr>\n",
       "      <th>6397</th>\n",
       "      <td>6397</td>\n",
       "      <td>499</td>\n",
       "      <td>61</td>\n",
       "      <td>499\\VA10_0050_0499_061.rec.8bit.png</td>\n",
       "      <td>1</td>\n",
       "    </tr>\n",
       "    <tr>\n",
       "      <th>6398</th>\n",
       "      <td>6398</td>\n",
       "      <td>499</td>\n",
       "      <td>62</td>\n",
       "      <td>499\\VA10_0050_0499_062.rec.8bit.png</td>\n",
       "      <td>2</td>\n",
       "    </tr>\n",
       "    <tr>\n",
       "      <th>6399</th>\n",
       "      <td>6399</td>\n",
       "      <td>499</td>\n",
       "      <td>63</td>\n",
       "      <td>499\\VA10_0050_0499_063.rec.8bit.png</td>\n",
       "      <td>4</td>\n",
       "    </tr>\n",
       "  </tbody>\n",
       "</table>\n",
       "<p>6400 rows × 5 columns</p>\n",
       "</div>"
      ],
      "text/plain": [
       "      index  slice  current_cluster                             filename class\n",
       "0         0    400                0  400\\VA10_0050_0400_000.rec.8bit.png     2\n",
       "1         1    400                1  400\\VA10_0050_0400_001.rec.8bit.png     4\n",
       "2         2    400                2  400\\VA10_0050_0400_002.rec.8bit.png     3\n",
       "3         3    400                3  400\\VA10_0050_0400_003.rec.8bit.png     1\n",
       "4         4    400                4  400\\VA10_0050_0400_004.rec.8bit.png     2\n",
       "...     ...    ...              ...                                  ...   ...\n",
       "6395   6395    499               59  499\\VA10_0050_0499_059.rec.8bit.png     4\n",
       "6396   6396    499               60  499\\VA10_0050_0499_060.rec.8bit.png     2\n",
       "6397   6397    499               61  499\\VA10_0050_0499_061.rec.8bit.png     1\n",
       "6398   6398    499               62  499\\VA10_0050_0499_062.rec.8bit.png     2\n",
       "6399   6399    499               63  499\\VA10_0050_0499_063.rec.8bit.png     4\n",
       "\n",
       "[6400 rows x 5 columns]"
      ]
     },
     "execution_count": 45,
     "metadata": {},
     "output_type": "execute_result"
    }
   ],
   "source": [
    "test_set = df.loc[df['slice'] < 500]\n",
    "test_set.reset_index()"
   ]
  },
  {
   "cell_type": "code",
   "execution_count": 46,
   "metadata": {},
   "outputs": [
    {
     "name": "stdout",
     "output_type": "stream",
     "text": [
      "Found 6400 validated image filenames.\n"
     ]
    }
   ],
   "source": [
    "batch_size = 8\n",
    "\n",
    "# Data path: used in data generator\n",
    "base_folder = os.path.join(os.getcwd(), res_folder, seg_model, seg_nd, 'cluster_{}'.format(other_cluster_num))\n",
    "\n",
    "other_test_datagen = ImageDataGenerator(preprocessing_function=preprocess_input)\n",
    "other_test_generator = other_test_datagen.flow_from_dataframe(dataframe=test_set, directory=base_folder,\n",
    "                                             x_col='filename',\n",
    "                                             y_col=None,\n",
    "                                             target_size=(700, 855),\n",
    "                                             batch_size=batch_size,\n",
    "                                             shuffle=False,\n",
    "                                             class_mode=None,\n",
    "                                             seed=7\n",
    "                                             )"
   ]
  },
  {
   "attachments": {},
   "cell_type": "markdown",
   "metadata": {},
   "source": [
    "### Load model"
   ]
  },
  {
   "attachments": {},
   "cell_type": "markdown",
   "metadata": {},
   "source": [
    "### Test"
   ]
  },
  {
   "cell_type": "code",
   "execution_count": 47,
   "metadata": {},
   "outputs": [],
   "source": [
    "STEP_SIZE_TEST=other_test_generator.n//other_test_generator.batch_size"
   ]
  },
  {
   "cell_type": "code",
   "execution_count": 48,
   "metadata": {},
   "outputs": [
    {
     "name": "stdout",
     "output_type": "stream",
     "text": [
      "800/800 [==============================] - 83s 103ms/step\n"
     ]
    }
   ],
   "source": [
    "other_test_generator.reset()\n",
    "pred=model.predict(other_test_generator,\n",
    "                             steps=STEP_SIZE_TEST,\n",
    "                             verbose=1)"
   ]
  },
  {
   "attachments": {},
   "cell_type": "markdown",
   "metadata": {},
   "source": [
    "## Stats for apply on cluster 128"
   ]
  },
  {
   "cell_type": "code",
   "execution_count": 40,
   "metadata": {},
   "outputs": [
    {
     "name": "stdout",
     "output_type": "stream",
     "text": [
      "Test Accuracy:  0.63140625\n",
      "[0.37328543 0.94190791 0.13089005 0.61736859] [0.47625    0.7947541  1.         0.46121951] [0.41852801 0.86209656 0.23148148 0.52799107]\n",
      "macro-averaged of 4 classes:\n",
      "0.515862996778597 0.5100242793693425 0.5100242793693425\n",
      "macro-averaged of 3 classes:\n",
      "0.6441873115861224 0.6028718786652961 0.6028718786652961\n"
     ]
    }
   ],
   "source": [
    "predicted_class_indices = np.argmax(pred,axis=1) + 1 # because the class 0 is now used for those undecided pixels\n",
    "# test_df = test_set.reset_index()\n",
    "# test_df['vgg16_predict'] = pd.Series(predicted_class_indices)\n",
    "#\"\"\"need to test the function below first\"\"\"\n",
    "gold_label = test_set['class'].map(int)\n",
    "gold_label = gold_label.to_numpy()\n",
    "p, r, f1, _ = precision_recall_fscore_support(gold_label, predicted_class_indices, average=None, labels=[1,2,3,4])\n",
    "acc = accuracy_score(gold_label, predicted_class_indices)\n",
    "print(\"Test Accuracy: \", acc)\n",
    "print(p, r, f1)\n",
    "macro_p, macro_r, macro_f, _ = precision_recall_fscore_support(gold_label, predicted_class_indices, average='macro', labels=[1,2,3,4])\n",
    "macro_p3, macro_r3, macro_f3, _ = precision_recall_fscore_support(gold_label, predicted_class_indices, average='macro', labels=[1,2,4])\n",
    "micro_p, micro_r, micro_f, _ = precision_recall_fscore_support(gold_label, predicted_class_indices, average='micro', labels=[1,2,3,4])\n",
    "micro_p3, micro_r3, micro_f3, _ = precision_recall_fscore_support(gold_label, predicted_class_indices, average='micro', labels=[1,2,4])\n",
    "print(\"macro-averaged of 4 classes:\")\n",
    "print(macro_p, macro_r, macro_f)\n",
    "print(\"macro-averaged of 3 classes:\")\n",
    "print(macro_p3, macro_r3, macro_f3)"
   ]
  },
  {
   "cell_type": "code",
   "execution_count": 41,
   "metadata": {},
   "outputs": [
    {
     "data": {
      "image/png": "[encoded data removed]",
      "text/plain": [
       "<Figure size 432x288 with 2 Axes>"
      ]
     },
     "metadata": {
      "needs_background": "light"
     },
     "output_type": "display_data"
    }
   ],
   "source": [
    "cm_img = os.path.join(img_folder, '{}_{}_{}_resnet_201_cm.pdf'.format(seg_model, seg_nd, other_cluster_num))\n",
    "cm  = confusion_matrix(gold_label, predicted_class_indices, labels=[1,2,3,4])\n",
    "class_name = ['pore', 'gypsum', 'celestite', 'bassanite']\n",
    "fig, ax = plot_confusion_matrix(conf_mat=cm, colorbar=True, show_absolute=True, show_normed=True, cmap=plt.cm.Blues, class_names=class_name)\n",
    "# plt.xlabel('Predictions', fontsize=16)\n",
    "# plt.ylabel('Actuals', fontsize=16)\n",
    "plt.title('Confusion Matrix', fontsize=18)\n",
    "#plt.savefig(cm_img)\n",
    "plt.show()"
   ]
  },
  {
   "attachments": {},
   "cell_type": "markdown",
   "metadata": {},
   "source": [
    "## Stats for apply on cluster 64"
   ]
  },
  {
   "cell_type": "code",
   "execution_count": 49,
   "metadata": {},
   "outputs": [
    {
     "name": "stdout",
     "output_type": "stream",
     "text": [
      "Test Accuracy:  0.7946875\n",
      "[0.7169059  1.         0.23923445 0.6987782 ] [0.561875   0.89655172 1.         0.82611111] [0.62999299 0.94545455 0.38610039 0.75712831]\n",
      "macro-averaged of 4 classes:\n",
      "0.6637296365914787 0.6796690583546884 0.6796690583546884\n",
      "macro-averaged of 3 classes:\n",
      "0.8052280322017165 0.7775252824394557 0.7775252824394557\n"
     ]
    }
   ],
   "source": [
    "predicted_class_indices = np.argmax(pred,axis=1) + 1 # because the class 0 is now used for those undecided pixels\n",
    "# test_df = test_set.reset_index()\n",
    "# test_df['vgg16_predict'] = pd.Series(predicted_class_indices)\n",
    "#\"\"\"need to test the function below first\"\"\"\n",
    "gold_label = test_set['class'].map(int)\n",
    "gold_label = gold_label.to_numpy()\n",
    "p, r, f1, _ = precision_recall_fscore_support(gold_label, predicted_class_indices, average=None, labels=[1,2,3,4])\n",
    "acc = accuracy_score(gold_label, predicted_class_indices)\n",
    "print(\"Test Accuracy: \", acc)\n",
    "print(p, r, f1)\n",
    "macro_p, macro_r, macro_f, _ = precision_recall_fscore_support(gold_label, predicted_class_indices, average='macro', labels=[1,2,3,4])\n",
    "macro_p3, macro_r3, macro_f3, _ = precision_recall_fscore_support(gold_label, predicted_class_indices, average='macro', labels=[1,2,4])\n",
    "micro_p, micro_r, micro_f, _ = precision_recall_fscore_support(gold_label, predicted_class_indices, average='micro', labels=[1,2,3,4])\n",
    "micro_p3, micro_r3, micro_f3, _ = precision_recall_fscore_support(gold_label, predicted_class_indices, average='micro', labels=[1,2,4])\n",
    "print(\"macro-averaged of 4 classes:\")\n",
    "print(macro_p, macro_r, macro_f)\n",
    "print(\"macro-averaged of 3 classes:\")\n",
    "print(macro_p3, macro_r3, macro_f3)"
   ]
  },
  {
   "cell_type": "code",
   "execution_count": 50,
   "metadata": {},
   "outputs": [
    {
     "data": {
      "image/png": "[encoded data removed]",
      "text/plain": [
       "<Figure size 432x288 with 2 Axes>"
      ]
     },
     "metadata": {
      "needs_background": "light"
     },
     "output_type": "display_data"
    }
   ],
   "source": [
    "cm_img = os.path.join(img_folder, '{}_{}_{}_resnet_201_cm.pdf'.format(seg_model, seg_nd, other_cluster_num))\n",
    "cm  = confusion_matrix(gold_label, predicted_class_indices, labels=[1,2,3,4])\n",
    "class_name = ['pore', 'gypsum', 'celestite', 'bassanite']\n",
    "fig, ax = plot_confusion_matrix(conf_mat=cm, colorbar=True, show_absolute=True, show_normed=True, cmap=plt.cm.Blues, class_names=class_name)\n",
    "# plt.xlabel('Predictions', fontsize=16)\n",
    "# plt.ylabel('Actuals', fontsize=16)\n",
    "plt.title('Confusion Matrix', fontsize=18)\n",
    "#plt.savefig(cm_img)\n",
    "plt.show()"
   ]
  },
  {
   "attachments": {},
   "cell_type": "markdown",
   "metadata": {},
   "source": [
    "## Stats for apply on cluster 32"
   ]
  },
  {
   "cell_type": "code",
   "execution_count": 31,
   "metadata": {},
   "outputs": [
    {
     "name": "stdout",
     "output_type": "stream",
     "text": [
      "Test Accuracy:  0.8103125\n",
      "[0.81355932 0.93589744 0.94339623 0.59920239] [0.61714286 0.9125     1.         0.75125   ] [0.7018684  0.92405063 0.97087379 0.66666667]\n",
      "macro-averaged of 4 classes:\n",
      "0.823013844291991 0.8158648714152218 0.8158648714152218\n",
      "macro-averaged of 3 classes:\n",
      "0.78288638358429 0.7641952330843734 0.7641952330843734\n"
     ]
    }
   ],
   "source": [
    "predicted_class_indices = np.argmax(pred,axis=1) + 1 # because the class 0 is now used for those undecided pixels\n",
    "# test_df = test_set.reset_index()\n",
    "# test_df['vgg16_predict'] = pd.Series(predicted_class_indices)\n",
    "#\"\"\"need to test the function below first\"\"\"\n",
    "gold_label = test_set['class'].map(int)\n",
    "gold_label = gold_label.to_numpy()\n",
    "p, r, f1, _ = precision_recall_fscore_support(gold_label, predicted_class_indices, average=None, labels=[1,2,3,4])\n",
    "acc = accuracy_score(gold_label, predicted_class_indices)\n",
    "print(\"Test Accuracy: \", acc)\n",
    "print(p, r, f1)\n",
    "macro_p, macro_r, macro_f, _ = precision_recall_fscore_support(gold_label, predicted_class_indices, average='macro', labels=[1,2,3,4])\n",
    "macro_p3, macro_r3, macro_f3, _ = precision_recall_fscore_support(gold_label, predicted_class_indices, average='macro', labels=[1,2,4])\n",
    "micro_p, micro_r, micro_f, _ = precision_recall_fscore_support(gold_label, predicted_class_indices, average='micro', labels=[1,2,3,4])\n",
    "micro_p3, micro_r3, micro_f3, _ = precision_recall_fscore_support(gold_label, predicted_class_indices, average='micro', labels=[1,2,4])\n",
    "print(\"macro-averaged of 4 classes:\")\n",
    "print(macro_p, macro_r, macro_f)\n",
    "print(\"macro-averaged of 3 classes:\")\n",
    "print(macro_p3, macro_r3, macro_f3)"
   ]
  },
  {
   "cell_type": "code",
   "execution_count": 32,
   "metadata": {},
   "outputs": [
    {
     "data": {
      "image/png": "[encoded data removed]",
      "text/plain": [
       "<Figure size 432x288 with 2 Axes>"
      ]
     },
     "metadata": {
      "needs_background": "light"
     },
     "output_type": "display_data"
    }
   ],
   "source": [
    "cm_img = os.path.join(img_folder, '{}_{}_{}_resnet_201_cm.pdf'.format(seg_model, seg_nd, other_cluster_num))\n",
    "cm  = confusion_matrix(gold_label, predicted_class_indices, labels=[1,2,3,4])\n",
    "class_name = ['pore', 'gypsum', 'celestite', 'bassanite']\n",
    "fig, ax = plot_confusion_matrix(conf_mat=cm, colorbar=True, show_absolute=True, show_normed=True, cmap=plt.cm.Blues, class_names=class_name)\n",
    "# plt.xlabel('Predictions', fontsize=16)\n",
    "# plt.ylabel('Actuals', fontsize=16)\n",
    "plt.title('Confusion Matrix', fontsize=18)\n",
    "#plt.savefig(cm_img)\n",
    "plt.show()"
   ]
  },
  {
   "attachments": {},
   "cell_type": "markdown",
   "metadata": {},
   "source": [
    "## Stats for apply on cluster 16"
   ]
  },
  {
   "cell_type": "code",
   "execution_count": 49,
   "metadata": {},
   "outputs": [
    {
     "name": "stdout",
     "output_type": "stream",
     "text": [
      "Test Accuracy:  0.734375\n",
      "[1.         0.78309572 1.         0.49403341] [0.33    0.96125 1.      0.5175 ] [0.4962406  0.8630752  1.         0.50549451]\n",
      "macro-averaged of 4 classes:\n",
      "0.8192822839755213 0.7162025758516987 0.7162025758516987\n",
      "macro-averaged of 3 classes:\n",
      "0.759043045300695 0.6216034344689315 0.6216034344689315\n"
     ]
    }
   ],
   "source": [
    "predicted_class_indices = np.argmax(pred,axis=1) + 1 # because the class 0 is now used for those undecided pixels\n",
    "# test_df = test_set.reset_index()\n",
    "# test_df['vgg16_predict'] = pd.Series(predicted_class_indices)\n",
    "#\"\"\"need to test the function below first\"\"\"\n",
    "gold_label = test_set['class'].map(int)\n",
    "gold_label = gold_label.to_numpy()\n",
    "p, r, f1, _ = precision_recall_fscore_support(gold_label, predicted_class_indices, average=None, labels=[1,2,3,4])\n",
    "acc = accuracy_score(gold_label, predicted_class_indices)\n",
    "print(\"Test Accuracy: \", acc)\n",
    "print(p, r, f1)\n",
    "macro_p, macro_r, macro_f, _ = precision_recall_fscore_support(gold_label, predicted_class_indices, average='macro', labels=[1,2,3,4])\n",
    "macro_p3, macro_r3, macro_f3, _ = precision_recall_fscore_support(gold_label, predicted_class_indices, average='macro', labels=[1,2,4])\n",
    "micro_p, micro_r, micro_f, _ = precision_recall_fscore_support(gold_label, predicted_class_indices, average='micro', labels=[1,2,3,4])\n",
    "micro_p3, micro_r3, micro_f3, _ = precision_recall_fscore_support(gold_label, predicted_class_indices, average='micro', labels=[1,2,4])\n",
    "print(\"macro-averaged of 4 classes:\")\n",
    "print(macro_p, macro_r, macro_f)\n",
    "print(\"macro-averaged of 3 classes:\")\n",
    "print(macro_p3, macro_r3, macro_f3)"
   ]
  },
  {
   "cell_type": "code",
   "execution_count": 50,
   "metadata": {},
   "outputs": [
    {
     "data": {
      "image/png": "[encoded data removed]",
      "text/plain": [
       "<Figure size 432x288 with 2 Axes>"
      ]
     },
     "metadata": {
      "needs_background": "light"
     },
     "output_type": "display_data"
    }
   ],
   "source": [
    "cm_img = os.path.join(img_folder, '{}_{}_{}_resnet_201_cm.pdf'.format(seg_model, seg_nd, other_cluster_num))\n",
    "cm  = confusion_matrix(gold_label, predicted_class_indices, labels=[1,2,3,4])\n",
    "class_name = ['pore', 'gypsum', 'celestite', 'bassanite']\n",
    "fig, ax = plot_confusion_matrix(conf_mat=cm, colorbar=True, show_absolute=True, show_normed=True, cmap=plt.cm.Blues, class_names=class_name)\n",
    "# plt.xlabel('Predictions', fontsize=16)\n",
    "# plt.ylabel('Actuals', fontsize=16)\n",
    "plt.title('Confusion Matrix', fontsize=18)\n",
    "#plt.savefig(cm_img)\n",
    "plt.show()"
   ]
  },
  {
   "cell_type": "code",
   "execution_count": null,
   "metadata": {},
   "outputs": [],
   "source": []
  }
 ],
 "metadata": {
  "kernelspec": {
   "display_name": "test-uninstall",
   "language": "python",
   "name": "python3"
  },
  "language_info": {
   "codemirror_mode": {
    "name": "ipython",
    "version": 3
   },
   "file_extension": ".py",
   "mimetype": "text/x-python",
   "name": "python",
   "nbconvert_exporter": "python",
   "pygments_lexer": "ipython3",
   "version": "3.10.9"
  },
  "orig_nbformat": 4
 },
 "nbformat": 4,
 "nbformat_minor": 2
}
