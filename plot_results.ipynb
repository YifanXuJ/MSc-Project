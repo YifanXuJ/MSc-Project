{
 "cells": [
  {
   "cell_type": "code",
   "execution_count": 1,
   "metadata": {},
   "outputs": [],
   "source": [
    "import matplotlib.image as mpimg\n",
    "import matplotlib.pyplot as plt\n",
    "import cv2\n",
    "import os\n",
    "import pandas as pd\n",
    "import numpy as np\n",
    "import glob"
   ]
  },
  {
   "cell_type": "code",
   "execution_count": 2,
   "metadata": {},
   "outputs": [],
   "source": [
    "base_folder = os.path.join(os.getcwd(), 'seg_res_evaluation_csv')\n",
    "gmm_3d_3 = pd.read_csv(os.path.join(base_folder, 'gmm_3d_3.csv'))\n",
    "gmm_3d_4 = pd.read_csv(os.path.join(base_folder, 'gmm_3d_4.csv'))\n",
    "gmm_3d_6 = pd.read_csv(os.path.join(base_folder, 'gmm_3d_6.csv'))\n",
    "gmm_4d_3 = pd.read_csv(os.path.join(base_folder, 'gmm_4d_3.csv'))\n",
    "gmm_4d_4 = pd.read_csv(os.path.join(base_folder, 'gmm_4d_4.csv'))\n",
    "gmm_4d_6 = pd.read_csv(os.path.join(base_folder, 'gmm_4d_6.csv'))\n",
    "kmeans_3d_3 = pd.read_csv(os.path.join(base_folder, 'k-means_3d_3.csv'))\n",
    "kmeans_3d_4 = pd.read_csv(os.path.join(base_folder, 'k-means_3d_4.csv'))\n",
    "kmeans_3d_6 = pd.read_csv(os.path.join(base_folder, 'k-means_3d_6.csv'))\n",
    "kmeans_4d_3 = pd.read_csv(os.path.join(base_folder, 'k-means_4d_3.csv'))\n",
    "kmeans_4d_4 = pd.read_csv(os.path.join(base_folder, 'k-means_4d_4.csv'))\n",
    "kmeans_4d_6 = pd.read_csv(os.path.join(base_folder, 'k-means_4d_6.csv'))"
   ]
  },
  {
   "cell_type": "code",
   "execution_count": 15,
   "metadata": {},
   "outputs": [
    {
     "data": {
      "text/html": [
       "<div>\n",
       "<style scoped>\n",
       "    .dataframe tbody tr th:only-of-type {\n",
       "        vertical-align: middle;\n",
       "    }\n",
       "\n",
       "    .dataframe tbody tr th {\n",
       "        vertical-align: top;\n",
       "    }\n",
       "\n",
       "    .dataframe thead th {\n",
       "        text-align: right;\n",
       "    }\n",
       "</style>\n",
       "<table border=\"1\" class=\"dataframe\">\n",
       "  <thead>\n",
       "    <tr style=\"text-align: right;\">\n",
       "      <th></th>\n",
       "      <th>slice</th>\n",
       "      <th>current_cluster</th>\n",
       "      <th>pore_precision</th>\n",
       "      <th>pore_recall</th>\n",
       "      <th>pore_f1</th>\n",
       "      <th>gypsum_precision</th>\n",
       "      <th>gypsum_recall</th>\n",
       "      <th>gypsum_f1</th>\n",
       "      <th>celestite_precision</th>\n",
       "      <th>celestite_recall</th>\n",
       "      <th>celestite_f1</th>\n",
       "      <th>bassanite_precision</th>\n",
       "      <th>bassanite_recall</th>\n",
       "      <th>bassanite_f1</th>\n",
       "    </tr>\n",
       "  </thead>\n",
       "  <tbody>\n",
       "    <tr>\n",
       "      <th>0</th>\n",
       "      <td>400</td>\n",
       "      <td>0</td>\n",
       "      <td>0.041972</td>\n",
       "      <td>0.243138</td>\n",
       "      <td>0.071587</td>\n",
       "      <td>0.519521</td>\n",
       "      <td>0.227388</td>\n",
       "      <td>0.316324</td>\n",
       "      <td>0.000000</td>\n",
       "      <td>0.000000</td>\n",
       "      <td>0.000000</td>\n",
       "      <td>0.368441</td>\n",
       "      <td>0.662572</td>\n",
       "      <td>0.473551</td>\n",
       "    </tr>\n",
       "    <tr>\n",
       "      <th>1</th>\n",
       "      <td>400</td>\n",
       "      <td>1</td>\n",
       "      <td>0.400835</td>\n",
       "      <td>0.736695</td>\n",
       "      <td>0.519183</td>\n",
       "      <td>0.118218</td>\n",
       "      <td>0.016416</td>\n",
       "      <td>0.028829</td>\n",
       "      <td>0.000033</td>\n",
       "      <td>1.000000</td>\n",
       "      <td>0.000066</td>\n",
       "      <td>0.466956</td>\n",
       "      <td>0.266423</td>\n",
       "      <td>0.339273</td>\n",
       "    </tr>\n",
       "    <tr>\n",
       "      <th>2</th>\n",
       "      <td>400</td>\n",
       "      <td>2</td>\n",
       "      <td>0.001902</td>\n",
       "      <td>0.020168</td>\n",
       "      <td>0.003476</td>\n",
       "      <td>0.943978</td>\n",
       "      <td>0.756196</td>\n",
       "      <td>0.839717</td>\n",
       "      <td>0.000000</td>\n",
       "      <td>0.000000</td>\n",
       "      <td>0.000000</td>\n",
       "      <td>0.021573</td>\n",
       "      <td>0.071006</td>\n",
       "      <td>0.033092</td>\n",
       "    </tr>\n",
       "    <tr>\n",
       "      <th>3</th>\n",
       "      <td>401</td>\n",
       "      <td>0</td>\n",
       "      <td>0.041348</td>\n",
       "      <td>0.241667</td>\n",
       "      <td>0.070614</td>\n",
       "      <td>0.516970</td>\n",
       "      <td>0.226497</td>\n",
       "      <td>0.314990</td>\n",
       "      <td>0.000000</td>\n",
       "      <td>0.000000</td>\n",
       "      <td>0.000000</td>\n",
       "      <td>0.383010</td>\n",
       "      <td>0.661376</td>\n",
       "      <td>0.485095</td>\n",
       "    </tr>\n",
       "    <tr>\n",
       "      <th>4</th>\n",
       "      <td>401</td>\n",
       "      <td>1</td>\n",
       "      <td>0.397449</td>\n",
       "      <td>0.737761</td>\n",
       "      <td>0.516596</td>\n",
       "      <td>0.120318</td>\n",
       "      <td>0.016742</td>\n",
       "      <td>0.029393</td>\n",
       "      <td>0.000017</td>\n",
       "      <td>1.000000</td>\n",
       "      <td>0.000033</td>\n",
       "      <td>0.472144</td>\n",
       "      <td>0.258931</td>\n",
       "      <td>0.334446</td>\n",
       "    </tr>\n",
       "    <tr>\n",
       "      <th>...</th>\n",
       "      <td>...</td>\n",
       "      <td>...</td>\n",
       "      <td>...</td>\n",
       "      <td>...</td>\n",
       "      <td>...</td>\n",
       "      <td>...</td>\n",
       "      <td>...</td>\n",
       "      <td>...</td>\n",
       "      <td>...</td>\n",
       "      <td>...</td>\n",
       "      <td>...</td>\n",
       "      <td>...</td>\n",
       "      <td>...</td>\n",
       "      <td>...</td>\n",
       "    </tr>\n",
       "    <tr>\n",
       "      <th>1198</th>\n",
       "      <td>799</td>\n",
       "      <td>1</td>\n",
       "      <td>0.591358</td>\n",
       "      <td>0.529947</td>\n",
       "      <td>0.558971</td>\n",
       "      <td>0.069008</td>\n",
       "      <td>0.005328</td>\n",
       "      <td>0.009893</td>\n",
       "      <td>0.000772</td>\n",
       "      <td>0.870968</td>\n",
       "      <td>0.001543</td>\n",
       "      <td>0.328967</td>\n",
       "      <td>0.113556</td>\n",
       "      <td>0.168833</td>\n",
       "    </tr>\n",
       "    <tr>\n",
       "      <th>1199</th>\n",
       "      <td>799</td>\n",
       "      <td>2</td>\n",
       "      <td>0.003414</td>\n",
       "      <td>0.036264</td>\n",
       "      <td>0.006240</td>\n",
       "      <td>0.975480</td>\n",
       "      <td>0.892763</td>\n",
       "      <td>0.932290</td>\n",
       "      <td>0.000000</td>\n",
       "      <td>0.000000</td>\n",
       "      <td>0.000000</td>\n",
       "      <td>0.014305</td>\n",
       "      <td>0.058530</td>\n",
       "      <td>0.022991</td>\n",
       "    </tr>\n",
       "    <tr>\n",
       "      <th>1200</th>\n",
       "      <td>800</td>\n",
       "      <td>0</td>\n",
       "      <td>0.111729</td>\n",
       "      <td>0.436199</td>\n",
       "      <td>0.177892</td>\n",
       "      <td>0.303289</td>\n",
       "      <td>0.101670</td>\n",
       "      <td>0.152289</td>\n",
       "      <td>0.000007</td>\n",
       "      <td>0.166667</td>\n",
       "      <td>0.000013</td>\n",
       "      <td>0.559523</td>\n",
       "      <td>0.834654</td>\n",
       "      <td>0.669941</td>\n",
       "    </tr>\n",
       "    <tr>\n",
       "      <th>1201</th>\n",
       "      <td>800</td>\n",
       "      <td>1</td>\n",
       "      <td>0.590597</td>\n",
       "      <td>0.527303</td>\n",
       "      <td>0.557158</td>\n",
       "      <td>0.070013</td>\n",
       "      <td>0.005367</td>\n",
       "      <td>0.009970</td>\n",
       "      <td>0.000145</td>\n",
       "      <td>0.833333</td>\n",
       "      <td>0.000289</td>\n",
       "      <td>0.325618</td>\n",
       "      <td>0.111083</td>\n",
       "      <td>0.165654</td>\n",
       "    </tr>\n",
       "    <tr>\n",
       "      <th>1202</th>\n",
       "      <td>800</td>\n",
       "      <td>2</td>\n",
       "      <td>0.003423</td>\n",
       "      <td>0.036498</td>\n",
       "      <td>0.006259</td>\n",
       "      <td>0.975331</td>\n",
       "      <td>0.892962</td>\n",
       "      <td>0.932331</td>\n",
       "      <td>0.000000</td>\n",
       "      <td>0.000000</td>\n",
       "      <td>0.000000</td>\n",
       "      <td>0.013319</td>\n",
       "      <td>0.054263</td>\n",
       "      <td>0.021388</td>\n",
       "    </tr>\n",
       "  </tbody>\n",
       "</table>\n",
       "<p>1203 rows × 14 columns</p>\n",
       "</div>"
      ],
      "text/plain": [
       "      slice  current_cluster  pore_precision  pore_recall   pore_f1  \\\n",
       "0       400                0        0.041972     0.243138  0.071587   \n",
       "1       400                1        0.400835     0.736695  0.519183   \n",
       "2       400                2        0.001902     0.020168  0.003476   \n",
       "3       401                0        0.041348     0.241667  0.070614   \n",
       "4       401                1        0.397449     0.737761  0.516596   \n",
       "...     ...              ...             ...          ...       ...   \n",
       "1198    799                1        0.591358     0.529947  0.558971   \n",
       "1199    799                2        0.003414     0.036264  0.006240   \n",
       "1200    800                0        0.111729     0.436199  0.177892   \n",
       "1201    800                1        0.590597     0.527303  0.557158   \n",
       "1202    800                2        0.003423     0.036498  0.006259   \n",
       "\n",
       "      gypsum_precision  gypsum_recall  gypsum_f1  celestite_precision  \\\n",
       "0             0.519521       0.227388   0.316324             0.000000   \n",
       "1             0.118218       0.016416   0.028829             0.000033   \n",
       "2             0.943978       0.756196   0.839717             0.000000   \n",
       "3             0.516970       0.226497   0.314990             0.000000   \n",
       "4             0.120318       0.016742   0.029393             0.000017   \n",
       "...                ...            ...        ...                  ...   \n",
       "1198          0.069008       0.005328   0.009893             0.000772   \n",
       "1199          0.975480       0.892763   0.932290             0.000000   \n",
       "1200          0.303289       0.101670   0.152289             0.000007   \n",
       "1201          0.070013       0.005367   0.009970             0.000145   \n",
       "1202          0.975331       0.892962   0.932331             0.000000   \n",
       "\n",
       "      celestite_recall  celestite_f1  bassanite_precision  bassanite_recall  \\\n",
       "0             0.000000      0.000000             0.368441          0.662572   \n",
       "1             1.000000      0.000066             0.466956          0.266423   \n",
       "2             0.000000      0.000000             0.021573          0.071006   \n",
       "3             0.000000      0.000000             0.383010          0.661376   \n",
       "4             1.000000      0.000033             0.472144          0.258931   \n",
       "...                ...           ...                  ...               ...   \n",
       "1198          0.870968      0.001543             0.328967          0.113556   \n",
       "1199          0.000000      0.000000             0.014305          0.058530   \n",
       "1200          0.166667      0.000013             0.559523          0.834654   \n",
       "1201          0.833333      0.000289             0.325618          0.111083   \n",
       "1202          0.000000      0.000000             0.013319          0.054263   \n",
       "\n",
       "      bassanite_f1  \n",
       "0         0.473551  \n",
       "1         0.339273  \n",
       "2         0.033092  \n",
       "3         0.485095  \n",
       "4         0.334446  \n",
       "...            ...  \n",
       "1198      0.168833  \n",
       "1199      0.022991  \n",
       "1200      0.669941  \n",
       "1201      0.165654  \n",
       "1202      0.021388  \n",
       "\n",
       "[1203 rows x 14 columns]"
      ]
     },
     "execution_count": 15,
     "metadata": {},
     "output_type": "execute_result"
    }
   ],
   "source": [
    "gmm_3d_3"
   ]
  },
  {
   "cell_type": "markdown",
   "metadata": {},
   "source": []
  },
  {
   "cell_type": "code",
   "execution_count": 7,
   "metadata": {},
   "outputs": [
    {
     "data": {
      "text/html": [
       "<div>\n",
       "<style scoped>\n",
       "    .dataframe tbody tr th:only-of-type {\n",
       "        vertical-align: middle;\n",
       "    }\n",
       "\n",
       "    .dataframe tbody tr th {\n",
       "        vertical-align: top;\n",
       "    }\n",
       "\n",
       "    .dataframe thead th {\n",
       "        text-align: right;\n",
       "    }\n",
       "</style>\n",
       "<table border=\"1\" class=\"dataframe\">\n",
       "  <thead>\n",
       "    <tr style=\"text-align: right;\">\n",
       "      <th></th>\n",
       "      <th>slice</th>\n",
       "      <th>current_cluster</th>\n",
       "      <th>pore_precision</th>\n",
       "      <th>pore_recall</th>\n",
       "      <th>pore_f1</th>\n",
       "      <th>gypsum_precision</th>\n",
       "      <th>gypsum_recall</th>\n",
       "      <th>gypsum_f1</th>\n",
       "      <th>celestite_precision</th>\n",
       "      <th>celestite_recall</th>\n",
       "      <th>celestite_f1</th>\n",
       "      <th>bassanite_precision</th>\n",
       "      <th>bassanite_recall</th>\n",
       "      <th>bassanite_f1</th>\n",
       "    </tr>\n",
       "  </thead>\n",
       "  <tbody>\n",
       "    <tr>\n",
       "      <th>count</th>\n",
       "      <td>100.000000</td>\n",
       "      <td>100.0</td>\n",
       "      <td>100.000000</td>\n",
       "      <td>100.000000</td>\n",
       "      <td>100.000000</td>\n",
       "      <td>100.000000</td>\n",
       "      <td>100.000000</td>\n",
       "      <td>100.000000</td>\n",
       "      <td>100.000000</td>\n",
       "      <td>100.000000</td>\n",
       "      <td>100.000000</td>\n",
       "      <td>100.000000</td>\n",
       "      <td>100.000000</td>\n",
       "      <td>100.000000</td>\n",
       "    </tr>\n",
       "    <tr>\n",
       "      <th>mean</th>\n",
       "      <td>449.500000</td>\n",
       "      <td>1.0</td>\n",
       "      <td>0.415950</td>\n",
       "      <td>0.702313</td>\n",
       "      <td>0.522221</td>\n",
       "      <td>0.104311</td>\n",
       "      <td>0.013899</td>\n",
       "      <td>0.024511</td>\n",
       "      <td>0.028558</td>\n",
       "      <td>0.925645</td>\n",
       "      <td>0.054315</td>\n",
       "      <td>0.435385</td>\n",
       "      <td>0.232299</td>\n",
       "      <td>0.302866</td>\n",
       "    </tr>\n",
       "    <tr>\n",
       "      <th>std</th>\n",
       "      <td>29.011492</td>\n",
       "      <td>0.0</td>\n",
       "      <td>0.007565</td>\n",
       "      <td>0.025610</td>\n",
       "      <td>0.007912</td>\n",
       "      <td>0.008915</td>\n",
       "      <td>0.002267</td>\n",
       "      <td>0.003774</td>\n",
       "      <td>0.025932</td>\n",
       "      <td>0.220585</td>\n",
       "      <td>0.048620</td>\n",
       "      <td>0.027977</td>\n",
       "      <td>0.013745</td>\n",
       "      <td>0.017733</td>\n",
       "    </tr>\n",
       "    <tr>\n",
       "      <th>min</th>\n",
       "      <td>400.000000</td>\n",
       "      <td>1.0</td>\n",
       "      <td>0.397449</td>\n",
       "      <td>0.652053</td>\n",
       "      <td>0.506147</td>\n",
       "      <td>0.083436</td>\n",
       "      <td>0.009981</td>\n",
       "      <td>0.017829</td>\n",
       "      <td>0.000000</td>\n",
       "      <td>0.000000</td>\n",
       "      <td>0.000000</td>\n",
       "      <td>0.388064</td>\n",
       "      <td>0.205667</td>\n",
       "      <td>0.269709</td>\n",
       "    </tr>\n",
       "    <tr>\n",
       "      <th>25%</th>\n",
       "      <td>424.750000</td>\n",
       "      <td>1.0</td>\n",
       "      <td>0.410781</td>\n",
       "      <td>0.685079</td>\n",
       "      <td>0.516957</td>\n",
       "      <td>0.096226</td>\n",
       "      <td>0.011647</td>\n",
       "      <td>0.020804</td>\n",
       "      <td>0.002171</td>\n",
       "      <td>0.998233</td>\n",
       "      <td>0.004333</td>\n",
       "      <td>0.411101</td>\n",
       "      <td>0.222710</td>\n",
       "      <td>0.290368</td>\n",
       "    </tr>\n",
       "    <tr>\n",
       "      <th>50%</th>\n",
       "      <td>449.500000</td>\n",
       "      <td>1.0</td>\n",
       "      <td>0.416109</td>\n",
       "      <td>0.697806</td>\n",
       "      <td>0.522630</td>\n",
       "      <td>0.105630</td>\n",
       "      <td>0.014665</td>\n",
       "      <td>0.025733</td>\n",
       "      <td>0.024973</td>\n",
       "      <td>0.999671</td>\n",
       "      <td>0.048729</td>\n",
       "      <td>0.442599</td>\n",
       "      <td>0.231909</td>\n",
       "      <td>0.300819</td>\n",
       "    </tr>\n",
       "    <tr>\n",
       "      <th>75%</th>\n",
       "      <td>474.250000</td>\n",
       "      <td>1.0</td>\n",
       "      <td>0.420500</td>\n",
       "      <td>0.727475</td>\n",
       "      <td>0.526746</td>\n",
       "      <td>0.110528</td>\n",
       "      <td>0.015885</td>\n",
       "      <td>0.027804</td>\n",
       "      <td>0.051568</td>\n",
       "      <td>1.000000</td>\n",
       "      <td>0.098076</td>\n",
       "      <td>0.461238</td>\n",
       "      <td>0.243023</td>\n",
       "      <td>0.319190</td>\n",
       "    </tr>\n",
       "    <tr>\n",
       "      <th>max</th>\n",
       "      <td>499.000000</td>\n",
       "      <td>1.0</td>\n",
       "      <td>0.431516</td>\n",
       "      <td>0.753273</td>\n",
       "      <td>0.541268</td>\n",
       "      <td>0.120407</td>\n",
       "      <td>0.016975</td>\n",
       "      <td>0.029599</td>\n",
       "      <td>0.074265</td>\n",
       "      <td>1.000000</td>\n",
       "      <td>0.138262</td>\n",
       "      <td>0.473525</td>\n",
       "      <td>0.266423</td>\n",
       "      <td>0.339273</td>\n",
       "    </tr>\n",
       "  </tbody>\n",
       "</table>\n",
       "</div>"
      ],
      "text/plain": [
       "            slice  current_cluster  pore_precision  pore_recall     pore_f1  \\\n",
       "count  100.000000            100.0      100.000000   100.000000  100.000000   \n",
       "mean   449.500000              1.0        0.415950     0.702313    0.522221   \n",
       "std     29.011492              0.0        0.007565     0.025610    0.007912   \n",
       "min    400.000000              1.0        0.397449     0.652053    0.506147   \n",
       "25%    424.750000              1.0        0.410781     0.685079    0.516957   \n",
       "50%    449.500000              1.0        0.416109     0.697806    0.522630   \n",
       "75%    474.250000              1.0        0.420500     0.727475    0.526746   \n",
       "max    499.000000              1.0        0.431516     0.753273    0.541268   \n",
       "\n",
       "       gypsum_precision  gypsum_recall   gypsum_f1  celestite_precision  \\\n",
       "count        100.000000     100.000000  100.000000           100.000000   \n",
       "mean           0.104311       0.013899    0.024511             0.028558   \n",
       "std            0.008915       0.002267    0.003774             0.025932   \n",
       "min            0.083436       0.009981    0.017829             0.000000   \n",
       "25%            0.096226       0.011647    0.020804             0.002171   \n",
       "50%            0.105630       0.014665    0.025733             0.024973   \n",
       "75%            0.110528       0.015885    0.027804             0.051568   \n",
       "max            0.120407       0.016975    0.029599             0.074265   \n",
       "\n",
       "       celestite_recall  celestite_f1  bassanite_precision  bassanite_recall  \\\n",
       "count        100.000000    100.000000           100.000000        100.000000   \n",
       "mean           0.925645      0.054315             0.435385          0.232299   \n",
       "std            0.220585      0.048620             0.027977          0.013745   \n",
       "min            0.000000      0.000000             0.388064          0.205667   \n",
       "25%            0.998233      0.004333             0.411101          0.222710   \n",
       "50%            0.999671      0.048729             0.442599          0.231909   \n",
       "75%            1.000000      0.098076             0.461238          0.243023   \n",
       "max            1.000000      0.138262             0.473525          0.266423   \n",
       "\n",
       "       bassanite_f1  \n",
       "count    100.000000  \n",
       "mean       0.302866  \n",
       "std        0.017733  \n",
       "min        0.269709  \n",
       "25%        0.290368  \n",
       "50%        0.300819  \n",
       "75%        0.319190  \n",
       "max        0.339273  "
      ]
     },
     "execution_count": 7,
     "metadata": {},
     "output_type": "execute_result"
    }
   ],
   "source": [
    "gmm_3d_3.loc[(gmm_3d_3['slice'] < 500) & (gmm_3d_3['current_cluster'] == 1)].describe()"
   ]
  },
  {
   "cell_type": "code",
   "execution_count": 8,
   "metadata": {},
   "outputs": [
    {
     "data": {
      "text/html": [
       "<div>\n",
       "<style scoped>\n",
       "    .dataframe tbody tr th:only-of-type {\n",
       "        vertical-align: middle;\n",
       "    }\n",
       "\n",
       "    .dataframe tbody tr th {\n",
       "        vertical-align: top;\n",
       "    }\n",
       "\n",
       "    .dataframe thead th {\n",
       "        text-align: right;\n",
       "    }\n",
       "</style>\n",
       "<table border=\"1\" class=\"dataframe\">\n",
       "  <thead>\n",
       "    <tr style=\"text-align: right;\">\n",
       "      <th></th>\n",
       "      <th>slice</th>\n",
       "      <th>current_cluster</th>\n",
       "      <th>pore_precision</th>\n",
       "      <th>pore_recall</th>\n",
       "      <th>pore_f1</th>\n",
       "      <th>gypsum_precision</th>\n",
       "      <th>gypsum_recall</th>\n",
       "      <th>gypsum_f1</th>\n",
       "      <th>celestite_precision</th>\n",
       "      <th>celestite_recall</th>\n",
       "      <th>celestite_f1</th>\n",
       "      <th>bassanite_precision</th>\n",
       "      <th>bassanite_recall</th>\n",
       "      <th>bassanite_f1</th>\n",
       "    </tr>\n",
       "  </thead>\n",
       "  <tbody>\n",
       "    <tr>\n",
       "      <th>count</th>\n",
       "      <td>100.000000</td>\n",
       "      <td>100.0</td>\n",
       "      <td>100.000000</td>\n",
       "      <td>100.000000</td>\n",
       "      <td>100.000000</td>\n",
       "      <td>100.000000</td>\n",
       "      <td>100.000000</td>\n",
       "      <td>100.000000</td>\n",
       "      <td>100.000000</td>\n",
       "      <td>100.000000</td>\n",
       "      <td>100.000000</td>\n",
       "      <td>100.000000</td>\n",
       "      <td>100.000000</td>\n",
       "      <td>100.000000</td>\n",
       "    </tr>\n",
       "    <tr>\n",
       "      <th>mean</th>\n",
       "      <td>449.500000</td>\n",
       "      <td>1.0</td>\n",
       "      <td>0.280112</td>\n",
       "      <td>0.701663</td>\n",
       "      <td>0.399879</td>\n",
       "      <td>0.182850</td>\n",
       "      <td>0.036294</td>\n",
       "      <td>0.060452</td>\n",
       "      <td>0.019818</td>\n",
       "      <td>0.951878</td>\n",
       "      <td>0.038255</td>\n",
       "      <td>0.491592</td>\n",
       "      <td>0.389721</td>\n",
       "      <td>0.434588</td>\n",
       "    </tr>\n",
       "    <tr>\n",
       "      <th>std</th>\n",
       "      <td>29.011492</td>\n",
       "      <td>0.0</td>\n",
       "      <td>0.009371</td>\n",
       "      <td>0.039645</td>\n",
       "      <td>0.008434</td>\n",
       "      <td>0.014538</td>\n",
       "      <td>0.006783</td>\n",
       "      <td>0.010229</td>\n",
       "      <td>0.018130</td>\n",
       "      <td>0.198759</td>\n",
       "      <td>0.034658</td>\n",
       "      <td>0.025385</td>\n",
       "      <td>0.030928</td>\n",
       "      <td>0.028248</td>\n",
       "    </tr>\n",
       "    <tr>\n",
       "      <th>min</th>\n",
       "      <td>400.000000</td>\n",
       "      <td>1.0</td>\n",
       "      <td>0.259164</td>\n",
       "      <td>0.636113</td>\n",
       "      <td>0.384875</td>\n",
       "      <td>0.155380</td>\n",
       "      <td>0.026830</td>\n",
       "      <td>0.045759</td>\n",
       "      <td>0.000000</td>\n",
       "      <td>0.000000</td>\n",
       "      <td>0.000000</td>\n",
       "      <td>0.447864</td>\n",
       "      <td>0.343564</td>\n",
       "      <td>0.393494</td>\n",
       "    </tr>\n",
       "    <tr>\n",
       "      <th>25%</th>\n",
       "      <td>424.750000</td>\n",
       "      <td>1.0</td>\n",
       "      <td>0.274366</td>\n",
       "      <td>0.666859</td>\n",
       "      <td>0.393837</td>\n",
       "      <td>0.169322</td>\n",
       "      <td>0.028432</td>\n",
       "      <td>0.048824</td>\n",
       "      <td>0.001452</td>\n",
       "      <td>1.000000</td>\n",
       "      <td>0.002900</td>\n",
       "      <td>0.464407</td>\n",
       "      <td>0.364634</td>\n",
       "      <td>0.409208</td>\n",
       "    </tr>\n",
       "    <tr>\n",
       "      <th>50%</th>\n",
       "      <td>449.500000</td>\n",
       "      <td>1.0</td>\n",
       "      <td>0.281128</td>\n",
       "      <td>0.699616</td>\n",
       "      <td>0.399669</td>\n",
       "      <td>0.178896</td>\n",
       "      <td>0.037200</td>\n",
       "      <td>0.061592</td>\n",
       "      <td>0.016787</td>\n",
       "      <td>1.000000</td>\n",
       "      <td>0.033020</td>\n",
       "      <td>0.494865</td>\n",
       "      <td>0.381137</td>\n",
       "      <td>0.430900</td>\n",
       "    </tr>\n",
       "    <tr>\n",
       "      <th>75%</th>\n",
       "      <td>474.250000</td>\n",
       "      <td>1.0</td>\n",
       "      <td>0.286736</td>\n",
       "      <td>0.740291</td>\n",
       "      <td>0.404940</td>\n",
       "      <td>0.196565</td>\n",
       "      <td>0.042005</td>\n",
       "      <td>0.068866</td>\n",
       "      <td>0.037374</td>\n",
       "      <td>1.000000</td>\n",
       "      <td>0.072054</td>\n",
       "      <td>0.516349</td>\n",
       "      <td>0.413326</td>\n",
       "      <td>0.460711</td>\n",
       "    </tr>\n",
       "    <tr>\n",
       "      <th>max</th>\n",
       "      <td>499.000000</td>\n",
       "      <td>1.0</td>\n",
       "      <td>0.298968</td>\n",
       "      <td>0.781487</td>\n",
       "      <td>0.423053</td>\n",
       "      <td>0.209848</td>\n",
       "      <td>0.047122</td>\n",
       "      <td>0.076951</td>\n",
       "      <td>0.050768</td>\n",
       "      <td>1.000000</td>\n",
       "      <td>0.096630</td>\n",
       "      <td>0.530372</td>\n",
       "      <td>0.455929</td>\n",
       "      <td>0.483515</td>\n",
       "    </tr>\n",
       "  </tbody>\n",
       "</table>\n",
       "</div>"
      ],
      "text/plain": [
       "            slice  current_cluster  pore_precision  pore_recall     pore_f1  \\\n",
       "count  100.000000            100.0      100.000000   100.000000  100.000000   \n",
       "mean   449.500000              1.0        0.280112     0.701663    0.399879   \n",
       "std     29.011492              0.0        0.009371     0.039645    0.008434   \n",
       "min    400.000000              1.0        0.259164     0.636113    0.384875   \n",
       "25%    424.750000              1.0        0.274366     0.666859    0.393837   \n",
       "50%    449.500000              1.0        0.281128     0.699616    0.399669   \n",
       "75%    474.250000              1.0        0.286736     0.740291    0.404940   \n",
       "max    499.000000              1.0        0.298968     0.781487    0.423053   \n",
       "\n",
       "       gypsum_precision  gypsum_recall   gypsum_f1  celestite_precision  \\\n",
       "count        100.000000     100.000000  100.000000           100.000000   \n",
       "mean           0.182850       0.036294    0.060452             0.019818   \n",
       "std            0.014538       0.006783    0.010229             0.018130   \n",
       "min            0.155380       0.026830    0.045759             0.000000   \n",
       "25%            0.169322       0.028432    0.048824             0.001452   \n",
       "50%            0.178896       0.037200    0.061592             0.016787   \n",
       "75%            0.196565       0.042005    0.068866             0.037374   \n",
       "max            0.209848       0.047122    0.076951             0.050768   \n",
       "\n",
       "       celestite_recall  celestite_f1  bassanite_precision  bassanite_recall  \\\n",
       "count        100.000000    100.000000           100.000000        100.000000   \n",
       "mean           0.951878      0.038255             0.491592          0.389721   \n",
       "std            0.198759      0.034658             0.025385          0.030928   \n",
       "min            0.000000      0.000000             0.447864          0.343564   \n",
       "25%            1.000000      0.002900             0.464407          0.364634   \n",
       "50%            1.000000      0.033020             0.494865          0.381137   \n",
       "75%            1.000000      0.072054             0.516349          0.413326   \n",
       "max            1.000000      0.096630             0.530372          0.455929   \n",
       "\n",
       "       bassanite_f1  \n",
       "count    100.000000  \n",
       "mean       0.434588  \n",
       "std        0.028248  \n",
       "min        0.393494  \n",
       "25%        0.409208  \n",
       "50%        0.430900  \n",
       "75%        0.460711  \n",
       "max        0.483515  "
      ]
     },
     "execution_count": 8,
     "metadata": {},
     "output_type": "execute_result"
    }
   ],
   "source": [
    "gmm_4d_3.loc[(gmm_4d_3['slice'] < 500) & (gmm_4d_3['current_cluster'] == 1)].describe()"
   ]
  },
  {
   "cell_type": "code",
   "execution_count": 9,
   "metadata": {},
   "outputs": [
    {
     "data": {
      "text/html": [
       "<div>\n",
       "<style scoped>\n",
       "    .dataframe tbody tr th:only-of-type {\n",
       "        vertical-align: middle;\n",
       "    }\n",
       "\n",
       "    .dataframe tbody tr th {\n",
       "        vertical-align: top;\n",
       "    }\n",
       "\n",
       "    .dataframe thead th {\n",
       "        text-align: right;\n",
       "    }\n",
       "</style>\n",
       "<table border=\"1\" class=\"dataframe\">\n",
       "  <thead>\n",
       "    <tr style=\"text-align: right;\">\n",
       "      <th></th>\n",
       "      <th>slice</th>\n",
       "      <th>current_cluster</th>\n",
       "      <th>pore_precision</th>\n",
       "      <th>pore_recall</th>\n",
       "      <th>pore_f1</th>\n",
       "      <th>gypsum_precision</th>\n",
       "      <th>gypsum_recall</th>\n",
       "      <th>gypsum_f1</th>\n",
       "      <th>celestite_precision</th>\n",
       "      <th>celestite_recall</th>\n",
       "      <th>celestite_f1</th>\n",
       "      <th>bassanite_precision</th>\n",
       "      <th>bassanite_recall</th>\n",
       "      <th>bassanite_f1</th>\n",
       "    </tr>\n",
       "  </thead>\n",
       "  <tbody>\n",
       "    <tr>\n",
       "      <th>count</th>\n",
       "      <td>100.000000</td>\n",
       "      <td>100.0</td>\n",
       "      <td>100.000000</td>\n",
       "      <td>100.000000</td>\n",
       "      <td>100.000000</td>\n",
       "      <td>100.000000</td>\n",
       "      <td>100.000000</td>\n",
       "      <td>100.000000</td>\n",
       "      <td>100.0</td>\n",
       "      <td>100.0</td>\n",
       "      <td>100.0</td>\n",
       "      <td>100.000000</td>\n",
       "      <td>100.000000</td>\n",
       "      <td>100.000000</td>\n",
       "    </tr>\n",
       "    <tr>\n",
       "      <th>mean</th>\n",
       "      <td>449.500000</td>\n",
       "      <td>2.0</td>\n",
       "      <td>0.301379</td>\n",
       "      <td>0.798756</td>\n",
       "      <td>0.437463</td>\n",
       "      <td>0.587149</td>\n",
       "      <td>0.121821</td>\n",
       "      <td>0.201726</td>\n",
       "      <td>0.0</td>\n",
       "      <td>0.0</td>\n",
       "      <td>0.0</td>\n",
       "      <td>0.100116</td>\n",
       "      <td>0.083910</td>\n",
       "      <td>0.091081</td>\n",
       "    </tr>\n",
       "    <tr>\n",
       "      <th>std</th>\n",
       "      <td>29.011492</td>\n",
       "      <td>0.0</td>\n",
       "      <td>0.012350</td>\n",
       "      <td>0.007058</td>\n",
       "      <td>0.012678</td>\n",
       "      <td>0.018438</td>\n",
       "      <td>0.006363</td>\n",
       "      <td>0.009361</td>\n",
       "      <td>0.0</td>\n",
       "      <td>0.0</td>\n",
       "      <td>0.0</td>\n",
       "      <td>0.006420</td>\n",
       "      <td>0.004010</td>\n",
       "      <td>0.002320</td>\n",
       "    </tr>\n",
       "    <tr>\n",
       "      <th>min</th>\n",
       "      <td>400.000000</td>\n",
       "      <td>2.0</td>\n",
       "      <td>0.278625</td>\n",
       "      <td>0.780904</td>\n",
       "      <td>0.412731</td>\n",
       "      <td>0.547911</td>\n",
       "      <td>0.111033</td>\n",
       "      <td>0.185722</td>\n",
       "      <td>0.0</td>\n",
       "      <td>0.0</td>\n",
       "      <td>0.0</td>\n",
       "      <td>0.089976</td>\n",
       "      <td>0.075367</td>\n",
       "      <td>0.085152</td>\n",
       "    </tr>\n",
       "    <tr>\n",
       "      <th>25%</th>\n",
       "      <td>424.750000</td>\n",
       "      <td>2.0</td>\n",
       "      <td>0.292885</td>\n",
       "      <td>0.794480</td>\n",
       "      <td>0.428896</td>\n",
       "      <td>0.574153</td>\n",
       "      <td>0.115963</td>\n",
       "      <td>0.192576</td>\n",
       "      <td>0.0</td>\n",
       "      <td>0.0</td>\n",
       "      <td>0.0</td>\n",
       "      <td>0.094576</td>\n",
       "      <td>0.080674</td>\n",
       "      <td>0.089871</td>\n",
       "    </tr>\n",
       "    <tr>\n",
       "      <th>50%</th>\n",
       "      <td>449.500000</td>\n",
       "      <td>2.0</td>\n",
       "      <td>0.300968</td>\n",
       "      <td>0.800231</td>\n",
       "      <td>0.437472</td>\n",
       "      <td>0.589971</td>\n",
       "      <td>0.121683</td>\n",
       "      <td>0.202516</td>\n",
       "      <td>0.0</td>\n",
       "      <td>0.0</td>\n",
       "      <td>0.0</td>\n",
       "      <td>0.098484</td>\n",
       "      <td>0.083784</td>\n",
       "      <td>0.090915</td>\n",
       "    </tr>\n",
       "    <tr>\n",
       "      <th>75%</th>\n",
       "      <td>474.250000</td>\n",
       "      <td>2.0</td>\n",
       "      <td>0.309595</td>\n",
       "      <td>0.804192</td>\n",
       "      <td>0.446824</td>\n",
       "      <td>0.601565</td>\n",
       "      <td>0.126026</td>\n",
       "      <td>0.208721</td>\n",
       "      <td>0.0</td>\n",
       "      <td>0.0</td>\n",
       "      <td>0.0</td>\n",
       "      <td>0.105573</td>\n",
       "      <td>0.087185</td>\n",
       "      <td>0.092390</td>\n",
       "    </tr>\n",
       "    <tr>\n",
       "      <th>max</th>\n",
       "      <td>499.000000</td>\n",
       "      <td>2.0</td>\n",
       "      <td>0.331002</td>\n",
       "      <td>0.811220</td>\n",
       "      <td>0.467320</td>\n",
       "      <td>0.618561</td>\n",
       "      <td>0.135312</td>\n",
       "      <td>0.220919</td>\n",
       "      <td>0.0</td>\n",
       "      <td>0.0</td>\n",
       "      <td>0.0</td>\n",
       "      <td>0.112822</td>\n",
       "      <td>0.093515</td>\n",
       "      <td>0.096412</td>\n",
       "    </tr>\n",
       "  </tbody>\n",
       "</table>\n",
       "</div>"
      ],
      "text/plain": [
       "            slice  current_cluster  pore_precision  pore_recall     pore_f1  \\\n",
       "count  100.000000            100.0      100.000000   100.000000  100.000000   \n",
       "mean   449.500000              2.0        0.301379     0.798756    0.437463   \n",
       "std     29.011492              0.0        0.012350     0.007058    0.012678   \n",
       "min    400.000000              2.0        0.278625     0.780904    0.412731   \n",
       "25%    424.750000              2.0        0.292885     0.794480    0.428896   \n",
       "50%    449.500000              2.0        0.300968     0.800231    0.437472   \n",
       "75%    474.250000              2.0        0.309595     0.804192    0.446824   \n",
       "max    499.000000              2.0        0.331002     0.811220    0.467320   \n",
       "\n",
       "       gypsum_precision  gypsum_recall   gypsum_f1  celestite_precision  \\\n",
       "count        100.000000     100.000000  100.000000                100.0   \n",
       "mean           0.587149       0.121821    0.201726                  0.0   \n",
       "std            0.018438       0.006363    0.009361                  0.0   \n",
       "min            0.547911       0.111033    0.185722                  0.0   \n",
       "25%            0.574153       0.115963    0.192576                  0.0   \n",
       "50%            0.589971       0.121683    0.202516                  0.0   \n",
       "75%            0.601565       0.126026    0.208721                  0.0   \n",
       "max            0.618561       0.135312    0.220919                  0.0   \n",
       "\n",
       "       celestite_recall  celestite_f1  bassanite_precision  bassanite_recall  \\\n",
       "count             100.0         100.0           100.000000        100.000000   \n",
       "mean                0.0           0.0             0.100116          0.083910   \n",
       "std                 0.0           0.0             0.006420          0.004010   \n",
       "min                 0.0           0.0             0.089976          0.075367   \n",
       "25%                 0.0           0.0             0.094576          0.080674   \n",
       "50%                 0.0           0.0             0.098484          0.083784   \n",
       "75%                 0.0           0.0             0.105573          0.087185   \n",
       "max                 0.0           0.0             0.112822          0.093515   \n",
       "\n",
       "       bassanite_f1  \n",
       "count    100.000000  \n",
       "mean       0.091081  \n",
       "std        0.002320  \n",
       "min        0.085152  \n",
       "25%        0.089871  \n",
       "50%        0.090915  \n",
       "75%        0.092390  \n",
       "max        0.096412  "
      ]
     },
     "execution_count": 9,
     "metadata": {},
     "output_type": "execute_result"
    }
   ],
   "source": [
    "kmeans_3d_3.loc[(kmeans_3d_3['slice'] < 500) & (kmeans_3d_3['current_cluster'] == 2)].describe()"
   ]
  },
  {
   "cell_type": "code",
   "execution_count": 14,
   "metadata": {},
   "outputs": [
    {
     "data": {
      "text/html": [
       "<div>\n",
       "<style scoped>\n",
       "    .dataframe tbody tr th:only-of-type {\n",
       "        vertical-align: middle;\n",
       "    }\n",
       "\n",
       "    .dataframe tbody tr th {\n",
       "        vertical-align: top;\n",
       "    }\n",
       "\n",
       "    .dataframe thead th {\n",
       "        text-align: right;\n",
       "    }\n",
       "</style>\n",
       "<table border=\"1\" class=\"dataframe\">\n",
       "  <thead>\n",
       "    <tr style=\"text-align: right;\">\n",
       "      <th></th>\n",
       "      <th>slice</th>\n",
       "      <th>current_cluster</th>\n",
       "      <th>pore_precision</th>\n",
       "      <th>pore_recall</th>\n",
       "      <th>pore_f1</th>\n",
       "      <th>gypsum_precision</th>\n",
       "      <th>gypsum_recall</th>\n",
       "      <th>gypsum_f1</th>\n",
       "      <th>celestite_precision</th>\n",
       "      <th>celestite_recall</th>\n",
       "      <th>celestite_f1</th>\n",
       "      <th>bassanite_precision</th>\n",
       "      <th>bassanite_recall</th>\n",
       "      <th>bassanite_f1</th>\n",
       "    </tr>\n",
       "  </thead>\n",
       "  <tbody>\n",
       "    <tr>\n",
       "      <th>count</th>\n",
       "      <td>100.000000</td>\n",
       "      <td>100.0</td>\n",
       "      <td>100.000000</td>\n",
       "      <td>100.000000</td>\n",
       "      <td>100.000000</td>\n",
       "      <td>100.000000</td>\n",
       "      <td>100.000000</td>\n",
       "      <td>100.000000</td>\n",
       "      <td>100.000000</td>\n",
       "      <td>100.000000</td>\n",
       "      <td>100.000000</td>\n",
       "      <td>100.000000</td>\n",
       "      <td>100.000000</td>\n",
       "      <td>100.000000</td>\n",
       "    </tr>\n",
       "    <tr>\n",
       "      <th>mean</th>\n",
       "      <td>449.500000</td>\n",
       "      <td>0.0</td>\n",
       "      <td>0.081636</td>\n",
       "      <td>0.306607</td>\n",
       "      <td>0.128915</td>\n",
       "      <td>0.554973</td>\n",
       "      <td>0.163166</td>\n",
       "      <td>0.251991</td>\n",
       "      <td>0.005894</td>\n",
       "      <td>0.380111</td>\n",
       "      <td>0.011518</td>\n",
       "      <td>0.328569</td>\n",
       "      <td>0.389875</td>\n",
       "      <td>0.356416</td>\n",
       "    </tr>\n",
       "    <tr>\n",
       "      <th>std</th>\n",
       "      <td>29.011492</td>\n",
       "      <td>0.0</td>\n",
       "      <td>0.003036</td>\n",
       "      <td>0.011166</td>\n",
       "      <td>0.004411</td>\n",
       "      <td>0.012856</td>\n",
       "      <td>0.009914</td>\n",
       "      <td>0.011878</td>\n",
       "      <td>0.005909</td>\n",
       "      <td>0.197934</td>\n",
       "      <td>0.011482</td>\n",
       "      <td>0.018336</td>\n",
       "      <td>0.012298</td>\n",
       "      <td>0.014333</td>\n",
       "    </tr>\n",
       "    <tr>\n",
       "      <th>min</th>\n",
       "      <td>400.000000</td>\n",
       "      <td>0.0</td>\n",
       "      <td>0.074722</td>\n",
       "      <td>0.277607</td>\n",
       "      <td>0.119397</td>\n",
       "      <td>0.525346</td>\n",
       "      <td>0.146293</td>\n",
       "      <td>0.231025</td>\n",
       "      <td>0.000000</td>\n",
       "      <td>0.000000</td>\n",
       "      <td>0.000000</td>\n",
       "      <td>0.288139</td>\n",
       "      <td>0.363017</td>\n",
       "      <td>0.322091</td>\n",
       "    </tr>\n",
       "    <tr>\n",
       "      <th>25%</th>\n",
       "      <td>424.750000</td>\n",
       "      <td>0.0</td>\n",
       "      <td>0.079897</td>\n",
       "      <td>0.299095</td>\n",
       "      <td>0.126186</td>\n",
       "      <td>0.547192</td>\n",
       "      <td>0.152164</td>\n",
       "      <td>0.239408</td>\n",
       "      <td>0.000229</td>\n",
       "      <td>0.302118</td>\n",
       "      <td>0.000458</td>\n",
       "      <td>0.314919</td>\n",
       "      <td>0.381273</td>\n",
       "      <td>0.348257</td>\n",
       "    </tr>\n",
       "    <tr>\n",
       "      <th>50%</th>\n",
       "      <td>449.500000</td>\n",
       "      <td>0.0</td>\n",
       "      <td>0.081263</td>\n",
       "      <td>0.305733</td>\n",
       "      <td>0.128491</td>\n",
       "      <td>0.553604</td>\n",
       "      <td>0.166243</td>\n",
       "      <td>0.254340</td>\n",
       "      <td>0.003652</td>\n",
       "      <td>0.427798</td>\n",
       "      <td>0.007229</td>\n",
       "      <td>0.327011</td>\n",
       "      <td>0.390776</td>\n",
       "      <td>0.355322</td>\n",
       "    </tr>\n",
       "    <tr>\n",
       "      <th>75%</th>\n",
       "      <td>474.250000</td>\n",
       "      <td>0.0</td>\n",
       "      <td>0.083414</td>\n",
       "      <td>0.316079</td>\n",
       "      <td>0.131219</td>\n",
       "      <td>0.563010</td>\n",
       "      <td>0.172672</td>\n",
       "      <td>0.263191</td>\n",
       "      <td>0.011090</td>\n",
       "      <td>0.501600</td>\n",
       "      <td>0.021686</td>\n",
       "      <td>0.344174</td>\n",
       "      <td>0.398274</td>\n",
       "      <td>0.365602</td>\n",
       "    </tr>\n",
       "    <tr>\n",
       "      <th>max</th>\n",
       "      <td>499.000000</td>\n",
       "      <td>0.0</td>\n",
       "      <td>0.090015</td>\n",
       "      <td>0.333584</td>\n",
       "      <td>0.140783</td>\n",
       "      <td>0.580409</td>\n",
       "      <td>0.176201</td>\n",
       "      <td>0.268625</td>\n",
       "      <td>0.017305</td>\n",
       "      <td>1.000000</td>\n",
       "      <td>0.033562</td>\n",
       "      <td>0.368815</td>\n",
       "      <td>0.422905</td>\n",
       "      <td>0.393500</td>\n",
       "    </tr>\n",
       "  </tbody>\n",
       "</table>\n",
       "</div>"
      ],
      "text/plain": [
       "            slice  current_cluster  pore_precision  pore_recall     pore_f1  \\\n",
       "count  100.000000            100.0      100.000000   100.000000  100.000000   \n",
       "mean   449.500000              0.0        0.081636     0.306607    0.128915   \n",
       "std     29.011492              0.0        0.003036     0.011166    0.004411   \n",
       "min    400.000000              0.0        0.074722     0.277607    0.119397   \n",
       "25%    424.750000              0.0        0.079897     0.299095    0.126186   \n",
       "50%    449.500000              0.0        0.081263     0.305733    0.128491   \n",
       "75%    474.250000              0.0        0.083414     0.316079    0.131219   \n",
       "max    499.000000              0.0        0.090015     0.333584    0.140783   \n",
       "\n",
       "       gypsum_precision  gypsum_recall   gypsum_f1  celestite_precision  \\\n",
       "count        100.000000     100.000000  100.000000           100.000000   \n",
       "mean           0.554973       0.163166    0.251991             0.005894   \n",
       "std            0.012856       0.009914    0.011878             0.005909   \n",
       "min            0.525346       0.146293    0.231025             0.000000   \n",
       "25%            0.547192       0.152164    0.239408             0.000229   \n",
       "50%            0.553604       0.166243    0.254340             0.003652   \n",
       "75%            0.563010       0.172672    0.263191             0.011090   \n",
       "max            0.580409       0.176201    0.268625             0.017305   \n",
       "\n",
       "       celestite_recall  celestite_f1  bassanite_precision  bassanite_recall  \\\n",
       "count        100.000000    100.000000           100.000000        100.000000   \n",
       "mean           0.380111      0.011518             0.328569          0.389875   \n",
       "std            0.197934      0.011482             0.018336          0.012298   \n",
       "min            0.000000      0.000000             0.288139          0.363017   \n",
       "25%            0.302118      0.000458             0.314919          0.381273   \n",
       "50%            0.427798      0.007229             0.327011          0.390776   \n",
       "75%            0.501600      0.021686             0.344174          0.398274   \n",
       "max            1.000000      0.033562             0.368815          0.422905   \n",
       "\n",
       "       bassanite_f1  \n",
       "count    100.000000  \n",
       "mean       0.356416  \n",
       "std        0.014333  \n",
       "min        0.322091  \n",
       "25%        0.348257  \n",
       "50%        0.355322  \n",
       "75%        0.365602  \n",
       "max        0.393500  "
      ]
     },
     "execution_count": 14,
     "metadata": {},
     "output_type": "execute_result"
    }
   ],
   "source": [
    "kmeans_4d_3.loc[(kmeans_4d_3['slice'] < 500) & (kmeans_4d_3['current_cluster'] == 0)].describe()"
   ]
  },
  {
   "cell_type": "code",
   "execution_count": 5,
   "metadata": {},
   "outputs": [
    {
     "data": {
      "text/html": [
       "<div>\n",
       "<style scoped>\n",
       "    .dataframe tbody tr th:only-of-type {\n",
       "        vertical-align: middle;\n",
       "    }\n",
       "\n",
       "    .dataframe tbody tr th {\n",
       "        vertical-align: top;\n",
       "    }\n",
       "\n",
       "    .dataframe thead th {\n",
       "        text-align: right;\n",
       "    }\n",
       "</style>\n",
       "<table border=\"1\" class=\"dataframe\">\n",
       "  <thead>\n",
       "    <tr style=\"text-align: right;\">\n",
       "      <th></th>\n",
       "      <th>slice</th>\n",
       "      <th>current_cluster</th>\n",
       "      <th>pore_precision</th>\n",
       "      <th>pore_recall</th>\n",
       "      <th>pore_f1</th>\n",
       "      <th>gypsum_precision</th>\n",
       "      <th>gypsum_recall</th>\n",
       "      <th>gypsum_f1</th>\n",
       "      <th>celestite_precision</th>\n",
       "      <th>celestite_recall</th>\n",
       "      <th>celestite_f1</th>\n",
       "      <th>bassanite_precision</th>\n",
       "      <th>bassanite_recall</th>\n",
       "      <th>bassanite_f1</th>\n",
       "    </tr>\n",
       "  </thead>\n",
       "  <tbody>\n",
       "    <tr>\n",
       "      <th>count</th>\n",
       "      <td>1604.00000</td>\n",
       "      <td>1604.000000</td>\n",
       "      <td>1604.000000</td>\n",
       "      <td>1604.000000</td>\n",
       "      <td>1604.000000</td>\n",
       "      <td>1604.000000</td>\n",
       "      <td>1604.000000</td>\n",
       "      <td>1604.000000</td>\n",
       "      <td>1604.000000</td>\n",
       "      <td>1604.000000</td>\n",
       "      <td>1604.000000</td>\n",
       "      <td>1604.000000</td>\n",
       "      <td>1604.000000</td>\n",
       "      <td>1604.000000</td>\n",
       "    </tr>\n",
       "    <tr>\n",
       "      <th>mean</th>\n",
       "      <td>600.00000</td>\n",
       "      <td>1.500000</td>\n",
       "      <td>0.246797</td>\n",
       "      <td>0.250000</td>\n",
       "      <td>0.178841</td>\n",
       "      <td>0.380047</td>\n",
       "      <td>0.250000</td>\n",
       "      <td>0.280349</td>\n",
       "      <td>0.053247</td>\n",
       "      <td>0.218204</td>\n",
       "      <td>0.078756</td>\n",
       "      <td>0.291996</td>\n",
       "      <td>0.250000</td>\n",
       "      <td>0.244885</td>\n",
       "    </tr>\n",
       "    <tr>\n",
       "      <th>std</th>\n",
       "      <td>115.79447</td>\n",
       "      <td>1.118383</td>\n",
       "      <td>0.244268</td>\n",
       "      <td>0.282057</td>\n",
       "      <td>0.194291</td>\n",
       "      <td>0.362790</td>\n",
       "      <td>0.361685</td>\n",
       "      <td>0.372322</td>\n",
       "      <td>0.127999</td>\n",
       "      <td>0.402590</td>\n",
       "      <td>0.183197</td>\n",
       "      <td>0.214065</td>\n",
       "      <td>0.245563</td>\n",
       "      <td>0.239794</td>\n",
       "    </tr>\n",
       "    <tr>\n",
       "      <th>min</th>\n",
       "      <td>400.00000</td>\n",
       "      <td>0.000000</td>\n",
       "      <td>0.001901</td>\n",
       "      <td>0.019888</td>\n",
       "      <td>0.003470</td>\n",
       "      <td>0.001549</td>\n",
       "      <td>0.000010</td>\n",
       "      <td>0.000021</td>\n",
       "      <td>0.000000</td>\n",
       "      <td>0.000000</td>\n",
       "      <td>0.000000</td>\n",
       "      <td>0.009863</td>\n",
       "      <td>0.002129</td>\n",
       "      <td>0.004180</td>\n",
       "    </tr>\n",
       "    <tr>\n",
       "      <th>25%</th>\n",
       "      <td>500.00000</td>\n",
       "      <td>0.750000</td>\n",
       "      <td>0.015704</td>\n",
       "      <td>0.040238</td>\n",
       "      <td>0.025978</td>\n",
       "      <td>0.112067</td>\n",
       "      <td>0.012229</td>\n",
       "      <td>0.022057</td>\n",
       "      <td>0.000000</td>\n",
       "      <td>0.000000</td>\n",
       "      <td>0.000000</td>\n",
       "      <td>0.058587</td>\n",
       "      <td>0.045077</td>\n",
       "      <td>0.023059</td>\n",
       "    </tr>\n",
       "    <tr>\n",
       "      <th>50%</th>\n",
       "      <td>600.00000</td>\n",
       "      <td>1.500000</td>\n",
       "      <td>0.161308</td>\n",
       "      <td>0.112611</td>\n",
       "      <td>0.093958</td>\n",
       "      <td>0.272658</td>\n",
       "      <td>0.055084</td>\n",
       "      <td>0.092566</td>\n",
       "      <td>0.000000</td>\n",
       "      <td>0.000000</td>\n",
       "      <td>0.000000</td>\n",
       "      <td>0.356892</td>\n",
       "      <td>0.154809</td>\n",
       "      <td>0.159485</td>\n",
       "    </tr>\n",
       "    <tr>\n",
       "      <th>75%</th>\n",
       "      <td>700.00000</td>\n",
       "      <td>2.250000</td>\n",
       "      <td>0.418634</td>\n",
       "      <td>0.343361</td>\n",
       "      <td>0.291522</td>\n",
       "      <td>0.625015</td>\n",
       "      <td>0.328907</td>\n",
       "      <td>0.414070</td>\n",
       "      <td>0.000164</td>\n",
       "      <td>0.013930</td>\n",
       "      <td>0.000319</td>\n",
       "      <td>0.456013</td>\n",
       "      <td>0.404753</td>\n",
       "      <td>0.412081</td>\n",
       "    </tr>\n",
       "    <tr>\n",
       "      <th>max</th>\n",
       "      <td>800.00000</td>\n",
       "      <td>3.000000</td>\n",
       "      <td>0.846991</td>\n",
       "      <td>0.770929</td>\n",
       "      <td>0.560623</td>\n",
       "      <td>0.980941</td>\n",
       "      <td>0.922104</td>\n",
       "      <td>0.950339</td>\n",
       "      <td>0.550995</td>\n",
       "      <td>1.000000</td>\n",
       "      <td>0.709801</td>\n",
       "      <td>0.629383</td>\n",
       "      <td>0.728990</td>\n",
       "      <td>0.663471</td>\n",
       "    </tr>\n",
       "  </tbody>\n",
       "</table>\n",
       "</div>"
      ],
      "text/plain": [
       "            slice  current_cluster  pore_precision  pore_recall      pore_f1  \\\n",
       "count  1604.00000      1604.000000     1604.000000  1604.000000  1604.000000   \n",
       "mean    600.00000         1.500000        0.246797     0.250000     0.178841   \n",
       "std     115.79447         1.118383        0.244268     0.282057     0.194291   \n",
       "min     400.00000         0.000000        0.001901     0.019888     0.003470   \n",
       "25%     500.00000         0.750000        0.015704     0.040238     0.025978   \n",
       "50%     600.00000         1.500000        0.161308     0.112611     0.093958   \n",
       "75%     700.00000         2.250000        0.418634     0.343361     0.291522   \n",
       "max     800.00000         3.000000        0.846991     0.770929     0.560623   \n",
       "\n",
       "       gypsum_precision  gypsum_recall    gypsum_f1  celestite_precision  \\\n",
       "count       1604.000000    1604.000000  1604.000000          1604.000000   \n",
       "mean           0.380047       0.250000     0.280349             0.053247   \n",
       "std            0.362790       0.361685     0.372322             0.127999   \n",
       "min            0.001549       0.000010     0.000021             0.000000   \n",
       "25%            0.112067       0.012229     0.022057             0.000000   \n",
       "50%            0.272658       0.055084     0.092566             0.000000   \n",
       "75%            0.625015       0.328907     0.414070             0.000164   \n",
       "max            0.980941       0.922104     0.950339             0.550995   \n",
       "\n",
       "       celestite_recall  celestite_f1  bassanite_precision  bassanite_recall  \\\n",
       "count       1604.000000   1604.000000          1604.000000       1604.000000   \n",
       "mean           0.218204      0.078756             0.291996          0.250000   \n",
       "std            0.402590      0.183197             0.214065          0.245563   \n",
       "min            0.000000      0.000000             0.009863          0.002129   \n",
       "25%            0.000000      0.000000             0.058587          0.045077   \n",
       "50%            0.000000      0.000000             0.356892          0.154809   \n",
       "75%            0.013930      0.000319             0.456013          0.404753   \n",
       "max            1.000000      0.709801             0.629383          0.728990   \n",
       "\n",
       "       bassanite_f1  \n",
       "count   1604.000000  \n",
       "mean       0.244885  \n",
       "std        0.239794  \n",
       "min        0.004180  \n",
       "25%        0.023059  \n",
       "50%        0.159485  \n",
       "75%        0.412081  \n",
       "max        0.663471  "
      ]
     },
     "execution_count": 5,
     "metadata": {},
     "output_type": "execute_result"
    }
   ],
   "source": [
    "gmm_3d_4.describe()"
   ]
  },
  {
   "cell_type": "code",
   "execution_count": 6,
   "metadata": {},
   "outputs": [
    {
     "data": {
      "text/html": [
       "<div>\n",
       "<style scoped>\n",
       "    .dataframe tbody tr th:only-of-type {\n",
       "        vertical-align: middle;\n",
       "    }\n",
       "\n",
       "    .dataframe tbody tr th {\n",
       "        vertical-align: top;\n",
       "    }\n",
       "\n",
       "    .dataframe thead th {\n",
       "        text-align: right;\n",
       "    }\n",
       "</style>\n",
       "<table border=\"1\" class=\"dataframe\">\n",
       "  <thead>\n",
       "    <tr style=\"text-align: right;\">\n",
       "      <th></th>\n",
       "      <th>slice</th>\n",
       "      <th>current_cluster</th>\n",
       "      <th>pore_precision</th>\n",
       "      <th>pore_recall</th>\n",
       "      <th>pore_f1</th>\n",
       "      <th>gypsum_precision</th>\n",
       "      <th>gypsum_recall</th>\n",
       "      <th>gypsum_f1</th>\n",
       "      <th>celestite_precision</th>\n",
       "      <th>celestite_recall</th>\n",
       "      <th>celestite_f1</th>\n",
       "      <th>bassanite_precision</th>\n",
       "      <th>bassanite_recall</th>\n",
       "      <th>bassanite_f1</th>\n",
       "    </tr>\n",
       "  </thead>\n",
       "  <tbody>\n",
       "    <tr>\n",
       "      <th>count</th>\n",
       "      <td>2406.000000</td>\n",
       "      <td>2406.00000</td>\n",
       "      <td>2406.000000</td>\n",
       "      <td>2406.000000</td>\n",
       "      <td>2406.000000</td>\n",
       "      <td>2406.000000</td>\n",
       "      <td>2406.000000</td>\n",
       "      <td>2406.000000</td>\n",
       "      <td>2406.000000</td>\n",
       "      <td>2406.000000</td>\n",
       "      <td>2406.000000</td>\n",
       "      <td>2406.000000</td>\n",
       "      <td>2406.000000</td>\n",
       "      <td>2406.000000</td>\n",
       "    </tr>\n",
       "    <tr>\n",
       "      <th>mean</th>\n",
       "      <td>600.000000</td>\n",
       "      <td>2.50000</td>\n",
       "      <td>0.183274</td>\n",
       "      <td>0.166667</td>\n",
       "      <td>0.135387</td>\n",
       "      <td>0.379430</td>\n",
       "      <td>0.166667</td>\n",
       "      <td>0.192850</td>\n",
       "      <td>0.041382</td>\n",
       "      <td>0.145470</td>\n",
       "      <td>0.059142</td>\n",
       "      <td>0.367202</td>\n",
       "      <td>0.166667</td>\n",
       "      <td>0.215879</td>\n",
       "    </tr>\n",
       "    <tr>\n",
       "      <th>std</th>\n",
       "      <td>115.782433</td>\n",
       "      <td>1.70818</td>\n",
       "      <td>0.220389</td>\n",
       "      <td>0.253515</td>\n",
       "      <td>0.184260</td>\n",
       "      <td>0.365401</td>\n",
       "      <td>0.312929</td>\n",
       "      <td>0.324500</td>\n",
       "      <td>0.123510</td>\n",
       "      <td>0.342026</td>\n",
       "      <td>0.170951</td>\n",
       "      <td>0.319465</td>\n",
       "      <td>0.135273</td>\n",
       "      <td>0.195772</td>\n",
       "    </tr>\n",
       "    <tr>\n",
       "      <th>min</th>\n",
       "      <td>400.000000</td>\n",
       "      <td>0.00000</td>\n",
       "      <td>0.000048</td>\n",
       "      <td>0.000056</td>\n",
       "      <td>0.000051</td>\n",
       "      <td>0.001497</td>\n",
       "      <td>0.000006</td>\n",
       "      <td>0.000012</td>\n",
       "      <td>0.000000</td>\n",
       "      <td>0.000000</td>\n",
       "      <td>0.000000</td>\n",
       "      <td>0.010813</td>\n",
       "      <td>0.001565</td>\n",
       "      <td>0.003042</td>\n",
       "    </tr>\n",
       "    <tr>\n",
       "      <th>25%</th>\n",
       "      <td>500.000000</td>\n",
       "      <td>1.00000</td>\n",
       "      <td>0.002322</td>\n",
       "      <td>0.024166</td>\n",
       "      <td>0.004269</td>\n",
       "      <td>0.027317</td>\n",
       "      <td>0.002868</td>\n",
       "      <td>0.005154</td>\n",
       "      <td>0.000000</td>\n",
       "      <td>0.000000</td>\n",
       "      <td>0.000000</td>\n",
       "      <td>0.090285</td>\n",
       "      <td>0.037615</td>\n",
       "      <td>0.029871</td>\n",
       "    </tr>\n",
       "    <tr>\n",
       "      <th>50%</th>\n",
       "      <td>600.000000</td>\n",
       "      <td>2.50000</td>\n",
       "      <td>0.052705</td>\n",
       "      <td>0.046720</td>\n",
       "      <td>0.050178</td>\n",
       "      <td>0.239395</td>\n",
       "      <td>0.028280</td>\n",
       "      <td>0.051164</td>\n",
       "      <td>0.000000</td>\n",
       "      <td>0.000000</td>\n",
       "      <td>0.000000</td>\n",
       "      <td>0.350708</td>\n",
       "      <td>0.143039</td>\n",
       "      <td>0.150959</td>\n",
       "    </tr>\n",
       "    <tr>\n",
       "      <th>75%</th>\n",
       "      <td>700.000000</td>\n",
       "      <td>4.00000</td>\n",
       "      <td>0.362526</td>\n",
       "      <td>0.147632</td>\n",
       "      <td>0.154819</td>\n",
       "      <td>0.740137</td>\n",
       "      <td>0.072082</td>\n",
       "      <td>0.130832</td>\n",
       "      <td>0.000061</td>\n",
       "      <td>0.002837</td>\n",
       "      <td>0.000114</td>\n",
       "      <td>0.600362</td>\n",
       "      <td>0.295912</td>\n",
       "      <td>0.373334</td>\n",
       "    </tr>\n",
       "    <tr>\n",
       "      <th>max</th>\n",
       "      <td>800.000000</td>\n",
       "      <td>5.00000</td>\n",
       "      <td>0.834248</td>\n",
       "      <td>0.763849</td>\n",
       "      <td>0.589818</td>\n",
       "      <td>0.980383</td>\n",
       "      <td>0.914667</td>\n",
       "      <td>0.946104</td>\n",
       "      <td>0.601974</td>\n",
       "      <td>1.000000</td>\n",
       "      <td>0.750753</td>\n",
       "      <td>0.978136</td>\n",
       "      <td>0.413464</td>\n",
       "      <td>0.580908</td>\n",
       "    </tr>\n",
       "  </tbody>\n",
       "</table>\n",
       "</div>"
      ],
      "text/plain": [
       "             slice  current_cluster  pore_precision  pore_recall      pore_f1  \\\n",
       "count  2406.000000       2406.00000     2406.000000  2406.000000  2406.000000   \n",
       "mean    600.000000          2.50000        0.183274     0.166667     0.135387   \n",
       "std     115.782433          1.70818        0.220389     0.253515     0.184260   \n",
       "min     400.000000          0.00000        0.000048     0.000056     0.000051   \n",
       "25%     500.000000          1.00000        0.002322     0.024166     0.004269   \n",
       "50%     600.000000          2.50000        0.052705     0.046720     0.050178   \n",
       "75%     700.000000          4.00000        0.362526     0.147632     0.154819   \n",
       "max     800.000000          5.00000        0.834248     0.763849     0.589818   \n",
       "\n",
       "       gypsum_precision  gypsum_recall    gypsum_f1  celestite_precision  \\\n",
       "count       2406.000000    2406.000000  2406.000000          2406.000000   \n",
       "mean           0.379430       0.166667     0.192850             0.041382   \n",
       "std            0.365401       0.312929     0.324500             0.123510   \n",
       "min            0.001497       0.000006     0.000012             0.000000   \n",
       "25%            0.027317       0.002868     0.005154             0.000000   \n",
       "50%            0.239395       0.028280     0.051164             0.000000   \n",
       "75%            0.740137       0.072082     0.130832             0.000061   \n",
       "max            0.980383       0.914667     0.946104             0.601974   \n",
       "\n",
       "       celestite_recall  celestite_f1  bassanite_precision  bassanite_recall  \\\n",
       "count       2406.000000   2406.000000          2406.000000       2406.000000   \n",
       "mean           0.145470      0.059142             0.367202          0.166667   \n",
       "std            0.342026      0.170951             0.319465          0.135273   \n",
       "min            0.000000      0.000000             0.010813          0.001565   \n",
       "25%            0.000000      0.000000             0.090285          0.037615   \n",
       "50%            0.000000      0.000000             0.350708          0.143039   \n",
       "75%            0.002837      0.000114             0.600362          0.295912   \n",
       "max            1.000000      0.750753             0.978136          0.413464   \n",
       "\n",
       "       bassanite_f1  \n",
       "count   2406.000000  \n",
       "mean       0.215879  \n",
       "std        0.195772  \n",
       "min        0.003042  \n",
       "25%        0.029871  \n",
       "50%        0.150959  \n",
       "75%        0.373334  \n",
       "max        0.580908  "
      ]
     },
     "execution_count": 6,
     "metadata": {},
     "output_type": "execute_result"
    }
   ],
   "source": [
    "gmm_3d_6.describe()"
   ]
  },
  {
   "cell_type": "code",
   "execution_count": 7,
   "metadata": {},
   "outputs": [
    {
     "data": {
      "text/html": [
       "<div>\n",
       "<style scoped>\n",
       "    .dataframe tbody tr th:only-of-type {\n",
       "        vertical-align: middle;\n",
       "    }\n",
       "\n",
       "    .dataframe tbody tr th {\n",
       "        vertical-align: top;\n",
       "    }\n",
       "\n",
       "    .dataframe thead th {\n",
       "        text-align: right;\n",
       "    }\n",
       "</style>\n",
       "<table border=\"1\" class=\"dataframe\">\n",
       "  <thead>\n",
       "    <tr style=\"text-align: right;\">\n",
       "      <th></th>\n",
       "      <th>slice</th>\n",
       "      <th>current_cluster</th>\n",
       "      <th>pore_precision</th>\n",
       "      <th>pore_recall</th>\n",
       "      <th>pore_f1</th>\n",
       "      <th>gypsum_precision</th>\n",
       "      <th>gypsum_recall</th>\n",
       "      <th>gypsum_f1</th>\n",
       "      <th>celestite_precision</th>\n",
       "      <th>celestite_recall</th>\n",
       "      <th>celestite_f1</th>\n",
       "      <th>bassanite_precision</th>\n",
       "      <th>bassanite_recall</th>\n",
       "      <th>bassanite_f1</th>\n",
       "    </tr>\n",
       "  </thead>\n",
       "  <tbody>\n",
       "    <tr>\n",
       "      <th>count</th>\n",
       "      <td>1203.000000</td>\n",
       "      <td>1203.000000</td>\n",
       "      <td>1203.000000</td>\n",
       "      <td>1203.000000</td>\n",
       "      <td>1203.000000</td>\n",
       "      <td>1203.000000</td>\n",
       "      <td>1203.000000</td>\n",
       "      <td>1203.000000</td>\n",
       "      <td>1203.000000</td>\n",
       "      <td>1203.000000</td>\n",
       "      <td>1203.000000</td>\n",
       "      <td>1203.000000</td>\n",
       "      <td>1203.000000</td>\n",
       "      <td>1203.000000</td>\n",
       "    </tr>\n",
       "    <tr>\n",
       "      <th>mean</th>\n",
       "      <td>600.000000</td>\n",
       "      <td>1.000000</td>\n",
       "      <td>0.123615</td>\n",
       "      <td>0.333333</td>\n",
       "      <td>0.170179</td>\n",
       "      <td>0.596777</td>\n",
       "      <td>0.333333</td>\n",
       "      <td>0.417478</td>\n",
       "      <td>0.006869</td>\n",
       "      <td>0.290939</td>\n",
       "      <td>0.013209</td>\n",
       "      <td>0.253653</td>\n",
       "      <td>0.333333</td>\n",
       "      <td>0.263468</td>\n",
       "    </tr>\n",
       "    <tr>\n",
       "      <th>std</th>\n",
       "      <td>115.806511</td>\n",
       "      <td>0.816836</td>\n",
       "      <td>0.131660</td>\n",
       "      <td>0.241276</td>\n",
       "      <td>0.166999</td>\n",
       "      <td>0.315946</td>\n",
       "      <td>0.253510</td>\n",
       "      <td>0.295849</td>\n",
       "      <td>0.015173</td>\n",
       "      <td>0.448274</td>\n",
       "      <td>0.028920</td>\n",
       "      <td>0.182535</td>\n",
       "      <td>0.243588</td>\n",
       "      <td>0.171796</td>\n",
       "    </tr>\n",
       "    <tr>\n",
       "      <th>min</th>\n",
       "      <td>400.000000</td>\n",
       "      <td>0.000000</td>\n",
       "      <td>0.001732</td>\n",
       "      <td>0.013158</td>\n",
       "      <td>0.003062</td>\n",
       "      <td>0.142489</td>\n",
       "      <td>0.018845</td>\n",
       "      <td>0.034757</td>\n",
       "      <td>0.000000</td>\n",
       "      <td>0.000000</td>\n",
       "      <td>0.000000</td>\n",
       "      <td>0.011888</td>\n",
       "      <td>0.033131</td>\n",
       "      <td>0.018583</td>\n",
       "    </tr>\n",
       "    <tr>\n",
       "      <th>25%</th>\n",
       "      <td>500.000000</td>\n",
       "      <td>0.000000</td>\n",
       "      <td>0.004035</td>\n",
       "      <td>0.036655</td>\n",
       "      <td>0.007250</td>\n",
       "      <td>0.223032</td>\n",
       "      <td>0.031910</td>\n",
       "      <td>0.054730</td>\n",
       "      <td>0.000000</td>\n",
       "      <td>0.000000</td>\n",
       "      <td>0.000000</td>\n",
       "      <td>0.018331</td>\n",
       "      <td>0.059235</td>\n",
       "      <td>0.027745</td>\n",
       "    </tr>\n",
       "    <tr>\n",
       "      <th>50%</th>\n",
       "      <td>600.000000</td>\n",
       "      <td>1.000000</td>\n",
       "      <td>0.065251</td>\n",
       "      <td>0.376444</td>\n",
       "      <td>0.111552</td>\n",
       "      <td>0.628486</td>\n",
       "      <td>0.322489</td>\n",
       "      <td>0.429438</td>\n",
       "      <td>0.000000</td>\n",
       "      <td>0.000000</td>\n",
       "      <td>0.000000</td>\n",
       "      <td>0.289293</td>\n",
       "      <td>0.329174</td>\n",
       "      <td>0.351877</td>\n",
       "    </tr>\n",
       "    <tr>\n",
       "      <th>75%</th>\n",
       "      <td>700.000000</td>\n",
       "      <td>2.000000</td>\n",
       "      <td>0.286997</td>\n",
       "      <td>0.509745</td>\n",
       "      <td>0.387418</td>\n",
       "      <td>0.954244</td>\n",
       "      <td>0.624749</td>\n",
       "      <td>0.757058</td>\n",
       "      <td>0.001316</td>\n",
       "      <td>0.999712</td>\n",
       "      <td>0.002628</td>\n",
       "      <td>0.424260</td>\n",
       "      <td>0.594236</td>\n",
       "      <td>0.403400</td>\n",
       "    </tr>\n",
       "    <tr>\n",
       "      <th>max</th>\n",
       "      <td>800.000000</td>\n",
       "      <td>2.000000</td>\n",
       "      <td>0.358502</td>\n",
       "      <td>0.781487</td>\n",
       "      <td>0.438003</td>\n",
       "      <td>0.978499</td>\n",
       "      <td>0.710644</td>\n",
       "      <td>0.823086</td>\n",
       "      <td>0.073089</td>\n",
       "      <td>1.000000</td>\n",
       "      <td>0.136222</td>\n",
       "      <td>0.530372</td>\n",
       "      <td>0.764557</td>\n",
       "      <td>0.483515</td>\n",
       "    </tr>\n",
       "  </tbody>\n",
       "</table>\n",
       "</div>"
      ],
      "text/plain": [
       "             slice  current_cluster  pore_precision  pore_recall      pore_f1  \\\n",
       "count  1203.000000      1203.000000     1203.000000  1203.000000  1203.000000   \n",
       "mean    600.000000         1.000000        0.123615     0.333333     0.170179   \n",
       "std     115.806511         0.816836        0.131660     0.241276     0.166999   \n",
       "min     400.000000         0.000000        0.001732     0.013158     0.003062   \n",
       "25%     500.000000         0.000000        0.004035     0.036655     0.007250   \n",
       "50%     600.000000         1.000000        0.065251     0.376444     0.111552   \n",
       "75%     700.000000         2.000000        0.286997     0.509745     0.387418   \n",
       "max     800.000000         2.000000        0.358502     0.781487     0.438003   \n",
       "\n",
       "       gypsum_precision  gypsum_recall    gypsum_f1  celestite_precision  \\\n",
       "count       1203.000000    1203.000000  1203.000000          1203.000000   \n",
       "mean           0.596777       0.333333     0.417478             0.006869   \n",
       "std            0.315946       0.253510     0.295849             0.015173   \n",
       "min            0.142489       0.018845     0.034757             0.000000   \n",
       "25%            0.223032       0.031910     0.054730             0.000000   \n",
       "50%            0.628486       0.322489     0.429438             0.000000   \n",
       "75%            0.954244       0.624749     0.757058             0.001316   \n",
       "max            0.978499       0.710644     0.823086             0.073089   \n",
       "\n",
       "       celestite_recall  celestite_f1  bassanite_precision  bassanite_recall  \\\n",
       "count       1203.000000   1203.000000          1203.000000       1203.000000   \n",
       "mean           0.290939      0.013209             0.253653          0.333333   \n",
       "std            0.448274      0.028920             0.182535          0.243588   \n",
       "min            0.000000      0.000000             0.011888          0.033131   \n",
       "25%            0.000000      0.000000             0.018331          0.059235   \n",
       "50%            0.000000      0.000000             0.289293          0.329174   \n",
       "75%            0.999712      0.002628             0.424260          0.594236   \n",
       "max            1.000000      0.136222             0.530372          0.764557   \n",
       "\n",
       "       bassanite_f1  \n",
       "count   1203.000000  \n",
       "mean       0.263468  \n",
       "std        0.171796  \n",
       "min        0.018583  \n",
       "25%        0.027745  \n",
       "50%        0.351877  \n",
       "75%        0.403400  \n",
       "max        0.483515  "
      ]
     },
     "execution_count": 7,
     "metadata": {},
     "output_type": "execute_result"
    }
   ],
   "source": [
    "gmm_4d_3.describe()"
   ]
  },
  {
   "cell_type": "code",
   "execution_count": 8,
   "metadata": {},
   "outputs": [
    {
     "data": {
      "text/html": [
       "<div>\n",
       "<style scoped>\n",
       "    .dataframe tbody tr th:only-of-type {\n",
       "        vertical-align: middle;\n",
       "    }\n",
       "\n",
       "    .dataframe tbody tr th {\n",
       "        vertical-align: top;\n",
       "    }\n",
       "\n",
       "    .dataframe thead th {\n",
       "        text-align: right;\n",
       "    }\n",
       "</style>\n",
       "<table border=\"1\" class=\"dataframe\">\n",
       "  <thead>\n",
       "    <tr style=\"text-align: right;\">\n",
       "      <th></th>\n",
       "      <th>slice</th>\n",
       "      <th>current_cluster</th>\n",
       "      <th>pore_precision</th>\n",
       "      <th>pore_recall</th>\n",
       "      <th>pore_f1</th>\n",
       "      <th>gypsum_precision</th>\n",
       "      <th>gypsum_recall</th>\n",
       "      <th>gypsum_f1</th>\n",
       "      <th>celestite_precision</th>\n",
       "      <th>celestite_recall</th>\n",
       "      <th>celestite_f1</th>\n",
       "      <th>bassanite_precision</th>\n",
       "      <th>bassanite_recall</th>\n",
       "      <th>bassanite_f1</th>\n",
       "    </tr>\n",
       "  </thead>\n",
       "  <tbody>\n",
       "    <tr>\n",
       "      <th>count</th>\n",
       "      <td>1604.00000</td>\n",
       "      <td>1604.000000</td>\n",
       "      <td>1604.000000</td>\n",
       "      <td>1604.000000</td>\n",
       "      <td>1604.000000</td>\n",
       "      <td>1604.000000</td>\n",
       "      <td>1604.000000</td>\n",
       "      <td>1604.000000</td>\n",
       "      <td>1604.000000</td>\n",
       "      <td>1604.000000</td>\n",
       "      <td>1604.000000</td>\n",
       "      <td>1604.000000</td>\n",
       "      <td>1604.000000</td>\n",
       "      <td>1604.000000</td>\n",
       "    </tr>\n",
       "    <tr>\n",
       "      <th>mean</th>\n",
       "      <td>600.00000</td>\n",
       "      <td>1.500000</td>\n",
       "      <td>0.107985</td>\n",
       "      <td>0.250000</td>\n",
       "      <td>0.145431</td>\n",
       "      <td>0.592235</td>\n",
       "      <td>0.250000</td>\n",
       "      <td>0.336330</td>\n",
       "      <td>0.006333</td>\n",
       "      <td>0.218204</td>\n",
       "      <td>0.012077</td>\n",
       "      <td>0.274192</td>\n",
       "      <td>0.250000</td>\n",
       "      <td>0.250593</td>\n",
       "    </tr>\n",
       "    <tr>\n",
       "      <th>std</th>\n",
       "      <td>115.79447</td>\n",
       "      <td>1.118383</td>\n",
       "      <td>0.103490</td>\n",
       "      <td>0.230463</td>\n",
       "      <td>0.135487</td>\n",
       "      <td>0.325870</td>\n",
       "      <td>0.232204</td>\n",
       "      <td>0.276813</td>\n",
       "      <td>0.016459</td>\n",
       "      <td>0.405039</td>\n",
       "      <td>0.031082</td>\n",
       "      <td>0.215212</td>\n",
       "      <td>0.185604</td>\n",
       "      <td>0.190793</td>\n",
       "    </tr>\n",
       "    <tr>\n",
       "      <th>min</th>\n",
       "      <td>400.00000</td>\n",
       "      <td>0.000000</td>\n",
       "      <td>0.001321</td>\n",
       "      <td>0.009544</td>\n",
       "      <td>0.002321</td>\n",
       "      <td>0.165908</td>\n",
       "      <td>0.017573</td>\n",
       "      <td>0.033073</td>\n",
       "      <td>0.000000</td>\n",
       "      <td>0.000000</td>\n",
       "      <td>0.000000</td>\n",
       "      <td>0.010685</td>\n",
       "      <td>0.027989</td>\n",
       "      <td>0.016206</td>\n",
       "    </tr>\n",
       "    <tr>\n",
       "      <th>25%</th>\n",
       "      <td>500.00000</td>\n",
       "      <td>0.750000</td>\n",
       "      <td>0.006066</td>\n",
       "      <td>0.034765</td>\n",
       "      <td>0.009955</td>\n",
       "      <td>0.270831</td>\n",
       "      <td>0.047704</td>\n",
       "      <td>0.080193</td>\n",
       "      <td>0.000000</td>\n",
       "      <td>0.000000</td>\n",
       "      <td>0.000000</td>\n",
       "      <td>0.073258</td>\n",
       "      <td>0.101176</td>\n",
       "      <td>0.084382</td>\n",
       "    </tr>\n",
       "    <tr>\n",
       "      <th>50%</th>\n",
       "      <td>600.00000</td>\n",
       "      <td>1.500000</td>\n",
       "      <td>0.059983</td>\n",
       "      <td>0.150388</td>\n",
       "      <td>0.097391</td>\n",
       "      <td>0.668941</td>\n",
       "      <td>0.205632</td>\n",
       "      <td>0.316947</td>\n",
       "      <td>0.000000</td>\n",
       "      <td>0.000000</td>\n",
       "      <td>0.000000</td>\n",
       "      <td>0.237891</td>\n",
       "      <td>0.182385</td>\n",
       "      <td>0.191261</td>\n",
       "    </tr>\n",
       "    <tr>\n",
       "      <th>75%</th>\n",
       "      <td>700.00000</td>\n",
       "      <td>2.250000</td>\n",
       "      <td>0.215308</td>\n",
       "      <td>0.472290</td>\n",
       "      <td>0.285947</td>\n",
       "      <td>0.901305</td>\n",
       "      <td>0.354177</td>\n",
       "      <td>0.500055</td>\n",
       "      <td>0.000052</td>\n",
       "      <td>0.010803</td>\n",
       "      <td>0.000100</td>\n",
       "      <td>0.498098</td>\n",
       "      <td>0.396853</td>\n",
       "      <td>0.427321</td>\n",
       "    </tr>\n",
       "    <tr>\n",
       "      <th>max</th>\n",
       "      <td>800.00000</td>\n",
       "      <td>3.000000</td>\n",
       "      <td>0.273182</td>\n",
       "      <td>0.670478</td>\n",
       "      <td>0.337904</td>\n",
       "      <td>0.980220</td>\n",
       "      <td>0.684686</td>\n",
       "      <td>0.805782</td>\n",
       "      <td>0.087468</td>\n",
       "      <td>1.000000</td>\n",
       "      <td>0.160852</td>\n",
       "      <td>0.552508</td>\n",
       "      <td>0.614513</td>\n",
       "      <td>0.566843</td>\n",
       "    </tr>\n",
       "  </tbody>\n",
       "</table>\n",
       "</div>"
      ],
      "text/plain": [
       "            slice  current_cluster  pore_precision  pore_recall      pore_f1  \\\n",
       "count  1604.00000      1604.000000     1604.000000  1604.000000  1604.000000   \n",
       "mean    600.00000         1.500000        0.107985     0.250000     0.145431   \n",
       "std     115.79447         1.118383        0.103490     0.230463     0.135487   \n",
       "min     400.00000         0.000000        0.001321     0.009544     0.002321   \n",
       "25%     500.00000         0.750000        0.006066     0.034765     0.009955   \n",
       "50%     600.00000         1.500000        0.059983     0.150388     0.097391   \n",
       "75%     700.00000         2.250000        0.215308     0.472290     0.285947   \n",
       "max     800.00000         3.000000        0.273182     0.670478     0.337904   \n",
       "\n",
       "       gypsum_precision  gypsum_recall    gypsum_f1  celestite_precision  \\\n",
       "count       1604.000000    1604.000000  1604.000000          1604.000000   \n",
       "mean           0.592235       0.250000     0.336330             0.006333   \n",
       "std            0.325870       0.232204     0.276813             0.016459   \n",
       "min            0.165908       0.017573     0.033073             0.000000   \n",
       "25%            0.270831       0.047704     0.080193             0.000000   \n",
       "50%            0.668941       0.205632     0.316947             0.000000   \n",
       "75%            0.901305       0.354177     0.500055             0.000052   \n",
       "max            0.980220       0.684686     0.805782             0.087468   \n",
       "\n",
       "       celestite_recall  celestite_f1  bassanite_precision  bassanite_recall  \\\n",
       "count       1604.000000   1604.000000          1604.000000       1604.000000   \n",
       "mean           0.218204      0.012077             0.274192          0.250000   \n",
       "std            0.405039      0.031082             0.215212          0.185604   \n",
       "min            0.000000      0.000000             0.010685          0.027989   \n",
       "25%            0.000000      0.000000             0.073258          0.101176   \n",
       "50%            0.000000      0.000000             0.237891          0.182385   \n",
       "75%            0.010803      0.000100             0.498098          0.396853   \n",
       "max            1.000000      0.160852             0.552508          0.614513   \n",
       "\n",
       "       bassanite_f1  \n",
       "count   1604.000000  \n",
       "mean       0.250593  \n",
       "std        0.190793  \n",
       "min        0.016206  \n",
       "25%        0.084382  \n",
       "50%        0.191261  \n",
       "75%        0.427321  \n",
       "max        0.566843  "
      ]
     },
     "execution_count": 8,
     "metadata": {},
     "output_type": "execute_result"
    }
   ],
   "source": [
    "gmm_4d_4.describe()"
   ]
  },
  {
   "cell_type": "code",
   "execution_count": 9,
   "metadata": {},
   "outputs": [
    {
     "data": {
      "text/html": [
       "<div>\n",
       "<style scoped>\n",
       "    .dataframe tbody tr th:only-of-type {\n",
       "        vertical-align: middle;\n",
       "    }\n",
       "\n",
       "    .dataframe tbody tr th {\n",
       "        vertical-align: top;\n",
       "    }\n",
       "\n",
       "    .dataframe thead th {\n",
       "        text-align: right;\n",
       "    }\n",
       "</style>\n",
       "<table border=\"1\" class=\"dataframe\">\n",
       "  <thead>\n",
       "    <tr style=\"text-align: right;\">\n",
       "      <th></th>\n",
       "      <th>slice</th>\n",
       "      <th>current_cluster</th>\n",
       "      <th>pore_precision</th>\n",
       "      <th>pore_recall</th>\n",
       "      <th>pore_f1</th>\n",
       "      <th>gypsum_precision</th>\n",
       "      <th>gypsum_recall</th>\n",
       "      <th>gypsum_f1</th>\n",
       "      <th>celestite_precision</th>\n",
       "      <th>celestite_recall</th>\n",
       "      <th>celestite_f1</th>\n",
       "      <th>bassanite_precision</th>\n",
       "      <th>bassanite_recall</th>\n",
       "      <th>bassanite_f1</th>\n",
       "    </tr>\n",
       "  </thead>\n",
       "  <tbody>\n",
       "    <tr>\n",
       "      <th>count</th>\n",
       "      <td>2406.000000</td>\n",
       "      <td>2406.00000</td>\n",
       "      <td>2406.000000</td>\n",
       "      <td>2406.000000</td>\n",
       "      <td>2406.000000</td>\n",
       "      <td>2406.000000</td>\n",
       "      <td>2406.000000</td>\n",
       "      <td>2406.000000</td>\n",
       "      <td>2406.000000</td>\n",
       "      <td>2406.000000</td>\n",
       "      <td>2406.000000</td>\n",
       "      <td>2406.000000</td>\n",
       "      <td>2406.000000</td>\n",
       "      <td>2406.000000</td>\n",
       "    </tr>\n",
       "    <tr>\n",
       "      <th>mean</th>\n",
       "      <td>600.000000</td>\n",
       "      <td>2.50000</td>\n",
       "      <td>0.133401</td>\n",
       "      <td>0.166667</td>\n",
       "      <td>0.129615</td>\n",
       "      <td>0.535292</td>\n",
       "      <td>0.166667</td>\n",
       "      <td>0.237187</td>\n",
       "      <td>0.011645</td>\n",
       "      <td>0.145470</td>\n",
       "      <td>0.020679</td>\n",
       "      <td>0.297162</td>\n",
       "      <td>0.166667</td>\n",
       "      <td>0.198623</td>\n",
       "    </tr>\n",
       "    <tr>\n",
       "      <th>std</th>\n",
       "      <td>115.782433</td>\n",
       "      <td>1.70818</td>\n",
       "      <td>0.144726</td>\n",
       "      <td>0.173586</td>\n",
       "      <td>0.121243</td>\n",
       "      <td>0.326968</td>\n",
       "      <td>0.197188</td>\n",
       "      <td>0.248740</td>\n",
       "      <td>0.036772</td>\n",
       "      <td>0.342361</td>\n",
       "      <td>0.064207</td>\n",
       "      <td>0.201763</td>\n",
       "      <td>0.138441</td>\n",
       "      <td>0.155992</td>\n",
       "    </tr>\n",
       "    <tr>\n",
       "      <th>min</th>\n",
       "      <td>400.000000</td>\n",
       "      <td>0.00000</td>\n",
       "      <td>0.001359</td>\n",
       "      <td>0.007825</td>\n",
       "      <td>0.002352</td>\n",
       "      <td>0.068725</td>\n",
       "      <td>0.001390</td>\n",
       "      <td>0.002736</td>\n",
       "      <td>0.000000</td>\n",
       "      <td>0.000000</td>\n",
       "      <td>0.000000</td>\n",
       "      <td>0.010435</td>\n",
       "      <td>0.023320</td>\n",
       "      <td>0.016011</td>\n",
       "    </tr>\n",
       "    <tr>\n",
       "      <th>25%</th>\n",
       "      <td>500.000000</td>\n",
       "      <td>1.00000</td>\n",
       "      <td>0.005386</td>\n",
       "      <td>0.024806</td>\n",
       "      <td>0.008316</td>\n",
       "      <td>0.245613</td>\n",
       "      <td>0.031482</td>\n",
       "      <td>0.057874</td>\n",
       "      <td>0.000000</td>\n",
       "      <td>0.000000</td>\n",
       "      <td>0.000000</td>\n",
       "      <td>0.036401</td>\n",
       "      <td>0.044767</td>\n",
       "      <td>0.039932</td>\n",
       "    </tr>\n",
       "    <tr>\n",
       "      <th>50%</th>\n",
       "      <td>600.000000</td>\n",
       "      <td>2.50000</td>\n",
       "      <td>0.086603</td>\n",
       "      <td>0.114503</td>\n",
       "      <td>0.098070</td>\n",
       "      <td>0.504014</td>\n",
       "      <td>0.062119</td>\n",
       "      <td>0.110219</td>\n",
       "      <td>0.000000</td>\n",
       "      <td>0.000000</td>\n",
       "      <td>0.000000</td>\n",
       "      <td>0.372274</td>\n",
       "      <td>0.137554</td>\n",
       "      <td>0.208509</td>\n",
       "    </tr>\n",
       "    <tr>\n",
       "      <th>75%</th>\n",
       "      <td>700.000000</td>\n",
       "      <td>4.00000</td>\n",
       "      <td>0.225521</td>\n",
       "      <td>0.212074</td>\n",
       "      <td>0.239920</td>\n",
       "      <td>0.940991</td>\n",
       "      <td>0.261895</td>\n",
       "      <td>0.409628</td>\n",
       "      <td>0.000046</td>\n",
       "      <td>0.001874</td>\n",
       "      <td>0.000089</td>\n",
       "      <td>0.472422</td>\n",
       "      <td>0.230900</td>\n",
       "      <td>0.290545</td>\n",
       "    </tr>\n",
       "    <tr>\n",
       "      <th>max</th>\n",
       "      <td>800.000000</td>\n",
       "      <td>5.00000</td>\n",
       "      <td>0.556273</td>\n",
       "      <td>0.616906</td>\n",
       "      <td>0.416390</td>\n",
       "      <td>0.980594</td>\n",
       "      <td>0.638699</td>\n",
       "      <td>0.773244</td>\n",
       "      <td>0.213904</td>\n",
       "      <td>1.000000</td>\n",
       "      <td>0.352326</td>\n",
       "      <td>0.621488</td>\n",
       "      <td>0.516228</td>\n",
       "      <td>0.526558</td>\n",
       "    </tr>\n",
       "  </tbody>\n",
       "</table>\n",
       "</div>"
      ],
      "text/plain": [
       "             slice  current_cluster  pore_precision  pore_recall      pore_f1  \\\n",
       "count  2406.000000       2406.00000     2406.000000  2406.000000  2406.000000   \n",
       "mean    600.000000          2.50000        0.133401     0.166667     0.129615   \n",
       "std     115.782433          1.70818        0.144726     0.173586     0.121243   \n",
       "min     400.000000          0.00000        0.001359     0.007825     0.002352   \n",
       "25%     500.000000          1.00000        0.005386     0.024806     0.008316   \n",
       "50%     600.000000          2.50000        0.086603     0.114503     0.098070   \n",
       "75%     700.000000          4.00000        0.225521     0.212074     0.239920   \n",
       "max     800.000000          5.00000        0.556273     0.616906     0.416390   \n",
       "\n",
       "       gypsum_precision  gypsum_recall    gypsum_f1  celestite_precision  \\\n",
       "count       2406.000000    2406.000000  2406.000000          2406.000000   \n",
       "mean           0.535292       0.166667     0.237187             0.011645   \n",
       "std            0.326968       0.197188     0.248740             0.036772   \n",
       "min            0.068725       0.001390     0.002736             0.000000   \n",
       "25%            0.245613       0.031482     0.057874             0.000000   \n",
       "50%            0.504014       0.062119     0.110219             0.000000   \n",
       "75%            0.940991       0.261895     0.409628             0.000046   \n",
       "max            0.980594       0.638699     0.773244             0.213904   \n",
       "\n",
       "       celestite_recall  celestite_f1  bassanite_precision  bassanite_recall  \\\n",
       "count       2406.000000   2406.000000          2406.000000       2406.000000   \n",
       "mean           0.145470      0.020679             0.297162          0.166667   \n",
       "std            0.342361      0.064207             0.201763          0.138441   \n",
       "min            0.000000      0.000000             0.010435          0.023320   \n",
       "25%            0.000000      0.000000             0.036401          0.044767   \n",
       "50%            0.000000      0.000000             0.372274          0.137554   \n",
       "75%            0.001874      0.000089             0.472422          0.230900   \n",
       "max            1.000000      0.352326             0.621488          0.516228   \n",
       "\n",
       "       bassanite_f1  \n",
       "count   2406.000000  \n",
       "mean       0.198623  \n",
       "std        0.155992  \n",
       "min        0.016011  \n",
       "25%        0.039932  \n",
       "50%        0.208509  \n",
       "75%        0.290545  \n",
       "max        0.526558  "
      ]
     },
     "execution_count": 9,
     "metadata": {},
     "output_type": "execute_result"
    }
   ],
   "source": [
    "gmm_4d_6.describe()"
   ]
  },
  {
   "cell_type": "code",
   "execution_count": null,
   "metadata": {},
   "outputs": [],
   "source": []
  },
  {
   "attachments": {},
   "cell_type": "markdown",
   "metadata": {},
   "source": [
    "### Recall score revise"
   ]
  },
  {
   "cell_type": "code",
   "execution_count": 1,
   "metadata": {},
   "outputs": [],
   "source": [
    "import numpy as np\n",
    "import os\n",
    "from matplotlib import pyplot as plt\n",
    "import cv2\n",
    "import csv\n",
    "import pandas as pd\n",
    "import glob\n",
    "from sklearn.model_selection import train_test_split\n",
    "from sklearn.metrics import accuracy_score, precision_recall_fscore_support\n",
    "\n",
    "import tensorflow as tf\n",
    "from tensorflow import keras\n",
    "from keras.models import Sequential, Model, load_model\n",
    "from keras.layers import Conv2D #images are two dimensional. Videos are three dimension.\n",
    "from keras.layers import MaxPooling2D, Flatten, Dense, Dropout\n",
    "\n",
    "from keras.preprocessing import image\n",
    "from keras.preprocessing.image import ImageDataGenerator"
   ]
  },
  {
   "cell_type": "code",
   "execution_count": 2,
   "metadata": {},
   "outputs": [],
   "source": [
    "from keras.applications.vgg16 import VGG16\n",
    "from keras.applications.vgg16 import preprocess_input\n",
    "\n",
    "from keras.optimizers import Adam\n",
    "from datetime import datetime\n",
    "from keras.callbacks import ModelCheckpoint, EarlyStopping, ReduceLROnPlateau\n",
    "\n",
    "from auto_label import auto_label, PRECISION_SOLO"
   ]
  },
  {
   "cell_type": "code",
   "execution_count": 3,
   "metadata": {},
   "outputs": [],
   "source": [
    "def auto_label_last_201(seg_model, seg_nd, cluster_num, mode, threshold=0.5):\n",
    "    # cluster_num: the total number of clusters\n",
    "    assert mode in [1,2,3,4], \"Invalid mode: mode should be integer in [1,2,3,4].\"\n",
    "    if mode == 1:\n",
    "        assert threshold == 0.5, \"Mode 1 requires threshold = 0.5.\"\n",
    "\n",
    "    csv_file = os.path.join(os.getcwd(), 'seg_res_evaluation_csv', '{}_{}_{}.csv'.format(seg_model, seg_nd, cluster_num))\n",
    "    #df = pd.read_csv(csv_file, usecols=['slice', 'current_cluster','pore_micro_precision', 'pore_micro_f1', 'gypsum_micro_precision', 'gypsum_micro_f1', 'celestite_micro_precision', 'celestite_micro_f1', 'bassanite_micro_precision', 'bassanite_micro_f1'])\n",
    "    df = pd.read_csv(csv_file, usecols=['slice', 'current_cluster','pore_precision', 'pore_f1', 'gypsum_precision', 'gypsum_f1', 'celestite_precision', 'celestite_f1', 'bassanite_precision', 'bassanite_f1'])\n",
    "    df =  df.loc[df['slice'] >= 600]  # only use training set\n",
    "\n",
    "    label = [0]*cluster_num\n",
    "\n",
    "    for i in range(cluster_num):\n",
    "        one_cluster = df.loc[df['current_cluster'] == i]\n",
    "        stats = one_cluster.mean()\n",
    "        precisions = [stats[2], stats[4], stats[6], stats[8]]\n",
    "        fscores = [stats[3], stats[5], stats[7], stats[9]]\n",
    "        p_max = max(precisions)\n",
    "        p_idx = np.argmax(precisions)\n",
    "        f_idx = np.argmax(fscores)\n",
    "        if mode in [1,2]:\n",
    "            if p_max <= threshold:\n",
    "                idx = f_idx\n",
    "            else:\n",
    "                idx = p_idx\n",
    "        elif mode == 3:\n",
    "            idx = f_idx\n",
    "        else:\n",
    "            idx = p_idx\n",
    "            \n",
    "        class_num = idx + 1\n",
    "        label[i] = class_num\n",
    "\n",
    "    return label"
   ]
  },
  {
   "cell_type": "code",
   "execution_count": 4,
   "metadata": {},
   "outputs": [],
   "source": [
    "def get_cluster_num_str(c):\n",
    "    c = str(c).zfill(3)\n",
    "    return c"
   ]
  },
  {
   "cell_type": "code",
   "execution_count": 5,
   "metadata": {},
   "outputs": [],
   "source": [
    "# Set the target segmentation results \n",
    "res_folder = 'new_large_clusters_rec'\n",
    "seg_model = 'k-means'   # choose between 'gmm' and 'k-means'\n",
    "seg_nd = '3d'   # choose between '3d' and '4d'\n",
    "cluster_num = 16  # choose between 16, 32, 64, and 128"
   ]
  },
  {
   "cell_type": "code",
   "execution_count": 6,
   "metadata": {},
   "outputs": [],
   "source": [
    "# corresponding csv file to get slice & cluster combination\n",
    "csv_file = os.path.join(os.getcwd(), 'seg_res_evaluation_csv', '{}_{}_{}.csv'.format(seg_model, seg_nd, cluster_num))\n",
    "df = pd.read_csv(csv_file, usecols = ['slice', 'current_cluster'])\n",
    "df['filename'] = df['slice'].map(str) + '\\VA10_0050_0' + df['slice'].map(str) + '_' + df['current_cluster'].map(get_cluster_num_str)  + '.rec.8bit.png'"
   ]
  },
  {
   "cell_type": "code",
   "execution_count": 7,
   "metadata": {},
   "outputs": [],
   "source": [
    "# prepare labels for data generator\n",
    "cluster_label_one_slice = auto_label_last_201(seg_model, seg_nd, cluster_num, PRECISION_SOLO, threshold=0)\n",
    "cluster_label = np.array(cluster_label_one_slice*401)\n",
    "df['class'] = cluster_label\n",
    "df['class'] = df['class'].map(str)"
   ]
  },
  {
   "cell_type": "code",
   "execution_count": 8,
   "metadata": {},
   "outputs": [
    {
     "data": {
      "text/html": [
       "<div>\n",
       "<style scoped>\n",
       "    .dataframe tbody tr th:only-of-type {\n",
       "        vertical-align: middle;\n",
       "    }\n",
       "\n",
       "    .dataframe tbody tr th {\n",
       "        vertical-align: top;\n",
       "    }\n",
       "\n",
       "    .dataframe thead th {\n",
       "        text-align: right;\n",
       "    }\n",
       "</style>\n",
       "<table border=\"1\" class=\"dataframe\">\n",
       "  <thead>\n",
       "    <tr style=\"text-align: right;\">\n",
       "      <th></th>\n",
       "      <th>index</th>\n",
       "      <th>slice</th>\n",
       "      <th>current_cluster</th>\n",
       "      <th>filename</th>\n",
       "      <th>class</th>\n",
       "    </tr>\n",
       "  </thead>\n",
       "  <tbody>\n",
       "    <tr>\n",
       "      <th>0</th>\n",
       "      <td>0</td>\n",
       "      <td>400</td>\n",
       "      <td>0</td>\n",
       "      <td>400\\VA10_0050_0400_000.rec.8bit.png</td>\n",
       "      <td>2</td>\n",
       "    </tr>\n",
       "    <tr>\n",
       "      <th>1</th>\n",
       "      <td>1</td>\n",
       "      <td>400</td>\n",
       "      <td>1</td>\n",
       "      <td>400\\VA10_0050_0400_001.rec.8bit.png</td>\n",
       "      <td>2</td>\n",
       "    </tr>\n",
       "    <tr>\n",
       "      <th>2</th>\n",
       "      <td>2</td>\n",
       "      <td>400</td>\n",
       "      <td>2</td>\n",
       "      <td>400\\VA10_0050_0400_002.rec.8bit.png</td>\n",
       "      <td>2</td>\n",
       "    </tr>\n",
       "    <tr>\n",
       "      <th>3</th>\n",
       "      <td>3</td>\n",
       "      <td>400</td>\n",
       "      <td>3</td>\n",
       "      <td>400\\VA10_0050_0400_003.rec.8bit.png</td>\n",
       "      <td>1</td>\n",
       "    </tr>\n",
       "    <tr>\n",
       "      <th>4</th>\n",
       "      <td>4</td>\n",
       "      <td>400</td>\n",
       "      <td>4</td>\n",
       "      <td>400\\VA10_0050_0400_004.rec.8bit.png</td>\n",
       "      <td>4</td>\n",
       "    </tr>\n",
       "    <tr>\n",
       "      <th>...</th>\n",
       "      <td>...</td>\n",
       "      <td>...</td>\n",
       "      <td>...</td>\n",
       "      <td>...</td>\n",
       "      <td>...</td>\n",
       "    </tr>\n",
       "    <tr>\n",
       "      <th>1595</th>\n",
       "      <td>1595</td>\n",
       "      <td>499</td>\n",
       "      <td>11</td>\n",
       "      <td>499\\VA10_0050_0499_011.rec.8bit.png</td>\n",
       "      <td>2</td>\n",
       "    </tr>\n",
       "    <tr>\n",
       "      <th>1596</th>\n",
       "      <td>1596</td>\n",
       "      <td>499</td>\n",
       "      <td>12</td>\n",
       "      <td>499\\VA10_0050_0499_012.rec.8bit.png</td>\n",
       "      <td>3</td>\n",
       "    </tr>\n",
       "    <tr>\n",
       "      <th>1597</th>\n",
       "      <td>1597</td>\n",
       "      <td>499</td>\n",
       "      <td>13</td>\n",
       "      <td>499\\VA10_0050_0499_013.rec.8bit.png</td>\n",
       "      <td>4</td>\n",
       "    </tr>\n",
       "    <tr>\n",
       "      <th>1598</th>\n",
       "      <td>1598</td>\n",
       "      <td>499</td>\n",
       "      <td>14</td>\n",
       "      <td>499\\VA10_0050_0499_014.rec.8bit.png</td>\n",
       "      <td>2</td>\n",
       "    </tr>\n",
       "    <tr>\n",
       "      <th>1599</th>\n",
       "      <td>1599</td>\n",
       "      <td>499</td>\n",
       "      <td>15</td>\n",
       "      <td>499\\VA10_0050_0499_015.rec.8bit.png</td>\n",
       "      <td>4</td>\n",
       "    </tr>\n",
       "  </tbody>\n",
       "</table>\n",
       "<p>1600 rows × 5 columns</p>\n",
       "</div>"
      ],
      "text/plain": [
       "      index  slice  current_cluster                             filename class\n",
       "0         0    400                0  400\\VA10_0050_0400_000.rec.8bit.png     2\n",
       "1         1    400                1  400\\VA10_0050_0400_001.rec.8bit.png     2\n",
       "2         2    400                2  400\\VA10_0050_0400_002.rec.8bit.png     2\n",
       "3         3    400                3  400\\VA10_0050_0400_003.rec.8bit.png     1\n",
       "4         4    400                4  400\\VA10_0050_0400_004.rec.8bit.png     4\n",
       "...     ...    ...              ...                                  ...   ...\n",
       "1595   1595    499               11  499\\VA10_0050_0499_011.rec.8bit.png     2\n",
       "1596   1596    499               12  499\\VA10_0050_0499_012.rec.8bit.png     3\n",
       "1597   1597    499               13  499\\VA10_0050_0499_013.rec.8bit.png     4\n",
       "1598   1598    499               14  499\\VA10_0050_0499_014.rec.8bit.png     2\n",
       "1599   1599    499               15  499\\VA10_0050_0499_015.rec.8bit.png     4\n",
       "\n",
       "[1600 rows x 5 columns]"
      ]
     },
     "execution_count": 8,
     "metadata": {},
     "output_type": "execute_result"
    }
   ],
   "source": [
    "test_set = df.loc[df['slice'] < 500]\n",
    "test_set.reset_index()"
   ]
  },
  {
   "cell_type": "code",
   "execution_count": 9,
   "metadata": {},
   "outputs": [
    {
     "name": "stdout",
     "output_type": "stream",
     "text": [
      "Found 1600 validated image filenames.\n"
     ]
    }
   ],
   "source": [
    "batch_size = 8\n",
    "\n",
    "# Data path: used in data generator\n",
    "base_folder = os.path.join(os.getcwd(), res_folder, seg_model, seg_nd, 'cluster_{}'.format(cluster_num))\n",
    "\n",
    "test_datagen = ImageDataGenerator(preprocessing_function=preprocess_input)\n",
    "\n",
    "test_generator = test_datagen.flow_from_dataframe(dataframe=test_set, directory=base_folder,\n",
    "                                             x_col='filename',\n",
    "                                             y_col=None,\n",
    "                                             target_size=(700, 855),\n",
    "                                             batch_size=batch_size,\n",
    "                                             shuffle=False,\n",
    "                                             class_mode=None,\n",
    "                                             seed=7\n",
    "                                             )"
   ]
  },
  {
   "cell_type": "code",
   "execution_count": 10,
   "metadata": {},
   "outputs": [],
   "source": [
    "STEP_SIZE_TEST=test_generator.n//test_generator.batch_size"
   ]
  },
  {
   "cell_type": "code",
   "execution_count": 11,
   "metadata": {},
   "outputs": [],
   "source": [
    "model_name = 'vgg_201_aligned_model\\k-means_3d_{}_vgg16_non_trainable_fc.h5'.format(cluster_num)\n",
    "model = load_model(model_name)"
   ]
  },
  {
   "cell_type": "code",
   "execution_count": 12,
   "metadata": {},
   "outputs": [
    {
     "name": "stdout",
     "output_type": "stream",
     "text": [
      "200/200 [==============================] - 42s 169ms/step\n"
     ]
    }
   ],
   "source": [
    "test_generator.reset()\n",
    "pred=model.predict(test_generator,\n",
    "                             steps=STEP_SIZE_TEST,\n",
    "                             verbose=1)"
   ]
  },
  {
   "cell_type": "code",
   "execution_count": 13,
   "metadata": {},
   "outputs": [
    {
     "name": "stdout",
     "output_type": "stream",
     "text": [
      "Test Accuracy:  0.880625\n",
      "[0.988      0.85561497 1.         0.83333333] [0.82333333 1.         0.97       0.6625    ] [0.89818182 0.9221902  0.98477157 0.73816156]\n",
      "macro-averaged of 4 classes:\n",
      "0.9192370766488414 0.8639583333333333 0.8858262883508913\n",
      "macro-averaged of 3 classes:\n",
      "0.8923161021984551 0.8286111111111111 0.8528445265998349\n"
     ]
    }
   ],
   "source": [
    "predicted_class_indices = np.argmax(pred,axis=1) + 1 # because the class 0 is now used for those undecided pixels\n",
    "# test_df = test_set.reset_index()\n",
    "# test_df['vgg16_predict'] = pd.Series(predicted_class_indices)\n",
    "#\"\"\"need to test the function below first\"\"\"\n",
    "gold_label = test_set['class'].map(int)\n",
    "gold_label = gold_label.to_numpy()\n",
    "p, r, f1, _ = precision_recall_fscore_support(gold_label, predicted_class_indices, average=None, labels=[1,2,3,4])\n",
    "acc = accuracy_score(gold_label, predicted_class_indices)\n",
    "print(\"Test Accuracy: \", acc)\n",
    "print(p, r, f1)\n",
    "macro_p, macro_r, macro_f, _ = precision_recall_fscore_support(gold_label, predicted_class_indices, average='macro', labels=[1,2,3,4])\n",
    "macro_p3, macro_r3, macro_f3, _ = precision_recall_fscore_support(gold_label, predicted_class_indices, average='macro', labels=[1,2,4])\n",
    "micro_p, micro_r, micro_f, _ = precision_recall_fscore_support(gold_label, predicted_class_indices, average='micro', labels=[1,2,3,4])\n",
    "micro_p3, micro_r3, micro_f3, _ = precision_recall_fscore_support(gold_label, predicted_class_indices, average='micro', labels=[1,2,4])\n",
    "print(\"macro-averaged of 4 classes:\")\n",
    "print(macro_p, macro_r, macro_f)\n",
    "print(\"macro-averaged of 3 classes:\")\n",
    "print(macro_p3, macro_r3, macro_f3)"
   ]
  },
  {
   "cell_type": "code",
   "execution_count": 14,
   "metadata": {},
   "outputs": [],
   "source": [
    "from sklearn.metrics import confusion_matrix\n",
    "from mlxtend.plotting import plot_confusion_matrix"
   ]
  },
  {
   "cell_type": "code",
   "execution_count": 15,
   "metadata": {},
   "outputs": [
    {
     "data": {
      "image/png": "[encoded data removed]",
      "text/plain": [
       "<Figure size 432x288 with 2 Axes>"
      ]
     },
     "metadata": {
      "needs_background": "light"
     },
     "output_type": "display_data"
    }
   ],
   "source": [
    "#cm_img = os.path.join(img_folder, '{}_{}_{}_vgg_full_201_cm.pdf'.format(seg_model, seg_nd, cluster_num))\n",
    "cm  = confusion_matrix(gold_label, predicted_class_indices, labels=[1,2,3,4])\n",
    "class_name = ['pore', 'gypsum', 'celestite', 'bassanite']\n",
    "fig, ax = plot_confusion_matrix(conf_mat=cm, colorbar=True, show_absolute=True, show_normed=True, cmap=plt.cm.Blues, class_names=class_name)\n",
    "# plt.xlabel('Predictions', fontsize=16)\n",
    "# plt.ylabel('Actuals', fontsize=16)\n",
    "plt.title('VGG16 Cluster_{}'.format(cluster_num), fontsize=15)\n",
    "#plt.savefig(cm_img)\n",
    "plt.show()"
   ]
  },
  {
   "cell_type": "code",
   "execution_count": null,
   "metadata": {},
   "outputs": [],
   "source": []
  },
  {
   "attachments": {},
   "cell_type": "markdown",
   "metadata": {},
   "source": [
    "### Pixel intensity in labelled data (slice 471)"
   ]
  },
  {
   "cell_type": "code",
   "execution_count": 16,
   "metadata": {},
   "outputs": [],
   "source": [
    "def get_dragonfly_grayscale(slice_num):\n",
    "    current_path = os.getcwd()\n",
    "    s = slice_num - 400 + 1\n",
    "    s = str(s).zfill(3)\n",
    "    dragonfly_bassanite = os.path.join(current_path, 'VA10_0050_Bassanite\\VA10_0050_Bassanite{}.tiff'.format(s))\n",
    "    dragonfly_celestite = os.path.join(current_path, 'VA10_0050_Celestite\\VA10_0050_Celestite{}.tiff'.format(s))\n",
    "    dragonfly_gypsum = os.path.join(current_path, 'VA10_0050_Gypsum\\VA10_0050_Gypsum{}.tiff'.format(s))\n",
    "    dragonfly_pore = os.path.join(current_path, 'VA10_0050_Pores\\VA10_0050_Pores{}.tiff'.format(s))\n",
    "\n",
    "    bassanite = cv2.imread(dragonfly_bassanite, cv2.IMREAD_GRAYSCALE) / 255\n",
    "    celestite = cv2.imread(dragonfly_celestite, cv2.IMREAD_GRAYSCALE) / 255\n",
    "    gypsum = cv2.imread(dragonfly_gypsum, cv2.IMREAD_GRAYSCALE) / 255\n",
    "    pore = cv2.imread(dragonfly_pore, cv2.IMREAD_GRAYSCALE) / 255\n",
    "\n",
    "    return bassanite, celestite, gypsum, pore"
   ]
  },
  {
   "cell_type": "code",
   "execution_count": 17,
   "metadata": {},
   "outputs": [],
   "source": [
    "bas, cel, gyp, pore = get_dragonfly_grayscale(471)"
   ]
  },
  {
   "cell_type": "code",
   "execution_count": 64,
   "metadata": {},
   "outputs": [],
   "source": [
    "# get the index of four phases\n",
    "bas_idx = np.where(bas == 1)\n",
    "cel_idx = np.where(cel == 1)\n",
    "gyp_idx = np.where(gyp == 1)\n",
    "pore_idx = np.where(pore == 1)\n",
    "\n",
    "artefact = bas + cel + gyp + pore\n",
    "artefact_idx = np.where(artefact == 0)"
   ]
  },
  {
   "cell_type": "code",
   "execution_count": 21,
   "metadata": {},
   "outputs": [],
   "source": [
    "img471 = cv2.imread('cropped_0050\\VA10_Pc200_Ram25_Pf50_T125_0050_0471.rec.8bit.tif', -1)"
   ]
  },
  {
   "cell_type": "code",
   "execution_count": 27,
   "metadata": {},
   "outputs": [],
   "source": [
    "import module.features as features\n",
    "import module.content as content"
   ]
  },
  {
   "cell_type": "code",
   "execution_count": 32,
   "metadata": {},
   "outputs": [],
   "source": [
    "raw471_path = os.path.join(os.getcwd(),'VA10_Pc200_Ram25_Pf50_T125_0050\\VA10_Pc200_Ram25_Pf50_T125_0050_0471.rec.8bit.tif')"
   ]
  },
  {
   "cell_type": "code",
   "execution_count": 33,
   "metadata": {},
   "outputs": [
    {
     "name": "stdout",
     "output_type": "stream",
     "text": [
      "Pick one slice to get mask and features index\n",
      "Current slice: d:\\MSc-Project\\VA10_Pc200_Ram25_Pf50_T125_0050\\VA10_Pc200_Ram25_Pf50_T125_0050_0471.rec.8bit.tif\n",
      "Loading 9 images...\n",
      "Finished!\n",
      "Getting features...\n",
      "Finished!\n",
      "Concatenating features...\n",
      "Finished!\n"
     ]
    }
   ],
   "source": [
    "keyword = 'VA10_Pc200_Ram25_Pf'\n",
    "mask, feature_index = features.get_rec_mask_50(raw471_path, 3)\n",
    "feature_4D, feature_3D = features.get_all_features_3(raw471_path, feature_index, keyword)"
   ]
  },
  {
   "cell_type": "code",
   "execution_count": 49,
   "metadata": {},
   "outputs": [
    {
     "data": {
      "text/plain": [
       "(598500, 81)"
      ]
     },
     "execution_count": 49,
     "metadata": {},
     "output_type": "execute_result"
    }
   ],
   "source": [
    "feature_4D.shape"
   ]
  },
  {
   "cell_type": "code",
   "execution_count": 53,
   "metadata": {},
   "outputs": [],
   "source": [
    "reshape_4D = feature_4D.reshape(700, 855, 81)\n",
    "reshape_3D = feature_3D.reshape(700, 855, 27)"
   ]
  },
  {
   "cell_type": "code",
   "execution_count": 58,
   "metadata": {},
   "outputs": [
    {
     "data": {
      "text/plain": [
       "array([116, 117, 116, 112, 116, 115, 100, 106, 114, 113, 118, 122, 113,\n",
       "       117, 120, 106, 103, 101, 119, 122, 115, 112, 107, 103, 104, 107,\n",
       "       101], dtype=uint8)"
      ]
     },
     "execution_count": 58,
     "metadata": {},
     "output_type": "execute_result"
    }
   ],
   "source": [
    "reshape_3D[6][6]"
   ]
  },
  {
   "cell_type": "code",
   "execution_count": 61,
   "metadata": {},
   "outputs": [],
   "source": [
    "bas_3d = []\n",
    "cel_3d = []\n",
    "gyp_3d = []\n",
    "pore_3d = []\n",
    "artefact_3d = []"
   ]
  },
  {
   "cell_type": "code",
   "execution_count": 62,
   "metadata": {},
   "outputs": [],
   "source": [
    "bas_4d = []\n",
    "cel_4d = []\n",
    "gyp_4d = []\n",
    "pore_4d = []\n",
    "artefact_4d = []"
   ]
  },
  {
   "cell_type": "code",
   "execution_count": 63,
   "metadata": {},
   "outputs": [],
   "source": [
    "for i in range(len(bas_idx[0])):\n",
    "    m = bas_idx[0][i]\n",
    "    n = bas_idx[1][i]\n",
    "    bas_3d.append(reshape_3D[m][n])\n",
    "    bas_4d.append(reshape_4D[m][n])\n"
   ]
  },
  {
   "cell_type": "code",
   "execution_count": 65,
   "metadata": {},
   "outputs": [],
   "source": [
    "for i in range(len(cel_idx[0])):\n",
    "    m = cel_idx[0][i]\n",
    "    n = cel_idx[1][i]\n",
    "    cel_3d.append(reshape_3D[m][n])\n",
    "    cel_4d.append(reshape_4D[m][n])"
   ]
  },
  {
   "cell_type": "code",
   "execution_count": 66,
   "metadata": {},
   "outputs": [],
   "source": [
    "for i in range(len(gyp_idx[0])):\n",
    "    m = gyp_idx[0][i]\n",
    "    n = gyp_idx[1][i]\n",
    "    gyp_3d.append(reshape_3D[m][n])\n",
    "    gyp_4d.append(reshape_4D[m][n])"
   ]
  },
  {
   "cell_type": "code",
   "execution_count": 67,
   "metadata": {},
   "outputs": [],
   "source": [
    "for i in range(len(pore_idx[0])):\n",
    "    m = pore_idx[0][i]\n",
    "    n = pore_idx[1][i]\n",
    "    pore_3d.append(reshape_3D[m][n])\n",
    "    pore_4d.append(reshape_4D[m][n])"
   ]
  },
  {
   "cell_type": "code",
   "execution_count": 68,
   "metadata": {},
   "outputs": [],
   "source": [
    "for i in range(len(artefact_idx[0])):\n",
    "    m = artefact_idx[0][i]\n",
    "    n = artefact_idx[1][i]\n",
    "    artefact_3d.append(reshape_3D[m][n])\n",
    "    artefact_4d.append(reshape_4D[m][n])"
   ]
  },
  {
   "cell_type": "code",
   "execution_count": 71,
   "metadata": {},
   "outputs": [],
   "source": [
    "bas_3d = np.array(bas_3d)\n",
    "cel_3d = np.array(cel_3d)\n",
    "gyp_3d = np.array(gyp_3d)\n",
    "pore_3d = np.array(pore_3d)\n",
    "artefact_3d = np.array(artefact_3d)"
   ]
  },
  {
   "cell_type": "code",
   "execution_count": 72,
   "metadata": {},
   "outputs": [],
   "source": [
    "bas_4d = np.array(bas_4d)\n",
    "cel_4d = np.array(cel_4d)\n",
    "gyp_4d = np.array(gyp_4d)\n",
    "pore_4d = np.array(pore_4d)\n",
    "artefact_4d = np.array(artefact_4d)"
   ]
  },
  {
   "cell_type": "code",
   "execution_count": 87,
   "metadata": {},
   "outputs": [],
   "source": [
    "bas_3d_mean = bas_3d.mean(axis=0)\n",
    "cel_3d_mean = cel_3d.mean(axis=0)\n",
    "gyp_3d_mean = gyp_3d.mean(axis=0)\n",
    "pore_3d_mean = pore_3d.mean(axis=0)\n",
    "artefact_3d_mean = artefact_3d.mean(axis=0)"
   ]
  },
  {
   "cell_type": "code",
   "execution_count": 88,
   "metadata": {},
   "outputs": [],
   "source": [
    "bas_4d_mean = bas_4d.mean(axis=0)\n",
    "cel_4d_mean = cel_4d.mean(axis=0)\n",
    "gyp_4d_mean = gyp_4d.mean(axis=0)\n",
    "pore_4d_mean = pore_4d.mean(axis=0)\n",
    "artefact_4d_mean = artefact_4d.mean(axis=0)"
   ]
  },
  {
   "cell_type": "code",
   "execution_count": 89,
   "metadata": {},
   "outputs": [
    {
     "data": {
      "text/plain": [
       "array([115.09834326, 114.54247981, 113.22032899, 114.15352868,\n",
       "       113.82825305, 112.81840693, 112.51176228, 112.4290431 ,\n",
       "       112.06526738, 116.5058664 , 115.70780025, 113.58634514,\n",
       "       115.16225458, 114.68881552, 113.11178586, 112.81086021,\n",
       "       112.72118389, 112.11208066, 115.0748187 , 114.53829373,\n",
       "       113.19474088, 114.16449502, 113.8191734 , 112.82618949,\n",
       "       112.61700371, 112.47980662, 112.1381994 ])"
      ]
     },
     "execution_count": 89,
     "metadata": {},
     "output_type": "execute_result"
    }
   ],
   "source": [
    "artefact_3d_mean"
   ]
  },
  {
   "cell_type": "code",
   "execution_count": 90,
   "metadata": {},
   "outputs": [],
   "source": [
    "def get_image(array):\n",
    "\tdim = int(np.sqrt(len(array)))\n",
    "\tconvert = array.astype(np.uint16)\n",
    "\timg = convert.reshape((dim, dim))\n",
    "\treturn img\n",
    "\n",
    "def transfer_image(array):\n",
    "\tlength = int(len(array))\n",
    "\tdiv_length = length // 3\n",
    "\timg_bot = get_image(array[:div_length])\n",
    "\timg_mid = get_image(array[div_length:2*div_length])\n",
    "\timg_top = get_image(array[2*div_length:])\n",
    "\treturn img_bot, img_mid, img_top"
   ]
  },
  {
   "cell_type": "code",
   "execution_count": 104,
   "metadata": {},
   "outputs": [],
   "source": [
    "from matplotlib.colors import NoNorm"
   ]
  },
  {
   "cell_type": "code",
   "execution_count": null,
   "metadata": {},
   "outputs": [],
   "source": [
    "from matplotlib.colors import Normalize"
   ]
  },
  {
   "attachments": {},
   "cell_type": "markdown",
   "metadata": {},
   "source": [
    "### 3D"
   ]
  },
  {
   "cell_type": "code",
   "execution_count": 201,
   "metadata": {},
   "outputs": [],
   "source": [
    "img_bot_pore_3D, img_mid_pore_3D, img_top_pore_3D = transfer_image(pore_3d_mean)"
   ]
  },
  {
   "cell_type": "code",
   "execution_count": 202,
   "metadata": {},
   "outputs": [
    {
     "data": {
      "text/plain": [
       "(array([[87, 88, 94],\n",
       "        [89, 89, 94],\n",
       "        [94, 94, 96]], dtype=uint16),\n",
       " array([[84, 86, 92],\n",
       "        [87, 88, 92],\n",
       "        [93, 93, 96]], dtype=uint16),\n",
       " array([[87, 89, 94],\n",
       "        [91, 91, 95],\n",
       "        [96, 96, 99]], dtype=uint16))"
      ]
     },
     "execution_count": 202,
     "metadata": {},
     "output_type": "execute_result"
    }
   ],
   "source": [
    "img_bot_pore_3D, img_mid_pore_3D, img_top_pore_3D"
   ]
  },
  {
   "cell_type": "code",
   "execution_count": 200,
   "metadata": {},
   "outputs": [
    {
     "data": {
      "image/png": "[encoded data removed]",
      "text/plain": [
       "<Figure size 432x288 with 3 Axes>"
      ]
     },
     "metadata": {
      "needs_background": "light"
     },
     "output_type": "display_data"
    }
   ],
   "source": [
    "\n",
    "fig = plt.figure()\n",
    "fig.suptitle('Visualisation for pore in 3D space', x=0.5, y=0.8)\n",
    "ax = plt.subplot(131)\n",
    "# ax.axis('off')\n",
    "ax.set_title('Bot slice')\n",
    "ax.imshow(img_bot_pore_3D,'gray',vmin=84, vmax=119)\n",
    "ax = plt.subplot(132)\n",
    "# ax.axis('off')\n",
    "ax.set_title('Mid slice')\n",
    "ax.imshow(img_mid_pore_3D,'gray',vmin=84, vmax=119)\n",
    "ax = plt.subplot(133)\n",
    "# ax.axis('off')\n",
    "ax.set_title('Top slice')\n",
    "ax.imshow(img_top_pore_3D,'gray',vmin=84, vmax=119)\n",
    "fig.savefig('3D_pore.png', bbox_inches='tight', pad_inches=0.0)"
   ]
  },
  {
   "cell_type": "code",
   "execution_count": 203,
   "metadata": {},
   "outputs": [
    {
     "data": {
      "text/plain": [
       "(array([[118, 117, 115],\n",
       "        [117, 117, 115],\n",
       "        [115, 115, 114]], dtype=uint16),\n",
       " array([[119, 118, 116],\n",
       "        [118, 118, 116],\n",
       "        [115, 115, 114]], dtype=uint16),\n",
       " array([[118, 117, 115],\n",
       "        [117, 116, 115],\n",
       "        [114, 114, 113]], dtype=uint16))"
      ]
     },
     "execution_count": 203,
     "metadata": {},
     "output_type": "execute_result"
    }
   ],
   "source": [
    "img_bot_bas_3D, img_mid_bas_3D, img_top_bas_3D = transfer_image(bas_3d_mean)\n",
    "img_bot_bas_3D, img_mid_bas_3D, img_top_bas_3D"
   ]
  },
  {
   "cell_type": "code",
   "execution_count": 134,
   "metadata": {},
   "outputs": [
    {
     "data": {
      "image/png": "[encoded data removed]",
      "text/plain": [
       "<Figure size 432x288 with 3 Axes>"
      ]
     },
     "metadata": {
      "needs_background": "light"
     },
     "output_type": "display_data"
    }
   ],
   "source": [
    "\n",
    "fig = plt.figure()\n",
    "fig.suptitle('Visualisation for bassanite in 3D space', x=0.5, y=0.8)\n",
    "ax = plt.subplot(131)\n",
    "# ax.axis('off')\n",
    "ax.set_title('Bot slice')\n",
    "ax.imshow(img_bot_bas_3D,'gray',vmin=84, vmax=228)\n",
    "ax = plt.subplot(132)\n",
    "# ax.axis('off')\n",
    "ax.set_title('Mid slice')\n",
    "ax.imshow(img_mid_bas_3D,'gray',vmin=84, vmax=228)\n",
    "ax = plt.subplot(133)\n",
    "# ax.axis('off')\n",
    "ax.set_title('Top slice')\n",
    "ax.imshow(img_top_bas_3D,'gray',vmin=84, vmax=228)\n",
    "fig.savefig('3D_bas.png', bbox_inches='tight', pad_inches=0.0)"
   ]
  },
  {
   "cell_type": "code",
   "execution_count": 205,
   "metadata": {},
   "outputs": [
    {
     "data": {
      "text/plain": [
       "(array([[224, 223, 219],\n",
       "        [223, 223, 220],\n",
       "        [221, 221, 218]], dtype=uint16),\n",
       " array([[226, 225, 221],\n",
       "        [225, 224, 221],\n",
       "        [223, 222, 220]], dtype=uint16),\n",
       " array([[228, 227, 223],\n",
       "        [227, 226, 223],\n",
       "        [224, 224, 221]], dtype=uint16))"
      ]
     },
     "execution_count": 205,
     "metadata": {},
     "output_type": "execute_result"
    }
   ],
   "source": [
    "img_bot_cel_3D, img_mid_cel_3D, img_top_cel_3D = transfer_image(cel_3d_mean)\n",
    "img_bot_cel_3D, img_mid_cel_3D, img_top_cel_3D"
   ]
  },
  {
   "cell_type": "code",
   "execution_count": 135,
   "metadata": {},
   "outputs": [
    {
     "data": {
      "image/png": "[encoded data removed]",
      "text/plain": [
       "<Figure size 432x288 with 3 Axes>"
      ]
     },
     "metadata": {
      "needs_background": "light"
     },
     "output_type": "display_data"
    }
   ],
   "source": [
    "fig = plt.figure()\n",
    "fig.suptitle('Visualisation for celestite in 3D space', x=0.5, y=0.8)\n",
    "ax = plt.subplot(131)\n",
    "# ax.axis('off')\n",
    "ax.set_title('Bot slice')\n",
    "ax.imshow(img_bot_cel_3D,'gray',vmin=84, vmax=228)\n",
    "ax = plt.subplot(132)\n",
    "# ax.axis('off')\n",
    "ax.set_title('Mid slice')\n",
    "ax.imshow(img_mid_cel_3D,'gray',vmin=84, vmax=228)\n",
    "ax = plt.subplot(133)\n",
    "# ax.axis('off')\n",
    "ax.set_title('Top slice')\n",
    "ax.imshow(img_top_cel_3D,'gray',vmin=84, vmax=228)\n",
    "fig.savefig('3D_cel.png', bbox_inches='tight', pad_inches=0.0)"
   ]
  },
  {
   "cell_type": "code",
   "execution_count": 206,
   "metadata": {},
   "outputs": [
    {
     "data": {
      "text/plain": [
       "(array([[106, 106, 106],\n",
       "        [106, 106, 106],\n",
       "        [106, 106, 106]], dtype=uint16),\n",
       " array([[106, 106, 106],\n",
       "        [106, 106, 106],\n",
       "        [106, 106, 106]], dtype=uint16),\n",
       " array([[106, 106, 106],\n",
       "        [106, 106, 106],\n",
       "        [106, 106, 106]], dtype=uint16))"
      ]
     },
     "execution_count": 206,
     "metadata": {},
     "output_type": "execute_result"
    }
   ],
   "source": [
    "img_bot_gyp_3D, img_mid_gyp_3D, img_top_gyp_3D = transfer_image(gyp_3d_mean)\n",
    "img_bot_gyp_3D, img_mid_gyp_3D, img_top_gyp_3D"
   ]
  },
  {
   "cell_type": "code",
   "execution_count": 136,
   "metadata": {},
   "outputs": [
    {
     "data": {
      "image/png": "[encoded data removed]",
      "text/plain": [
       "<Figure size 432x288 with 3 Axes>"
      ]
     },
     "metadata": {
      "needs_background": "light"
     },
     "output_type": "display_data"
    }
   ],
   "source": [
    "fig = plt.figure()\n",
    "fig.suptitle('Visualisation for gypsum in 3D space', x=0.5, y=0.8)\n",
    "ax = plt.subplot(131)\n",
    "# ax.axis('off')\n",
    "ax.set_title('Bot slice')\n",
    "ax.imshow(img_bot_gyp_3D,'gray',vmin=84, vmax=228)\n",
    "ax = plt.subplot(132)\n",
    "# ax.axis('off')\n",
    "ax.set_title('Mid slice')\n",
    "ax.imshow(img_mid_gyp_3D,'gray',vmin=84, vmax=228)\n",
    "ax = plt.subplot(133)\n",
    "# ax.axis('off')\n",
    "ax.set_title('Top slice')\n",
    "ax.imshow(img_top_gyp_3D,'gray',vmin=84, vmax=228)\n",
    "fig.savefig('3D_gyp.png', bbox_inches='tight', pad_inches=0.0)"
   ]
  },
  {
   "cell_type": "code",
   "execution_count": 207,
   "metadata": {},
   "outputs": [
    {
     "data": {
      "text/plain": [
       "(array([[115, 114, 113],\n",
       "        [114, 113, 112],\n",
       "        [112, 112, 112]], dtype=uint16),\n",
       " array([[116, 115, 113],\n",
       "        [115, 114, 113],\n",
       "        [112, 112, 112]], dtype=uint16),\n",
       " array([[115, 114, 113],\n",
       "        [114, 113, 112],\n",
       "        [112, 112, 112]], dtype=uint16))"
      ]
     },
     "execution_count": 207,
     "metadata": {},
     "output_type": "execute_result"
    }
   ],
   "source": [
    "img_bot_artefact_3D, img_mid_artefact_3D, img_top_artefact_3D = transfer_image(artefact_3d_mean)\n",
    "img_bot_artefact_3D, img_mid_artefact_3D, img_top_artefact_3D"
   ]
  },
  {
   "cell_type": "code",
   "execution_count": 137,
   "metadata": {},
   "outputs": [
    {
     "data": {
      "image/png": "[encoded data removed]",
      "text/plain": [
       "<Figure size 432x288 with 3 Axes>"
      ]
     },
     "metadata": {
      "needs_background": "light"
     },
     "output_type": "display_data"
    }
   ],
   "source": [
    "fig = plt.figure()\n",
    "fig.suptitle('Visualisation for artefacts in 3D space', x=0.5, y=0.8)\n",
    "ax = plt.subplot(131)\n",
    "# ax.axis('off')\n",
    "ax.set_title('Bot slice')\n",
    "ax.imshow(img_bot_artefact_3D,'gray',vmin=84, vmax=228)\n",
    "ax = plt.subplot(132)\n",
    "# ax.axis('off')\n",
    "ax.set_title('Mid slice')\n",
    "ax.imshow(img_mid_artefact_3D,'gray',vmin=84, vmax=228)\n",
    "ax = plt.subplot(133)\n",
    "# ax.axis('off')\n",
    "ax.set_title('Top slice')\n",
    "ax.imshow(img_top_artefact_3D,'gray',vmin=84, vmax=228)\n",
    "fig.savefig('3D_artefact.png', bbox_inches='tight', pad_inches=0.0)"
   ]
  },
  {
   "cell_type": "code",
   "execution_count": 209,
   "metadata": {},
   "outputs": [
    {
     "data": {
      "image/png": "[encoded data removed]",
      "text/plain": [
       "<Figure size 432x288 with 12 Axes>"
      ]
     },
     "metadata": {
      "needs_background": "light"
     },
     "output_type": "display_data"
    }
   ],
   "source": [
    "fig = plt.figure()\n",
    "fig.suptitle('Visualisation for 4D featuers')\n",
    "ax = plt.subplot2grid((3,4), (0,0))\n",
    "ax.set_ylabel('Top slice')\n",
    "ax.set_title('Gypsum')\n",
    "ax.imshow(img_top_gyp_3D,'gray',vmin=84, vmax=119)\n",
    "\n",
    "ax = plt.subplot2grid((3,4), (0,1))\n",
    "ax.set_title('Bassanite')\n",
    "ax.imshow(img_top_bas_3D,'gray',vmin=84, vmax=119)\n",
    "\n",
    "ax = plt.subplot2grid((3,4), (0,2))\n",
    "ax.set_title('Porosity')\n",
    "ax.imshow(img_top_pore_3D,'gray',vmin=84, vmax=119)\n",
    "\n",
    "ax = plt.subplot2grid((3,4), (0,3))\n",
    "ax.set_title('Artfacts')\n",
    "ax.imshow(img_top_artefact_3D,'gray',vmin=84, vmax=119)\n",
    "\n",
    "\n",
    "\n",
    "ax = plt.subplot2grid((3,4), (1,0))\n",
    "ax.set_ylabel('Mid slice')\n",
    "ax.imshow(img_mid_gyp_3D,'gray',vmin=84, vmax=119)\n",
    "\n",
    "ax = plt.subplot2grid((3,4), (1,1))\n",
    "ax.imshow(img_mid_bas_3D,'gray',vmin=84, vmax=119)\n",
    "\n",
    "ax = plt.subplot2grid((3,4), (1,2))\n",
    "ax.imshow(img_mid_pore_3D,'gray',vmin=84, vmax=119)\n",
    "\n",
    "ax = plt.subplot2grid((3,4), (1,3))\n",
    "ax.imshow(img_mid_artefact_3D,'gray',vmin=84, vmax=119)\n",
    "\n",
    "\n",
    "\n",
    "ax = plt.subplot2grid((3,4), (2,0))\n",
    "ax.set_ylabel('Btn slice')\n",
    "ax.imshow(img_bot_gyp_3D,'gray',vmin=84, vmax=119)\n",
    "\n",
    "ax = plt.subplot2grid((3,4), (2,1))\n",
    "ax.imshow(img_bot_bas_3D,'gray',vmin=84, vmax=119)\n",
    "\n",
    "ax = plt.subplot2grid((3,4), (2,2))\n",
    "ax.imshow(img_bot_pore_3D,'gray',vmin=84, vmax=119)\n",
    "\n",
    "ax = plt.subplot2grid((3,4), (2,3))\n",
    "ax.imshow(img_bot_artefact_3D,'gray',vmin=84, vmax=119)\n",
    "\n",
    "\n",
    "\n",
    "fig.savefig('3D_features.png', bbox_inches='tight', pad_inches=0.0)"
   ]
  },
  {
   "attachments": {},
   "cell_type": "markdown",
   "metadata": {},
   "source": [
    "#### 4D"
   ]
  },
  {
   "attachments": {},
   "cell_type": "markdown",
   "metadata": {},
   "source": [
    "##### pore"
   ]
  },
  {
   "cell_type": "code",
   "execution_count": 210,
   "metadata": {},
   "outputs": [
    {
     "data": {
      "text/plain": [
       "(array([[107, 107, 107],\n",
       "        [107, 107, 107],\n",
       "        [107, 107, 107]], dtype=uint16),\n",
       " array([[107, 107, 107],\n",
       "        [107, 107, 107],\n",
       "        [107, 107, 107]], dtype=uint16),\n",
       " array([[107, 107, 107],\n",
       "        [107, 107, 107],\n",
       "        [107, 107, 107]], dtype=uint16))"
      ]
     },
     "execution_count": 210,
     "metadata": {},
     "output_type": "execute_result"
    }
   ],
   "source": [
    "img_bot_pore_4D_t0, img_mid_pore_4D_t0, img_top_pore_4D_t0 = transfer_image(pore_4d_mean[:27])\n",
    "img_bot_pore_4D_t0, img_mid_pore_4D_t0, img_top_pore_4D_t0"
   ]
  },
  {
   "cell_type": "code",
   "execution_count": 211,
   "metadata": {},
   "outputs": [
    {
     "data": {
      "text/plain": [
       "(array([[87, 88, 94],\n",
       "        [89, 89, 94],\n",
       "        [94, 94, 96]], dtype=uint16),\n",
       " array([[84, 86, 92],\n",
       "        [87, 88, 92],\n",
       "        [93, 93, 96]], dtype=uint16),\n",
       " array([[87, 89, 94],\n",
       "        [91, 91, 95],\n",
       "        [96, 96, 99]], dtype=uint16))"
      ]
     },
     "execution_count": 211,
     "metadata": {},
     "output_type": "execute_result"
    }
   ],
   "source": [
    "img_bot_pore_4D_t1, img_mid_pore_4D_t1, img_top_pore_4D_t1 = transfer_image(pore_4d_mean[27:54])\n",
    "img_bot_pore_4D_t1, img_mid_pore_4D_t1, img_top_pore_4D_t1"
   ]
  },
  {
   "cell_type": "code",
   "execution_count": 212,
   "metadata": {},
   "outputs": [
    {
     "data": {
      "text/plain": [
       "(array([[108, 108, 108],\n",
       "        [108, 108, 108],\n",
       "        [107, 108, 108]], dtype=uint16),\n",
       " array([[108, 108, 108],\n",
       "        [107, 108, 108],\n",
       "        [107, 107, 108]], dtype=uint16),\n",
       " array([[108, 108, 108],\n",
       "        [107, 107, 108],\n",
       "        [107, 107, 108]], dtype=uint16))"
      ]
     },
     "execution_count": 212,
     "metadata": {},
     "output_type": "execute_result"
    }
   ],
   "source": [
    "img_bot_pore_4D_t2, img_mid_pore_4D_t2, img_top_pore_4D_t2 = transfer_image(pore_4d_mean[54:])\n",
    "img_bot_pore_4D_t2, img_mid_pore_4D_t2, img_top_pore_4D_t2"
   ]
  },
  {
   "cell_type": "code",
   "execution_count": 213,
   "metadata": {},
   "outputs": [
    {
     "data": {
      "text/plain": [
       "array([[86.        , 87.66666667, 93.33333333],\n",
       "       [89.        , 89.33333333, 93.66666667],\n",
       "       [94.33333333, 94.33333333, 97.        ]])"
      ]
     },
     "execution_count": 213,
     "metadata": {},
     "output_type": "execute_result"
    }
   ],
   "source": [
    "pore_4D_t1 = np.array([img_bot_pore_4D_t1, img_mid_pore_4D_t1, img_top_pore_4D_t1])\n",
    "pore_4D_t1_mean = pore_4D_t1.mean(axis=0)\n",
    "pore_4D_t1_mean"
   ]
  },
  {
   "cell_type": "code",
   "execution_count": 214,
   "metadata": {},
   "outputs": [
    {
     "data": {
      "text/plain": [
       "array([[107., 107., 107.],\n",
       "       [107., 107., 107.],\n",
       "       [107., 107., 107.]])"
      ]
     },
     "execution_count": 214,
     "metadata": {},
     "output_type": "execute_result"
    }
   ],
   "source": [
    "pore_4D_t0 = np.array([img_bot_pore_4D_t0, img_mid_pore_4D_t0, img_top_pore_4D_t0])\n",
    "pore_4D_t0_mean = pore_4D_t0.mean(axis=0)\n",
    "pore_4D_t0_mean"
   ]
  },
  {
   "cell_type": "code",
   "execution_count": 215,
   "metadata": {},
   "outputs": [
    {
     "data": {
      "text/plain": [
       "array([[108.        , 108.        , 108.        ],\n",
       "       [107.33333333, 107.66666667, 108.        ],\n",
       "       [107.        , 107.33333333, 108.        ]])"
      ]
     },
     "execution_count": 215,
     "metadata": {},
     "output_type": "execute_result"
    }
   ],
   "source": [
    "pore_4D_t2 = np.array([img_bot_pore_4D_t2, img_mid_pore_4D_t2, img_top_pore_4D_t2])\n",
    "pore_4D_t2_mean = pore_4D_t2.mean(axis=0)\n",
    "pore_4D_t2_mean"
   ]
  },
  {
   "attachments": {},
   "cell_type": "markdown",
   "metadata": {},
   "source": [
    "##### bassanite"
   ]
  },
  {
   "cell_type": "code",
   "execution_count": 216,
   "metadata": {},
   "outputs": [
    {
     "data": {
      "text/plain": [
       "(array([[107, 107, 107],\n",
       "        [107, 107, 107],\n",
       "        [107, 107, 107]], dtype=uint16),\n",
       " array([[107, 107, 107],\n",
       "        [107, 107, 107],\n",
       "        [107, 107, 107]], dtype=uint16),\n",
       " array([[107, 107, 107],\n",
       "        [107, 107, 107],\n",
       "        [107, 107, 107]], dtype=uint16))"
      ]
     },
     "execution_count": 216,
     "metadata": {},
     "output_type": "execute_result"
    }
   ],
   "source": [
    "img_bot_bas_4D_t0, img_mid_bas_4D_t0, img_top_bas_4D_t0 = transfer_image(bas_4d_mean[:27])\n",
    "img_bot_bas_4D_t0, img_mid_bas_4D_t0, img_top_bas_4D_t0"
   ]
  },
  {
   "cell_type": "code",
   "execution_count": 217,
   "metadata": {},
   "outputs": [
    {
     "data": {
      "text/plain": [
       "(array([[118, 117, 115],\n",
       "        [117, 117, 115],\n",
       "        [115, 115, 114]], dtype=uint16),\n",
       " array([[119, 118, 116],\n",
       "        [118, 118, 116],\n",
       "        [115, 115, 114]], dtype=uint16),\n",
       " array([[118, 117, 115],\n",
       "        [117, 116, 115],\n",
       "        [114, 114, 113]], dtype=uint16))"
      ]
     },
     "execution_count": 217,
     "metadata": {},
     "output_type": "execute_result"
    }
   ],
   "source": [
    "img_bot_bas_4D_t1, img_mid_bas_4D_t1, img_top_bas_4D_t1 = transfer_image(bas_4d_mean[27:54])\n",
    "img_bot_bas_4D_t1, img_mid_bas_4D_t1, img_top_bas_4D_t1"
   ]
  },
  {
   "cell_type": "code",
   "execution_count": 218,
   "metadata": {},
   "outputs": [
    {
     "data": {
      "text/plain": [
       "(array([[109, 109, 108],\n",
       "        [108, 108, 108],\n",
       "        [108, 108, 108]], dtype=uint16),\n",
       " array([[109, 108, 108],\n",
       "        [108, 108, 108],\n",
       "        [108, 108, 108]], dtype=uint16),\n",
       " array([[108, 108, 108],\n",
       "        [108, 108, 108],\n",
       "        [108, 108, 108]], dtype=uint16))"
      ]
     },
     "execution_count": 218,
     "metadata": {},
     "output_type": "execute_result"
    }
   ],
   "source": [
    "img_bot_bas_4D_t2, img_mid_bas_4D_t2, img_top_bas_4D_t2 = transfer_image(bas_4d_mean[54:])\n",
    "img_bot_bas_4D_t2, img_mid_bas_4D_t2, img_top_bas_4D_t2"
   ]
  },
  {
   "cell_type": "code",
   "execution_count": 219,
   "metadata": {},
   "outputs": [
    {
     "data": {
      "text/plain": [
       "array([[107., 107., 107.],\n",
       "       [107., 107., 107.],\n",
       "       [107., 107., 107.]])"
      ]
     },
     "execution_count": 219,
     "metadata": {},
     "output_type": "execute_result"
    }
   ],
   "source": [
    "bas_4D_t0 = np.array([img_bot_bas_4D_t0, img_mid_bas_4D_t0, img_top_bas_4D_t0])\n",
    "bas_4D_t0_mean = bas_4D_t0.mean(axis=0)\n",
    "bas_4D_t0_mean"
   ]
  },
  {
   "cell_type": "code",
   "execution_count": 220,
   "metadata": {},
   "outputs": [
    {
     "data": {
      "text/plain": [
       "array([[118.33333333, 117.33333333, 115.33333333],\n",
       "       [117.33333333, 117.        , 115.33333333],\n",
       "       [114.66666667, 114.66666667, 113.66666667]])"
      ]
     },
     "execution_count": 220,
     "metadata": {},
     "output_type": "execute_result"
    }
   ],
   "source": [
    "bas_4D_t1 = np.array([img_bot_bas_4D_t1, img_mid_bas_4D_t1, img_top_bas_4D_t1])\n",
    "bas_4D_t1_mean = bas_4D_t1.mean(axis=0)\n",
    "bas_4D_t1_mean"
   ]
  },
  {
   "cell_type": "code",
   "execution_count": 221,
   "metadata": {},
   "outputs": [
    {
     "data": {
      "text/plain": [
       "array([[108.66666667, 108.33333333, 108.        ],\n",
       "       [108.        , 108.        , 108.        ],\n",
       "       [108.        , 108.        , 108.        ]])"
      ]
     },
     "execution_count": 221,
     "metadata": {},
     "output_type": "execute_result"
    }
   ],
   "source": [
    "\n",
    "bas_4D_t2 = np.array([img_bot_bas_4D_t2, img_mid_bas_4D_t2, img_top_bas_4D_t2])\n",
    "bas_4D_t2_mean = bas_4D_t2.mean(axis=0)\n",
    "bas_4D_t2_mean"
   ]
  },
  {
   "attachments": {},
   "cell_type": "markdown",
   "metadata": {},
   "source": [
    "#### celestite"
   ]
  },
  {
   "cell_type": "code",
   "execution_count": 222,
   "metadata": {},
   "outputs": [
    {
     "data": {
      "text/plain": [
       "(array([[192, 196, 200],\n",
       "        [191, 195, 199],\n",
       "        [190, 194, 197]], dtype=uint16),\n",
       " array([[194, 198, 202],\n",
       "        [193, 197, 200],\n",
       "        [192, 195, 199]], dtype=uint16),\n",
       " array([[197, 200, 204],\n",
       "        [195, 199, 202],\n",
       "        [194, 198, 201]], dtype=uint16))"
      ]
     },
     "execution_count": 222,
     "metadata": {},
     "output_type": "execute_result"
    }
   ],
   "source": [
    "img_bot_cel_4D_t0, img_mid_cel_4D_t0, img_top_cel_4D_t0 = transfer_image(cel_4d_mean[:27])\n",
    "img_bot_cel_4D_t0, img_mid_cel_4D_t0, img_top_cel_4D_t0"
   ]
  },
  {
   "cell_type": "code",
   "execution_count": 223,
   "metadata": {},
   "outputs": [
    {
     "data": {
      "text/plain": [
       "(array([[224, 223, 219],\n",
       "        [223, 223, 220],\n",
       "        [221, 221, 218]], dtype=uint16),\n",
       " array([[226, 225, 221],\n",
       "        [225, 224, 221],\n",
       "        [223, 222, 220]], dtype=uint16),\n",
       " array([[228, 227, 223],\n",
       "        [227, 226, 223],\n",
       "        [224, 224, 221]], dtype=uint16))"
      ]
     },
     "execution_count": 223,
     "metadata": {},
     "output_type": "execute_result"
    }
   ],
   "source": [
    "img_bot_cel_4D_t1, img_mid_cel_4D_t1, img_top_cel_4D_t1 = transfer_image(cel_4d_mean[27:54])\n",
    "img_bot_cel_4D_t1, img_mid_cel_4D_t1, img_top_cel_4D_t1"
   ]
  },
  {
   "cell_type": "code",
   "execution_count": 224,
   "metadata": {},
   "outputs": [
    {
     "data": {
      "text/plain": [
       "(array([[182, 179, 177],\n",
       "        [181, 178, 175],\n",
       "        [180, 177, 174]], dtype=uint16),\n",
       " array([[183, 180, 177],\n",
       "        [181, 178, 176],\n",
       "        [180, 177, 174]], dtype=uint16),\n",
       " array([[183, 180, 177],\n",
       "        [181, 179, 176],\n",
       "        [180, 177, 174]], dtype=uint16))"
      ]
     },
     "execution_count": 224,
     "metadata": {},
     "output_type": "execute_result"
    }
   ],
   "source": [
    "img_bot_cel_4D_t2, img_mid_cel_4D_t2, img_top_cel_4D_t2 = transfer_image(cel_4d_mean[54:])\n",
    "img_bot_cel_4D_t2, img_mid_cel_4D_t2, img_top_cel_4D_t2"
   ]
  },
  {
   "cell_type": "code",
   "execution_count": 225,
   "metadata": {},
   "outputs": [
    {
     "data": {
      "text/plain": [
       "array([[194.33333333, 198.        , 202.        ],\n",
       "       [193.        , 197.        , 200.33333333],\n",
       "       [192.        , 195.66666667, 199.        ]])"
      ]
     },
     "execution_count": 225,
     "metadata": {},
     "output_type": "execute_result"
    }
   ],
   "source": [
    "cel_4D_t0 = np.array([img_bot_cel_4D_t0, img_mid_cel_4D_t0, img_top_cel_4D_t0])\n",
    "cel_4D_t0_mean = cel_4D_t0.mean(axis=0)\n",
    "cel_4D_t0_mean"
   ]
  },
  {
   "cell_type": "code",
   "execution_count": 226,
   "metadata": {},
   "outputs": [
    {
     "data": {
      "text/plain": [
       "array([[226.        , 225.        , 221.        ],\n",
       "       [225.        , 224.33333333, 221.33333333],\n",
       "       [222.66666667, 222.33333333, 219.66666667]])"
      ]
     },
     "execution_count": 226,
     "metadata": {},
     "output_type": "execute_result"
    }
   ],
   "source": [
    "\n",
    "cel_4D_t1 = np.array([img_bot_cel_4D_t1, img_mid_cel_4D_t1, img_top_cel_4D_t1])\n",
    "cel_4D_t1_mean = cel_4D_t1.mean(axis=0)\n",
    "cel_4D_t1_mean"
   ]
  },
  {
   "cell_type": "code",
   "execution_count": 227,
   "metadata": {},
   "outputs": [
    {
     "data": {
      "text/plain": [
       "array([[182.66666667, 179.66666667, 177.        ],\n",
       "       [181.        , 178.33333333, 175.66666667],\n",
       "       [180.        , 177.        , 174.        ]])"
      ]
     },
     "execution_count": 227,
     "metadata": {},
     "output_type": "execute_result"
    }
   ],
   "source": [
    "\n",
    "cel_4D_t2 = np.array([img_bot_cel_4D_t2, img_mid_cel_4D_t2, img_top_cel_4D_t2])\n",
    "cel_4D_t2_mean = cel_4D_t2.mean(axis=0)\n",
    "cel_4D_t2_mean"
   ]
  },
  {
   "attachments": {},
   "cell_type": "markdown",
   "metadata": {},
   "source": [
    "#### gypsum"
   ]
  },
  {
   "cell_type": "code",
   "execution_count": 228,
   "metadata": {},
   "outputs": [
    {
     "data": {
      "text/plain": [
       "(array([[107, 107, 107],\n",
       "        [107, 107, 107],\n",
       "        [107, 107, 107]], dtype=uint16),\n",
       " array([[107, 107, 107],\n",
       "        [107, 107, 107],\n",
       "        [107, 107, 107]], dtype=uint16),\n",
       " array([[107, 107, 107],\n",
       "        [107, 107, 107],\n",
       "        [107, 107, 107]], dtype=uint16))"
      ]
     },
     "execution_count": 228,
     "metadata": {},
     "output_type": "execute_result"
    }
   ],
   "source": [
    "img_bot_gyp_4D_t0, img_mid_gyp_4D_t0, img_top_gyp_4D_t0 = transfer_image(gyp_4d_mean[:27])\n",
    "img_bot_gyp_4D_t0, img_mid_gyp_4D_t0, img_top_gyp_4D_t0"
   ]
  },
  {
   "cell_type": "code",
   "execution_count": 229,
   "metadata": {},
   "outputs": [
    {
     "data": {
      "text/plain": [
       "(array([[106, 106, 106],\n",
       "        [106, 106, 106],\n",
       "        [106, 106, 106]], dtype=uint16),\n",
       " array([[106, 106, 106],\n",
       "        [106, 106, 106],\n",
       "        [106, 106, 106]], dtype=uint16),\n",
       " array([[106, 106, 106],\n",
       "        [106, 106, 106],\n",
       "        [106, 106, 106]], dtype=uint16))"
      ]
     },
     "execution_count": 229,
     "metadata": {},
     "output_type": "execute_result"
    }
   ],
   "source": [
    "img_bot_gyp_4D_t1, img_mid_gyp_4D_t1, img_top_gyp_4D_t1 = transfer_image(gyp_4d_mean[27:54])\n",
    "img_bot_gyp_4D_t1, img_mid_gyp_4D_t1, img_top_gyp_4D_t1"
   ]
  },
  {
   "cell_type": "code",
   "execution_count": 230,
   "metadata": {},
   "outputs": [
    {
     "data": {
      "text/plain": [
       "(array([[107, 107, 107],\n",
       "        [107, 107, 107],\n",
       "        [107, 107, 107]], dtype=uint16),\n",
       " array([[107, 107, 107],\n",
       "        [107, 107, 107],\n",
       "        [107, 107, 107]], dtype=uint16),\n",
       " array([[107, 107, 107],\n",
       "        [107, 107, 107],\n",
       "        [107, 107, 107]], dtype=uint16))"
      ]
     },
     "execution_count": 230,
     "metadata": {},
     "output_type": "execute_result"
    }
   ],
   "source": [
    "img_bot_gyp_4D_t2, img_mid_gyp_4D_t2, img_top_gyp_4D_t2 = transfer_image(gyp_4d_mean[54:])\n",
    "img_bot_gyp_4D_t2, img_mid_gyp_4D_t2, img_top_gyp_4D_t2"
   ]
  },
  {
   "cell_type": "code",
   "execution_count": 231,
   "metadata": {},
   "outputs": [
    {
     "data": {
      "text/plain": [
       "array([[107., 107., 107.],\n",
       "       [107., 107., 107.],\n",
       "       [107., 107., 107.]])"
      ]
     },
     "execution_count": 231,
     "metadata": {},
     "output_type": "execute_result"
    }
   ],
   "source": [
    "gyp_4D_t0 = np.array([img_bot_gyp_4D_t0, img_mid_gyp_4D_t0, img_top_gyp_4D_t0])\n",
    "gyp_4D_t0_mean = gyp_4D_t0.mean(axis=0)\n",
    "gyp_4D_t0_mean"
   ]
  },
  {
   "cell_type": "code",
   "execution_count": 232,
   "metadata": {},
   "outputs": [
    {
     "data": {
      "text/plain": [
       "array([[106., 106., 106.],\n",
       "       [106., 106., 106.],\n",
       "       [106., 106., 106.]])"
      ]
     },
     "execution_count": 232,
     "metadata": {},
     "output_type": "execute_result"
    }
   ],
   "source": [
    "gyp_4D_t1 = np.array([img_bot_gyp_4D_t1, img_mid_gyp_4D_t1, img_top_gyp_4D_t1])\n",
    "gyp_4D_t1_mean = gyp_4D_t1.mean(axis=0)\n",
    "gyp_4D_t1_mean"
   ]
  },
  {
   "cell_type": "code",
   "execution_count": 233,
   "metadata": {},
   "outputs": [
    {
     "data": {
      "text/plain": [
       "array([[107., 107., 107.],\n",
       "       [107., 107., 107.],\n",
       "       [107., 107., 107.]])"
      ]
     },
     "execution_count": 233,
     "metadata": {},
     "output_type": "execute_result"
    }
   ],
   "source": [
    "gyp_4D_t2 = np.array([img_bot_gyp_4D_t2, img_mid_gyp_4D_t2, img_top_gyp_4D_t2])\n",
    "gyp_4D_t2_mean = gyp_4D_t2.mean(axis=0)\n",
    "gyp_4D_t2_mean"
   ]
  },
  {
   "attachments": {},
   "cell_type": "markdown",
   "metadata": {},
   "source": [
    "#### artefact"
   ]
  },
  {
   "cell_type": "code",
   "execution_count": 234,
   "metadata": {},
   "outputs": [
    {
     "data": {
      "text/plain": [
       "(array([[114, 114, 113],\n",
       "        [114, 114, 113],\n",
       "        [114, 114, 113]], dtype=uint16),\n",
       " array([[114, 114, 113],\n",
       "        [114, 114, 113],\n",
       "        [114, 114, 113]], dtype=uint16),\n",
       " array([[114, 114, 113],\n",
       "        [114, 114, 114],\n",
       "        [114, 114, 114]], dtype=uint16))"
      ]
     },
     "execution_count": 234,
     "metadata": {},
     "output_type": "execute_result"
    }
   ],
   "source": [
    "img_bot_artefact_4D_t0, img_mid_artefact_4D_t0, img_top_artefact_4D_t0 = transfer_image(artefact_4d_mean[:27])\n",
    "img_bot_artefact_4D_t0, img_mid_artefact_4D_t0, img_top_artefact_4D_t0"
   ]
  },
  {
   "cell_type": "code",
   "execution_count": 235,
   "metadata": {},
   "outputs": [
    {
     "data": {
      "text/plain": [
       "(array([[115, 114, 113],\n",
       "        [114, 113, 112],\n",
       "        [112, 112, 112]], dtype=uint16),\n",
       " array([[116, 115, 113],\n",
       "        [115, 114, 113],\n",
       "        [112, 112, 112]], dtype=uint16),\n",
       " array([[115, 114, 113],\n",
       "        [114, 113, 112],\n",
       "        [112, 112, 112]], dtype=uint16))"
      ]
     },
     "execution_count": 235,
     "metadata": {},
     "output_type": "execute_result"
    }
   ],
   "source": [
    "img_bot_artefact_4D_t1, img_mid_artefact_4D_t1, img_top_artefact_4D_t1 = transfer_image(artefact_4d_mean[27:54])\n",
    "img_bot_artefact_4D_t1, img_mid_artefact_4D_t1, img_top_artefact_4D_t1"
   ]
  },
  {
   "cell_type": "code",
   "execution_count": 236,
   "metadata": {},
   "outputs": [
    {
     "data": {
      "text/plain": [
       "(array([[115, 116, 116],\n",
       "        [115, 116, 116],\n",
       "        [115, 116, 116]], dtype=uint16),\n",
       " array([[116, 116, 116],\n",
       "        [116, 116, 116],\n",
       "        [116, 116, 116]], dtype=uint16),\n",
       " array([[116, 116, 117],\n",
       "        [116, 116, 117],\n",
       "        [116, 116, 117]], dtype=uint16))"
      ]
     },
     "execution_count": 236,
     "metadata": {},
     "output_type": "execute_result"
    }
   ],
   "source": [
    "img_bot_artefact_4D_t2, img_mid_artefact_4D_t2, img_top_artefact_4D_t2 = transfer_image(artefact_4d_mean[54:])\n",
    "img_bot_artefact_4D_t2, img_mid_artefact_4D_t2, img_top_artefact_4D_t2"
   ]
  },
  {
   "cell_type": "code",
   "execution_count": 237,
   "metadata": {},
   "outputs": [
    {
     "data": {
      "text/plain": [
       "array([[114.        , 114.        , 113.        ],\n",
       "       [114.        , 114.        , 113.33333333],\n",
       "       [114.        , 114.        , 113.33333333]])"
      ]
     },
     "execution_count": 237,
     "metadata": {},
     "output_type": "execute_result"
    }
   ],
   "source": [
    "artefact_4D_t0 = np.array([img_bot_artefact_4D_t0, img_mid_artefact_4D_t0, img_top_artefact_4D_t0])\n",
    "artefact_4D_t0_mean = artefact_4D_t0.mean(axis=0)\n",
    "artefact_4D_t0_mean"
   ]
  },
  {
   "cell_type": "code",
   "execution_count": 238,
   "metadata": {},
   "outputs": [
    {
     "data": {
      "text/plain": [
       "array([[115.33333333, 114.33333333, 113.        ],\n",
       "       [114.33333333, 113.33333333, 112.33333333],\n",
       "       [112.        , 112.        , 112.        ]])"
      ]
     },
     "execution_count": 238,
     "metadata": {},
     "output_type": "execute_result"
    }
   ],
   "source": [
    "artefact_4D_t1 = np.array([img_bot_artefact_4D_t1, img_mid_artefact_4D_t1, img_top_artefact_4D_t1])\n",
    "artefact_4D_t1_mean = artefact_4D_t1.mean(axis=0)\n",
    "artefact_4D_t1_mean"
   ]
  },
  {
   "cell_type": "code",
   "execution_count": 239,
   "metadata": {},
   "outputs": [
    {
     "data": {
      "text/plain": [
       "array([[115.66666667, 116.        , 116.33333333],\n",
       "       [115.66666667, 116.        , 116.33333333],\n",
       "       [115.66666667, 116.        , 116.33333333]])"
      ]
     },
     "execution_count": 239,
     "metadata": {},
     "output_type": "execute_result"
    }
   ],
   "source": [
    "artefact_4D_t2 = np.array([img_bot_artefact_4D_t2, img_mid_artefact_4D_t2, img_top_artefact_4D_t2])\n",
    "artefact_4D_t2_mean = artefact_4D_t2.mean(axis=0)\n",
    "artefact_4D_t2_mean"
   ]
  },
  {
   "cell_type": "code",
   "execution_count": 243,
   "metadata": {},
   "outputs": [
    {
     "data": {
      "image/png": "[encoded data removed]",
      "text/plain": [
       "<Figure size 432x432 with 12 Axes>"
      ]
     },
     "metadata": {
      "needs_background": "light"
     },
     "output_type": "display_data"
    }
   ],
   "source": [
    "fig = plt.figure(figsize=(6,6))\n",
    "fig.suptitle('Visualisation for 4D featuers')\n",
    "ax = plt.subplot2grid((4,3), (0,0))\n",
    "ax.set_title('Previous')\n",
    "ax.set_ylabel('Gypsum')\n",
    "ax.imshow(gyp_4D_t0_mean,'gray',vmin=84, vmax=119)\n",
    "\n",
    "ax = plt.subplot2grid((4,3), (0,1))\n",
    "ax.set_title('Current')\n",
    "ax.imshow(gyp_4D_t1_mean,'gray',vmin=84, vmax=119)\n",
    "\n",
    "ax = plt.subplot2grid((4,3), (0,2))\n",
    "ax.set_title('Next')\n",
    "ax.imshow(gyp_4D_t2_mean,'gray',vmin=84, vmax=119)\n",
    "\n",
    "\n",
    "\n",
    "ax = plt.subplot2grid((4,3), (1,0))\n",
    "ax.set_ylabel('Bassanite')\n",
    "ax.imshow(bas_4D_t0_mean,'gray',vmin=84, vmax=119)\n",
    "\n",
    "ax = plt.subplot2grid((4,3), (1,1))\n",
    "ax.imshow(bas_4D_t1_mean,'gray',vmin=84, vmax=119)\n",
    "\n",
    "ax = plt.subplot2grid((4,3), (1,2))\n",
    "ax.imshow(bas_4D_t2_mean,'gray',vmin=84, vmax=119)\n",
    "\n",
    "\n",
    "\n",
    "ax = plt.subplot2grid((4,3), (2,0))\n",
    "ax.set_ylabel('Porosity')\n",
    "ax.imshow(pore_4D_t0_mean,'gray',vmin=84, vmax=119)\n",
    "\n",
    "ax = plt.subplot2grid((4,3), (2,1))\n",
    "ax.imshow(pore_4D_t1_mean,'gray',vmin=84, vmax=119)\n",
    "\n",
    "ax = plt.subplot2grid((4,3), (2,2))\n",
    "ax.imshow(pore_4D_t2_mean,'gray',vmin=84, vmax=119)\n",
    "\n",
    "\n",
    "\n",
    "ax = plt.subplot2grid((4,3), (3,0))\n",
    "ax.set_ylabel('Artfacts')\n",
    "ax.imshow(artefact_4D_t0_mean,'gray',vmin=84, vmax=119)\n",
    "\n",
    "ax = plt.subplot2grid((4,3), (3,1))\n",
    "ax.imshow(artefact_4D_t1_mean,'gray',vmin=84, vmax=119)\n",
    "\n",
    "ax = plt.subplot2grid((4,3), (3,2))\n",
    "ax.imshow(artefact_4D_t2_mean,'gray',vmin=84, vmax=119)\n",
    "\n",
    "\n",
    "plt.subplots_adjust(wspace = 0.01)\n",
    "fig.tight_layout()\n",
    "\n",
    "fig.savefig('4D_features.png', bbox_inches='tight', pad_inches=0.0)"
   ]
  },
  {
   "cell_type": "code",
   "execution_count": 157,
   "metadata": {},
   "outputs": [
    {
     "data": {
      "image/png": "[encoded data removed]",
      "text/plain": [
       "<Figure size 432x288 with 9 Axes>"
      ]
     },
     "metadata": {
      "needs_background": "light"
     },
     "output_type": "display_data"
    }
   ],
   "source": [
    "fig = plt.figure()\n",
    "fig.suptitle('Visualisation for bassanite in 4D space')\n",
    "ax = plt.subplot(331)\n",
    "# ax.axis('off')\n",
    "ax.set_title('Bot slice')\n",
    "ax.imshow(img_bot_bas_4D_t0,'gray',vmin=84, vmax=228)\n",
    "ax = plt.subplot(332)\n",
    "# ax.axis('off')\n",
    "ax.set_title('Mid slice')\n",
    "ax.imshow(img_mid_bas_4D_t0,'gray',vmin=84, vmax=228)\n",
    "ax = plt.subplot(333)\n",
    "# ax.axis('off')\n",
    "ax.set_title('Top slice')\n",
    "ax.imshow(img_top_bas_4D_t0,'gray',vmin=84, vmax=228)\n",
    "ax = plt.subplot(334)\n",
    "# ax.axis('off')\n",
    "ax.imshow(img_bot_bas_4D_t1,'gray',vmin=84, vmax=228)\n",
    "ax = plt.subplot(335)\n",
    "# ax.axis('off')\n",
    "ax.imshow(img_mid_bas_4D_t1,'gray',vmin=84, vmax=228)\n",
    "ax = plt.subplot(336)\n",
    "# ax.axis('off')\n",
    "ax.imshow(img_top_bas_4D_t1,'gray',vmin=84, vmax=228)\n",
    "ax = plt.subplot(337)\n",
    "# ax.axis('off')\n",
    "ax.imshow(img_bot_bas_4D_t2,'gray',vmin=84, vmax=228)\n",
    "ax = plt.subplot(338)\n",
    "# ax.axis('off')\n",
    "ax.imshow(img_mid_bas_4D_t2,'gray',vmin=84, vmax=228)\n",
    "ax = plt.subplot(339)\n",
    "# ax.axis('off')\n",
    "ax.imshow(img_top_bas_4D_t2,'gray',vmin=84, vmax=228)\n",
    "fig.savefig('4D_bas.png', bbox_inches='tight', pad_inches=0.0)"
   ]
  },
  {
   "cell_type": "code",
   "execution_count": 158,
   "metadata": {},
   "outputs": [
    {
     "data": {
      "image/png": "[encoded data removed]",
      "text/plain": [
       "<Figure size 432x288 with 9 Axes>"
      ]
     },
     "metadata": {
      "needs_background": "light"
     },
     "output_type": "display_data"
    }
   ],
   "source": [
    "fig = plt.figure()\n",
    "fig.suptitle('Visualisation for celestite in 4D space')\n",
    "ax = plt.subplot(331)\n",
    "# ax.axis('off')\n",
    "ax.set_title('Bot slice')\n",
    "ax.imshow(img_bot_cel_4D_t0,'gray',vmin=84, vmax=228)\n",
    "ax = plt.subplot(332)\n",
    "# ax.axis('off')\n",
    "ax.set_title('Mid slice')\n",
    "ax.imshow(img_mid_cel_4D_t0,'gray',vmin=84, vmax=228)\n",
    "ax = plt.subplot(333)\n",
    "# ax.axis('off')\n",
    "ax.set_title('Top slice')\n",
    "ax.imshow(img_top_cel_4D_t0,'gray',vmin=84, vmax=228)\n",
    "ax = plt.subplot(334)\n",
    "# ax.axis('off')\n",
    "ax.imshow(img_bot_cel_4D_t1,'gray',vmin=84, vmax=228)\n",
    "ax = plt.subplot(335)\n",
    "# ax.axis('off')\n",
    "ax.imshow(img_mid_cel_4D_t1,'gray',vmin=84, vmax=228)\n",
    "ax = plt.subplot(336)\n",
    "# ax.axis('off')\n",
    "ax.imshow(img_top_cel_4D_t1,'gray',vmin=84, vmax=228)\n",
    "ax = plt.subplot(337)\n",
    "# ax.axis('off')\n",
    "ax.imshow(img_bot_cel_4D_t2,'gray',vmin=84, vmax=228)\n",
    "ax = plt.subplot(338)\n",
    "# ax.axis('off')\n",
    "ax.imshow(img_mid_cel_4D_t2,'gray',vmin=84, vmax=228)\n",
    "ax = plt.subplot(339)\n",
    "# ax.axis('off')\n",
    "ax.imshow(img_top_cel_4D_t2,'gray',vmin=84, vmax=228)\n",
    "fig.savefig('4D_cel.png', bbox_inches='tight', pad_inches=0.0)"
   ]
  },
  {
   "cell_type": "code",
   "execution_count": 159,
   "metadata": {},
   "outputs": [
    {
     "data": {
      "image/png": "[encoded data removed]",
      "text/plain": [
       "<Figure size 432x288 with 9 Axes>"
      ]
     },
     "metadata": {
      "needs_background": "light"
     },
     "output_type": "display_data"
    }
   ],
   "source": [
    "fig = plt.figure()\n",
    "fig.suptitle('Visualisation for gypsum in 4D space')\n",
    "ax = plt.subplot(331)\n",
    "# ax.axis('off')\n",
    "ax.set_title('Bot slice')\n",
    "ax.imshow(img_bot_gyp_4D_t0,'gray',vmin=84, vmax=228)\n",
    "ax = plt.subplot(332)\n",
    "# ax.axis('off')\n",
    "ax.set_title('Mid slice')\n",
    "ax.imshow(img_mid_gyp_4D_t0,'gray',vmin=84, vmax=228)\n",
    "ax = plt.subplot(333)\n",
    "# ax.axis('off')\n",
    "ax.set_title('Top slice')\n",
    "ax.imshow(img_top_gyp_4D_t0,'gray',vmin=84, vmax=228)\n",
    "ax = plt.subplot(334)\n",
    "# ax.axis('off')\n",
    "ax.imshow(img_bot_gyp_4D_t1,'gray',vmin=84, vmax=228)\n",
    "ax = plt.subplot(335)\n",
    "# ax.axis('off')\n",
    "ax.imshow(img_mid_gyp_4D_t1,'gray',vmin=84, vmax=228)\n",
    "ax = plt.subplot(336)\n",
    "# ax.axis('off')\n",
    "ax.imshow(img_top_gyp_4D_t1,'gray',vmin=84, vmax=228)\n",
    "ax = plt.subplot(337)\n",
    "# ax.axis('off')\n",
    "ax.imshow(img_bot_gyp_4D_t2,'gray',vmin=84, vmax=228)\n",
    "ax = plt.subplot(338)\n",
    "# ax.axis('off')\n",
    "ax.imshow(img_mid_gyp_4D_t2,'gray',vmin=84, vmax=228)\n",
    "ax = plt.subplot(339)\n",
    "# ax.axis('off')\n",
    "ax.imshow(img_top_gyp_4D_t2,'gray',vmin=84, vmax=228)\n",
    "fig.savefig('4D_gyp.png', bbox_inches='tight', pad_inches=0.0)"
   ]
  },
  {
   "cell_type": "code",
   "execution_count": 160,
   "metadata": {},
   "outputs": [
    {
     "data": {
      "image/png": "[encoded data removed]",
      "text/plain": [
       "<Figure size 432x288 with 9 Axes>"
      ]
     },
     "metadata": {
      "needs_background": "light"
     },
     "output_type": "display_data"
    }
   ],
   "source": [
    "fig = plt.figure()\n",
    "fig.suptitle('Visualisation for artefacts in 4D space')\n",
    "ax = plt.subplot(331)\n",
    "# ax.axis('off')\n",
    "ax.set_title('Bot slice')\n",
    "ax.imshow(img_bot_artefact_4D_t0,'gray',vmin=84, vmax=228)\n",
    "ax = plt.subplot(332)\n",
    "# ax.axis('off')\n",
    "ax.set_title('Mid slice')\n",
    "ax.imshow(img_mid_artefact_4D_t0,'gray',vmin=84, vmax=228)\n",
    "ax = plt.subplot(333)\n",
    "# ax.axis('off')\n",
    "ax.set_title('Top slice')\n",
    "ax.imshow(img_top_artefact_4D_t0,'gray',vmin=84, vmax=228)\n",
    "ax = plt.subplot(334)\n",
    "# ax.axis('off')\n",
    "ax.imshow(img_bot_artefact_4D_t1,'gray',vmin=84, vmax=228)\n",
    "ax = plt.subplot(335)\n",
    "# ax.axis('off')\n",
    "ax.imshow(img_mid_artefact_4D_t1,'gray',vmin=84, vmax=228)\n",
    "ax = plt.subplot(336)\n",
    "# ax.axis('off')\n",
    "ax.imshow(img_top_artefact_4D_t1,'gray',vmin=84, vmax=228)\n",
    "ax = plt.subplot(337)\n",
    "# ax.axis('off')\n",
    "ax.imshow(img_bot_artefact_4D_t2,'gray',vmin=84, vmax=228)\n",
    "ax = plt.subplot(338)\n",
    "# ax.axis('off')\n",
    "ax.imshow(img_mid_artefact_4D_t2,'gray',vmin=84, vmax=228)\n",
    "ax = plt.subplot(339)\n",
    "# ax.axis('off')\n",
    "ax.imshow(img_top_artefact_4D_t2,'gray',vmin=84, vmax=228)\n",
    "fig.savefig('4D_artefact.png', bbox_inches='tight', pad_inches=0.0)"
   ]
  },
  {
   "cell_type": "code",
   "execution_count": null,
   "metadata": {},
   "outputs": [],
   "source": []
  }
 ],
 "metadata": {
  "kernelspec": {
   "display_name": "test-uninstall",
   "language": "python",
   "name": "python3"
  },
  "language_info": {
   "codemirror_mode": {
    "name": "ipython",
    "version": 3
   },
   "file_extension": ".py",
   "mimetype": "text/x-python",
   "name": "python",
   "nbconvert_exporter": "python",
   "pygments_lexer": "ipython3",
   "version": "3.10.9"
  },
  "orig_nbformat": 4
 },
 "nbformat": 4,
 "nbformat_minor": 2
}
