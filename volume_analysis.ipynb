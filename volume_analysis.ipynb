{
 "cells": [
  {
   "cell_type": "code",
   "execution_count": 1,
   "metadata": {},
   "outputs": [],
   "source": [
    "import os\n",
    "import cv2\n",
    "import numpy as np\n",
    "import csv"
   ]
  },
  {
   "cell_type": "code",
   "execution_count": 9,
   "metadata": {},
   "outputs": [
    {
     "name": "stdout",
     "output_type": "stream",
     "text": [
      "Slice: 400\n",
      "pore: 0.05484544695071011\n",
      "gypsum: 0.7258863826232247\n",
      "celestite: 3.341687552213868e-06\n",
      "bassanite: 0.17667167919799498\n",
      "Slice: 500\n",
      "pore: 0.05531495405179616\n",
      "gypsum: 0.7537376775271513\n",
      "celestite: 0.005787802840434419\n",
      "bassanite: 0.15681203007518796\n",
      "Slice: 600\n",
      "pore: 0.06800501253132832\n",
      "gypsum: 0.7158095238095238\n",
      "celestite: 0.008497911445279867\n",
      "bassanite: 0.18929490392648288\n",
      "Slice: 700\n",
      "pore: 0.055649122807017545\n",
      "gypsum: 0.7927602339181287\n",
      "celestite: 4.8454469507101085e-05\n",
      "bassanite: 0.1434736842105263\n",
      "Slice: 800\n",
      "pore: 0.06468504594820385\n",
      "gypsum: 0.7533316624895572\n",
      "celestite: 1.0025062656641604e-05\n",
      "bassanite: 0.16929156223893066\n"
     ]
    }
   ],
   "source": [
    "# get current ratio of 4 components\n",
    "# white specifies the interested components\n",
    "current_path = os.getcwd()\n",
    "slice_nums = ['001', '101', '201', '301', '401']  # corresponding to slice 400, 500, 600, 700, 800\n",
    "img_shape = 700 * 855\n",
    "\n",
    "for s in slice_nums:\n",
    "    pore_path = os.path.join(current_path, 'VA10_0050_Pores', 'VA10_0050_Pores'+s+'.tiff')\n",
    "    gypsum_path = os.path.join(current_path, 'VA10_0050_Gypsum', 'VA10_0050_Gypsum'+s+'.tiff')\n",
    "    celestite_path = os.path.join(current_path, 'VA10_0050_Celestite', 'VA10_0050_Celestite'+s+'.tiff')\n",
    "    bassanite_path = os.path.join(current_path, 'VA10_0050_Bassanite', 'VA10_0050_Bassanite'+s+'.tiff')\n",
    "\n",
    "    pore_img = cv2.imread(pore_path, 0)\n",
    "    gypsum_img = cv2.imread(gypsum_path, 0)\n",
    "    celestite_img = cv2.imread(celestite_path, 0)\n",
    "    bassanite_img = cv2.imread(bassanite_path, 0)\n",
    "\n",
    "\n",
    "    pore = np.sum(pore_img == 255)\n",
    "    gypsum = np.sum(gypsum_img == 255)\n",
    "    celestite = np.sum(celestite_img == 255)\n",
    "    bassanite = np.sum(bassanite_img == 255)\n",
    "\n",
    "    print('Slice: {}'.format(int(s) + 399))\n",
    "    print('pore: {}'.format(pore / img_shape))\n",
    "    print('gypsum: {}'.format(gypsum / img_shape))\n",
    "    print('celestite: {}'.format(celestite / img_shape))\n",
    "    print('bassanite: {}'.format(bassanite / img_shape))\n",
    "\n",
    "\n",
    "\n",
    "\n",
    "\n"
   ]
  },
  {
   "cell_type": "code",
   "execution_count": null,
   "metadata": {},
   "outputs": [],
   "source": []
  }
 ],
 "metadata": {
  "kernelspec": {
   "display_name": "tf-gpu-nvcc",
   "language": "python",
   "name": "python3"
  },
  "language_info": {
   "codemirror_mode": {
    "name": "ipython",
    "version": 3
   },
   "file_extension": ".py",
   "mimetype": "text/x-python",
   "name": "python",
   "nbconvert_exporter": "python",
   "pygments_lexer": "ipython3",
   "version": "3.10.9"
  },
  "orig_nbformat": 4
 },
 "nbformat": 4,
 "nbformat_minor": 2
}
